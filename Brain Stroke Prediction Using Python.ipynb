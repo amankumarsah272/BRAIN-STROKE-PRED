{
 "cells": [
  {
   "cell_type": "code",
   "execution_count": 261,
   "id": "b69158e6",
   "metadata": {},
   "outputs": [],
   "source": [
    "import pandas as pd\n",
    "import numpy as np"
   ]
  },
  {
   "cell_type": "code",
   "execution_count": 262,
   "id": "b0b3d1d1",
   "metadata": {},
   "outputs": [],
   "source": [
    "train_df = pd.read_csv(\"train.csv\")\n",
    "test_df = pd.read_csv(\"test.csv\")\n",
    "sub_df = pd.read_csv(\"sample_submission.csv\")"
   ]
  },
  {
   "cell_type": "code",
   "execution_count": 263,
   "id": "53d308f8",
   "metadata": {},
   "outputs": [
    {
     "data": {
      "text/html": [
       "<div>\n",
       "<style scoped>\n",
       "    .dataframe tbody tr th:only-of-type {\n",
       "        vertical-align: middle;\n",
       "    }\n",
       "\n",
       "    .dataframe tbody tr th {\n",
       "        vertical-align: top;\n",
       "    }\n",
       "\n",
       "    .dataframe thead th {\n",
       "        text-align: right;\n",
       "    }\n",
       "</style>\n",
       "<table border=\"1\" class=\"dataframe\">\n",
       "  <thead>\n",
       "    <tr style=\"text-align: right;\">\n",
       "      <th></th>\n",
       "      <th>id</th>\n",
       "      <th>gender</th>\n",
       "      <th>age</th>\n",
       "      <th>hypertension</th>\n",
       "      <th>heart_disease</th>\n",
       "      <th>ever_married</th>\n",
       "      <th>work_type</th>\n",
       "      <th>Residence_type</th>\n",
       "      <th>avg_glucose_level</th>\n",
       "      <th>bmi</th>\n",
       "      <th>smoking_status</th>\n",
       "      <th>stroke</th>\n",
       "    </tr>\n",
       "  </thead>\n",
       "  <tbody>\n",
       "    <tr>\n",
       "      <th>0</th>\n",
       "      <td>0</td>\n",
       "      <td>Male</td>\n",
       "      <td>28.0</td>\n",
       "      <td>0</td>\n",
       "      <td>0</td>\n",
       "      <td>Yes</td>\n",
       "      <td>Private</td>\n",
       "      <td>Urban</td>\n",
       "      <td>79.53</td>\n",
       "      <td>31.1</td>\n",
       "      <td>never smoked</td>\n",
       "      <td>0</td>\n",
       "    </tr>\n",
       "    <tr>\n",
       "      <th>1</th>\n",
       "      <td>1</td>\n",
       "      <td>Male</td>\n",
       "      <td>33.0</td>\n",
       "      <td>0</td>\n",
       "      <td>0</td>\n",
       "      <td>Yes</td>\n",
       "      <td>Private</td>\n",
       "      <td>Rural</td>\n",
       "      <td>78.44</td>\n",
       "      <td>23.9</td>\n",
       "      <td>formerly smoked</td>\n",
       "      <td>0</td>\n",
       "    </tr>\n",
       "    <tr>\n",
       "      <th>2</th>\n",
       "      <td>2</td>\n",
       "      <td>Female</td>\n",
       "      <td>42.0</td>\n",
       "      <td>0</td>\n",
       "      <td>0</td>\n",
       "      <td>Yes</td>\n",
       "      <td>Private</td>\n",
       "      <td>Rural</td>\n",
       "      <td>103.00</td>\n",
       "      <td>40.3</td>\n",
       "      <td>Unknown</td>\n",
       "      <td>0</td>\n",
       "    </tr>\n",
       "    <tr>\n",
       "      <th>3</th>\n",
       "      <td>3</td>\n",
       "      <td>Male</td>\n",
       "      <td>56.0</td>\n",
       "      <td>0</td>\n",
       "      <td>0</td>\n",
       "      <td>Yes</td>\n",
       "      <td>Private</td>\n",
       "      <td>Urban</td>\n",
       "      <td>64.87</td>\n",
       "      <td>28.8</td>\n",
       "      <td>never smoked</td>\n",
       "      <td>0</td>\n",
       "    </tr>\n",
       "    <tr>\n",
       "      <th>4</th>\n",
       "      <td>4</td>\n",
       "      <td>Female</td>\n",
       "      <td>24.0</td>\n",
       "      <td>0</td>\n",
       "      <td>0</td>\n",
       "      <td>No</td>\n",
       "      <td>Private</td>\n",
       "      <td>Rural</td>\n",
       "      <td>73.36</td>\n",
       "      <td>28.8</td>\n",
       "      <td>never smoked</td>\n",
       "      <td>0</td>\n",
       "    </tr>\n",
       "  </tbody>\n",
       "</table>\n",
       "</div>"
      ],
      "text/plain": [
       "   id  gender   age  hypertension  heart_disease ever_married work_type  \\\n",
       "0   0    Male  28.0             0              0          Yes   Private   \n",
       "1   1    Male  33.0             0              0          Yes   Private   \n",
       "2   2  Female  42.0             0              0          Yes   Private   \n",
       "3   3    Male  56.0             0              0          Yes   Private   \n",
       "4   4  Female  24.0             0              0           No   Private   \n",
       "\n",
       "  Residence_type  avg_glucose_level   bmi   smoking_status  stroke  \n",
       "0          Urban              79.53  31.1     never smoked       0  \n",
       "1          Rural              78.44  23.9  formerly smoked       0  \n",
       "2          Rural             103.00  40.3          Unknown       0  \n",
       "3          Urban              64.87  28.8     never smoked       0  \n",
       "4          Rural              73.36  28.8     never smoked       0  "
      ]
     },
     "execution_count": 263,
     "metadata": {},
     "output_type": "execute_result"
    }
   ],
   "source": [
    "train_df.head()"
   ]
  },
  {
   "cell_type": "code",
   "execution_count": 264,
   "id": "4e4957b7",
   "metadata": {},
   "outputs": [
    {
     "data": {
      "text/plain": [
       "array([0, 1])"
      ]
     },
     "execution_count": 264,
     "metadata": {},
     "output_type": "execute_result"
    }
   ],
   "source": [
    "train_df['stroke'].unique()"
   ]
  },
  {
   "cell_type": "code",
   "execution_count": 265,
   "id": "0989a422",
   "metadata": {},
   "outputs": [
    {
     "name": "stdout",
     "output_type": "stream",
     "text": [
      "<class 'pandas.core.frame.DataFrame'>\n",
      "RangeIndex: 15304 entries, 0 to 15303\n",
      "Data columns (total 12 columns):\n",
      " #   Column             Non-Null Count  Dtype  \n",
      "---  ------             --------------  -----  \n",
      " 0   id                 15304 non-null  int64  \n",
      " 1   gender             15304 non-null  object \n",
      " 2   age                15304 non-null  float64\n",
      " 3   hypertension       15304 non-null  int64  \n",
      " 4   heart_disease      15304 non-null  int64  \n",
      " 5   ever_married       15304 non-null  object \n",
      " 6   work_type          15304 non-null  object \n",
      " 7   Residence_type     15304 non-null  object \n",
      " 8   avg_glucose_level  15304 non-null  float64\n",
      " 9   bmi                15304 non-null  float64\n",
      " 10  smoking_status     15304 non-null  object \n",
      " 11  stroke             15304 non-null  int64  \n",
      "dtypes: float64(3), int64(4), object(5)\n",
      "memory usage: 1.4+ MB\n"
     ]
    }
   ],
   "source": [
    "train_df.info()"
   ]
  },
  {
   "cell_type": "code",
   "execution_count": 266,
   "id": "0c6b9477",
   "metadata": {},
   "outputs": [
    {
     "data": {
      "text/html": [
       "<div>\n",
       "<style scoped>\n",
       "    .dataframe tbody tr th:only-of-type {\n",
       "        vertical-align: middle;\n",
       "    }\n",
       "\n",
       "    .dataframe tbody tr th {\n",
       "        vertical-align: top;\n",
       "    }\n",
       "\n",
       "    .dataframe thead th {\n",
       "        text-align: right;\n",
       "    }\n",
       "</style>\n",
       "<table border=\"1\" class=\"dataframe\">\n",
       "  <thead>\n",
       "    <tr style=\"text-align: right;\">\n",
       "      <th></th>\n",
       "      <th>count</th>\n",
       "      <th>mean</th>\n",
       "      <th>std</th>\n",
       "      <th>min</th>\n",
       "      <th>25%</th>\n",
       "      <th>50%</th>\n",
       "      <th>75%</th>\n",
       "      <th>max</th>\n",
       "    </tr>\n",
       "  </thead>\n",
       "  <tbody>\n",
       "    <tr>\n",
       "      <th>id</th>\n",
       "      <td>15304.0</td>\n",
       "      <td>7651.500000</td>\n",
       "      <td>4418.028595</td>\n",
       "      <td>0.00</td>\n",
       "      <td>3825.75</td>\n",
       "      <td>7651.50</td>\n",
       "      <td>11477.25</td>\n",
       "      <td>15303.0</td>\n",
       "    </tr>\n",
       "    <tr>\n",
       "      <th>age</th>\n",
       "      <td>15304.0</td>\n",
       "      <td>41.417708</td>\n",
       "      <td>21.444673</td>\n",
       "      <td>0.08</td>\n",
       "      <td>26.00</td>\n",
       "      <td>43.00</td>\n",
       "      <td>57.00</td>\n",
       "      <td>82.0</td>\n",
       "    </tr>\n",
       "    <tr>\n",
       "      <th>hypertension</th>\n",
       "      <td>15304.0</td>\n",
       "      <td>0.049726</td>\n",
       "      <td>0.217384</td>\n",
       "      <td>0.00</td>\n",
       "      <td>0.00</td>\n",
       "      <td>0.00</td>\n",
       "      <td>0.00</td>\n",
       "      <td>1.0</td>\n",
       "    </tr>\n",
       "    <tr>\n",
       "      <th>heart_disease</th>\n",
       "      <td>15304.0</td>\n",
       "      <td>0.023327</td>\n",
       "      <td>0.150946</td>\n",
       "      <td>0.00</td>\n",
       "      <td>0.00</td>\n",
       "      <td>0.00</td>\n",
       "      <td>0.00</td>\n",
       "      <td>1.0</td>\n",
       "    </tr>\n",
       "    <tr>\n",
       "      <th>avg_glucose_level</th>\n",
       "      <td>15304.0</td>\n",
       "      <td>89.039853</td>\n",
       "      <td>25.476102</td>\n",
       "      <td>55.22</td>\n",
       "      <td>74.90</td>\n",
       "      <td>85.12</td>\n",
       "      <td>96.98</td>\n",
       "      <td>267.6</td>\n",
       "    </tr>\n",
       "    <tr>\n",
       "      <th>bmi</th>\n",
       "      <td>15304.0</td>\n",
       "      <td>28.112721</td>\n",
       "      <td>6.722315</td>\n",
       "      <td>10.30</td>\n",
       "      <td>23.50</td>\n",
       "      <td>27.60</td>\n",
       "      <td>32.00</td>\n",
       "      <td>80.1</td>\n",
       "    </tr>\n",
       "    <tr>\n",
       "      <th>stroke</th>\n",
       "      <td>15304.0</td>\n",
       "      <td>0.041296</td>\n",
       "      <td>0.198981</td>\n",
       "      <td>0.00</td>\n",
       "      <td>0.00</td>\n",
       "      <td>0.00</td>\n",
       "      <td>0.00</td>\n",
       "      <td>1.0</td>\n",
       "    </tr>\n",
       "  </tbody>\n",
       "</table>\n",
       "</div>"
      ],
      "text/plain": [
       "                     count         mean          std    min      25%      50%  \\\n",
       "id                 15304.0  7651.500000  4418.028595   0.00  3825.75  7651.50   \n",
       "age                15304.0    41.417708    21.444673   0.08    26.00    43.00   \n",
       "hypertension       15304.0     0.049726     0.217384   0.00     0.00     0.00   \n",
       "heart_disease      15304.0     0.023327     0.150946   0.00     0.00     0.00   \n",
       "avg_glucose_level  15304.0    89.039853    25.476102  55.22    74.90    85.12   \n",
       "bmi                15304.0    28.112721     6.722315  10.30    23.50    27.60   \n",
       "stroke             15304.0     0.041296     0.198981   0.00     0.00     0.00   \n",
       "\n",
       "                        75%      max  \n",
       "id                 11477.25  15303.0  \n",
       "age                   57.00     82.0  \n",
       "hypertension           0.00      1.0  \n",
       "heart_disease          0.00      1.0  \n",
       "avg_glucose_level     96.98    267.6  \n",
       "bmi                   32.00     80.1  \n",
       "stroke                 0.00      1.0  "
      ]
     },
     "execution_count": 266,
     "metadata": {},
     "output_type": "execute_result"
    }
   ],
   "source": [
    "train_df.describe().T"
   ]
  },
  {
   "cell_type": "code",
   "execution_count": 267,
   "id": "a5c71e62",
   "metadata": {},
   "outputs": [
    {
     "data": {
      "text/plain": [
       "id                   15304\n",
       "gender                   3\n",
       "age                    106\n",
       "hypertension             2\n",
       "heart_disease            2\n",
       "ever_married             2\n",
       "work_type                5\n",
       "Residence_type           2\n",
       "avg_glucose_level     3740\n",
       "bmi                    407\n",
       "smoking_status           4\n",
       "stroke                   2\n",
       "dtype: int64"
      ]
     },
     "execution_count": 267,
     "metadata": {},
     "output_type": "execute_result"
    }
   ],
   "source": [
    "train_df.nunique()"
   ]
  },
  {
   "cell_type": "code",
   "execution_count": 268,
   "id": "d8139498",
   "metadata": {},
   "outputs": [
    {
     "data": {
      "text/plain": [
       "np.int64(0)"
      ]
     },
     "execution_count": 268,
     "metadata": {},
     "output_type": "execute_result"
    }
   ],
   "source": [
    "train_df.duplicated().sum()"
   ]
  },
  {
   "cell_type": "code",
   "execution_count": 269,
   "id": "957376ef",
   "metadata": {},
   "outputs": [
    {
     "data": {
      "text/plain": [
       "[0.08, 0.16, 0.24, 0.32, 0.4, 0.48, 0.56, 0.64, 0.68, 0.72, 0.8, 0.88]"
      ]
     },
     "execution_count": 269,
     "metadata": {},
     "output_type": "execute_result"
    }
   ],
   "source": [
    "# Data Cleaning\n",
    "\n",
    "sorted(train_df['age'].unique().tolist())[0:12]"
   ]
  },
  {
   "cell_type": "code",
   "execution_count": 270,
   "id": "bdc9e392",
   "metadata": {},
   "outputs": [],
   "source": [
    "train_df['age'] = np.ceil(train_df['age'])\n",
    "test_df['age'] = np.ceil(test_df['age'])"
   ]
  },
  {
   "cell_type": "code",
   "execution_count": 271,
   "id": "fedee3b8",
   "metadata": {},
   "outputs": [
    {
     "data": {
      "text/plain": [
       "gender\n",
       "Female    9446\n",
       "Male      5857\n",
       "Other        1\n",
       "Name: count, dtype: int64"
      ]
     },
     "execution_count": 271,
     "metadata": {},
     "output_type": "execute_result"
    }
   ],
   "source": [
    "train_df['gender'].value_counts()"
   ]
  },
  {
   "cell_type": "code",
   "execution_count": 272,
   "id": "92a71242",
   "metadata": {},
   "outputs": [],
   "source": [
    "train_df.drop(train_df[train_df['gender']=='Other'].index, inplace=True)\n",
    "test_df.drop(test_df[test_df['gender']=='Other'].index, inplace=True)"
   ]
  },
  {
   "cell_type": "code",
   "execution_count": 273,
   "id": "063a7fbf",
   "metadata": {},
   "outputs": [],
   "source": [
    "# Exploratory Data Analysis(EDA)\n",
    "import matplotlib.pyplot as plt\n",
    "import seaborn as sns\n",
    "import plotly.express as px\n",
    "import plotly.graph_objects as go\n",
    "import plotly.subplots as sp\n",
    "\n",
    "sns.set_style(\"darkgrid\")"
   ]
  },
  {
   "cell_type": "code",
   "execution_count": 274,
   "id": "a51fa94e",
   "metadata": {},
   "outputs": [],
   "source": [
    "plot_color = ['#008080', 'black']\n",
    "sns.set_palette(['#008080', 'black'])"
   ]
  },
  {
   "cell_type": "code",
   "execution_count": 275,
   "id": "aa1e76e6",
   "metadata": {},
   "outputs": [],
   "source": [
    "# Filter data for stroke & Non Stroke\n",
    "no_stroke_data = train_df[train_df['stroke'] == 0 ]\n",
    "stroke_data = train_df[train_df['stroke'] == 1 ]"
   ]
  },
  {
   "cell_type": "code",
   "execution_count": 276,
   "id": "c341fbee",
   "metadata": {},
   "outputs": [],
   "source": [
    "# Univariate Analysis\n",
    "\n",
    "stroke_count = train_df['stroke'].value_counts()"
   ]
  },
  {
   "cell_type": "code",
   "execution_count": 277,
   "id": "2f8759c2",
   "metadata": {},
   "outputs": [
    {
     "data": {
      "text/plain": [
       "stroke\n",
       "0    14671\n",
       "1      632\n",
       "Name: count, dtype: int64"
      ]
     },
     "execution_count": 277,
     "metadata": {},
     "output_type": "execute_result"
    }
   ],
   "source": [
    "stroke_count"
   ]
  },
  {
   "cell_type": "code",
   "execution_count": 278,
   "id": "006739ce",
   "metadata": {},
   "outputs": [
    {
     "ename": "ValueError",
     "evalue": "Mime type rendering requires nbformat>=4.2.0 but it is not installed",
     "output_type": "error",
     "traceback": [
      "\u001b[31m---------------------------------------------------------------------------\u001b[39m",
      "\u001b[31mValueError\u001b[39m                                Traceback (most recent call last)",
      "\u001b[36mFile \u001b[39m\u001b[32m~\\AppData\\Roaming\\Python\\Python313\\site-packages\\IPython\\core\\formatters.py:984\u001b[39m, in \u001b[36mIPythonDisplayFormatter.__call__\u001b[39m\u001b[34m(self, obj)\u001b[39m\n\u001b[32m    982\u001b[39m method = get_real_method(obj, \u001b[38;5;28mself\u001b[39m.print_method)\n\u001b[32m    983\u001b[39m \u001b[38;5;28;01mif\u001b[39;00m method \u001b[38;5;129;01mis\u001b[39;00m \u001b[38;5;129;01mnot\u001b[39;00m \u001b[38;5;28;01mNone\u001b[39;00m:\n\u001b[32m--> \u001b[39m\u001b[32m984\u001b[39m     \u001b[43mmethod\u001b[49m\u001b[43m(\u001b[49m\u001b[43m)\u001b[49m\n\u001b[32m    985\u001b[39m     \u001b[38;5;28;01mreturn\u001b[39;00m \u001b[38;5;28;01mTrue\u001b[39;00m\n",
      "\u001b[36mFile \u001b[39m\u001b[32mc:\\Users\\amank\\AppData\\Local\\Programs\\Python\\Python313\\Lib\\site-packages\\plotly\\basedatatypes.py:833\u001b[39m, in \u001b[36mBaseFigure._ipython_display_\u001b[39m\u001b[34m(self)\u001b[39m\n\u001b[32m    830\u001b[39m \u001b[38;5;28;01mimport\u001b[39;00m\u001b[38;5;250m \u001b[39m\u001b[34;01mplotly\u001b[39;00m\u001b[34;01m.\u001b[39;00m\u001b[34;01mio\u001b[39;00m\u001b[38;5;250m \u001b[39m\u001b[38;5;28;01mas\u001b[39;00m\u001b[38;5;250m \u001b[39m\u001b[34;01mpio\u001b[39;00m\n\u001b[32m    832\u001b[39m \u001b[38;5;28;01mif\u001b[39;00m pio.renderers.render_on_display \u001b[38;5;129;01mand\u001b[39;00m pio.renderers.default:\n\u001b[32m--> \u001b[39m\u001b[32m833\u001b[39m     \u001b[43mpio\u001b[49m\u001b[43m.\u001b[49m\u001b[43mshow\u001b[49m\u001b[43m(\u001b[49m\u001b[38;5;28;43mself\u001b[39;49m\u001b[43m)\u001b[49m\n\u001b[32m    834\u001b[39m \u001b[38;5;28;01melse\u001b[39;00m:\n\u001b[32m    835\u001b[39m     \u001b[38;5;28mprint\u001b[39m(\u001b[38;5;28mrepr\u001b[39m(\u001b[38;5;28mself\u001b[39m))\n",
      "\u001b[36mFile \u001b[39m\u001b[32mc:\\Users\\amank\\AppData\\Local\\Programs\\Python\\Python313\\Lib\\site-packages\\plotly\\io\\_renderers.py:425\u001b[39m, in \u001b[36mshow\u001b[39m\u001b[34m(fig, renderer, validate, **kwargs)\u001b[39m\n\u001b[32m    420\u001b[39m     \u001b[38;5;28;01mraise\u001b[39;00m \u001b[38;5;167;01mValueError\u001b[39;00m(\n\u001b[32m    421\u001b[39m         \u001b[33m\"\u001b[39m\u001b[33mMime type rendering requires ipython but it is not installed\u001b[39m\u001b[33m\"\u001b[39m\n\u001b[32m    422\u001b[39m     )\n\u001b[32m    424\u001b[39m \u001b[38;5;28;01mif\u001b[39;00m \u001b[38;5;129;01mnot\u001b[39;00m nbformat \u001b[38;5;129;01mor\u001b[39;00m Version(nbformat.__version__) < Version(\u001b[33m\"\u001b[39m\u001b[33m4.2.0\u001b[39m\u001b[33m\"\u001b[39m):\n\u001b[32m--> \u001b[39m\u001b[32m425\u001b[39m     \u001b[38;5;28;01mraise\u001b[39;00m \u001b[38;5;167;01mValueError\u001b[39;00m(\n\u001b[32m    426\u001b[39m         \u001b[33m\"\u001b[39m\u001b[33mMime type rendering requires nbformat>=4.2.0 but it is not installed\u001b[39m\u001b[33m\"\u001b[39m\n\u001b[32m    427\u001b[39m     )\n\u001b[32m    429\u001b[39m display_jupyter_version_warnings()\n\u001b[32m    431\u001b[39m ipython_display.display(bundle, raw=\u001b[38;5;28;01mTrue\u001b[39;00m)\n",
      "\u001b[31mValueError\u001b[39m: Mime type rendering requires nbformat>=4.2.0 but it is not installed"
     ]
    },
    {
     "data": {
      "application/vnd.plotly.v1+json": {
       "config": {
        "plotlyServerURL": "https://plot.ly"
       },
       "data": [
        {
         "domain": {
          "x": [
           0,
           1
          ],
          "y": [
           0,
           1
          ]
         },
         "hovertemplate": "label=%{label}<br>value=%{value}<extra></extra>",
         "labels": [
          "No",
          "Yes"
         ],
         "legendgroup": "",
         "name": "",
         "showlegend": true,
         "type": "pie",
         "values": {
          "bdata": "Tzl4Ag==",
          "dtype": "i2"
         }
        }
       ],
       "layout": {
        "legend": {
         "title": {
          "text": "Stroke Status"
         },
         "tracegroupgap": 0
        },
        "piecolorway": [
         "#008080",
         "black"
        ],
        "template": {
         "data": {
          "bar": [
           {
            "error_x": {
             "color": "#2a3f5f"
            },
            "error_y": {
             "color": "#2a3f5f"
            },
            "marker": {
             "line": {
              "color": "#E5ECF6",
              "width": 0.5
             },
             "pattern": {
              "fillmode": "overlay",
              "size": 10,
              "solidity": 0.2
             }
            },
            "type": "bar"
           }
          ],
          "barpolar": [
           {
            "marker": {
             "line": {
              "color": "#E5ECF6",
              "width": 0.5
             },
             "pattern": {
              "fillmode": "overlay",
              "size": 10,
              "solidity": 0.2
             }
            },
            "type": "barpolar"
           }
          ],
          "carpet": [
           {
            "aaxis": {
             "endlinecolor": "#2a3f5f",
             "gridcolor": "white",
             "linecolor": "white",
             "minorgridcolor": "white",
             "startlinecolor": "#2a3f5f"
            },
            "baxis": {
             "endlinecolor": "#2a3f5f",
             "gridcolor": "white",
             "linecolor": "white",
             "minorgridcolor": "white",
             "startlinecolor": "#2a3f5f"
            },
            "type": "carpet"
           }
          ],
          "choropleth": [
           {
            "colorbar": {
             "outlinewidth": 0,
             "ticks": ""
            },
            "type": "choropleth"
           }
          ],
          "contour": [
           {
            "colorbar": {
             "outlinewidth": 0,
             "ticks": ""
            },
            "colorscale": [
             [
              0,
              "#0d0887"
             ],
             [
              0.1111111111111111,
              "#46039f"
             ],
             [
              0.2222222222222222,
              "#7201a8"
             ],
             [
              0.3333333333333333,
              "#9c179e"
             ],
             [
              0.4444444444444444,
              "#bd3786"
             ],
             [
              0.5555555555555556,
              "#d8576b"
             ],
             [
              0.6666666666666666,
              "#ed7953"
             ],
             [
              0.7777777777777778,
              "#fb9f3a"
             ],
             [
              0.8888888888888888,
              "#fdca26"
             ],
             [
              1,
              "#f0f921"
             ]
            ],
            "type": "contour"
           }
          ],
          "contourcarpet": [
           {
            "colorbar": {
             "outlinewidth": 0,
             "ticks": ""
            },
            "type": "contourcarpet"
           }
          ],
          "heatmap": [
           {
            "colorbar": {
             "outlinewidth": 0,
             "ticks": ""
            },
            "colorscale": [
             [
              0,
              "#0d0887"
             ],
             [
              0.1111111111111111,
              "#46039f"
             ],
             [
              0.2222222222222222,
              "#7201a8"
             ],
             [
              0.3333333333333333,
              "#9c179e"
             ],
             [
              0.4444444444444444,
              "#bd3786"
             ],
             [
              0.5555555555555556,
              "#d8576b"
             ],
             [
              0.6666666666666666,
              "#ed7953"
             ],
             [
              0.7777777777777778,
              "#fb9f3a"
             ],
             [
              0.8888888888888888,
              "#fdca26"
             ],
             [
              1,
              "#f0f921"
             ]
            ],
            "type": "heatmap"
           }
          ],
          "histogram": [
           {
            "marker": {
             "pattern": {
              "fillmode": "overlay",
              "size": 10,
              "solidity": 0.2
             }
            },
            "type": "histogram"
           }
          ],
          "histogram2d": [
           {
            "colorbar": {
             "outlinewidth": 0,
             "ticks": ""
            },
            "colorscale": [
             [
              0,
              "#0d0887"
             ],
             [
              0.1111111111111111,
              "#46039f"
             ],
             [
              0.2222222222222222,
              "#7201a8"
             ],
             [
              0.3333333333333333,
              "#9c179e"
             ],
             [
              0.4444444444444444,
              "#bd3786"
             ],
             [
              0.5555555555555556,
              "#d8576b"
             ],
             [
              0.6666666666666666,
              "#ed7953"
             ],
             [
              0.7777777777777778,
              "#fb9f3a"
             ],
             [
              0.8888888888888888,
              "#fdca26"
             ],
             [
              1,
              "#f0f921"
             ]
            ],
            "type": "histogram2d"
           }
          ],
          "histogram2dcontour": [
           {
            "colorbar": {
             "outlinewidth": 0,
             "ticks": ""
            },
            "colorscale": [
             [
              0,
              "#0d0887"
             ],
             [
              0.1111111111111111,
              "#46039f"
             ],
             [
              0.2222222222222222,
              "#7201a8"
             ],
             [
              0.3333333333333333,
              "#9c179e"
             ],
             [
              0.4444444444444444,
              "#bd3786"
             ],
             [
              0.5555555555555556,
              "#d8576b"
             ],
             [
              0.6666666666666666,
              "#ed7953"
             ],
             [
              0.7777777777777778,
              "#fb9f3a"
             ],
             [
              0.8888888888888888,
              "#fdca26"
             ],
             [
              1,
              "#f0f921"
             ]
            ],
            "type": "histogram2dcontour"
           }
          ],
          "mesh3d": [
           {
            "colorbar": {
             "outlinewidth": 0,
             "ticks": ""
            },
            "type": "mesh3d"
           }
          ],
          "parcoords": [
           {
            "line": {
             "colorbar": {
              "outlinewidth": 0,
              "ticks": ""
             }
            },
            "type": "parcoords"
           }
          ],
          "pie": [
           {
            "automargin": true,
            "type": "pie"
           }
          ],
          "scatter": [
           {
            "fillpattern": {
             "fillmode": "overlay",
             "size": 10,
             "solidity": 0.2
            },
            "type": "scatter"
           }
          ],
          "scatter3d": [
           {
            "line": {
             "colorbar": {
              "outlinewidth": 0,
              "ticks": ""
             }
            },
            "marker": {
             "colorbar": {
              "outlinewidth": 0,
              "ticks": ""
             }
            },
            "type": "scatter3d"
           }
          ],
          "scattercarpet": [
           {
            "marker": {
             "colorbar": {
              "outlinewidth": 0,
              "ticks": ""
             }
            },
            "type": "scattercarpet"
           }
          ],
          "scattergeo": [
           {
            "marker": {
             "colorbar": {
              "outlinewidth": 0,
              "ticks": ""
             }
            },
            "type": "scattergeo"
           }
          ],
          "scattergl": [
           {
            "marker": {
             "colorbar": {
              "outlinewidth": 0,
              "ticks": ""
             }
            },
            "type": "scattergl"
           }
          ],
          "scattermap": [
           {
            "marker": {
             "colorbar": {
              "outlinewidth": 0,
              "ticks": ""
             }
            },
            "type": "scattermap"
           }
          ],
          "scattermapbox": [
           {
            "marker": {
             "colorbar": {
              "outlinewidth": 0,
              "ticks": ""
             }
            },
            "type": "scattermapbox"
           }
          ],
          "scatterpolar": [
           {
            "marker": {
             "colorbar": {
              "outlinewidth": 0,
              "ticks": ""
             }
            },
            "type": "scatterpolar"
           }
          ],
          "scatterpolargl": [
           {
            "marker": {
             "colorbar": {
              "outlinewidth": 0,
              "ticks": ""
             }
            },
            "type": "scatterpolargl"
           }
          ],
          "scatterternary": [
           {
            "marker": {
             "colorbar": {
              "outlinewidth": 0,
              "ticks": ""
             }
            },
            "type": "scatterternary"
           }
          ],
          "surface": [
           {
            "colorbar": {
             "outlinewidth": 0,
             "ticks": ""
            },
            "colorscale": [
             [
              0,
              "#0d0887"
             ],
             [
              0.1111111111111111,
              "#46039f"
             ],
             [
              0.2222222222222222,
              "#7201a8"
             ],
             [
              0.3333333333333333,
              "#9c179e"
             ],
             [
              0.4444444444444444,
              "#bd3786"
             ],
             [
              0.5555555555555556,
              "#d8576b"
             ],
             [
              0.6666666666666666,
              "#ed7953"
             ],
             [
              0.7777777777777778,
              "#fb9f3a"
             ],
             [
              0.8888888888888888,
              "#fdca26"
             ],
             [
              1,
              "#f0f921"
             ]
            ],
            "type": "surface"
           }
          ],
          "table": [
           {
            "cells": {
             "fill": {
              "color": "#EBF0F8"
             },
             "line": {
              "color": "white"
             }
            },
            "header": {
             "fill": {
              "color": "#C8D4E3"
             },
             "line": {
              "color": "white"
             }
            },
            "type": "table"
           }
          ]
         },
         "layout": {
          "annotationdefaults": {
           "arrowcolor": "#2a3f5f",
           "arrowhead": 0,
           "arrowwidth": 1
          },
          "autotypenumbers": "strict",
          "coloraxis": {
           "colorbar": {
            "outlinewidth": 0,
            "ticks": ""
           }
          },
          "colorscale": {
           "diverging": [
            [
             0,
             "#8e0152"
            ],
            [
             0.1,
             "#c51b7d"
            ],
            [
             0.2,
             "#de77ae"
            ],
            [
             0.3,
             "#f1b6da"
            ],
            [
             0.4,
             "#fde0ef"
            ],
            [
             0.5,
             "#f7f7f7"
            ],
            [
             0.6,
             "#e6f5d0"
            ],
            [
             0.7,
             "#b8e186"
            ],
            [
             0.8,
             "#7fbc41"
            ],
            [
             0.9,
             "#4d9221"
            ],
            [
             1,
             "#276419"
            ]
           ],
           "sequential": [
            [
             0,
             "#0d0887"
            ],
            [
             0.1111111111111111,
             "#46039f"
            ],
            [
             0.2222222222222222,
             "#7201a8"
            ],
            [
             0.3333333333333333,
             "#9c179e"
            ],
            [
             0.4444444444444444,
             "#bd3786"
            ],
            [
             0.5555555555555556,
             "#d8576b"
            ],
            [
             0.6666666666666666,
             "#ed7953"
            ],
            [
             0.7777777777777778,
             "#fb9f3a"
            ],
            [
             0.8888888888888888,
             "#fdca26"
            ],
            [
             1,
             "#f0f921"
            ]
           ],
           "sequentialminus": [
            [
             0,
             "#0d0887"
            ],
            [
             0.1111111111111111,
             "#46039f"
            ],
            [
             0.2222222222222222,
             "#7201a8"
            ],
            [
             0.3333333333333333,
             "#9c179e"
            ],
            [
             0.4444444444444444,
             "#bd3786"
            ],
            [
             0.5555555555555556,
             "#d8576b"
            ],
            [
             0.6666666666666666,
             "#ed7953"
            ],
            [
             0.7777777777777778,
             "#fb9f3a"
            ],
            [
             0.8888888888888888,
             "#fdca26"
            ],
            [
             1,
             "#f0f921"
            ]
           ]
          },
          "colorway": [
           "#636efa",
           "#EF553B",
           "#00cc96",
           "#ab63fa",
           "#FFA15A",
           "#19d3f3",
           "#FF6692",
           "#B6E880",
           "#FF97FF",
           "#FECB52"
          ],
          "font": {
           "color": "#2a3f5f"
          },
          "geo": {
           "bgcolor": "white",
           "lakecolor": "white",
           "landcolor": "#E5ECF6",
           "showlakes": true,
           "showland": true,
           "subunitcolor": "white"
          },
          "hoverlabel": {
           "align": "left"
          },
          "hovermode": "closest",
          "mapbox": {
           "style": "light"
          },
          "paper_bgcolor": "white",
          "plot_bgcolor": "#E5ECF6",
          "polar": {
           "angularaxis": {
            "gridcolor": "white",
            "linecolor": "white",
            "ticks": ""
           },
           "bgcolor": "#E5ECF6",
           "radialaxis": {
            "gridcolor": "white",
            "linecolor": "white",
            "ticks": ""
           }
          },
          "scene": {
           "xaxis": {
            "backgroundcolor": "#E5ECF6",
            "gridcolor": "white",
            "gridwidth": 2,
            "linecolor": "white",
            "showbackground": true,
            "ticks": "",
            "zerolinecolor": "white"
           },
           "yaxis": {
            "backgroundcolor": "#E5ECF6",
            "gridcolor": "white",
            "gridwidth": 2,
            "linecolor": "white",
            "showbackground": true,
            "ticks": "",
            "zerolinecolor": "white"
           },
           "zaxis": {
            "backgroundcolor": "#E5ECF6",
            "gridcolor": "white",
            "gridwidth": 2,
            "linecolor": "white",
            "showbackground": true,
            "ticks": "",
            "zerolinecolor": "white"
           }
          },
          "shapedefaults": {
           "line": {
            "color": "#2a3f5f"
           }
          },
          "ternary": {
           "aaxis": {
            "gridcolor": "white",
            "linecolor": "white",
            "ticks": ""
           },
           "baxis": {
            "gridcolor": "white",
            "linecolor": "white",
            "ticks": ""
           },
           "bgcolor": "#E5ECF6",
           "caxis": {
            "gridcolor": "white",
            "linecolor": "white",
            "ticks": ""
           }
          },
          "title": {
           "x": 0.05
          },
          "xaxis": {
           "automargin": true,
           "gridcolor": "white",
           "linecolor": "white",
           "ticks": "",
           "title": {
            "standoff": 15
           },
           "zerolinecolor": "white",
           "zerolinewidth": 2
          },
          "yaxis": {
           "automargin": true,
           "gridcolor": "white",
           "linecolor": "white",
           "ticks": "",
           "title": {
            "standoff": 15
           },
           "zerolinecolor": "white",
           "zerolinewidth": 2
          }
         }
        },
        "title": {
         "text": "Proportion of Stroke Cases",
         "x": 0.3,
         "y": 0.95
        }
       }
      },
      "text/html": [
       "<div>                        <script type=\"text/javascript\">window.PlotlyConfig = {MathJaxConfig: 'local'};</script>\n",
       "        <script charset=\"utf-8\" src=\"https://cdn.plot.ly/plotly-3.0.1.min.js\"></script>                <div id=\"3d839751-4dc5-459a-b5d3-0cabab98025d\" class=\"plotly-graph-div\" style=\"height:100%; width:100%;\"></div>            <script type=\"text/javascript\">                window.PLOTLYENV=window.PLOTLYENV || {};                                if (document.getElementById(\"3d839751-4dc5-459a-b5d3-0cabab98025d\")) {                    Plotly.newPlot(                        \"3d839751-4dc5-459a-b5d3-0cabab98025d\",                        [{\"domain\":{\"x\":[0.0,1.0],\"y\":[0.0,1.0]},\"hovertemplate\":\"label=%{label}\\u003cbr\\u003evalue=%{value}\\u003cextra\\u003e\\u003c\\u002fextra\\u003e\",\"labels\":[\"No\",\"Yes\"],\"legendgroup\":\"\",\"name\":\"\",\"showlegend\":true,\"values\":{\"dtype\":\"i2\",\"bdata\":\"Tzl4Ag==\"},\"type\":\"pie\"}],                        {\"template\":{\"data\":{\"histogram2dcontour\":[{\"type\":\"histogram2dcontour\",\"colorbar\":{\"outlinewidth\":0,\"ticks\":\"\"},\"colorscale\":[[0.0,\"#0d0887\"],[0.1111111111111111,\"#46039f\"],[0.2222222222222222,\"#7201a8\"],[0.3333333333333333,\"#9c179e\"],[0.4444444444444444,\"#bd3786\"],[0.5555555555555556,\"#d8576b\"],[0.6666666666666666,\"#ed7953\"],[0.7777777777777778,\"#fb9f3a\"],[0.8888888888888888,\"#fdca26\"],[1.0,\"#f0f921\"]]}],\"choropleth\":[{\"type\":\"choropleth\",\"colorbar\":{\"outlinewidth\":0,\"ticks\":\"\"}}],\"histogram2d\":[{\"type\":\"histogram2d\",\"colorbar\":{\"outlinewidth\":0,\"ticks\":\"\"},\"colorscale\":[[0.0,\"#0d0887\"],[0.1111111111111111,\"#46039f\"],[0.2222222222222222,\"#7201a8\"],[0.3333333333333333,\"#9c179e\"],[0.4444444444444444,\"#bd3786\"],[0.5555555555555556,\"#d8576b\"],[0.6666666666666666,\"#ed7953\"],[0.7777777777777778,\"#fb9f3a\"],[0.8888888888888888,\"#fdca26\"],[1.0,\"#f0f921\"]]}],\"heatmap\":[{\"type\":\"heatmap\",\"colorbar\":{\"outlinewidth\":0,\"ticks\":\"\"},\"colorscale\":[[0.0,\"#0d0887\"],[0.1111111111111111,\"#46039f\"],[0.2222222222222222,\"#7201a8\"],[0.3333333333333333,\"#9c179e\"],[0.4444444444444444,\"#bd3786\"],[0.5555555555555556,\"#d8576b\"],[0.6666666666666666,\"#ed7953\"],[0.7777777777777778,\"#fb9f3a\"],[0.8888888888888888,\"#fdca26\"],[1.0,\"#f0f921\"]]}],\"contourcarpet\":[{\"type\":\"contourcarpet\",\"colorbar\":{\"outlinewidth\":0,\"ticks\":\"\"}}],\"contour\":[{\"type\":\"contour\",\"colorbar\":{\"outlinewidth\":0,\"ticks\":\"\"},\"colorscale\":[[0.0,\"#0d0887\"],[0.1111111111111111,\"#46039f\"],[0.2222222222222222,\"#7201a8\"],[0.3333333333333333,\"#9c179e\"],[0.4444444444444444,\"#bd3786\"],[0.5555555555555556,\"#d8576b\"],[0.6666666666666666,\"#ed7953\"],[0.7777777777777778,\"#fb9f3a\"],[0.8888888888888888,\"#fdca26\"],[1.0,\"#f0f921\"]]}],\"surface\":[{\"type\":\"surface\",\"colorbar\":{\"outlinewidth\":0,\"ticks\":\"\"},\"colorscale\":[[0.0,\"#0d0887\"],[0.1111111111111111,\"#46039f\"],[0.2222222222222222,\"#7201a8\"],[0.3333333333333333,\"#9c179e\"],[0.4444444444444444,\"#bd3786\"],[0.5555555555555556,\"#d8576b\"],[0.6666666666666666,\"#ed7953\"],[0.7777777777777778,\"#fb9f3a\"],[0.8888888888888888,\"#fdca26\"],[1.0,\"#f0f921\"]]}],\"mesh3d\":[{\"type\":\"mesh3d\",\"colorbar\":{\"outlinewidth\":0,\"ticks\":\"\"}}],\"scatter\":[{\"fillpattern\":{\"fillmode\":\"overlay\",\"size\":10,\"solidity\":0.2},\"type\":\"scatter\"}],\"parcoords\":[{\"type\":\"parcoords\",\"line\":{\"colorbar\":{\"outlinewidth\":0,\"ticks\":\"\"}}}],\"scatterpolargl\":[{\"type\":\"scatterpolargl\",\"marker\":{\"colorbar\":{\"outlinewidth\":0,\"ticks\":\"\"}}}],\"bar\":[{\"error_x\":{\"color\":\"#2a3f5f\"},\"error_y\":{\"color\":\"#2a3f5f\"},\"marker\":{\"line\":{\"color\":\"#E5ECF6\",\"width\":0.5},\"pattern\":{\"fillmode\":\"overlay\",\"size\":10,\"solidity\":0.2}},\"type\":\"bar\"}],\"scattergeo\":[{\"type\":\"scattergeo\",\"marker\":{\"colorbar\":{\"outlinewidth\":0,\"ticks\":\"\"}}}],\"scatterpolar\":[{\"type\":\"scatterpolar\",\"marker\":{\"colorbar\":{\"outlinewidth\":0,\"ticks\":\"\"}}}],\"histogram\":[{\"marker\":{\"pattern\":{\"fillmode\":\"overlay\",\"size\":10,\"solidity\":0.2}},\"type\":\"histogram\"}],\"scattergl\":[{\"type\":\"scattergl\",\"marker\":{\"colorbar\":{\"outlinewidth\":0,\"ticks\":\"\"}}}],\"scatter3d\":[{\"type\":\"scatter3d\",\"line\":{\"colorbar\":{\"outlinewidth\":0,\"ticks\":\"\"}},\"marker\":{\"colorbar\":{\"outlinewidth\":0,\"ticks\":\"\"}}}],\"scattermap\":[{\"type\":\"scattermap\",\"marker\":{\"colorbar\":{\"outlinewidth\":0,\"ticks\":\"\"}}}],\"scattermapbox\":[{\"type\":\"scattermapbox\",\"marker\":{\"colorbar\":{\"outlinewidth\":0,\"ticks\":\"\"}}}],\"scatterternary\":[{\"type\":\"scatterternary\",\"marker\":{\"colorbar\":{\"outlinewidth\":0,\"ticks\":\"\"}}}],\"scattercarpet\":[{\"type\":\"scattercarpet\",\"marker\":{\"colorbar\":{\"outlinewidth\":0,\"ticks\":\"\"}}}],\"carpet\":[{\"aaxis\":{\"endlinecolor\":\"#2a3f5f\",\"gridcolor\":\"white\",\"linecolor\":\"white\",\"minorgridcolor\":\"white\",\"startlinecolor\":\"#2a3f5f\"},\"baxis\":{\"endlinecolor\":\"#2a3f5f\",\"gridcolor\":\"white\",\"linecolor\":\"white\",\"minorgridcolor\":\"white\",\"startlinecolor\":\"#2a3f5f\"},\"type\":\"carpet\"}],\"table\":[{\"cells\":{\"fill\":{\"color\":\"#EBF0F8\"},\"line\":{\"color\":\"white\"}},\"header\":{\"fill\":{\"color\":\"#C8D4E3\"},\"line\":{\"color\":\"white\"}},\"type\":\"table\"}],\"barpolar\":[{\"marker\":{\"line\":{\"color\":\"#E5ECF6\",\"width\":0.5},\"pattern\":{\"fillmode\":\"overlay\",\"size\":10,\"solidity\":0.2}},\"type\":\"barpolar\"}],\"pie\":[{\"automargin\":true,\"type\":\"pie\"}]},\"layout\":{\"autotypenumbers\":\"strict\",\"colorway\":[\"#636efa\",\"#EF553B\",\"#00cc96\",\"#ab63fa\",\"#FFA15A\",\"#19d3f3\",\"#FF6692\",\"#B6E880\",\"#FF97FF\",\"#FECB52\"],\"font\":{\"color\":\"#2a3f5f\"},\"hovermode\":\"closest\",\"hoverlabel\":{\"align\":\"left\"},\"paper_bgcolor\":\"white\",\"plot_bgcolor\":\"#E5ECF6\",\"polar\":{\"bgcolor\":\"#E5ECF6\",\"angularaxis\":{\"gridcolor\":\"white\",\"linecolor\":\"white\",\"ticks\":\"\"},\"radialaxis\":{\"gridcolor\":\"white\",\"linecolor\":\"white\",\"ticks\":\"\"}},\"ternary\":{\"bgcolor\":\"#E5ECF6\",\"aaxis\":{\"gridcolor\":\"white\",\"linecolor\":\"white\",\"ticks\":\"\"},\"baxis\":{\"gridcolor\":\"white\",\"linecolor\":\"white\",\"ticks\":\"\"},\"caxis\":{\"gridcolor\":\"white\",\"linecolor\":\"white\",\"ticks\":\"\"}},\"coloraxis\":{\"colorbar\":{\"outlinewidth\":0,\"ticks\":\"\"}},\"colorscale\":{\"sequential\":[[0.0,\"#0d0887\"],[0.1111111111111111,\"#46039f\"],[0.2222222222222222,\"#7201a8\"],[0.3333333333333333,\"#9c179e\"],[0.4444444444444444,\"#bd3786\"],[0.5555555555555556,\"#d8576b\"],[0.6666666666666666,\"#ed7953\"],[0.7777777777777778,\"#fb9f3a\"],[0.8888888888888888,\"#fdca26\"],[1.0,\"#f0f921\"]],\"sequentialminus\":[[0.0,\"#0d0887\"],[0.1111111111111111,\"#46039f\"],[0.2222222222222222,\"#7201a8\"],[0.3333333333333333,\"#9c179e\"],[0.4444444444444444,\"#bd3786\"],[0.5555555555555556,\"#d8576b\"],[0.6666666666666666,\"#ed7953\"],[0.7777777777777778,\"#fb9f3a\"],[0.8888888888888888,\"#fdca26\"],[1.0,\"#f0f921\"]],\"diverging\":[[0,\"#8e0152\"],[0.1,\"#c51b7d\"],[0.2,\"#de77ae\"],[0.3,\"#f1b6da\"],[0.4,\"#fde0ef\"],[0.5,\"#f7f7f7\"],[0.6,\"#e6f5d0\"],[0.7,\"#b8e186\"],[0.8,\"#7fbc41\"],[0.9,\"#4d9221\"],[1,\"#276419\"]]},\"xaxis\":{\"gridcolor\":\"white\",\"linecolor\":\"white\",\"ticks\":\"\",\"title\":{\"standoff\":15},\"zerolinecolor\":\"white\",\"automargin\":true,\"zerolinewidth\":2},\"yaxis\":{\"gridcolor\":\"white\",\"linecolor\":\"white\",\"ticks\":\"\",\"title\":{\"standoff\":15},\"zerolinecolor\":\"white\",\"automargin\":true,\"zerolinewidth\":2},\"scene\":{\"xaxis\":{\"backgroundcolor\":\"#E5ECF6\",\"gridcolor\":\"white\",\"linecolor\":\"white\",\"showbackground\":true,\"ticks\":\"\",\"zerolinecolor\":\"white\",\"gridwidth\":2},\"yaxis\":{\"backgroundcolor\":\"#E5ECF6\",\"gridcolor\":\"white\",\"linecolor\":\"white\",\"showbackground\":true,\"ticks\":\"\",\"zerolinecolor\":\"white\",\"gridwidth\":2},\"zaxis\":{\"backgroundcolor\":\"#E5ECF6\",\"gridcolor\":\"white\",\"linecolor\":\"white\",\"showbackground\":true,\"ticks\":\"\",\"zerolinecolor\":\"white\",\"gridwidth\":2}},\"shapedefaults\":{\"line\":{\"color\":\"#2a3f5f\"}},\"annotationdefaults\":{\"arrowcolor\":\"#2a3f5f\",\"arrowhead\":0,\"arrowwidth\":1},\"geo\":{\"bgcolor\":\"white\",\"landcolor\":\"#E5ECF6\",\"subunitcolor\":\"white\",\"showland\":true,\"showlakes\":true,\"lakecolor\":\"white\"},\"title\":{\"x\":0.05},\"mapbox\":{\"style\":\"light\"}}},\"legend\":{\"tracegroupgap\":0,\"title\":{\"text\":\"Stroke Status\"}},\"title\":{\"text\":\"Proportion of Stroke Cases\",\"x\":0.3,\"y\":0.95},\"piecolorway\":[\"#008080\",\"black\"]},                        {\"responsive\": true}                    )                };            </script>        </div>"
      ],
      "text/plain": [
       "Figure({\n",
       "    'data': [{'domain': {'x': [0.0, 1.0], 'y': [0.0, 1.0]},\n",
       "              'hovertemplate': 'label=%{label}<br>value=%{value}<extra></extra>',\n",
       "              'labels': array(['No', 'Yes'], dtype=object),\n",
       "              'legendgroup': '',\n",
       "              'name': '',\n",
       "              'showlegend': True,\n",
       "              'type': 'pie',\n",
       "              'values': {'bdata': 'Tzl4Ag==', 'dtype': 'i2'}}],\n",
       "    'layout': {'legend': {'title': {'text': 'Stroke Status'}, 'tracegroupgap': 0},\n",
       "               'piecolorway': [#008080, black],\n",
       "               'template': '...',\n",
       "               'title': {'text': 'Proportion of Stroke Cases', 'x': 0.3, 'y': 0.95}}\n",
       "})"
      ]
     },
     "execution_count": 278,
     "metadata": {},
     "output_type": "execute_result"
    }
   ],
   "source": [
    "fig = px.pie(\n",
    "    stroke_count, values=stroke_count.values, names=['No', 'Yes'], \n",
    "    title = 'Proportion of Stroke Cases', \n",
    "    color_discrete_sequence=plot_color)\n",
    "\n",
    "fig.update_layout(legend_title_text = 'Stroke Status', title_x=0.3, title_y = 0.95)\n",
    "#fig.show()"
   ]
  },
  {
   "cell_type": "code",
   "execution_count": 279,
   "id": "26c252e4",
   "metadata": {},
   "outputs": [],
   "source": [
    "# Bivariate Analysis\n",
    "def custom_historgram(columns:str, titles:list)->go.Figure:\n",
    "    fig = sp.make_subplots(rows=1, cols=2, subplot_titles = ['No Stroke', 'Yes Stroke'])\n",
    "    histogram_no_stroke = px.histogram(no_stroke_data, x = columns, color_discrete_sequence=['#008080'])\n",
    "    histogram_stroke = px.histogram(stroke_data, x = columns, color_discrete_sequence=['black'])\n",
    "    fig.add_trace(histogram_no_stroke['data'][0], row=1, col=1)\n",
    "    fig.add_trace(histogram_stroke['data'][0], row=1, col=2)\n",
    "    fig.update_layout(title = titles[0], title_x = 0.5)\n",
    "    fig.update_xaxes(title_text = titles[1])\n",
    "    fig.update_yaxes(title_text = 'Count')\n",
    "    return fig"
   ]
  },
  {
   "cell_type": "code",
   "execution_count": 280,
   "id": "48be8e29",
   "metadata": {},
   "outputs": [],
   "source": [
    "fig = custom_historgram('avg_glucose_level', ['Average Glucose Level Distribution by Stroke', 'Average Glucose Level'])\n",
    "##fig.show()"
   ]
  },
  {
   "cell_type": "code",
   "execution_count": 281,
   "id": "5791fa2f",
   "metadata": {},
   "outputs": [],
   "source": [
    "fig = custom_historgram('age', ['Age Distribution by stroke', 'Age'])\n",
    "##fig.show()"
   ]
  },
  {
   "cell_type": "code",
   "execution_count": 282,
   "id": "47f054e2",
   "metadata": {},
   "outputs": [
    {
     "data": {
      "text/plain": [
       "np.float64(30.230696202531643)"
      ]
     },
     "execution_count": 282,
     "metadata": {},
     "output_type": "execute_result"
    }
   ],
   "source": [
    "stroke_data['bmi'].mean()"
   ]
  },
  {
   "cell_type": "code",
   "execution_count": 283,
   "id": "b6152fb8",
   "metadata": {},
   "outputs": [
    {
     "data": {
      "text/plain": [
       "np.float64(28.02217163110899)"
      ]
     },
     "execution_count": 283,
     "metadata": {},
     "output_type": "execute_result"
    }
   ],
   "source": [
    "no_stroke_data['bmi'].mean()"
   ]
  },
  {
   "cell_type": "code",
   "execution_count": 284,
   "id": "e0edd843",
   "metadata": {},
   "outputs": [
    {
     "ename": "ValueError",
     "evalue": "Mime type rendering requires nbformat>=4.2.0 but it is not installed",
     "output_type": "error",
     "traceback": [
      "\u001b[31m---------------------------------------------------------------------------\u001b[39m",
      "\u001b[31mValueError\u001b[39m                                Traceback (most recent call last)",
      "\u001b[36mFile \u001b[39m\u001b[32m~\\AppData\\Roaming\\Python\\Python313\\site-packages\\IPython\\core\\formatters.py:984\u001b[39m, in \u001b[36mIPythonDisplayFormatter.__call__\u001b[39m\u001b[34m(self, obj)\u001b[39m\n\u001b[32m    982\u001b[39m method = get_real_method(obj, \u001b[38;5;28mself\u001b[39m.print_method)\n\u001b[32m    983\u001b[39m \u001b[38;5;28;01mif\u001b[39;00m method \u001b[38;5;129;01mis\u001b[39;00m \u001b[38;5;129;01mnot\u001b[39;00m \u001b[38;5;28;01mNone\u001b[39;00m:\n\u001b[32m--> \u001b[39m\u001b[32m984\u001b[39m     \u001b[43mmethod\u001b[49m\u001b[43m(\u001b[49m\u001b[43m)\u001b[49m\n\u001b[32m    985\u001b[39m     \u001b[38;5;28;01mreturn\u001b[39;00m \u001b[38;5;28;01mTrue\u001b[39;00m\n",
      "\u001b[36mFile \u001b[39m\u001b[32mc:\\Users\\amank\\AppData\\Local\\Programs\\Python\\Python313\\Lib\\site-packages\\plotly\\basedatatypes.py:833\u001b[39m, in \u001b[36mBaseFigure._ipython_display_\u001b[39m\u001b[34m(self)\u001b[39m\n\u001b[32m    830\u001b[39m \u001b[38;5;28;01mimport\u001b[39;00m\u001b[38;5;250m \u001b[39m\u001b[34;01mplotly\u001b[39;00m\u001b[34;01m.\u001b[39;00m\u001b[34;01mio\u001b[39;00m\u001b[38;5;250m \u001b[39m\u001b[38;5;28;01mas\u001b[39;00m\u001b[38;5;250m \u001b[39m\u001b[34;01mpio\u001b[39;00m\n\u001b[32m    832\u001b[39m \u001b[38;5;28;01mif\u001b[39;00m pio.renderers.render_on_display \u001b[38;5;129;01mand\u001b[39;00m pio.renderers.default:\n\u001b[32m--> \u001b[39m\u001b[32m833\u001b[39m     \u001b[43mpio\u001b[49m\u001b[43m.\u001b[49m\u001b[43mshow\u001b[49m\u001b[43m(\u001b[49m\u001b[38;5;28;43mself\u001b[39;49m\u001b[43m)\u001b[49m\n\u001b[32m    834\u001b[39m \u001b[38;5;28;01melse\u001b[39;00m:\n\u001b[32m    835\u001b[39m     \u001b[38;5;28mprint\u001b[39m(\u001b[38;5;28mrepr\u001b[39m(\u001b[38;5;28mself\u001b[39m))\n",
      "\u001b[36mFile \u001b[39m\u001b[32mc:\\Users\\amank\\AppData\\Local\\Programs\\Python\\Python313\\Lib\\site-packages\\plotly\\io\\_renderers.py:425\u001b[39m, in \u001b[36mshow\u001b[39m\u001b[34m(fig, renderer, validate, **kwargs)\u001b[39m\n\u001b[32m    420\u001b[39m     \u001b[38;5;28;01mraise\u001b[39;00m \u001b[38;5;167;01mValueError\u001b[39;00m(\n\u001b[32m    421\u001b[39m         \u001b[33m\"\u001b[39m\u001b[33mMime type rendering requires ipython but it is not installed\u001b[39m\u001b[33m\"\u001b[39m\n\u001b[32m    422\u001b[39m     )\n\u001b[32m    424\u001b[39m \u001b[38;5;28;01mif\u001b[39;00m \u001b[38;5;129;01mnot\u001b[39;00m nbformat \u001b[38;5;129;01mor\u001b[39;00m Version(nbformat.__version__) < Version(\u001b[33m\"\u001b[39m\u001b[33m4.2.0\u001b[39m\u001b[33m\"\u001b[39m):\n\u001b[32m--> \u001b[39m\u001b[32m425\u001b[39m     \u001b[38;5;28;01mraise\u001b[39;00m \u001b[38;5;167;01mValueError\u001b[39;00m(\n\u001b[32m    426\u001b[39m         \u001b[33m\"\u001b[39m\u001b[33mMime type rendering requires nbformat>=4.2.0 but it is not installed\u001b[39m\u001b[33m\"\u001b[39m\n\u001b[32m    427\u001b[39m     )\n\u001b[32m    429\u001b[39m display_jupyter_version_warnings()\n\u001b[32m    431\u001b[39m ipython_display.display(bundle, raw=\u001b[38;5;28;01mTrue\u001b[39;00m)\n",
      "\u001b[31mValueError\u001b[39m: Mime type rendering requires nbformat>=4.2.0 but it is not installed"
     ]
    },
    {
     "data": {
      "application/vnd.plotly.v1+json": {
       "config": {
        "plotlyServerURL": "https://plot.ly"
       },
       "data": [
        {
         "alignmentgroup": "True",
         "box": {
          "visible": true
         },
         "hovertemplate": "Stroke Status=%{x}<br>BMI=%{y}<extra></extra>",
         "legendgroup": "",
         "marker": {
          "color": "#008080"
         },
         "name": "",
         "offsetgroup": "",
         "orientation": "v",
         "scalegroup": "True",
         "showlegend": false,
         "type": "violin",
         "x": {
          "bdata": "AAAAAAAAAAAAAAAAAAAAAAAAAAAAAAAAAAEAAAAAAAAAAAAAAAAAAAAAAAAAAAAAAAAAAAAAAAAAAAAAAAEAAAAAAAEAAAAAAAAAAAAAAAAAAAAAAAABAAAAAAAAAAAAAAAAAAAAAAAAAAAAAAAAAAAAAQAAAAAAAAAAAAAAAAAAAAAAAAAAAAAAAAAAAAAAAAAAAAAAAAAAAAABAAABAAAAAAAAAAAAAAAAAAAAAAEAAAAAAAAAAAAAAAAAAAAAAAAAAAAAAAAAAAAAAAAAAAAAAAEAAAAAAAAAAQAAAAABAAAAAAAAAAAAAAAAAAAAAAAAAQAAAAAAAAAAAAAAAAAAAAAAAAAAAAAAAAAAAAAAAAAAAAAAAAAAAAAAAAAAAAAAAAAAAAABAAAAAAAAAAAAAAAAAAAAAAAAAAAAAAABAAAAAAAAAAAAAAAAAAAAAAAAAAAAAAAAAAEAAAAAAAAAAAABAAEAAAAAAAAAAAAAAAAAAAAAAAAAAAAAAAAAAAEAAQAAAAAAAAABAAAAAAAAAAAAAAABAAAAAAAAAAAAAAAAAAAAAAAAAAAAAAEAAAAAAAAAAAAAAAAAAAEAAQAAAAAAAAAAAAAAAAAAAAAAAAAAAAAAAAAAAAAAAAAAAAEAAAAAAAAAAAABAAAAAAAAAAAAAAAAAAAAAAAAAAAAAAEAAAAAAAAAAAAAAAAAAAAAAAAAAAEAAAAAAAABAAAAAAAAAQAAAQAAAAAAAAAAAAAAAAAAAAAAAAAAAAAAAAAAAAAAAAAAAAAAAAABAAAAAAAAAAAAAAAAAAAAAAEAAAAAAAAAAAAAAAAAAAAAAAAAAAAAAAEAAAAAAAAAAAAAAAAAAAAAAAAAAAEAAAABAAAAAAAAAQAAAAAAAAAAAAAAAAAAAAAAAAAAAAAAAAAAAAAAAAAAAAAAAAAAAAAAAAAAAAAAAAAAAAAAAAAAAAAAAAAAAAAAAAAAAAAAAAAAAAAAAAAAAAAAAAAAAAAAAAAAAAAAAAAAAAAAAAAAAAAAAAAAAAAAAAAAAAAAAAAAAAAAAAAAAAAAAAAAAAAAAAAAAQAAAAAAAQAAAAAAAAAAAAAAAAAAAAAAAAEAAAAAAAEAAAAAAAAAAAAAAAAAAAAAAAAAAAAAAAAAAAAAAQAAAAAAAAAAAAAAAAAAAAAAAAEAAAAAAAAAAAAAAAAAAAAAAAEAAAAAAAAAAAAAAAAAAAAAAAAAAAAAAAAAAAAAAAAAAAAAAAAAAAAAAAAAAAAAAAAAAAAAAAEAAAAAAAAAAAAAAAAAAAEAAAAAAAAAAQAAAQAAAAAAAAABAAAAAAAAAAAAAAAAAAAAAAAAAAAAAQAAAAAAAAAAAAAAAAAAAAAAAAAAAAAAAAAAAAAAAQAAAAAAAAAAAAAAAAAAAAAAAAAAAQAAAQAAAAAAAAAAAAEAAAAAAAAAAAAAAAAAAAEAAAAAAAAAAAAAAQAAAAAAAQAAAAAAAAAAAQAAAAAAAAAAAAAAAAAAAAAAAAAAAAAAAAAAAAAAAAAAAAAAAAAAAAAAAAAAAAAAAAAAAAAAAAAAAAAAAAAAAAAAAAAAAAABAAAAAAAAAQAAAAAAAAAAAAAAAAAAAAAAAAABAQABAAAAAAAAAAAAAAAAAAAAAAAAAAAAAAAAAAAAAAAAAAAAAAAAAAEAAAAAAAAAAAAAAAAAAAAAAAEBAAAAAAAAAAAAAAAAAAAAAAAAAAAAAAAAAAAAAAAAAAAAAAAAAAAAAAAAAAAAAAAAAAAAAAAAAAAAAAAAAAAAAAAAAQAAAAAAAAAAAAAAAAAAAAAAAAAAAAAAAAAAAAAAAAAAAAAAAAAAAAAAAAAAAAAAAAAAAAAAAAAAAAAAAAAAAAAAAAAAAAAAAAAAAAAAAAAAAAAAAAAAAAAAAAAAAAAAAAAAAAAAAAAAAAAAAAAAAAAAAQAAAAAAAAAAAAABAAAAAAAAAAAAAAAAAAAAAAAAAAAAAAAAAAAAAAAAAAAAAAAAAAAAAAAAAAAAAAAAAAAAAAAAAAAAAAAAAAAAAAAAAAAAAAAAAAAAAAAAAAAAAAAAAAAAAAAAAAAAAAAAAAAAAAAAAAAAAAAAAAAAAAAAAAAAAAAAAAAAAAAAAAAAAAAAAAAAAAABAAEAAAAAAAAAAAAAAAAAAAAAAAEAAAAAAAAAAAAAAAAAAAAAAAAAAAAAAAAAAAAAAAAAAAAAAAAAAAAAAAAAAAAAAAABAAAAAAAAAAAAAAAAAAAAAAAAAAAAAAAAAAEAAAAAAAAAAAAAAAAAAAAAAAAAAAAAAAAAAAAAAAAAAAAAAAAAAAAAAAAAAAAAAAAAAAAAAAEAAAAAAAAAAAAAAAAAAAABAAAAAAAAAAAAAAAAAAAAAAAAAAAAAAAAAAAAAAAAAAAAAAAAAAAAAAAAAAAAAAAAAAAAAAAAAAEAAAAAAAAAAAAAAAAAAAAAAAAAAAAAAAAAAAAAAAEAAAAAAAAAAAAAAAAAAAAAAAAAAAAAAAAAAAAAAQAAAAAAAAAAAAAAAAAAAAAAAQAAAAAAAAAAAAEAAAAAAAABAAABAAAAAAAAAAAAAAAAAAAAAAAAAAAAAAAAAAAAAAAAAAAAAAAAAAEAAAAAAAABAAAAAAAAAAAAAQAAAAAAAAAAAAAAAAEAAQAAAAAAAAAAAAEAAAAAAAAAAAEAAAAAAAAAAAAAAAAAAAAAAAEAAAAAAAAAAAAAAAAAAAAAAAAAAAAAAAAAAQAAAAAAAAEAAAAAAAEAAAAAAAAAAAAAAAAAAAAAAAAAAAAAAAAAAQAAAAAAAAEAAAAAAAAAAAAAAAAAAQABAAAAAAAAAAAAAAAAAAAAAAAAAAAAAAAAAAAAAAAAAAAAAAAAAAAAAAAAAAAAAQAAAAAAAQAAAQAAAAAAAAAAAAAAAAAAAAAAAAAAAAAAAAEAAAAAAAAAAAAAAAAAAAAAAAAAAAAAAAAAAAAAAAAAAAAAAAAAAAAAAAABAAAAAAAAAAAAAAAAAAAAAAABAAAAAAAAAAAAAAAAAAAAAAAAAAEAAQAAAAAAAQAAAAAAAAAAAAAAAAAAAAAAAAAAAAAAAAAAAAAAAAAAAAAAAAAAAAEAAAAAAAAAAAAAAAAAAAAAAAAAAAAAAAAAAAAAAAAAAAAAAAAAAAAAAAAAAAAAAAAAAAAAAAAAAQAAAAAAAAAAAAEAAAAAAAAAAAAAAAAAAAAAAAAAAAABAAAAAAAAAAAAAAAAAAAAAAAAAAAAAAAAAAAAAAAAAAAAAAAAAAAAAAAAAAAAAAAAAAAAAAAAAAAAAAAAAAAAAAAAAAEAAAAAAAAAAAAAAAAAAAAAAAAAAAAAAAAAAAAAAAAAAAAAAAAAAAAAAAEAAAAAAAAAAAAAAAAAAAAAAAAAAAEAAAAAAAAAAAAAAAEAAAAAAAAAAAAAAAAAAAAAAAAAAAEAAAAAAAAAAAAAAAEAAAAAAAAAAAABAAAAAAAAAAAAAAAAAAAAAQAAAAAAAAAAAAAAAAAAAAAAAAAAAAAAAAAAAAAAAAAAAAAAAAABAAAAAAAAAAAAAAAAAAAAAAAAAAAAAAAAAAAAAAAAAAABAAAAAAAAAQEAAAAAAAAAAAAAAAAAAAAAAAAAAAAAAAAAAAAAAAAAAAAAAAABAAAAAAAAAAAAAAAAAAAAAAAAAAAAAAAAAAAAAAAAAAAAAAAAAAAAAAAAAAAAAAAAAAAAAAAAAAAAAAAAAAAAAAAAAAAAAAAAAAAAAAAAAAAAAAAAAAAAAAABAAEAAAAAAAAAAAAAAAAAAAAAAAAAAAAAAAAAAAAAAAEAAAAAAAAAAAAAAAAAAAABAAAAAAAAAAAAAAABAAAAAAAAAAAAAAAAAAAAAAABAAAAAAAAAAAAAAAAAAAAAAEAAAABAAAAAAAAAAAAAAEAAAAAAAAAAAAAAAAAAAAAAAAAAAAAAAAAAAAAAAEAAAAAAAAAAAAAAAAAAAAAAAAAAAAAAAEAAAAAAAAAAAAAAAAAAAAAAAAAAQAAAAAAAAAAAAAAAAAAAAAAAQAAAAEAAAAAAAAAAAAAAAAAAAEAAAAAAAAAAAAAAAAAAAAAAAAAAAAAAAAAAAAAAAAAAAAAAAAAAAAAAQAAAAAAAAAAAAABAAAAAAAAAAAAAAAAAAAAAAAAAAAAAAAAAAAAAAAAAQAAAAEAAAAAAAAAAAAAAAAAAAAAAAAAAAAAAAAAAAAAAAAAAAAAAAAAAAAAAAAAAAAAAAABAAAAAQAAAAAAAAAAAAAAAAAAAAAAAAAAAAAAAQAAAAAAAAAAAAAAAAABAAAAAAEAAAAAAAAAAAABAAAAAAAAAAAAAAAAAAAAAAAAAAAAAAABAAAAAAEAAAAAAAAAAAAAAAAAAAAAAAAAAAAAAAAAAAAAAAAAAAAAAAEAAAAAAAAAAAAAAAEAAAAAAAAAAAAAAAAAAAAAAAEAAQAAAAAAAAAAAAAAAAAAAAAAAAAAAAAAAAAAAAAAAAAAAAAAAQAAAAABAQAAAAAAAAAAAAAAAAAAAAAAAQAAAAAAAAAAAAAAAAAAAAAAAAAAAAAAAAAAAAAAAAABAAAAAAAAAAAAAAAAAAAAAQAAAQAAAAAAAAAAAAAAAAAAAAAAAAAAAAAAAAABAAAAAAEAAAAAAAAAAAAAAAAAAAAAAAAAAAAAAAAAAAAAAAEAAAAAAAAAAAAAAAAAAAAAAAAAAAAAAAABAAAAAAAAAQAAAAAAAAAAAAABAAAAAAAAAAAAAAEAAQAAAAAAAAAAAAEAAAAAAAAAAAAAAAAAAAAAAAAAAAEAAAAAAAAAAAAAAAABAAAAAAAAAAAAAAEAAAAAAAAAAAAAAAAAAAAAAAAAAAEAAAAAAAAAAAEAAAAAAAAAAAAAAAAAAAAAAAAAAAAAAAAAAAAAAAAAAAAAAAAAAAABAAAAAAAAAAAAAAAAAAAAAAAAAQEAAAAAAAAAAAAAAQAAAAAAAAAAAAEAAAAAAAAAAAAAAAAAAAAAAAAAAAAAAAAAAAAAAAAAAAAAAAABAAAAAAAAAAAAAAAAAAAAAAABAAAAAAAAAAAAAQAAAAAAAAAAAAAAAAAAAAAAAAAAAAAAAAAAAAAAAAAAAAAAAAAAAAAAAAAAAAAAAAAAAAAAAQAAAAAAAAAAAAAAAAAAAAAAAAEAAAAAAAAAAAEAAAAAAAAAAAAAAAAAAAAAAAAAAAAAAAAAAAAAAAAAAAAAAAAAAAAAAAEAAAAAAAEAAAAAAAAAAAAAAAAAAAEAAAAAAAAAAAAAAAAAAAAAAAAAAAAAAQAAAAAAAAAAAAAAAQAAAAAAAAAAAAAAAAAAAAAAAAAAAAAAAAAAAAAAAAAAAAAAAAAAAAAAAAAAAAAAAAAAAAAAAAAAAAAAAAAAAAAAAAAAAAAAAAAAAAAAAQAAAAABAQAAAAAAAAAAAAABAAAAAAAAAAAAAAAAAAAAAAAAAQAAAAABAAAAAAAAAAAAAAAAAAAAAAABAAABAAAAAAAAAAAAAAAAAQAAAAAAAAAAAAAAAAAAAAAAAAAAAAAAAAAAAAAAAAAAAAAAAAAAAAAAAAAAAAAAAAAAAAAAAAAAAAAAAAAAAAAAAAAAAAAAAAAAAAAAAAAAAAAAAAAAAAAAAAAAAAAAAAAAAAABAAAAAAAAAAAAAAAAAAAAAAAAAAAAAAAAAAEAAAAAAAAAAAAAAAAAAAAAAAAAAAAAAAAAAAAAAAAAAAEAAAAAAAAAAAAAAAAAAAAAAAAAAAAAAAAAAAAAAAAAAAAAAAAAAAAAAQABAAAAAAABAAAAAAAAAAAAAAAAAAAAAAAAAAAAAAAAAAAAAAAAAAAAAAAAAAAAAAAAAAAAAAAAAAAAAAAAAAAAAAAAAAAAAAAAAAAAAAAAAAAAAAAAAAEBAAAAAAAAAAAAAAAAAAAAAAAAAAAAAAAAAAAAAAAAAAAAAAAAAAAAAAAAAAAAAAAAAAAAAAAAAAAAAAAAAAAAAAAAAAAAAAAAAAAAAAAAAAAAAAAAAAAAAAAAAAAAAAAAAAAAAAAAAAAAAAAAAAAAAAAAAAAAAAAAAAAAAAAAAAAAAAAAAAAAAAAAAAAAAAEAAAAAAAAAAAAAAAAAAAAAAAAAAAAAAAAAAAAAAAAAAAAAAAAAAAAAAAAAAAAAAAAAAAAAAAEAAAAAAAAAAAAAAAAAAAAAAAAAAQAAAAEAAQAAAAAAAAAAAAAAAAAAAAEAAAAAAAAAAAAAAAAAAAAAAAAAAAABAAAAAAAAAAAAAAAAAAAAAAAAAAAAAAAAAAAAAAAAAAAAAAAAAAAAAAAAAAAAAQAAAAAAAAABAAAAAAAAAAAAAAAAAAAAAAAAAAAAAAAAAAAAAAAAAAAAAAAAAAAAAAAAAAAAAAAAAAAAAAAAAAAAAAAAAAAAAAAAAAAAAAAAAAAAAAAAAAAAAAAAAAAAAAAAAAAAAAABAAAAAAAAAAAAAAAAAQAAAAABAAAAAAAAAAAAAAAAAAAAAAABAAEAAAAAAAAAAAABAAABAAAAAAAAAAABAAAAAAAAAAAAAAAAAAAAAAAAAAAAAQAAAAAAAAAAAAAAAAAAAAABAAAAAAAAAAAAAAAAAAAAAAAAAAAAAAAAAAAAAAAAAAAAAAAAAAAAAAAAAAEAAAAAAAAAAAAAAAAAAAAAAAAAAAAAAAAAAAAAAAAAAAAAAAAAAAAAAAAAAAAAAAAAAQAAAAAAAAAAAAAAAAAAAQAAAAAAAAAAAAAAAAAAAAAAAAAAAAAAAAAAAAAAAAAAAAAAAAAAAAAAAAAAAAAAAAAAAAAAAAAAAAAAAAAAAAABAAAAAAAAAAAAAAABAAAAAAAAAAAAAAAAAAAAAAAAAAAAAAAAAAAAAAAAAAAAAAAAAAAAAAAAAAAAAAAAAAAAAAAAAAAAAAAAAAAAAAAAAAEAAAAAAAAAAAAAAAAAAAAAAAAAAAABAAAAAAAAAAAAAAAAAAAAAAAAAAAAAAAAAAAAAAAAAAAAAAAAAAAAAAAAAAAAAAAAAAAAAAAAAAAAAAEAAAAAAAAAAAAAAQEAAAAAAAAAAAAAAAABAAAAAAAAAAAAAAAAAAAAAAAAAAAAAAAAAAAAAAAAAQAAAAAAAAAAAAAAAAAAAAAAAAEAAAAAAAABAAAAAAAAAAAAAAAAAAAAAAAAAAAAAAAAAAAAAAAAAAAAAAAAAAAAAAAAAQAAAAAAAAAAAAAAAAAAAAAAAAAAAAAAAAAAAAAAAAAAAAAAAAAAAAAAAAAAAAAAAAAAAAAAAQEAAAAAAAAAAAAAAAAAAAAAAAAAAAAAAAAAAQABAAAAAAABAAAAAAABAAAAAAAAAAAAAAAAAAAAAAAAAAAAAAAAAAAAAAAAAAAAAAAAAAAAAAAAAAAAAAAAAAAAAAAAAAAAAAEAAAEAAAEAAQAAAAAAAAAAAAABAAAAAAAAAAAAAAAAAAAAAAAAAAAAAAAAAAAAAAAAAAAAAAAAAAAAAAAAAAAAAAAAAAAAAAEAAAABAAABAAAAAAAAAAAAAAAAAAAAAAAAAAAAAAAAAAAAAAAAAAAAAAAAAAAAAAAAAAAAAAAAAAAAAAAAAAAAAAAAAAAAAAAAAAAAAAAAAAAAAAAAAAAAAQAAAAAAAAAAAAAAAAAAAAAAAAAAAAAAAAAAAAAAAAAAAAAAAAAAAAEAAAAAAAEAAAAAAAEAAAAAAAAAAAAAAAAAAAAAAAAAAQEAAAEAAAAAAAAAAAAAAAAAAAAAAQAAAAAAAAAAAAEAAAAAAAAAAAAAAAABAAAAAAAAAAAAAAAAAQAAAAAAAAAAAAAAAAAAAAAAAAAAAAAAAAAAAAAAAQEAAAAAAAEAAAAAAAAAAAAAAAAAAAAAAAAAAAAAAAAAAAAAAAAAAAAAAAAAAAAAAAAAAAABAAAAAAAAAAAAAQAAAAAAAAAAAAAAAAAAAAEAAAAAAAAAAAAAAAAAAAAAAAAAAAAAAAAAAAAAAAAAAAAAAAAAAAAAAAAAAAAAAAABAAAAAAAAAAAAAAAAAAAAAAAAAAABAAAAAAAAAAAAAAAAAAAAAAAAAAAAAAAAAAAAAAAAAAAAAAAAAAAAAAAAAAAAAAAAAAAAAAAAAAEAAAEAAAAAAAAAAAAAAAAAAAABAAAAAAAAAQAAAAAAAAAAAAAAAAAAAAAAAAAAAAAAAAAAAAAAAAAAAAAAAAAAAAAAAQAAAAAAAAAAAAAAAAAAAAAAAAAAAAAAAAAAAAEAAAAAAAAAAAAAAAAAAAAAAAAAAAAAAAAAAAAAAAAAAAAAAAEAAAAAAAAAAAAAAAABAAAAAAAAAAAAAAAAAAAAAAAAAAAAAAAAAAAAAAAAAAAAAAAAAAAAAAAAAAAAAAAAAAAAAAABAAAAAAEAAAAAAAAAAAAAAAAAAAAAAAAAAAAAAAAAAAAAAAAAAAAAAAAAAAAAAAAAAAAAAAAAAAAAAAAAAAAAAAAAAAAAAAAAAAAAAAAAAAAAAAAAAAEAAAAAAQAAAAAAAAAAAAAAAQAAAAAAAAAAAAAAAAAAAAAAAAAAAAAAAAAAAAAAAAAAAAAAAAAAAAAAAAAAAAAAAAAAAAEAAAAAAAAAAAAAAQAAAAAAAAAAAAAAAAAAAAAAAAAAAAAAAAAAAAABAAAAAAAAAAABAAAAAAAAAAAAAAAAAAAAAAAAAAAAAQAAAAAAAAAAAAAAAAABAAAAAAEAAAABAAAAAAAAAAAAAAAAAAAAAAAAAAAAAAAAAAAAAAAAAAAAAAAAAAAAAAAAAAAAAQAAAAAAAAAAAAAAAAAAAAAAAAAAAAAAAAAAAAAAAAAAAAAAAAAAAAAAAAAAAAAAAAAAAAAAAQAAAAAAAAAAAAAAAQAAAAEAAAABAQAAAAAAAQAAAAAAAAAAAAAAAAAAAAAAAAAAAAAAAAAAAAAAAAAAAAAAAAAAAAAAAAAAAAAAAAAAAAAAAAAAAAAAAAAAAAAAAAAAAAAAAAAAAAAAAAAAAAAAAAAAAAAAAAAAAAAAAAAAAAAAAAAAAAAAAAAAAAAAAAAAAAAAAAAAAAAAAAAAAAAAAAAAAAAAAAAAAAAAAAAAAAAAAAAAAAAAAAAAAAAAAAAAAAAAAAAAAAAAAAAAAAAAAAAAAAAAAAAAAAAAAAAAAAAAAAAAAAAAAAABAAAAAAAAAAABAAEAAAAAAAAAAAAAAAEAAAAAAAAAAQAAAAAAAAAAAAAAAAAAAAAAAAAAAAAAAAAAAAAAAAAAAAAAAAAAAAAAAAABAAAAAAAAAAEAAAAAAQAAAAAAAAAAAAAAAAAAAAAAAAAAAAABAAAAAAAAAAAAAAAAAAAAAAAAAAAAAAAAAAAAAAAAAAAAAAAAAAAAAAAAAAAAAAAAAAAAAAAAAAAAAAAAAAAAAAAAAAAAAAAAAAAAAAAAAAAAAAAAAAAAAAAAAAABAAAAAAAAAAAAAAAAAAAAAAAAAAAAAQAAAAAAAAAAAAAAAAAAAAAAAAAAAAAAAAEAAAAAAQAAAAAAAAAAAAAAAAAAAAAAAAAAAAAAAAAAAAAAAAAAAAAAAAAAAAAAAAABAAAAAAAAAAAAAQAAAAAAAAAAAAAAAAAAAAAAAAAAAAAAAAAAAAAAAAAAAAAAAAAAAAAAAAABAAAAAAAAAAAAAAAAAAAAAAAAAAAAAAAAAAAAAAABAAAAAAAAAAAAAAAAAAAAAAAAAAAAAAAAAAAAAAAAAAAAAAAAAAAAAAAAAAAAAAAAAAAAAAAAAAEAAAAAAAABAAAAAAAAAAAAAAAAAAAAAAAAAAAAAAAAAAAAAAAAAAAAAQAAAAAAAAAAAAAAAAAAAAAAAAAAAAAAAAAAAAAAAAAAAAAAAAAAAAEAAAAAAAAAAAAAAAAAAAAAAQAAAAAAAAAAAAAAAAEAAAAAAAAAAAAAAAABAAAAAAAAAAAAAAAAAQAAAAAAAAAAAAAAAAAAAAAAAAAAAAAAAAAAAAAAAAAAAAAAAAAAAAAAAAAAAQAAAAAAAAAAAAAAAAAAAAAAAAAAAAAAAAAAAAAAAAAAAAAAAAEAAAAAAAAAAAAAAAAAAAAAAAAAAAABAAAAAAAAAAAAAAAAAAAAAAAAAAAAAAAAAAAAAAAAAAAAAAAAAAAAAAAAAAEAAAAAAAAAAAAAAAAAAAAAAAAAAAAAAAAAAAEAAAAAAAAAAAAAAAABAAEAAAAAAAAAAAAAAAAAAAAAAAAAAAAAAAAAAAAAAAAAAAAAAAAAAAAAAAAAAQAAAAAAAAAAAAAAAAAAAAAAAAAAAAAAAAAAAAAAAAAAAAAAAAABAAAAAAAAAAAAAAAAAAAAAQAAAAAAAAAAAAAAAAAAAAAAAAAAAAAAAAAAAAAAAAAAAAAAAAAAAAAAAAAAAAAAAAAAAAEAAAAAAAAAAAAAAAAAAAAAAAAAAAAAAQAAAAABAAAAAAAAAAAAAAAAAAAAAAAAAAAAAAAAAAAAAQAAAAAAAAAAAAAAAAABAAAAAAAAAAAAAAAAAAAAAAAAAAAAAAAAAAAAAAAAAAAAAAAAAAAAAAAAAAAAAAAAAAAAAAAAAAAAAAEAAAABAAAAAAAAAAAAAAAAAAAAAAAAAAAAAQAAAAAAAAAAAAAAAAAAAAAAAAAAAAAAAAAAAAAAAAAAAAAAAAEAAAAAAAAAAAAAAAAAAAEAAAAAAAAAAAAAAAAAAAAAAQAAAAABAAAAAAAAAAABAAAAAAAAAAAAAAAAAAAAAAABAAABAAAAAAAAAAAAAAAAAAAAAAAAAAAAAAAAAAABAAAAAAAAAAAAAAAAAAAAAAAAAAAAAAAAAAAAAAAAAAAAAAAAAAAAAAAAAAAAAAAAAAAAAAAAAAAAAAAAAAAAAAAAAAABAAAAAAABAAABAAAAAAAAAAAAAAAAAAAAAAAAAAAAAAAAAAEAAAAAAAAAAAAAAAAAAAAAAAAAAAAAAAAAAAAAAAAAAAAAAAAAAAAAAAAAAAAAAAAAAAAAAAAAAAAAAAAAAAAAAAAAAAAAAAAAAAAAAAAAAAAAAAAAAAAAAAAAAQAAAAAAAAAAAAAAAAAAAAAAAAAAAAAAAAAAAAAAAAAAAAAAAAAAAAAAAQAAAAAAAAEAAAAAAAEAAAAAAAAAAAAAAQAAAAAAAAAAAAAAAAAAAAAAAAAAAAAAAAAAAAAAAAAAAQAAAAAAAAAAAAAAAAAAAAAAAAAAAAAAAAAAAAAAAAABAAAAAAAAAAAAAAAAAAAAAQAAAAABAAAAAAAAAAAAAAAAAAAAAAEBAAAAAAAAAAAAAAAAAAAAAAAAAAAAAAAAAQAAAAAAAAAAAAAAAAAAAAAAAAAAAAAAAAAAAAAAAAAAAAAAAAAAAAAAAAAAAAAAAAAAAAAAAAABAAAAAAAAAAAAAAAAAAAAAAAAAAAAAAAAAAAAAAAAAQEAAAABAAAAAAAAAAAAAAAAAAAAAAAAAAAAAAAAAAAAAAAAAAAAAAAAAAEAAAAAAAAAAAAAAAAAAAAAAAAAAAAAAAAAAAAAAAAAAAAAAAAAAAAAAAAAAAAAAAAAAAAAAAAAAAAAAAAAAAAAAAAAAAAAAAAAAAAAAAAAAAAAAQAAAAAAAAAAAAAAAAAAAAAAAAAAAAAAAAAAAAAAAAAAAAAAAAAAAAAAAAAAAAAAAAEAAAAAAAAAAAAAAAAAAAAAAAAAAAAAAAAAAAAAAAAAAAABAAAAAAAAAAAAAAEAAAEAAAAAAAAAAAAAAQAAAAAAAAAAAAAAAAAAAAAAAAAAAAAAAAABAAAAAAAAAAAAAAAAAAAAAAAAAAAAAAAAAAAAAAAAAAAAAAAAAAAAAAAAAAAAAAAAAAAAAAAAAAAAAAAAAAAAAAAAAAAAAAAAAAABAAAAAAEAAAAAAAAAAAAAAAAAAAAAAAEAAAAAAAAAAAAAAAAAAAAAAAAAAAAAAAAAAAAAAQAAAAAAAAAAAAAAAAAAAAAAAAAAAAAAAAAAAAAAAAAAAQAAAAAAAAAAAAAAAAAAAAAAAAAAAQAAAAAAAAAAAAAAAAAAAAEAAAAAAAAAAAAAAAAAAAAAAAAAAAAAAAAAAAAAAAEAAAAAAAAAAAAAAAABAAAAAAAAAAAAAAAAAAAAAAAAAAAAAAAAAAAAAAAAAAAAAAAAAAAAAAAAAAAAAAAAAAABAAAAAAAAAAAAAAAAAAAAAAAAAAAAAAAAAAAAAAAAAAAAAAAAAAAAAAAAAAAAAAAAAAAAAAAAAAAAAAAAAAAAAAAAAAAAAAAAAAAAAAAAAAAAAAAAAAAAAAAAAAAAAAAAAAAAAAAAAAAAAAAAAAAAAAAAAAEAAAAAAAAAAAAAAAAAAAAAAAAAAAAAAAAAAAAAAAAAAAEAAAAAAAAAAAABAAAAAAAAAAAAAAAAAAAAAAAAAQEAAAAAAAAAAAAAAAAAAAAAAAAAAAAAAAAAAAAAAAAAAAAAAAAAAAAAAAAAAAAAAAAAAAAAAAABAAAAAAAAAAAAAAAAAAAAAAAAAAAAAAAAAAABAAAAAAABAAAAAAAAAAAAAAAAAAAAAAAAAQAAAAAAAAAAAAAAAAAAAAAAAAABAAAAAAAAAAAAAAAAAAAAAAAAAAAAAAEAAAAAAAAAAAAAAAAAAAAAAAAAAAAAAAAAAAEAAAEAAAAAAAEAAAEAAAAAAAAAAAAAAAAAAAABAAAAAAAAAAAAAAAAAAAAAAAAAAAAAAAAAAAAAAAAAAAAAAAAAAAAAAAAAAAAAAAAAAAAAAAAAAAAAAAAAAEAAAAAAAAAAAAAAAAAAQAAAAAAAAAAAAAAAAAAAAAAAQAAAAAAAAAAAAAAAAAAAAAAAAEAAAAAAAAAAAAAAAAAAAAAAAAAAAAAAAAAAAAAAAAAAAEAAAAAAAAAAAAAAAAAAAAAAAAAAAAAAAAAAAAAAAAAAAAAAAAAAAAAAAAAAAAAAAAAAAAAAAAAAAAAAAAAAAAAAAAAAAAAAAAAAAAAAAAAAAAAAAAAAAAAAAAAAAAAAAAAAAAAAAAAAQAAAAAAAAAAAAAAAAAAAAAAAAAAAAAAAAAAAAAAAAAAAQAAAAAAAAAAAAAAAAAAAAAAAAABAAAAAAAAAAAAAAAAAAAAAAAAAAAAAAAAAAABAAAAAAAAAAAAAAAAAAAAAAAAAAAAAQABAAAAAAAAAAAAAAAAAAAAAAAAAAAAAAAAAAAAAQAAAQAAAAAAAAEAAAAAAAAAAAAAAAAAAAEAAAAAAAAAAAAAAAAAAAAAAQAAAAABAAAAAAAAAAAAAAAAAAAAAAAAAAAAAAAAAAAAAAABAAAAAAAAAAAAAAEAAAAAAAAAAAAAAAAAAAAAAAAAAAAAAAAAAAAAAAAAAAAAAAAAAAAAAAAAAAAAAAAAAAAAAAAAAAAAAAAAAQAAAAAAAAAAAAAAAAAAAAAAAAEAAAAAAQAAAAAAAAAAAAAAAAAAAAAAAAAAAAAAAAAAAAAAAAAAAAAAAAAAAQAAAAAAAAABAQAAAAAAAAAAAAAAAQAAAAAAAAAAAAAAAAAAAAAAAAAAAAAAAAAAAAAAAAEAAAAAAAAAAAAAAAAAAAAAAAAAAAAAAAAAAAAAAAAAAAAAAAAAAAAAAAAAAAAAAAAAAAAAAAAAAAAAAAAAAQAAAAABAAAAAAAAAAAAAAAAAAAAAAAAAAAAAAAAAAAAAAAAAAAAAAAAAAAAAAAAAQAAAAAAAAAAAAAAAAAAAAAAAAAAAAAAAAAAAAAAAAAAAAAAAAAAAAAAAQAAAAAAAAAAAAAAAAAAAAAAAAAAAAAAAAABAAAAAAAAAAEAAAAAAAAAAAAAAAAAAAEAAAABAAAAAAAAAAAAAAAAAAAAAAAAAAAAAAAAAAAAAQAAAAAAAAAAAAAAAAAAAAAAAAAAAQAAAAAAAAEAAAAAAAAAAAAAAAAAAAAAAAEAAAAAAAAAAAAAAAAAAAAAAAAAAAAAAAAAAAAAAAAAAAAAAAAAAAAAAAAAAAAAAAAAAAAAAAABAAAAAAAAAAAAAAAAAAAAAAAAAAAAAQAAAAAAAAAAAAAAAAAAAAAAAAABAAAAAAAAAAAAAAAAAAAAAAAAAAAAAAAAAAAAAAAAAAAAAAAAAAAAAAABAAAAAAAAAAAAAAAAAAAAAAAAAAAAAAAAAAAAAQAAAAAAAAAAAAAAAAAAAAAAAAAAAAAAAAAAAAEAAAAAAAAAAAAAAAAAAAAAAAAAAAAAAAAAAAAAAAAAAAAAAAAAAAAAAQAAAAABAAAAAAAAAAAAAAAAAAAAAAAAAAAAAAAAAQAAAAAAAAAAAAAAAAAAAAAAAAAAAAAAAAAAAAAAAAAAAAAAAAAAAAAAAAAAAAAAAAAAAAAAAAABAAAAAAAAAAAAAAAAAAEAAAAAAAAAAAAAAAABAAAAAAAAAAAAAAAAAAABAAAAAAAAAAAAAAAAAAAAAAABAAAAAAAAAAAAAAAAAAEAAAAAAAABAAEAAAABAAAAAAAAAAAAAAAAAAAAAAAAAQAAAAAAAAAAAAAAAAAAAAAAAAAAAAAAAAAAAAAAAAAAAAAAAAAAAAAAAAABAAAAAAABAAAAAQAAAAAAAAAAAAAAAAAAAQAAAAAAAAEAAAAAAAAAAAAAAAAAAAAAAAAAAAAAAAAAAAAAAAAAAAAAAAAAAAAAAAAAAAAAAAAAAAABAQAAAAAAAAAAAAAAAAAAAAAAAAAAAAAAAAAAAAAAAAAAAAAAAAAAAAAAAAAAAAAAAAAAAAAAAAAAAAAAAAAAAAEAAAAAAAAAAAAAAAAAAAAAAAAAAAAAAAAAAAAAAQAAAAAAAAAAAAAAAAAAAAAAAAAAAAAAAAAAAAABAAAAAAAAAAAAAAAAAAAAAAEAAAAAAAAAAAAAAAAAAAAAAAAAAQAAAAAAAAAAAAAAAAAAAAAAAAABAAAAAAAAAAAAAAAAAAAAAAAAAAAAAAAAAAAAAAAAAAAAAAEAAAEAAAAAAAAAAAAAAAAAAAAAAAAAAAAAAAAAAAAAAAAAAAAAAAAAAQAAAAAAAAAAAAAAAAAAAAAAAAAAAAAAAAAAAAAAAAAAAAABAAAAAAAAAQAAAAAAAAAAAAAAAAAAAAAAAAAAAAAAAAAAAAAAAAAAAAAAAAAAAAAAAAEAAAAAAAAAAAAAAAAAAAAAAAAAAQABAAAAAAABAAAAAAAAAAAAAAAAAAAAAAAAAQAAAAAAAAAAAAAAAAABAQAAAAAAAAAAAAAAAAAAAQAAAAAAAAAAAQAAAAAAAAAAAQAAAAABAAAAAAAAAAAAAAAAAAAAAAAAAAAAAAAAAAAAAAAAAAAAAAAAAAAAAAABAAAAAAAAAAAAAAAAAAAAAAAAAAAAAAAAAQAAAAAAAAAAAAAAAAAAAAAAAAAAAAAAAAAAAAAAAAAAAAAAAQEAAAAAAAAAAAAAAQAAAAAAAAAAAAAAAAAAAAAAAAAAAAAAAAAAAAAAAAAAAAAAAAAAAAAAAAAAAAAAAAAAAAAAAAAAAAAAAAEAAAAAAAAAAAAAAAAAAAAAAAAAAAAAAAAAAAAAAAAAAAAAAAAAAAAAAAAAAAEAAAAAAAAAAAAAAAEAAAAAAAAAAAAAAAAAAAAAAQAAAAAAAAAAAAAAAAAAAAAAAAAAAAAAAAAAAAAAAAAAAAAAAAAAAQAAAAAAAAAAAAEAAAAAAAAAAAAAAAAAAAAAAAAAAAAAAAAAAQAAAAAAAAAAAAAAAAAAAAAAAAAAAAAAAAAAAAAAAAAAAAAAAAAAAAAAAAAAAAAAAAAAAAAAAAAAAAAAAAAAAAAAAAAAAAABAAAAAAAAAAAAAAAAAAAAAAAAAAAAAAAAAAAAAAAAAAAAAAAAAAAAAAAAAAAAAAAAAAAAAAAAAAAAAAAAAAAAAAAAAAAAAAABAAAAAAAAAAAAAAAAAAAAAAAAAAAAAAAAAAAAAAAAAAABAAAAAAAAAAAAAAAAAAAAAAAAAAAAAAAAAAAAAAAAAAAAAAAAAAAAAAAAAAAAAAAAAAAAAAAAAAAAAAAAAAAAAAAAAAAAAAAAAAAAAAAAAAAAAAAAAAABAAAAAAAAAAAAAAAAAAEAAAAAAAAAAAAAAAEAAAAAAAAAAAAAAAAAAAAAAAAAAAAAAAAAAAAAAAAAAAAAAAAAAAAAAAAAAAAAAAAAAAAAAAAAAAAAAAAAAAEAAAABAAAAAAAAAAAAAAAAAAAAAAAAAAAAAAAAAAAAAAAAAAAAAAEAAAAAAAAAAAAAAAAAAAAAAAAAAAAAAAAAAAAAAAAAAAAAAAAAAAAAAAAAAAAAAAABAAAAAAAAAAAAAAAAAAAAAQAAAAAAAQAAAAAAAAAAAAAAAAAAAAAAAAAAAAAAAAAAAAAAAAAAAAAAAAAAAAAAAAAAAAAAAAAAAAAAAAAAAAAAAAAAAAAAAAAAAAEAAAAAAAAAAAAAAAAAAAAAAAAAAAAAAAAAAAAAAAAAAAAAAAAAAAAAAAAAAAAAAAAAAAAAAAAAAAAAAAAAAAAAAAAAAAAAAAAAAAAAAAEBAQAAAAAAAAAAAAAAAAAAAAAAAAAAAAAAAAEBAAAAAAAAAAAAAAAAAAAAAAAAAAAAAAAAAAAAAAAAAAAAAAAAAAAAAAAAAAAAAAAAAAAAAAAAAAAAAAAAAAAAAAAAAAAAAAAAAAAAAAAAAAAAAAAAAAAAAAAAAAAAAAAAAAAAAQAAAAAAAAAAAAAAAAAAAAABAAEBAAEAAAAAAAABAAAAAAAAAAAAAAAAAAAAAAAAAAAAAAAAAQAAAAAAAAAAAQAAAAAAAAAAAAAAAAAAAAAAAAAAAAAAAAAAAAABAAAAAAAAAAAAAAAAAAAAAAEAAAAAAAAAAAAAAAAAAAAAAAAAAAAAAQAAAAAAAAAAAAAAAAAAAAAAAAAAAAABAAAAAAAAAAAAAAAAAAAAAAAAAAAAAAAAAAAAAAAAAAAAAQAAAAAAAAAAAAAAAAAAAAAAAAAAAAAAAAAAAAAAAAAAAAAAAAAAAAAAAAAAAAAAAAAAAAAAAAAAAAAAAAAAAAAAAAAAAAAAAQAAAAAAAAAAAAAAAAAAAAAAAQAAAAAAAAAAAAAAAAAAAAAAAAAAAAAAAAAAAAAAAAAAAAAAAAAAAAAAAAAAAAAAAAAAAAAAAAAAAAAAAAAAAAAAAAEAAAAAAAAAAAAAAQAAAAAAAAAAAAAAAAAAAAAAAAAAAAAAAAAAAAAAAAAAAAAAAAAAAAAAAAAAAAAAAAAAAAAAAAAAAAAAAAAAAAAAAAAAAAAAAAAAAAAAAAAAAQAAAAAAAAAAAAAAAAAAAAAAAAAAAAAAAAAAAAAAAAAAAAAAAQAAAAAAAAAAAAAAAAAAAAAAAAAAAAAAAAAAAAAAAAAAAAAAAAAAAAAAAAAAAAAAAAAAAAAAAAAAAAAAAAAAAAAAAAAAAAAAAAAAAAAAAAAAAAAAAAAAAAAAAAAAAAAAAAAAAAAAAAAAAAAAAAAAAAAAAAAAAAAAAAAAAAAAAAAAAAAAAAAAAAAAAAAAAAAAAAABAAAAAAAAAAAAAAAAAAAAAAAAAAAAAAAAAQAAAAAAAAAAAQAAAAAAAAEAAQAAAAAAAAAAAAAAAAAAAAAAAQABAAAAAAAAAAAAAAAAAAAAAAAAAAAAAAAAAAAAAAAAAAAAAAAAAAAAAAAAAAAAAAAAAQAAAAABAAAAAAAAAAAAAAAAAAAAAAAAAAEAAAAAAAAAAAABAAAAAAAAAAAAAAAAAAABAAAAAAAAAAAAAAAAAAAAAAAAAAAAAAAAAAAAAAAAAAAAAAAAAAAAAAEAAAAAAAAAAAAAAAAAAAAAAAAAAAAAAAAAAAAAAAAAAAEAAAAAAAAAAAAAAAAAAAAAAAAAAAAAAAAAAAAAAAAAAAAAAAAAAAAAAAAAAAAAAAAAAAAAAAAAAAAAAAAAAAAAAAAAAAABAAAAAAAAAAAAAAAAAAAAAAAAAAABAAAAAAAAAAAAAAAAAAAAAAEAAAAAAAAAAAAAAAAAAAAAAAAAAAAAAAAAAAAAAAAAAAAAAAAAAAAAAAAAAQAAAAAAAAAAAAAAAAAAAAAAAAAAAAAAAAAAAAAAAAAAAAAAAAAAAAAAAAAAAAABAAABAAAAAAAAAAAAAAAAAAAAAAAAAAAAAAAAAAAAAAAAAAAAAAAAAAAAAAAAAAAAAAAAAAAAAAAAAAABAAAAAAAAAAAAAAAAAAAAAAAAAAEAAQAAAAAAAAAAAAAAAAAAAAAAAAAAAAAAAAABAAAAAAAAAAAAAAAAAAEAAAAAAAAAAAAAAQAAAAAAAAAAAAAAAAAAAAABAAAAAAAAAAAAAAAAAAAAAAAAAAAAAAAAAAABAAAAAAAAAAAAAAAAAAAAAAAAAAAAAAAAAAAAAAAAAAAAAAAAAAAAAAAAAAAAAAAAAAAAAAAAAAAAAAAAAAAAAAAAAAAAAAAAAAAAAAABAAAAAAAAAAAAAAAAAAAAAAAAAAAAAAAAAAAAAAAAAAAAAAAAAAAAAAEAAAAAAAAAAAAAAAAAAAAAAAAAAQAAAAAAAAAAAAAAAAAAAAAAAAAAAAAAAAAAAAAAAAAAAAAAAAAAAAAAAAAAAQAAAAAAAAEAAAAAAAAAAAAAAAAAAAAAAAAAAAABAAAAAAAAAAAAAAAAAAAAAAAAAAAAAAAAAAABAAAAAAAAAAAAAAAAAAAAAQAAAAAAAAAAAAAAAAAAAAAAAAAAAAAAAAAAAAAAAAAAAAAAAAAAAAAAAAAAAAAAAAAAAAAAAAAAAAAAAAAAAAAAAAAAAAAAAAAAAAAAAQAAAAAAAAAAAAAAAAAAAAAAAQAAAAAAAAAAAAEAAAAAAAAAAAAAAAAAAAAAAAAAAQAAAAAAAAAAAAAAAAAAAAAAAAAAAAEAAAAAAAAAAAAAAAAAAAAAAAAAAAABAAAAAAAAAAAAAAAAAAAAAAAAAAAAAAAAAAAAAQAAAAAAAAAAAAAAAAEAAAAAAAAAAAAAAAAAAAEAAAAAAAAAAAAAAAAAAAAAAAAAAAAAAAAAAAAAAAAAAAAAAAAAAAAAAAAAAAAAAAAAAAAAAAAAAAAAAQAAAAEAAAEAAAEAAAAAAAAAAAABAAAAAQAAAQAAAAAAAAAAAAAAAAAAAAAAAAAAAAAAAQAAAAAAAAAAAAAAAAAAAAAAAAAAAAAAAAAAAAAAAAEAAAAAAAAAAAAAAAAAAAAAAAAAAAAAAAAAAAAAAAAAAAAAAAAAAAAAAAAAAAAAAAAAAAAAAAAAAAAAAAABAAAAAAAAAAAAAAAAAAAAAAAAAAAAAAEAAAAAAAAAAAAAAAAAAAEAAQAAAAABAAAAAAAAAAAAAAAAAAAAAAAAAAAAAAAAAAAAAQAAAAAAAAAAAAAAAAAAAAAAAAAAAAAAAAAAAAAAAAAAAAAAAAAAAAAAAAAAAAAAAAAAAAAAAAAAAAAAAAAAAAAAAAAAAAAAAAAAAQAAAAAAAAAAAAAAAAAAAAAAAAAAAAAAAAAAAAAAAAAAAAAAAAAAAAAAAAAAAAAAAAAAAAAAAAAAAAAAAAAAAAAAAAAAAAAAAAAAAAAAAAAAAAAAAAAAAAAAAAAAAAEBAAAAAAAAAAAAAAAAAAAAAAAAAAAAAAAAAAAAAAAAAAAAAAAAAAAAAAAAAAAAAAAAAAAAAAAAAAABAAAAAAAAAAAAAAAAAAEAAAAAAAAAAAAAAAEAAAAAAAAAAAAAAAAAAAAAAAAAAAAAAAAAAAAAAAAAAAAAAAAAAAAAAAAAAAAAAAAAAAAAAAAAAAAAAAAAAAAAAAAAAAAAAAAAAAAAAAAAAAAAAAAAAQAAAAAAAAAAAAAAAAABAAAAAAAAAAAAAAAAAAAAAAAAAAAAAAAAAAAAAAAAAAAAAAAAAAAAAAAAAAAAAAAAAAAAAAAAAAAAAAAAAAAAAAAAAAAAAAAAAAAAAAAAAAAAAAAAAAAAAAAAAAAAAAAAAQAAAAAAAAAAAAAAAAAAAAAAAAAAAAAAAAAAAQAAAAAAAAAAAAAAAAAAAAAAAAAAAAAAAAAAAAAAAAAAAAAAAAAAAAEAAAAAAQAAAAAAAAAAAAAAAQAAAAAAAAAAAAAAAAAAAAAAAAAAAAAAAAAAAAAAAQAAAAAAAAAAAAAAAAAAAAAAAAAAAAAAAAAAAAAAAAAAAAAAAAAAAAAAAAAAAAAAAAAAAAAAAAAAAAAAAAAAAAAAAAABAAEAAAAAAAABAAAAAAAAAAAAAAAAAAAAAAAAAAAAAAAAAAAAAAAAAAAAAAAAAAAAAAAAAAEAAAAAAAAAAAAAAAAAAAAAAAAAAAAAAAAAAAAAAAAAAAAAAAAAAAAAAAAAAAABAAAAAQABAAAAAAAAAAAAAAAAAAAAAAAAAAAAAAAAAAAAAAABAAAAAAAAAAAAAAAAAAAAAAAAAAABAAAAAAAAAAAAAAAAAAAAAAAAAAABAAAAAQAAAAAAAAAAAAAAAAAAAAAAAAAAAAAAAAEAAAAAAAAAAAAAAAAAAAAAAAABAAAAAAAAAAAA",
          "dtype": "i1"
         },
         "x0": " ",
         "xaxis": "x",
         "y": {
          "bdata": "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",
          "dtype": "f8"
         },
         "y0": " ",
         "yaxis": "y"
        }
       ],
       "layout": {
        "height": 500,
        "legend": {
         "tracegroupgap": 0
        },
        "template": {
         "data": {
          "bar": [
           {
            "error_x": {
             "color": "#2a3f5f"
            },
            "error_y": {
             "color": "#2a3f5f"
            },
            "marker": {
             "line": {
              "color": "#E5ECF6",
              "width": 0.5
             },
             "pattern": {
              "fillmode": "overlay",
              "size": 10,
              "solidity": 0.2
             }
            },
            "type": "bar"
           }
          ],
          "barpolar": [
           {
            "marker": {
             "line": {
              "color": "#E5ECF6",
              "width": 0.5
             },
             "pattern": {
              "fillmode": "overlay",
              "size": 10,
              "solidity": 0.2
             }
            },
            "type": "barpolar"
           }
          ],
          "carpet": [
           {
            "aaxis": {
             "endlinecolor": "#2a3f5f",
             "gridcolor": "white",
             "linecolor": "white",
             "minorgridcolor": "white",
             "startlinecolor": "#2a3f5f"
            },
            "baxis": {
             "endlinecolor": "#2a3f5f",
             "gridcolor": "white",
             "linecolor": "white",
             "minorgridcolor": "white",
             "startlinecolor": "#2a3f5f"
            },
            "type": "carpet"
           }
          ],
          "choropleth": [
           {
            "colorbar": {
             "outlinewidth": 0,
             "ticks": ""
            },
            "type": "choropleth"
           }
          ],
          "contour": [
           {
            "colorbar": {
             "outlinewidth": 0,
             "ticks": ""
            },
            "colorscale": [
             [
              0,
              "#0d0887"
             ],
             [
              0.1111111111111111,
              "#46039f"
             ],
             [
              0.2222222222222222,
              "#7201a8"
             ],
             [
              0.3333333333333333,
              "#9c179e"
             ],
             [
              0.4444444444444444,
              "#bd3786"
             ],
             [
              0.5555555555555556,
              "#d8576b"
             ],
             [
              0.6666666666666666,
              "#ed7953"
             ],
             [
              0.7777777777777778,
              "#fb9f3a"
             ],
             [
              0.8888888888888888,
              "#fdca26"
             ],
             [
              1,
              "#f0f921"
             ]
            ],
            "type": "contour"
           }
          ],
          "contourcarpet": [
           {
            "colorbar": {
             "outlinewidth": 0,
             "ticks": ""
            },
            "type": "contourcarpet"
           }
          ],
          "heatmap": [
           {
            "colorbar": {
             "outlinewidth": 0,
             "ticks": ""
            },
            "colorscale": [
             [
              0,
              "#0d0887"
             ],
             [
              0.1111111111111111,
              "#46039f"
             ],
             [
              0.2222222222222222,
              "#7201a8"
             ],
             [
              0.3333333333333333,
              "#9c179e"
             ],
             [
              0.4444444444444444,
              "#bd3786"
             ],
             [
              0.5555555555555556,
              "#d8576b"
             ],
             [
              0.6666666666666666,
              "#ed7953"
             ],
             [
              0.7777777777777778,
              "#fb9f3a"
             ],
             [
              0.8888888888888888,
              "#fdca26"
             ],
             [
              1,
              "#f0f921"
             ]
            ],
            "type": "heatmap"
           }
          ],
          "histogram": [
           {
            "marker": {
             "pattern": {
              "fillmode": "overlay",
              "size": 10,
              "solidity": 0.2
             }
            },
            "type": "histogram"
           }
          ],
          "histogram2d": [
           {
            "colorbar": {
             "outlinewidth": 0,
             "ticks": ""
            },
            "colorscale": [
             [
              0,
              "#0d0887"
             ],
             [
              0.1111111111111111,
              "#46039f"
             ],
             [
              0.2222222222222222,
              "#7201a8"
             ],
             [
              0.3333333333333333,
              "#9c179e"
             ],
             [
              0.4444444444444444,
              "#bd3786"
             ],
             [
              0.5555555555555556,
              "#d8576b"
             ],
             [
              0.6666666666666666,
              "#ed7953"
             ],
             [
              0.7777777777777778,
              "#fb9f3a"
             ],
             [
              0.8888888888888888,
              "#fdca26"
             ],
             [
              1,
              "#f0f921"
             ]
            ],
            "type": "histogram2d"
           }
          ],
          "histogram2dcontour": [
           {
            "colorbar": {
             "outlinewidth": 0,
             "ticks": ""
            },
            "colorscale": [
             [
              0,
              "#0d0887"
             ],
             [
              0.1111111111111111,
              "#46039f"
             ],
             [
              0.2222222222222222,
              "#7201a8"
             ],
             [
              0.3333333333333333,
              "#9c179e"
             ],
             [
              0.4444444444444444,
              "#bd3786"
             ],
             [
              0.5555555555555556,
              "#d8576b"
             ],
             [
              0.6666666666666666,
              "#ed7953"
             ],
             [
              0.7777777777777778,
              "#fb9f3a"
             ],
             [
              0.8888888888888888,
              "#fdca26"
             ],
             [
              1,
              "#f0f921"
             ]
            ],
            "type": "histogram2dcontour"
           }
          ],
          "mesh3d": [
           {
            "colorbar": {
             "outlinewidth": 0,
             "ticks": ""
            },
            "type": "mesh3d"
           }
          ],
          "parcoords": [
           {
            "line": {
             "colorbar": {
              "outlinewidth": 0,
              "ticks": ""
             }
            },
            "type": "parcoords"
           }
          ],
          "pie": [
           {
            "automargin": true,
            "type": "pie"
           }
          ],
          "scatter": [
           {
            "fillpattern": {
             "fillmode": "overlay",
             "size": 10,
             "solidity": 0.2
            },
            "type": "scatter"
           }
          ],
          "scatter3d": [
           {
            "line": {
             "colorbar": {
              "outlinewidth": 0,
              "ticks": ""
             }
            },
            "marker": {
             "colorbar": {
              "outlinewidth": 0,
              "ticks": ""
             }
            },
            "type": "scatter3d"
           }
          ],
          "scattercarpet": [
           {
            "marker": {
             "colorbar": {
              "outlinewidth": 0,
              "ticks": ""
             }
            },
            "type": "scattercarpet"
           }
          ],
          "scattergeo": [
           {
            "marker": {
             "colorbar": {
              "outlinewidth": 0,
              "ticks": ""
             }
            },
            "type": "scattergeo"
           }
          ],
          "scattergl": [
           {
            "marker": {
             "colorbar": {
              "outlinewidth": 0,
              "ticks": ""
             }
            },
            "type": "scattergl"
           }
          ],
          "scattermap": [
           {
            "marker": {
             "colorbar": {
              "outlinewidth": 0,
              "ticks": ""
             }
            },
            "type": "scattermap"
           }
          ],
          "scattermapbox": [
           {
            "marker": {
             "colorbar": {
              "outlinewidth": 0,
              "ticks": ""
             }
            },
            "type": "scattermapbox"
           }
          ],
          "scatterpolar": [
           {
            "marker": {
             "colorbar": {
              "outlinewidth": 0,
              "ticks": ""
             }
            },
            "type": "scatterpolar"
           }
          ],
          "scatterpolargl": [
           {
            "marker": {
             "colorbar": {
              "outlinewidth": 0,
              "ticks": ""
             }
            },
            "type": "scatterpolargl"
           }
          ],
          "scatterternary": [
           {
            "marker": {
             "colorbar": {
              "outlinewidth": 0,
              "ticks": ""
             }
            },
            "type": "scatterternary"
           }
          ],
          "surface": [
           {
            "colorbar": {
             "outlinewidth": 0,
             "ticks": ""
            },
            "colorscale": [
             [
              0,
              "#0d0887"
             ],
             [
              0.1111111111111111,
              "#46039f"
             ],
             [
              0.2222222222222222,
              "#7201a8"
             ],
             [
              0.3333333333333333,
              "#9c179e"
             ],
             [
              0.4444444444444444,
              "#bd3786"
             ],
             [
              0.5555555555555556,
              "#d8576b"
             ],
             [
              0.6666666666666666,
              "#ed7953"
             ],
             [
              0.7777777777777778,
              "#fb9f3a"
             ],
             [
              0.8888888888888888,
              "#fdca26"
             ],
             [
              1,
              "#f0f921"
             ]
            ],
            "type": "surface"
           }
          ],
          "table": [
           {
            "cells": {
             "fill": {
              "color": "#EBF0F8"
             },
             "line": {
              "color": "white"
             }
            },
            "header": {
             "fill": {
              "color": "#C8D4E3"
             },
             "line": {
              "color": "white"
             }
            },
            "type": "table"
           }
          ]
         },
         "layout": {
          "annotationdefaults": {
           "arrowcolor": "#2a3f5f",
           "arrowhead": 0,
           "arrowwidth": 1
          },
          "autotypenumbers": "strict",
          "coloraxis": {
           "colorbar": {
            "outlinewidth": 0,
            "ticks": ""
           }
          },
          "colorscale": {
           "diverging": [
            [
             0,
             "#8e0152"
            ],
            [
             0.1,
             "#c51b7d"
            ],
            [
             0.2,
             "#de77ae"
            ],
            [
             0.3,
             "#f1b6da"
            ],
            [
             0.4,
             "#fde0ef"
            ],
            [
             0.5,
             "#f7f7f7"
            ],
            [
             0.6,
             "#e6f5d0"
            ],
            [
             0.7,
             "#b8e186"
            ],
            [
             0.8,
             "#7fbc41"
            ],
            [
             0.9,
             "#4d9221"
            ],
            [
             1,
             "#276419"
            ]
           ],
           "sequential": [
            [
             0,
             "#0d0887"
            ],
            [
             0.1111111111111111,
             "#46039f"
            ],
            [
             0.2222222222222222,
             "#7201a8"
            ],
            [
             0.3333333333333333,
             "#9c179e"
            ],
            [
             0.4444444444444444,
             "#bd3786"
            ],
            [
             0.5555555555555556,
             "#d8576b"
            ],
            [
             0.6666666666666666,
             "#ed7953"
            ],
            [
             0.7777777777777778,
             "#fb9f3a"
            ],
            [
             0.8888888888888888,
             "#fdca26"
            ],
            [
             1,
             "#f0f921"
            ]
           ],
           "sequentialminus": [
            [
             0,
             "#0d0887"
            ],
            [
             0.1111111111111111,
             "#46039f"
            ],
            [
             0.2222222222222222,
             "#7201a8"
            ],
            [
             0.3333333333333333,
             "#9c179e"
            ],
            [
             0.4444444444444444,
             "#bd3786"
            ],
            [
             0.5555555555555556,
             "#d8576b"
            ],
            [
             0.6666666666666666,
             "#ed7953"
            ],
            [
             0.7777777777777778,
             "#fb9f3a"
            ],
            [
             0.8888888888888888,
             "#fdca26"
            ],
            [
             1,
             "#f0f921"
            ]
           ]
          },
          "colorway": [
           "#636efa",
           "#EF553B",
           "#00cc96",
           "#ab63fa",
           "#FFA15A",
           "#19d3f3",
           "#FF6692",
           "#B6E880",
           "#FF97FF",
           "#FECB52"
          ],
          "font": {
           "color": "#2a3f5f"
          },
          "geo": {
           "bgcolor": "white",
           "lakecolor": "white",
           "landcolor": "#E5ECF6",
           "showlakes": true,
           "showland": true,
           "subunitcolor": "white"
          },
          "hoverlabel": {
           "align": "left"
          },
          "hovermode": "closest",
          "mapbox": {
           "style": "light"
          },
          "paper_bgcolor": "white",
          "plot_bgcolor": "#E5ECF6",
          "polar": {
           "angularaxis": {
            "gridcolor": "white",
            "linecolor": "white",
            "ticks": ""
           },
           "bgcolor": "#E5ECF6",
           "radialaxis": {
            "gridcolor": "white",
            "linecolor": "white",
            "ticks": ""
           }
          },
          "scene": {
           "xaxis": {
            "backgroundcolor": "#E5ECF6",
            "gridcolor": "white",
            "gridwidth": 2,
            "linecolor": "white",
            "showbackground": true,
            "ticks": "",
            "zerolinecolor": "white"
           },
           "yaxis": {
            "backgroundcolor": "#E5ECF6",
            "gridcolor": "white",
            "gridwidth": 2,
            "linecolor": "white",
            "showbackground": true,
            "ticks": "",
            "zerolinecolor": "white"
           },
           "zaxis": {
            "backgroundcolor": "#E5ECF6",
            "gridcolor": "white",
            "gridwidth": 2,
            "linecolor": "white",
            "showbackground": true,
            "ticks": "",
            "zerolinecolor": "white"
           }
          },
          "shapedefaults": {
           "line": {
            "color": "#2a3f5f"
           }
          },
          "ternary": {
           "aaxis": {
            "gridcolor": "white",
            "linecolor": "white",
            "ticks": ""
           },
           "baxis": {
            "gridcolor": "white",
            "linecolor": "white",
            "ticks": ""
           },
           "bgcolor": "#E5ECF6",
           "caxis": {
            "gridcolor": "white",
            "linecolor": "white",
            "ticks": ""
           }
          },
          "title": {
           "x": 0.05
          },
          "xaxis": {
           "automargin": true,
           "gridcolor": "white",
           "linecolor": "white",
           "ticks": "",
           "title": {
            "standoff": 15
           },
           "zerolinecolor": "white",
           "zerolinewidth": 2
          },
          "yaxis": {
           "automargin": true,
           "gridcolor": "white",
           "linecolor": "white",
           "ticks": "",
           "title": {
            "standoff": 15
           },
           "zerolinecolor": "white",
           "zerolinewidth": 2
          }
         }
        },
        "title": {
         "text": "BMI & Stroke Status",
         "x": 0.3,
         "y": 0.9
        },
        "violinmode": "group",
        "width": 700,
        "xaxis": {
         "anchor": "y",
         "domain": [
          0,
          1
         ],
         "title": {
          "text": "Stroke Status"
         }
        },
        "yaxis": {
         "anchor": "x",
         "domain": [
          0,
          1
         ],
         "title": {
          "text": "BMI"
         }
        }
       }
      },
      "text/html": [
       "<div>                        <script type=\"text/javascript\">window.PlotlyConfig = {MathJaxConfig: 'local'};</script>\n",
       "        <script charset=\"utf-8\" src=\"https://cdn.plot.ly/plotly-3.0.1.min.js\"></script>                <div id=\"62b90ea0-29fa-4776-84df-ccc607f56e99\" class=\"plotly-graph-div\" style=\"height:500px; width:700px;\"></div>            <script type=\"text/javascript\">                window.PLOTLYENV=window.PLOTLYENV || {};                                if (document.getElementById(\"62b90ea0-29fa-4776-84df-ccc607f56e99\")) {                    Plotly.newPlot(                        \"62b90ea0-29fa-4776-84df-ccc607f56e99\",                        [{\"alignmentgroup\":\"True\",\"box\":{\"visible\":true},\"hovertemplate\":\"Stroke Status=%{x}\\u003cbr\\u003eBMI=%{y}\\u003cextra\\u003e\\u003c\\u002fextra\\u003e\",\"legendgroup\":\"\",\"marker\":{\"color\":\"#008080\"},\"name\":\"\",\"offsetgroup\":\"\",\"orientation\":\"v\",\"scalegroup\":\"True\",\"showlegend\":false,\"x\":{\"dtype\":\"i1\",\"bdata\":\"AAAAAAAAAAAAAAAAAAAAAAAAAAAAAAAAAAEAAAAAAAAAAAAAAAAAAAAAAAAAAAAAAAAAAAAAAAAAAAAAAAEAAAAAAAEAAAAAAAAAAAAAAAAAAAAAAAABAAAAAAAAAAAAAAAAAAAAAAAAAAAAAAAAAAAAAQAAAAAAAAAAAAAAAAAAAAAAAAAAAAAAAAAAAAAAAAAAAAAAAAAAAAABAAABAAAAAAAAAAAAAAAAAAAAAAEAAAAAAAAAAAAAAAAAAAAAAAAAAAAAAAAAAAAAAAAAAAAAAAEAAAAAAAAAAQAAAAABAAAAAAAAAAAAAAAAAAAAAAAAAQAAAAAAAAAAAAAAAAAAAAAAAAAAAAAAAAAAAAAAAAAAAAAAAAAAAAAAAAAAAAAAAAAAAAABAAAAAAAAAAAAAAAAAAAAAAAAAAAAAAABAAAAAAAAAAAAAAAAAAAAAAAAAAAAAAAAAAEAAAAAAAAAAAABAAEAAAAAAAAAAAAAAAAAAAAAAAAAAAAAAAAAAAEAAQAAAAAAAAABAAAAAAAAAAAAAAABAAAAAAAAAAAAAAAAAAAAAAAAAAAAAAEAAAAAAAAAAAAAAAAAAAEAAQAAAAAAAAAAAAAAAAAAAAAAAAAAAAAAAAAAAAAAAAAAAAEAAAAAAAAAAAABAAAAAAAAAAAAAAAAAAAAAAAAAAAAAAEAAAAAAAAAAAAAAAAAAAAAAAAAAAEAAAAAAAABAAAAAAAAAQAAAQAAAAAAAAAAAAAAAAAAAAAAAAAAAAAAAAAAAAAAAAAAAAAAAAABAAAAAAAAAAAAAAAAAAAAAAEAAAAAAAAAAAAAAAAAAAAAAAAAAAAAAAEAAAAAAAAAAAAAAAAAAAAAAAAAAAEAAAABAAAAAAAAAQAAAAAAAAAAAAAAAAAAAAAAAAAAAAAAAAAAAAAAAAAAAAAAAAAAAAAAAAAAAAAAAAAAAAAAAAAAAAAAAAAAAAAAAAAAAAAAAAAAAAAAAAAAAAAAAAAAAAAAAAAAAAAAAAAAAAAAAAAAAAAAAAAAAAAAAAAAAAAAAAAAAAAAAAAAAAAAAAAAAAAAAAAAAQAAAAAAAQAAAAAAAAAAAAAAAAAAAAAAAAEAAAAAAAEAAAAAAAAAAAAAAAAAAAAAAAAAAAAAAAAAAAAAAQAAAAAAAAAAAAAAAAAAAAAAAAEAAAAAAAAAAAAAAAAAAAAAAAEAAAAAAAAAAAAAAAAAAAAAAAAAAAAAAAAAAAAAAAAAAAAAAAAAAAAAAAAAAAAAAAAAAAAAAAEAAAAAAAAAAAAAAAAAAAEAAAAAAAAAAQAAAQAAAAAAAAABAAAAAAAAAAAAAAAAAAAAAAAAAAAAAQAAAAAAAAAAAAAAAAAAAAAAAAAAAAAAAAAAAAAAAQAAAAAAAAAAAAAAAAAAAAAAAAAAAQAAAQAAAAAAAAAAAAEAAAAAAAAAAAAAAAAAAAEAAAAAAAAAAAAAAQAAAAAAAQAAAAAAAAAAAQAAAAAAAAAAAAAAAAAAAAAAAAAAAAAAAAAAAAAAAAAAAAAAAAAAAAAAAAAAAAAAAAAAAAAAAAAAAAAAAAAAAAAAAAAAAAABAAAAAAAAAQAAAAAAAAAAAAAAAAAAAAAAAAABAQABAAAAAAAAAAAAAAAAAAAAAAAAAAAAAAAAAAAAAAAAAAAAAAAAAAEAAAAAAAAAAAAAAAAAAAAAAAEBAAAAAAAAAAAAAAAAAAAAAAAAAAAAAAAAAAAAAAAAAAAAAAAAAAAAAAAAAAAAAAAAAAAAAAAAAAAAAAAAAAAAAAAAAQAAAAAAAAAAAAAAAAAAAAAAAAAAAAAAAAAAAAAAAAAAAAAAAAAAAAAAAAAAAAAAAAAAAAAAAAAAAAAAAAAAAAAAAAAAAAAAAAAAAAAAAAAAAAAAAAAAAAAAAAAAAAAAAAAAAAAAAAAAAAAAAAAAAAAAAQAAAAAAAAAAAAABAAAAAAAAAAAAAAAAAAAAAAAAAAAAAAAAAAAAAAAAAAAAAAAAAAAAAAAAAAAAAAAAAAAAAAAAAAAAAAAAAAAAAAAAAAAAAAAAAAAAAAAAAAAAAAAAAAAAAAAAAAAAAAAAAAAAAAAAAAAAAAAAAAAAAAAAAAAAAAAAAAAAAAAAAAAAAAAAAAAAAAABAAEAAAAAAAAAAAAAAAAAAAAAAAEAAAAAAAAAAAAAAAAAAAAAAAAAAAAAAAAAAAAAAAAAAAAAAAAAAAAAAAAAAAAAAAABAAAAAAAAAAAAAAAAAAAAAAAAAAAAAAAAAAEAAAAAAAAAAAAAAAAAAAAAAAAAAAAAAAAAAAAAAAAAAAAAAAAAAAAAAAAAAAAAAAAAAAAAAAEAAAAAAAAAAAAAAAAAAAABAAAAAAAAAAAAAAAAAAAAAAAAAAAAAAAAAAAAAAAAAAAAAAAAAAAAAAAAAAAAAAAAAAAAAAAAAAEAAAAAAAAAAAAAAAAAAAAAAAAAAAAAAAAAAAAAAAEAAAAAAAAAAAAAAAAAAAAAAAAAAAAAAAAAAAAAAQAAAAAAAAAAAAAAAAAAAAAAAQAAAAAAAAAAAAEAAAAAAAABAAABAAAAAAAAAAAAAAAAAAAAAAAAAAAAAAAAAAAAAAAAAAAAAAAAAAEAAAAAAAABAAAAAAAAAAAAAQAAAAAAAAAAAAAAAAEAAQAAAAAAAAAAAAEAAAAAAAAAAAEAAAAAAAAAAAAAAAAAAAAAAAEAAAAAAAAAAAAAAAAAAAAAAAAAAAAAAAAAAQAAAAAAAAEAAAAAAAEAAAAAAAAAAAAAAAAAAAAAAAAAAAAAAAAAAQAAAAAAAAEAAAAAAAAAAAAAAAAAAQABAAAAAAAAAAAAAAAAAAAAAAAAAAAAAAAAAAAAAAAAAAAAAAAAAAAAAAAAAAAAAQAAAAAAAQAAAQAAAAAAAAAAAAAAAAAAAAAAAAAAAAAAAAEAAAAAAAAAAAAAAAAAAAAAAAAAAAAAAAAAAAAAAAAAAAAAAAAAAAAAAAABAAAAAAAAAAAAAAAAAAAAAAABAAAAAAAAAAAAAAAAAAAAAAAAAAEAAQAAAAAAAQAAAAAAAAAAAAAAAAAAAAAAAAAAAAAAAAAAAAAAAAAAAAAAAAAAAAEAAAAAAAAAAAAAAAAAAAAAAAAAAAAAAAAAAAAAAAAAAAAAAAAAAAAAAAAAAAAAAAAAAAAAAAAAAQAAAAAAAAAAAAEAAAAAAAAAAAAAAAAAAAAAAAAAAAABAAAAAAAAAAAAAAAAAAAAAAAAAAAAAAAAAAAAAAAAAAAAAAAAAAAAAAAAAAAAAAAAAAAAAAAAAAAAAAAAAAAAAAAAAAEAAAAAAAAAAAAAAAAAAAAAAAAAAAAAAAAAAAAAAAAAAAAAAAAAAAAAAAEAAAAAAAAAAAAAAAAAAAAAAAAAAAEAAAAAAAAAAAAAAAEAAAAAAAAAAAAAAAAAAAAAAAAAAAEAAAAAAAAAAAAAAAEAAAAAAAAAAAABAAAAAAAAAAAAAAAAAAAAAQAAAAAAAAAAAAAAAAAAAAAAAAAAAAAAAAAAAAAAAAAAAAAAAAABAAAAAAAAAAAAAAAAAAAAAAAAAAAAAAAAAAAAAAAAAAABAAAAAAAAAQEAAAAAAAAAAAAAAAAAAAAAAAAAAAAAAAAAAAAAAAAAAAAAAAABAAAAAAAAAAAAAAAAAAAAAAAAAAAAAAAAAAAAAAAAAAAAAAAAAAAAAAAAAAAAAAAAAAAAAAAAAAAAAAAAAAAAAAAAAAAAAAAAAAAAAAAAAAAAAAAAAAAAAAABAAEAAAAAAAAAAAAAAAAAAAAAAAAAAAAAAAAAAAAAAAEAAAAAAAAAAAAAAAAAAAABAAAAAAAAAAAAAAABAAAAAAAAAAAAAAAAAAAAAAABAAAAAAAAAAAAAAAAAAAAAAEAAAABAAAAAAAAAAAAAAEAAAAAAAAAAAAAAAAAAAAAAAAAAAAAAAAAAAAAAAEAAAAAAAAAAAAAAAAAAAAAAAAAAAAAAAEAAAAAAAAAAAAAAAAAAAAAAAAAAQAAAAAAAAAAAAAAAAAAAAAAAQAAAAEAAAAAAAAAAAAAAAAAAAEAAAAAAAAAAAAAAAAAAAAAAAAAAAAAAAAAAAAAAAAAAAAAAAAAAAAAAQAAAAAAAAAAAAABAAAAAAAAAAAAAAAAAAAAAAAAAAAAAAAAAAAAAAAAAQAAAAEAAAAAAAAAAAAAAAAAAAAAAAAAAAAAAAAAAAAAAAAAAAAAAAAAAAAAAAAAAAAAAAABAAAAAQAAAAAAAAAAAAAAAAAAAAAAAAAAAAAAAQAAAAAAAAAAAAAAAAABAAAAAAEAAAAAAAAAAAABAAAAAAAAAAAAAAAAAAAAAAAAAAAAAAABAAAAAAEAAAAAAAAAAAAAAAAAAAAAAAAAAAAAAAAAAAAAAAAAAAAAAAEAAAAAAAAAAAAAAAEAAAAAAAAAAAAAAAAAAAAAAAEAAQAAAAAAAAAAAAAAAAAAAAAAAAAAAAAAAAAAAAAAAAAAAAAAAQAAAAABAQAAAAAAAAAAAAAAAAAAAAAAAQAAAAAAAAAAAAAAAAAAAAAAAAAAAAAAAAAAAAAAAAABAAAAAAAAAAAAAAAAAAAAAQAAAQAAAAAAAAAAAAAAAAAAAAAAAAAAAAAAAAABAAAAAAEAAAAAAAAAAAAAAAAAAAAAAAAAAAAAAAAAAAAAAAEAAAAAAAAAAAAAAAAAAAAAAAAAAAAAAAABAAAAAAAAAQAAAAAAAAAAAAABAAAAAAAAAAAAAAEAAQAAAAAAAAAAAAEAAAAAAAAAAAAAAAAAAAAAAAAAAAEAAAAAAAAAAAAAAAABAAAAAAAAAAAAAAEAAAAAAAAAAAAAAAAAAAAAAAAAAAEAAAAAAAAAAAEAAAAAAAAAAAAAAAAAAAAAAAAAAAAAAAAAAAAAAAAAAAAAAAAAAAABAAAAAAAAAAAAAAAAAAAAAAAAAQEAAAAAAAAAAAAAAQAAAAAAAAAAAAEAAAAAAAAAAAAAAAAAAAAAAAAAAAAAAAAAAAAAAAAAAAAAAAABAAAAAAAAAAAAAAAAAAAAAAABAAAAAAAAAAAAAQAAAAAAAAAAAAAAAAAAAAAAAAAAAAAAAAAAAAAAAAAAAAAAAAAAAAAAAAAAAAAAAAAAAAAAAQAAAAAAAAAAAAAAAAAAAAAAAAEAAAAAAAAAAAEAAAAAAAAAAAAAAAAAAAAAAAAAAAAAAAAAAAAAAAAAAAAAAAAAAAAAAAEAAAAAAAEAAAAAAAAAAAAAAAAAAAEAAAAAAAAAAAAAAAAAAAAAAAAAAAAAAQAAAAAAAAAAAAAAAQAAAAAAAAAAAAAAAAAAAAAAAAAAAAAAAAAAAAAAAAAAAAAAAAAAAAAAAAAAAAAAAAAAAAAAAAAAAAAAAAAAAAAAAAAAAAAAAAAAAAAAAQAAAAABAQAAAAAAAAAAAAABAAAAAAAAAAAAAAAAAAAAAAAAAQAAAAABAAAAAAAAAAAAAAAAAAAAAAABAAABAAAAAAAAAAAAAAAAAQAAAAAAAAAAAAAAAAAAAAAAAAAAAAAAAAAAAAAAAAAAAAAAAAAAAAAAAAAAAAAAAAAAAAAAAAAAAAAAAAAAAAAAAAAAAAAAAAAAAAAAAAAAAAAAAAAAAAAAAAAAAAAAAAAAAAABAAAAAAAAAAAAAAAAAAAAAAAAAAAAAAAAAAEAAAAAAAAAAAAAAAAAAAAAAAAAAAAAAAAAAAAAAAAAAAEAAAAAAAAAAAAAAAAAAAAAAAAAAAAAAAAAAAAAAAAAAAAAAAAAAAAAAQABAAAAAAABAAAAAAAAAAAAAAAAAAAAAAAAAAAAAAAAAAAAAAAAAAAAAAAAAAAAAAAAAAAAAAAAAAAAAAAAAAAAAAAAAAAAAAAAAAAAAAAAAAAAAAAAAAEBAAAAAAAAAAAAAAAAAAAAAAAAAAAAAAAAAAAAAAAAAAAAAAAAAAAAAAAAAAAAAAAAAAAAAAAAAAAAAAAAAAAAAAAAAAAAAAAAAAAAAAAAAAAAAAAAAAAAAAAAAAAAAAAAAAAAAAAAAAAAAAAAAAAAAAAAAAAAAAAAAAAAAAAAAAAAAAAAAAAAAAAAAAAAAAEAAAAAAAAAAAAAAAAAAAAAAAAAAAAAAAAAAAAAAAAAAAAAAAAAAAAAAAAAAAAAAAAAAAAAAAEAAAAAAAAAAAAAAAAAAAAAAAAAAQAAAAEAAQAAAAAAAAAAAAAAAAAAAAEAAAAAAAAAAAAAAAAAAAAAAAAAAAABAAAAAAAAAAAAAAAAAAAAAAAAAAAAAAAAAAAAAAAAAAAAAAAAAAAAAAAAAAAAAQAAAAAAAAABAAAAAAAAAAAAAAAAAAAAAAAAAAAAAAAAAAAAAAAAAAAAAAAAAAAAAAAAAAAAAAAAAAAAAAAAAAAAAAAAAAAAAAAAAAAAAAAAAAAAAAAAAAAAAAAAAAAAAAAAAAAAAAABAAAAAAAAAAAAAAAAAQAAAAABAAAAAAAAAAAAAAAAAAAAAAABAAEAAAAAAAAAAAABAAABAAAAAAAAAAABAAAAAAAAAAAAAAAAAAAAAAAAAAAAAQAAAAAAAAAAAAAAAAAAAAABAAAAAAAAAAAAAAAAAAAAAAAAAAAAAAAAAAAAAAAAAAAAAAAAAAAAAAAAAAEAAAAAAAAAAAAAAAAAAAAAAAAAAAAAAAAAAAAAAAAAAAAAAAAAAAAAAAAAAAAAAAAAAQAAAAAAAAAAAAAAAAAAAQAAAAAAAAAAAAAAAAAAAAAAAAAAAAAAAAAAAAAAAAAAAAAAAAAAAAAAAAAAAAAAAAAAAAAAAAAAAAAAAAAAAAABAAAAAAAAAAAAAAABAAAAAAAAAAAAAAAAAAAAAAAAAAAAAAAAAAAAAAAAAAAAAAAAAAAAAAAAAAAAAAAAAAAAAAAAAAAAAAAAAAAAAAAAAAEAAAAAAAAAAAAAAAAAAAAAAAAAAAABAAAAAAAAAAAAAAAAAAAAAAAAAAAAAAAAAAAAAAAAAAAAAAAAAAAAAAAAAAAAAAAAAAAAAAAAAAAAAAEAAAAAAAAAAAAAAQEAAAAAAAAAAAAAAAABAAAAAAAAAAAAAAAAAAAAAAAAAAAAAAAAAAAAAAAAAQAAAAAAAAAAAAAAAAAAAAAAAAEAAAAAAAABAAAAAAAAAAAAAAAAAAAAAAAAAAAAAAAAAAAAAAAAAAAAAAAAAAAAAAAAAQAAAAAAAAAAAAAAAAAAAAAAAAAAAAAAAAAAAAAAAAAAAAAAAAAAAAAAAAAAAAAAAAAAAAAAAQEAAAAAAAAAAAAAAAAAAAAAAAAAAAAAAAAAAQABAAAAAAABAAAAAAABAAAAAAAAAAAAAAAAAAAAAAAAAAAAAAAAAAAAAAAAAAAAAAAAAAAAAAAAAAAAAAAAAAAAAAAAAAAAAAEAAAEAAAEAAQAAAAAAAAAAAAABAAAAAAAAAAAAAAAAAAAAAAAAAAAAAAAAAAAAAAAAAAAAAAAAAAAAAAAAAAAAAAAAAAAAAAEAAAABAAABAAAAAAAAAAAAAAAAAAAAAAAAAAAAAAAAAAAAAAAAAAAAAAAAAAAAAAAAAAAAAAAAAAAAAAAAAAAAAAAAAAAAAAAAAAAAAAAAAAAAAAAAAAAAAQAAAAAAAAAAAAAAAAAAAAAAAAAAAAAAAAAAAAAAAAAAAAAAAAAAAAEAAAAAAAEAAAAAAAEAAAAAAAAAAAAAAAAAAAAAAAAAAQEAAAEAAAAAAAAAAAAAAAAAAAAAAQAAAAAAAAAAAAEAAAAAAAAAAAAAAAABAAAAAAAAAAAAAAAAAQAAAAAAAAAAAAAAAAAAAAAAAAAAAAAAAAAAAAAAAQEAAAAAAAEAAAAAAAAAAAAAAAAAAAAAAAAAAAAAAAAAAAAAAAAAAAAAAAAAAAAAAAAAAAABAAAAAAAAAAAAAQAAAAAAAAAAAAAAAAAAAAEAAAAAAAAAAAAAAAAAAAAAAAAAAAAAAAAAAAAAAAAAAAAAAAAAAAAAAAAAAAAAAAABAAAAAAAAAAAAAAAAAAAAAAAAAAABAAAAAAAAAAAAAAAAAAAAAAAAAAAAAAAAAAAAAAAAAAAAAAAAAAAAAAAAAAAAAAAAAAAAAAAAAAEAAAEAAAAAAAAAAAAAAAAAAAABAAAAAAAAAQAAAAAAAAAAAAAAAAAAAAAAAAAAAAAAAAAAAAAAAAAAAAAAAAAAAAAAAQAAAAAAAAAAAAAAAAAAAAAAAAAAAAAAAAAAAAEAAAAAAAAAAAAAAAAAAAAAAAAAAAAAAAAAAAAAAAAAAAAAAAEAAAAAAAAAAAAAAAABAAAAAAAAAAAAAAAAAAAAAAAAAAAAAAAAAAAAAAAAAAAAAAAAAAAAAAAAAAAAAAAAAAAAAAABAAAAAAEAAAAAAAAAAAAAAAAAAAAAAAAAAAAAAAAAAAAAAAAAAAAAAAAAAAAAAAAAAAAAAAAAAAAAAAAAAAAAAAAAAAAAAAAAAAAAAAAAAAAAAAAAAAEAAAAAAQAAAAAAAAAAAAAAAQAAAAAAAAAAAAAAAAAAAAAAAAAAAAAAAAAAAAAAAAAAAAAAAAAAAAAAAAAAAAAAAAAAAAEAAAAAAAAAAAAAAQAAAAAAAAAAAAAAAAAAAAAAAAAAAAAAAAAAAAABAAAAAAAAAAABAAAAAAAAAAAAAAAAAAAAAAAAAAAAAQAAAAAAAAAAAAAAAAABAAAAAAEAAAABAAAAAAAAAAAAAAAAAAAAAAAAAAAAAAAAAAAAAAAAAAAAAAAAAAAAAAAAAAAAAQAAAAAAAAAAAAAAAAAAAAAAAAAAAAAAAAAAAAAAAAAAAAAAAAAAAAAAAAAAAAAAAAAAAAAAAQAAAAAAAAAAAAAAAQAAAAEAAAABAQAAAAAAAQAAAAAAAAAAAAAAAAAAAAAAAAAAAAAAAAAAAAAAAAAAAAAAAAAAAAAAAAAAAAAAAAAAAAAAAAAAAAAAAAAAAAAAAAAAAAAAAAAAAAAAAAAAAAAAAAAAAAAAAAAAAAAAAAAAAAAAAAAAAAAAAAAAAAAAAAAAAAAAAAAAAAAAAAAAAAAAAAAAAAAAAAAAAAAAAAAAAAAAAAAAAAAAAAAAAAAAAAAAAAAAAAAAAAAAAAAAAAAAAAAAAAAAAAAAAAAAAAAAAAAAAAAAAAAAAAABAAAAAAAAAAABAAEAAAAAAAAAAAAAAAEAAAAAAAAAAQAAAAAAAAAAAAAAAAAAAAAAAAAAAAAAAAAAAAAAAAAAAAAAAAAAAAAAAAABAAAAAAAAAAEAAAAAAQAAAAAAAAAAAAAAAAAAAAAAAAAAAAABAAAAAAAAAAAAAAAAAAAAAAAAAAAAAAAAAAAAAAAAAAAAAAAAAAAAAAAAAAAAAAAAAAAAAAAAAAAAAAAAAAAAAAAAAAAAAAAAAAAAAAAAAAAAAAAAAAAAAAAAAAABAAAAAAAAAAAAAAAAAAAAAAAAAAAAAQAAAAAAAAAAAAAAAAAAAAAAAAAAAAAAAAEAAAAAAQAAAAAAAAAAAAAAAAAAAAAAAAAAAAAAAAAAAAAAAAAAAAAAAAAAAAAAAAABAAAAAAAAAAAAAQAAAAAAAAAAAAAAAAAAAAAAAAAAAAAAAAAAAAAAAAAAAAAAAAAAAAAAAAABAAAAAAAAAAAAAAAAAAAAAAAAAAAAAAAAAAAAAAABAAAAAAAAAAAAAAAAAAAAAAAAAAAAAAAAAAAAAAAAAAAAAAAAAAAAAAAAAAAAAAAAAAAAAAAAAAEAAAAAAAABAAAAAAAAAAAAAAAAAAAAAAAAAAAAAAAAAAAAAAAAAAAAAQAAAAAAAAAAAAAAAAAAAAAAAAAAAAAAAAAAAAAAAAAAAAAAAAAAAAEAAAAAAAAAAAAAAAAAAAAAAQAAAAAAAAAAAAAAAAEAAAAAAAAAAAAAAAABAAAAAAAAAAAAAAAAAQAAAAAAAAAAAAAAAAAAAAAAAAAAAAAAAAAAAAAAAAAAAAAAAAAAAAAAAAAAAQAAAAAAAAAAAAAAAAAAAAAAAAAAAAAAAAAAAAAAAAAAAAAAAAEAAAAAAAAAAAAAAAAAAAAAAAAAAAABAAAAAAAAAAAAAAAAAAAAAAAAAAAAAAAAAAAAAAAAAAAAAAAAAAAAAAAAAAEAAAAAAAAAAAAAAAAAAAAAAAAAAAAAAAAAAAEAAAAAAAAAAAAAAAABAAEAAAAAAAAAAAAAAAAAAAAAAAAAAAAAAAAAAAAAAAAAAAAAAAAAAAAAAAAAAQAAAAAAAAAAAAAAAAAAAAAAAAAAAAAAAAAAAAAAAAAAAAAAAAABAAAAAAAAAAAAAAAAAAAAAQAAAAAAAAAAAAAAAAAAAAAAAAAAAAAAAAAAAAAAAAAAAAAAAAAAAAAAAAAAAAAAAAAAAAEAAAAAAAAAAAAAAAAAAAAAAAAAAAAAAQAAAAABAAAAAAAAAAAAAAAAAAAAAAAAAAAAAAAAAAAAAQAAAAAAAAAAAAAAAAABAAAAAAAAAAAAAAAAAAAAAAAAAAAAAAAAAAAAAAAAAAAAAAAAAAAAAAAAAAAAAAAAAAAAAAAAAAAAAAEAAAABAAAAAAAAAAAAAAAAAAAAAAAAAAAAAQAAAAAAAAAAAAAAAAAAAAAAAAAAAAAAAAAAAAAAAAAAAAAAAAEAAAAAAAAAAAAAAAAAAAEAAAAAAAAAAAAAAAAAAAAAAQAAAAABAAAAAAAAAAABAAAAAAAAAAAAAAAAAAAAAAABAAABAAAAAAAAAAAAAAAAAAAAAAAAAAAAAAAAAAABAAAAAAAAAAAAAAAAAAAAAAAAAAAAAAAAAAAAAAAAAAAAAAAAAAAAAAAAAAAAAAAAAAAAAAAAAAAAAAAAAAAAAAAAAAABAAAAAAABAAABAAAAAAAAAAAAAAAAAAAAAAAAAAAAAAAAAAEAAAAAAAAAAAAAAAAAAAAAAAAAAAAAAAAAAAAAAAAAAAAAAAAAAAAAAAAAAAAAAAAAAAAAAAAAAAAAAAAAAAAAAAAAAAAAAAAAAAAAAAAAAAAAAAAAAAAAAAAAAQAAAAAAAAAAAAAAAAAAAAAAAAAAAAAAAAAAAAAAAAAAAAAAAAAAAAAAAQAAAAAAAAEAAAAAAAEAAAAAAAAAAAAAAQAAAAAAAAAAAAAAAAAAAAAAAAAAAAAAAAAAAAAAAAAAAQAAAAAAAAAAAAAAAAAAAAAAAAAAAAAAAAAAAAAAAAABAAAAAAAAAAAAAAAAAAAAAQAAAAABAAAAAAAAAAAAAAAAAAAAAAEBAAAAAAAAAAAAAAAAAAAAAAAAAAAAAAAAAQAAAAAAAAAAAAAAAAAAAAAAAAAAAAAAAAAAAAAAAAAAAAAAAAAAAAAAAAAAAAAAAAAAAAAAAAABAAAAAAAAAAAAAAAAAAAAAAAAAAAAAAAAAAAAAAAAAQEAAAABAAAAAAAAAAAAAAAAAAAAAAAAAAAAAAAAAAAAAAAAAAAAAAAAAAEAAAAAAAAAAAAAAAAAAAAAAAAAAAAAAAAAAAAAAAAAAAAAAAAAAAAAAAAAAAAAAAAAAAAAAAAAAAAAAAAAAAAAAAAAAAAAAAAAAAAAAAAAAAAAAQAAAAAAAAAAAAAAAAAAAAAAAAAAAAAAAAAAAAAAAAAAAAAAAAAAAAAAAAAAAAAAAAEAAAAAAAAAAAAAAAAAAAAAAAAAAAAAAAAAAAAAAAAAAAABAAAAAAAAAAAAAAEAAAEAAAAAAAAAAAAAAQAAAAAAAAAAAAAAAAAAAAAAAAAAAAAAAAABAAAAAAAAAAAAAAAAAAAAAAAAAAAAAAAAAAAAAAAAAAAAAAAAAAAAAAAAAAAAAAAAAAAAAAAAAAAAAAAAAAAAAAAAAAAAAAAAAAABAAAAAAEAAAAAAAAAAAAAAAAAAAAAAAEAAAAAAAAAAAAAAAAAAAAAAAAAAAAAAAAAAAAAAQAAAAAAAAAAAAAAAAAAAAAAAAAAAAAAAAAAAAAAAAAAAQAAAAAAAAAAAAAAAAAAAAAAAAAAAQAAAAAAAAAAAAAAAAAAAAEAAAAAAAAAAAAAAAAAAAAAAAAAAAAAAAAAAAAAAAEAAAAAAAAAAAAAAAABAAAAAAAAAAAAAAAAAAAAAAAAAAAAAAAAAAAAAAAAAAAAAAAAAAAAAAAAAAAAAAAAAAABAAAAAAAAAAAAAAAAAAAAAAAAAAAAAAAAAAAAAAAAAAAAAAAAAAAAAAAAAAAAAAAAAAAAAAAAAAAAAAAAAAAAAAAAAAAAAAAAAAAAAAAAAAAAAAAAAAAAAAAAAAAAAAAAAAAAAAAAAAAAAAAAAAAAAAAAAAEAAAAAAAAAAAAAAAAAAAAAAAAAAAAAAAAAAAAAAAAAAAEAAAAAAAAAAAABAAAAAAAAAAAAAAAAAAAAAAAAAQEAAAAAAAAAAAAAAAAAAAAAAAAAAAAAAAAAAAAAAAAAAAAAAAAAAAAAAAAAAAAAAAAAAAAAAAABAAAAAAAAAAAAAAAAAAAAAAAAAAAAAAAAAAABAAAAAAABAAAAAAAAAAAAAAAAAAAAAAAAAQAAAAAAAAAAAAAAAAAAAAAAAAABAAAAAAAAAAAAAAAAAAAAAAAAAAAAAAEAAAAAAAAAAAAAAAAAAAAAAAAAAAAAAAAAAAEAAAEAAAAAAAEAAAEAAAAAAAAAAAAAAAAAAAABAAAAAAAAAAAAAAAAAAAAAAAAAAAAAAAAAAAAAAAAAAAAAAAAAAAAAAAAAAAAAAAAAAAAAAAAAAAAAAAAAAEAAAAAAAAAAAAAAAAAAQAAAAAAAAAAAAAAAAAAAAAAAQAAAAAAAAAAAAAAAAAAAAAAAAEAAAAAAAAAAAAAAAAAAAAAAAAAAAAAAAAAAAAAAAAAAAEAAAAAAAAAAAAAAAAAAAAAAAAAAAAAAAAAAAAAAAAAAAAAAAAAAAAAAAAAAAAAAAAAAAAAAAAAAAAAAAAAAAAAAAAAAAAAAAAAAAAAAAAAAAAAAAAAAAAAAAAAAAAAAAAAAAAAAAAAAQAAAAAAAAAAAAAAAAAAAAAAAAAAAAAAAAAAAAAAAAAAAQAAAAAAAAAAAAAAAAAAAAAAAAABAAAAAAAAAAAAAAAAAAAAAAAAAAAAAAAAAAABAAAAAAAAAAAAAAAAAAAAAAAAAAAAAQABAAAAAAAAAAAAAAAAAAAAAAAAAAAAAAAAAAAAAQAAAQAAAAAAAAEAAAAAAAAAAAAAAAAAAAEAAAAAAAAAAAAAAAAAAAAAAQAAAAABAAAAAAAAAAAAAAAAAAAAAAAAAAAAAAAAAAAAAAABAAAAAAAAAAAAAAEAAAAAAAAAAAAAAAAAAAAAAAAAAAAAAAAAAAAAAAAAAAAAAAAAAAAAAAAAAAAAAAAAAAAAAAAAAAAAAAAAAQAAAAAAAAAAAAAAAAAAAAAAAAEAAAAAAQAAAAAAAAAAAAAAAAAAAAAAAAAAAAAAAAAAAAAAAAAAAAAAAAAAAQAAAAAAAAABAQAAAAAAAAAAAAAAAQAAAAAAAAAAAAAAAAAAAAAAAAAAAAAAAAAAAAAAAAEAAAAAAAAAAAAAAAAAAAAAAAAAAAAAAAAAAAAAAAAAAAAAAAAAAAAAAAAAAAAAAAAAAAAAAAAAAAAAAAAAAQAAAAABAAAAAAAAAAAAAAAAAAAAAAAAAAAAAAAAAAAAAAAAAAAAAAAAAAAAAAAAAQAAAAAAAAAAAAAAAAAAAAAAAAAAAAAAAAAAAAAAAAAAAAAAAAAAAAAAAQAAAAAAAAAAAAAAAAAAAAAAAAAAAAAAAAABAAAAAAAAAAEAAAAAAAAAAAAAAAAAAAEAAAABAAAAAAAAAAAAAAAAAAAAAAAAAAAAAAAAAAAAAQAAAAAAAAAAAAAAAAAAAAAAAAAAAQAAAAAAAAEAAAAAAAAAAAAAAAAAAAAAAAEAAAAAAAAAAAAAAAAAAAAAAAAAAAAAAAAAAAAAAAAAAAAAAAAAAAAAAAAAAAAAAAAAAAAAAAABAAAAAAAAAAAAAAAAAAAAAAAAAAAAAQAAAAAAAAAAAAAAAAAAAAAAAAABAAAAAAAAAAAAAAAAAAAAAAAAAAAAAAAAAAAAAAAAAAAAAAAAAAAAAAABAAAAAAAAAAAAAAAAAAAAAAAAAAAAAAAAAAAAAQAAAAAAAAAAAAAAAAAAAAAAAAAAAAAAAAAAAAEAAAAAAAAAAAAAAAAAAAAAAAAAAAAAAAAAAAAAAAAAAAAAAAAAAAAAAQAAAAABAAAAAAAAAAAAAAAAAAAAAAAAAAAAAAAAAQAAAAAAAAAAAAAAAAAAAAAAAAAAAAAAAAAAAAAAAAAAAAAAAAAAAAAAAAAAAAAAAAAAAAAAAAABAAAAAAAAAAAAAAAAAAEAAAAAAAAAAAAAAAABAAAAAAAAAAAAAAAAAAABAAAAAAAAAAAAAAAAAAAAAAABAAAAAAAAAAAAAAAAAAEAAAAAAAABAAEAAAABAAAAAAAAAAAAAAAAAAAAAAAAAQAAAAAAAAAAAAAAAAAAAAAAAAAAAAAAAAAAAAAAAAAAAAAAAAAAAAAAAAABAAAAAAABAAAAAQAAAAAAAAAAAAAAAAAAAQAAAAAAAAEAAAAAAAAAAAAAAAAAAAAAAAAAAAAAAAAAAAAAAAAAAAAAAAAAAAAAAAAAAAAAAAAAAAABAQAAAAAAAAAAAAAAAAAAAAAAAAAAAAAAAAAAAAAAAAAAAAAAAAAAAAAAAAAAAAAAAAAAAAAAAAAAAAAAAAAAAAEAAAAAAAAAAAAAAAAAAAAAAAAAAAAAAAAAAAAAAQAAAAAAAAAAAAAAAAAAAAAAAAAAAAAAAAAAAAABAAAAAAAAAAAAAAAAAAAAAAEAAAAAAAAAAAAAAAAAAAAAAAAAAQAAAAAAAAAAAAAAAAAAAAAAAAABAAAAAAAAAAAAAAAAAAAAAAAAAAAAAAAAAAAAAAAAAAAAAAEAAAEAAAAAAAAAAAAAAAAAAAAAAAAAAAAAAAAAAAAAAAAAAAAAAAAAAQAAAAAAAAAAAAAAAAAAAAAAAAAAAAAAAAAAAAAAAAAAAAABAAAAAAAAAQAAAAAAAAAAAAAAAAAAAAAAAAAAAAAAAAAAAAAAAAAAAAAAAAAAAAAAAAEAAAAAAAAAAAAAAAAAAAAAAAAAAQABAAAAAAABAAAAAAAAAAAAAAAAAAAAAAAAAQAAAAAAAAAAAAAAAAABAQAAAAAAAAAAAAAAAAAAAQAAAAAAAAAAAQAAAAAAAAAAAQAAAAABAAAAAAAAAAAAAAAAAAAAAAAAAAAAAAAAAAAAAAAAAAAAAAAAAAAAAAABAAAAAAAAAAAAAAAAAAAAAAAAAAAAAAAAAQAAAAAAAAAAAAAAAAAAAAAAAAAAAAAAAAAAAAAAAAAAAAAAAQEAAAAAAAAAAAAAAQAAAAAAAAAAAAAAAAAAAAAAAAAAAAAAAAAAAAAAAAAAAAAAAAAAAAAAAAAAAAAAAAAAAAAAAAAAAAAAAAEAAAAAAAAAAAAAAAAAAAAAAAAAAAAAAAAAAAAAAAAAAAAAAAAAAAAAAAAAAAEAAAAAAAAAAAAAAAEAAAAAAAAAAAAAAAAAAAAAAQAAAAAAAAAAAAAAAAAAAAAAAAAAAAAAAAAAAAAAAAAAAAAAAAAAAQAAAAAAAAAAAAEAAAAAAAAAAAAAAAAAAAAAAAAAAAAAAAAAAQAAAAAAAAAAAAAAAAAAAAAAAAAAAAAAAAAAAAAAAAAAAAAAAAAAAAAAAAAAAAAAAAAAAAAAAAAAAAAAAAAAAAAAAAAAAAABAAAAAAAAAAAAAAAAAAAAAAAAAAAAAAAAAAAAAAAAAAAAAAAAAAAAAAAAAAAAAAAAAAAAAAAAAAAAAAAAAAAAAAAAAAAAAAABAAAAAAAAAAAAAAAAAAAAAAAAAAAAAAAAAAAAAAAAAAABAAAAAAAAAAAAAAAAAAAAAAAAAAAAAAAAAAAAAAAAAAAAAAAAAAAAAAAAAAAAAAAAAAAAAAAAAAAAAAAAAAAAAAAAAAAAAAAAAAAAAAAAAAAAAAAAAAABAAAAAAAAAAAAAAAAAAEAAAAAAAAAAAAAAAEAAAAAAAAAAAAAAAAAAAAAAAAAAAAAAAAAAAAAAAAAAAAAAAAAAAAAAAAAAAAAAAAAAAAAAAAAAAAAAAAAAAEAAAABAAAAAAAAAAAAAAAAAAAAAAAAAAAAAAAAAAAAAAAAAAAAAAEAAAAAAAAAAAAAAAAAAAAAAAAAAAAAAAAAAAAAAAAAAAAAAAAAAAAAAAAAAAAAAAABAAAAAAAAAAAAAAAAAAAAAQAAAAAAAQAAAAAAAAAAAAAAAAAAAAAAAAAAAAAAAAAAAAAAAAAAAAAAAAAAAAAAAAAAAAAAAAAAAAAAAAAAAAAAAAAAAAAAAAAAAAEAAAAAAAAAAAAAAAAAAAAAAAAAAAAAAAAAAAAAAAAAAAAAAAAAAAAAAAAAAAAAAAAAAAAAAAAAAAAAAAAAAAAAAAAAAAAAAAAAAAAAAAEBAQAAAAAAAAAAAAAAAAAAAAAAAAAAAAAAAAEBAAAAAAAAAAAAAAAAAAAAAAAAAAAAAAAAAAAAAAAAAAAAAAAAAAAAAAAAAAAAAAAAAAAAAAAAAAAAAAAAAAAAAAAAAAAAAAAAAAAAAAAAAAAAAAAAAAAAAAAAAAAAAAAAAAAAAQAAAAAAAAAAAAAAAAAAAAABAAEBAAEAAAAAAAABAAAAAAAAAAAAAAAAAAAAAAAAAAAAAAAAAQAAAAAAAAAAAQAAAAAAAAAAAAAAAAAAAAAAAAAAAAAAAAAAAAABAAAAAAAAAAAAAAAAAAAAAAEAAAAAAAAAAAAAAAAAAAAAAAAAAAAAAQAAAAAAAAAAAAAAAAAAAAAAAAAAAAABAAAAAAAAAAAAAAAAAAAAAAAAAAAAAAAAAAAAAAAAAAAAAQAAAAAAAAAAAAAAAAAAAAAAAAAAAAAAAAAAAAAAAAAAAAAAAAAAAAAAAAAAAAAAAAAAAAAAAAAAAAAAAAAAAAAAAAAAAAAAAQAAAAAAAAAAAAAAAAAAAAAAAQAAAAAAAAAAAAAAAAAAAAAAAAAAAAAAAAAAAAAAAAAAAAAAAAAAAAAAAAAAAAAAAAAAAAAAAAAAAAAAAAAAAAAAAAEAAAAAAAAAAAAAAQAAAAAAAAAAAAAAAAAAAAAAAAAAAAAAAAAAAAAAAAAAAAAAAAAAAAAAAAAAAAAAAAAAAAAAAAAAAAAAAAAAAAAAAAAAAAAAAAAAAAAAAAAAAQAAAAAAAAAAAAAAAAAAAAAAAAAAAAAAAAAAAAAAAAAAAAAAAQAAAAAAAAAAAAAAAAAAAAAAAAAAAAAAAAAAAAAAAAAAAAAAAAAAAAAAAAAAAAAAAAAAAAAAAAAAAAAAAAAAAAAAAAAAAAAAAAAAAAAAAAAAAAAAAAAAAAAAAAAAAAAAAAAAAAAAAAAAAAAAAAAAAAAAAAAAAAAAAAAAAAAAAAAAAAAAAAAAAAAAAAAAAAAAAAABAAAAAAAAAAAAAAAAAAAAAAAAAAAAAAAAAQAAAAAAAAAAAQAAAAAAAAEAAQAAAAAAAAAAAAAAAAAAAAAAAQABAAAAAAAAAAAAAAAAAAAAAAAAAAAAAAAAAAAAAAAAAAAAAAAAAAAAAAAAAAAAAAAAAQAAAAABAAAAAAAAAAAAAAAAAAAAAAAAAAEAAAAAAAAAAAABAAAAAAAAAAAAAAAAAAABAAAAAAAAAAAAAAAAAAAAAAAAAAAAAAAAAAAAAAAAAAAAAAAAAAAAAAEAAAAAAAAAAAAAAAAAAAAAAAAAAAAAAAAAAAAAAAAAAAEAAAAAAAAAAAAAAAAAAAAAAAAAAAAAAAAAAAAAAAAAAAAAAAAAAAAAAAAAAAAAAAAAAAAAAAAAAAAAAAAAAAAAAAAAAAABAAAAAAAAAAAAAAAAAAAAAAAAAAABAAAAAAAAAAAAAAAAAAAAAAEAAAAAAAAAAAAAAAAAAAAAAAAAAAAAAAAAAAAAAAAAAAAAAAAAAAAAAAAAAQAAAAAAAAAAAAAAAAAAAAAAAAAAAAAAAAAAAAAAAAAAAAAAAAAAAAAAAAAAAAABAAABAAAAAAAAAAAAAAAAAAAAAAAAAAAAAAAAAAAAAAAAAAAAAAAAAAAAAAAAAAAAAAAAAAAAAAAAAAABAAAAAAAAAAAAAAAAAAAAAAAAAAEAAQAAAAAAAAAAAAAAAAAAAAAAAAAAAAAAAAABAAAAAAAAAAAAAAAAAAEAAAAAAAAAAAAAAQAAAAAAAAAAAAAAAAAAAAABAAAAAAAAAAAAAAAAAAAAAAAAAAAAAAAAAAABAAAAAAAAAAAAAAAAAAAAAAAAAAAAAAAAAAAAAAAAAAAAAAAAAAAAAAAAAAAAAAAAAAAAAAAAAAAAAAAAAAAAAAAAAAAAAAAAAAAAAAABAAAAAAAAAAAAAAAAAAAAAAAAAAAAAAAAAAAAAAAAAAAAAAAAAAAAAAEAAAAAAAAAAAAAAAAAAAAAAAAAAQAAAAAAAAAAAAAAAAAAAAAAAAAAAAAAAAAAAAAAAAAAAAAAAAAAAAAAAAAAAQAAAAAAAAEAAAAAAAAAAAAAAAAAAAAAAAAAAAABAAAAAAAAAAAAAAAAAAAAAAAAAAAAAAAAAAABAAAAAAAAAAAAAAAAAAAAAQAAAAAAAAAAAAAAAAAAAAAAAAAAAAAAAAAAAAAAAAAAAAAAAAAAAAAAAAAAAAAAAAAAAAAAAAAAAAAAAAAAAAAAAAAAAAAAAAAAAAAAAQAAAAAAAAAAAAAAAAAAAAAAAQAAAAAAAAAAAAEAAAAAAAAAAAAAAAAAAAAAAAAAAQAAAAAAAAAAAAAAAAAAAAAAAAAAAAEAAAAAAAAAAAAAAAAAAAAAAAAAAAABAAAAAAAAAAAAAAAAAAAAAAAAAAAAAAAAAAAAAQAAAAAAAAAAAAAAAAEAAAAAAAAAAAAAAAAAAAEAAAAAAAAAAAAAAAAAAAAAAAAAAAAAAAAAAAAAAAAAAAAAAAAAAAAAAAAAAAAAAAAAAAAAAAAAAAAAAQAAAAEAAAEAAAEAAAAAAAAAAAABAAAAAQAAAQAAAAAAAAAAAAAAAAAAAAAAAAAAAAAAAQAAAAAAAAAAAAAAAAAAAAAAAAAAAAAAAAAAAAAAAAEAAAAAAAAAAAAAAAAAAAAAAAAAAAAAAAAAAAAAAAAAAAAAAAAAAAAAAAAAAAAAAAAAAAAAAAAAAAAAAAABAAAAAAAAAAAAAAAAAAAAAAAAAAAAAAEAAAAAAAAAAAAAAAAAAAEAAQAAAAABAAAAAAAAAAAAAAAAAAAAAAAAAAAAAAAAAAAAAQAAAAAAAAAAAAAAAAAAAAAAAAAAAAAAAAAAAAAAAAAAAAAAAAAAAAAAAAAAAAAAAAAAAAAAAAAAAAAAAAAAAAAAAAAAAAAAAAAAAQAAAAAAAAAAAAAAAAAAAAAAAAAAAAAAAAAAAAAAAAAAAAAAAAAAAAAAAAAAAAAAAAAAAAAAAAAAAAAAAAAAAAAAAAAAAAAAAAAAAAAAAAAAAAAAAAAAAAAAAAAAAAEBAAAAAAAAAAAAAAAAAAAAAAAAAAAAAAAAAAAAAAAAAAAAAAAAAAAAAAAAAAAAAAAAAAAAAAAAAAABAAAAAAAAAAAAAAAAAAEAAAAAAAAAAAAAAAEAAAAAAAAAAAAAAAAAAAAAAAAAAAAAAAAAAAAAAAAAAAAAAAAAAAAAAAAAAAAAAAAAAAAAAAAAAAAAAAAAAAAAAAAAAAAAAAAAAAAAAAAAAAAAAAAAAQAAAAAAAAAAAAAAAAABAAAAAAAAAAAAAAAAAAAAAAAAAAAAAAAAAAAAAAAAAAAAAAAAAAAAAAAAAAAAAAAAAAAAAAAAAAAAAAAAAAAAAAAAAAAAAAAAAAAAAAAAAAAAAAAAAAAAAAAAAAAAAAAAAQAAAAAAAAAAAAAAAAAAAAAAAAAAAAAAAAAAAQAAAAAAAAAAAAAAAAAAAAAAAAAAAAAAAAAAAAAAAAAAAAAAAAAAAAEAAAAAAQAAAAAAAAAAAAAAAQAAAAAAAAAAAAAAAAAAAAAAAAAAAAAAAAAAAAAAAQAAAAAAAAAAAAAAAAAAAAAAAAAAAAAAAAAAAAAAAAAAAAAAAAAAAAAAAAAAAAAAAAAAAAAAAAAAAAAAAAAAAAAAAAABAAEAAAAAAAABAAAAAAAAAAAAAAAAAAAAAAAAAAAAAAAAAAAAAAAAAAAAAAAAAAAAAAAAAAEAAAAAAAAAAAAAAAAAAAAAAAAAAAAAAAAAAAAAAAAAAAAAAAAAAAAAAAAAAAABAAAAAQABAAAAAAAAAAAAAAAAAAAAAAAAAAAAAAAAAAAAAAABAAAAAAAAAAAAAAAAAAAAAAAAAAABAAAAAAAAAAAAAAAAAAAAAAAAAAABAAAAAQAAAAAAAAAAAAAAAAAAAAAAAAAAAAAAAAEAAAAAAAAAAAAAAAAAAAAAAAABAAAAAAAAAAAA\"},\"x0\":\" \",\"xaxis\":\"x\",\"y\":{\"dtype\":\"f8\",\"bdata\":\"mpmZmZkZP0BmZmZmZuY3QGZmZmZmJkRAzczMzMzMPEDNzMzMzMw8QDMzMzMzMzZAzczMzMxMOUDNzMzMzMw4QM3MzMzMDEFAZmZmZmZmMkCamZmZmRk0QAAAAAAAgDdAMzMzMzMzLEBmZmZmZqZCQJqZmZmZmT1AmpmZmZkZPEAzMzMzM7M7QGZmZmZmZjxAAAAAAABAQEAzMzMzMzM8QGZmZmZmZjxAzczMzMzMNEAAAAAAAMBAQJqZmZmZWUJAZmZmZmbmOkCamZmZmRk8QAAAAAAAADtAMzMzMzOzPEAAAAAAAIA3QJqZmZmZmTtAAAAAAAAAMkBmZmZmZmY6QAAAAAAAgERAmpmZmZmZQEDNzMzMzEw3QGZmZmZm5kFAMzMzMzOzNEAzMzMzM7M7QM3MzMzMTDJAMzMzMzOzPUBmZmZmZuYyQM3MzMzMzDlAZmZmZmbmOUDNzMzMzMxBQJqZmZmZGTFAmpmZmZlZQEAAAAAAAIA7QM3MzMzMzDhAAAAAAAAAPUCamZmZmZkxQGZmZmZm5j1AzczMzMxMO0DNzMzMzMwzQGZmZmZm5jdAzczMzMzMO0AzMzMzMzM9QM3MzMzMTDhAAAAAAADAQEAAAAAAAAA3QAAAAAAAgDhAmpmZmZkZPkAzMzMzM3NAQGZmZmZmJkBAmpmZmZkZNUCamZmZmZk4QM3MzMzMzDpAZmZmZmZmMUAAAAAAAAA+QJqZmZmZGTdAZmZmZmZmQUCamZmZmdlBQDMzMzMzsz9AzczMzMzMQUDNzMzMzIxDQGZmZmZmpkRAZmZmZmZmP0CamZmZmRk5QJqZmZmZmTZAZmZmZmZmMEDNzMzMzEw\\u002fQGZmZmZmZj1AZmZmZmbmP0AzMzMzM3NBQJqZmZmZGTpAAAAAAACAQUAzMzMzMzM6QGZmZmZm5jVAAAAAAACANkDNzMzMzEw7QAAAAAAAgDVAAAAAAAAAQ0DNzMzMzExAQM3MzMzMzDtAAAAAAAAAOkCamZmZmZk3QAAAAAAAQERAzczMzMzML0BmZmZmZuY1QDMzMzMzszlAmpmZmZkZMEAAAAAAAIBCQJqZmZmZmTlAMzMzMzOzOECamZmZmZk9QDMzMzMzMzBAMzMzMzOzPkBmZmZmZuY\\u002fQGZmZmZmZjFAAAAAAAAAMkBmZmZmZmY3QJqZmZmZmUBAMzMzMzMzNEDNzMzMzEw7QM3MzMzMTDVAmpmZmZlZRECamZmZmVlDQDMzMzMz80FAmpmZmZkZOUBmZmZmZmYxQAAAAAAAADtAMzMzMzOzPECamZmZmZkxQDMzMzMzsz9AZmZmZmZmOECamZmZmZk5QAAAAAAAADZAMzMzMzOzNECamZmZmRlIQGZmZmZm5kRAmpmZmZkZOkAAAAAAAAA4QGZmZmZm5j5AZmZmZmbmN0AzMzMzM7M8QM3MzMzMTDhAmpmZmZkZOUBmZmZmZiZAQGZmZmZm5jtAZmZmZmZmO0BmZmZmZuY3QM3MzMzMzDtAAAAAAAAAPEDNzMzMzIxAQGZmZmZmZkBAzczMzMxMNEAAAAAAAAA6QAAAAAAAgDpAZmZmZmamQkAAAAAAAIBAQJqZmZmZmT9AmpmZmZmZL0AAAAAAAMBDQJqZmZmZGTFAZmZmZmZmPEAAAAAAAAA4QDMzMzMzszpAzczMzMyMQ0BmZmZmZuY7QAAAAAAAwERAzczMzMzMOEBmZmZmZuZEQJqZmZmZGThAZmZmZmZmPECamZmZmZk1QM3MzMzMTEFAAAAAAABAQEDNzMzMzEw6QM3MzMzMzDZAmpmZmZkZNkAzMzMzM3NAQGZmZmZmZj9AMzMzMzOzOECamZmZmZk4QDMzMzMzMzJAAAAAAACAOkCamZmZmVlBQGZmZmZm5jZAAAAAAAAAN0BmZmZmZuZCQJqZmZmZmT1AmpmZmZkZPkAAAAAAAIBCQDMzMzMzszxAzczMzMzMM0DNzMzMzMw3QAAAAAAAgENAzczMzMxMOEBmZmZmZmZAQAAAAAAAgDZAAAAAAABAQEAzMzMzM7M6QGZmZmZmJkBAmpmZmZkZNEAAAAAAAIA0QM3MzMzMzEBAZmZmZmZmP0AAAAAAAIA6QDMzMzMzMzJAMzMzMzOzMkBmZmZmZmY6QJqZmZmZGUFAzczMzMzMNUAzMzMzMzM9QGZmZmZm5jZAMzMzMzMzP0DNzMzMzMw2QM3MzMzMTD1AAAAAAACAOUAzMzMzMzM8QGZmZmZmZjxAZmZmZmbmQUCamZmZmZk4QDMzMzMz80FAAAAAAAAAPUDNzMzMzEw0QAAAAAAAADpAMzMzMzMzOEBmZmZmZuYwQM3MzMzMzD1AMzMzMzOzOUAAAAAAAIBDQJqZmZmZGUJAAAAAAADAQEAzMzMzM7MxQJqZmZmZmTtAAAAAAAAAN0DNzMzMzExCQAAAAAAAADRAZmZmZmZmNkBmZmZmZuY1QM3MzMzMTDpAzczMzMzMM0AAAAAAAAA\\u002fQJqZmZmZGTZAZmZmZmZmO0AAAAAAAAA0QJqZmZmZmT1AZmZmZmZmQEAzMzMzMzM4QGZmZmZm5kFAZmZmZmZmQEBmZmZmZmY6QGZmZmZmZixAMzMzMzOzO0AzMzMzM7NAQJqZmZmZGThAAAAAAAAAOkBmZmZmZmY0QJqZmZmZmThAmpmZmZnZREAAAAAAAEBAQDMzMzMzMzlAzczMzMwMREBmZmZmZmY6QAAAAAAAgDZAzczMzMxMPkBmZmZmZuZAQAAAAAAAADpAZmZmZmbmOkAzMzMzMzMxQDMzMzMzszZAZmZmZmbmOUDNzMzMzEw5QGZmZmZmZkFAMzMzMzOzP0BmZmZmZuZBQDMzMzMzsz9AZmZmZmZmQEAzMzMzMzM1QDMzMzMz80FAmpmZmZnZREDNzMzMzMw9QM3MzMzMTDJAzczMzMzMM0CamZmZmZk1QDMzMzMzMz9AMzMzMzMzMUDNzMzMzEw+QGZmZmZm5kJAZmZmZmZmO0AAAAAAAAA0QM3MzMzMTDlAAAAAAADAQUAzMzMzMzM8QJqZmZmZGTtAmpmZmZmZPEDNzMzMzIxAQJqZmZmZmTlAzczMzMxMNUAAAAAAAAA5QM3MzMzMTEJAmpmZmZkZPEAAAAAAAIA+QGZmZmZmZjJAzczMzMxMPkAzMzMzMzM2QAAAAAAAgDxAmpmZmZmZOkAzMzMzM7M8QDMzMzMzMzhAmpmZmZmZNUDNzMzMzMw8QAAAAAAAgD1AzczMzMzMN0AAAAAAAIA+QAAAAAAAQENAzczMzMzMOUCamZmZmRk\\u002fQGZmZmZmZj9AAAAAAACAPUAzMzMzM7M6QM3MzMzMzDhAzczMzMxMOkDNzMzMzExCQJqZmZmZmTZAZmZmZmZmQUBmZmZmZuZDQAAAAAAAQEBAzczMzMwMQEBmZmZmZmY9QJqZmZmZGThAAAAAAACAOUAzMzMzM7M+QAAAAAAAgD9AMzMzMzOzPUBmZmZmZuY\\u002fQJqZmZmZmTdAmpmZmZkZP0DNzMzMzEwyQM3MzMzMTDlAZmZmZmbmPkDNzMzMzMxDQM3MzMzMTDxAZmZmZmbmN0AzMzMzM7M2QDMzMzMzszVAmpmZmZmZQUCamZmZmRk7QGZmZmZm5kJAZmZmZmbmOkBmZmZmZuY4QGZmZmZmZjRAZmZmZmbmPEDNzMzMzEw9QJqZmZmZmTpAmpmZmZmZPECamZmZmZk\\u002fQGZmZmZmZjxAMzMzMzMzPUBmZmZmZuY+QGZmZmZmZjdAmpmZmZkZPEBmZmZmZmZBQGZmZmZmZkBAMzMzMzNzQkBmZmZmZuZDQM3MzMzMzEBAAAAAAAAANUAAAAAAAIA\\u002fQDMzMzMzMzpAzczMzMxMNkAAAAAAAAA+QJqZmZmZmTpAmpmZmZmZNECamZmZmRlBQJqZmZmZGTdAmpmZmZmZNkAzMzMzMzNAQM3MzMzMzENAmpmZmZkZPkCamZmZmRk7QJqZmZmZGTlAZmZmZmZmPkAAAAAAAABEQGZmZmZm5kFAAAAAAABAQ0DNzMzMzMw4QAAAAAAAgDxAZmZmZmbmPEDNzMzMzIxCQDMzMzMzszJAAAAAAAAAQ0AAAAAAAIA4QM3MzMzMTDhAZmZmZmbmQkAzMzMzMzNBQAAAAAAAAD5AAAAAAAAAPECamZmZmRlFQGZmZmZm5jhAAAAAAACAQEBmZmZmZuY6QM3MzMzMDEBAZmZmZmZmPEDNzMzMzMxAQJqZmZmZmT9AMzMzMzNzQ0AAAAAAAMBAQAAAAAAAwEBAZmZmZmbmMkCamZmZmVlAQAAAAAAAADpAZmZmZmZmP0AzMzMzMzM4QDMzMzMzszxAmpmZmZmZPUBmZmZmZuY9QM3MzMzMTDlAzczMzMxMPEBmZmZmZuY+QJqZmZmZGTxAzczMzMxMO0CamZmZmRk4QGZmZmZmZjVAMzMzMzOzP0CamZmZmVlBQM3MzMzMzDRAAAAAAACAO0DNzMzMzMw0QAAAAAAAAC5AmpmZmZkZQkAAAAAAAIA4QM3MzMzMzDRAZmZmZmZmNkCamZmZmVlDQGZmZmZm5jNAzczMzMxMOUAAAAAAAIA+QGZmZmZmZi9AmpmZmZkZNEAAAAAAAIA0QM3MzMzMzDBAmpmZmZkZPkCamZmZmRlAQAAAAAAAgEFAMzMzMzOzOEAzMzMzM7NBQDMzMzMzM0NAZmZmZmZmOEDNzMzMzEw5QGZmZmZm5kVAmpmZmZkZO0BmZmZmZmZAQJqZmZmZGTxAmpmZmZkZNkAAAAAAAAA6QDMzMzMzs0JAmpmZmZlZQEAAAAAAAAA8QDMzMzMz80FAAAAAAAAAOUCamZmZmRlEQDMzMzMz80FAAAAAAADAQUBmZmZmZuY\\u002fQAAAAAAAgDNAMzMzMzMzPEAzMzMzMzM0QAAAAAAAAD1AZmZmZmbmRUAzMzMzMzNCQJqZmZmZ2UBAzczMzMxMOEAzMzMzMzM\\u002fQJqZmZmZGTxAAAAAAAAAQEAzMzMzMzNBQDMzMzMzMy5AZmZmZmZmN0AAAAAAAIA3QJqZmZmZGUBAmpmZmZmZRkCamZmZmRk2QAAAAAAAgDtAMzMzMzMzPkDNzMzMzAxBQAAAAAAAAD5AzczMzMzMNkBmZmZmZmY6QGZmZmZm5jlAzczMzMzMPUBmZmZmZmYzQJqZmZmZGTJAmpmZmZkZOUAAAAAAAAA9QDMzMzMzM0JAAAAAAAAAQkAAAAAAAAA+QDMzMzMzszpAAAAAAACAOkAzMzMzM7M6QAAAAAAAADxAZmZmZmZmPEAzMzMzM\\u002fNAQM3MzMzMTDRAAAAAAACAN0DNzMzMzEw\\u002fQGZmZmZm5j9AzczMzMxMPEAAAAAAAIA8QGZmZmZmZkBAAAAAAAAAPUAzMzMzM7M4QAAAAAAAADdAMzMzMzOzMkAAAAAAAAA9QGZmZmZm5j1AMzMzMzPzQUBmZmZmZmY6QGZmZmZm5kBAmpmZmZlZQkBmZmZmZuZBQM3MzMzMTEFAmpmZmZkZOEBmZmZmZuY8QJqZmZmZGThAmpmZmZnZRUCamZmZmZk3QDMzMzMzszFAAAAAAACAN0AAAAAAAIA4QDMzMzMzszxAMzMzMzOzNEDNzMzMzMw0QJqZmZmZGTxAAAAAAAAANkAzMzMzM\\u002fNEQJqZmZmZmT1AZmZmZmZmNUDNzMzMzAxBQDMzMzMzMzpAzczMzMzMOUCamZmZmZk0QJqZmZmZGTtAZmZmZmZmMECamZmZmdlDQM3MzMzMzDxAZmZmZmZmN0DNzMzMzMw5QM3MzMzMTDlAmpmZmZlZQUCamZmZmRk2QGZmZmZm5jVAZmZmZmZmPUBmZmZmZmZEQGZmZmZm5jdAAAAAAAAAMkAAAAAAAMBBQAAAAAAAQEFAzczMzMyMQ0AzMzMzM7M4QM3MzMzMzD9AMzMzMzNzQEBmZmZmZuY8QDMzMzMzszhAmpmZmZmZREDNzMzMzMwwQM3MzMzMTDVAMzMzMzMzMEBmZmZmZiZBQAAAAAAAADhAZmZmZmZmSEAzMzMzMzMuQAAAAAAAgDNAmpmZmZkZPkAAAAAAAAA3QAAAAAAAADdAMzMzMzOzOkBmZmZmZuY6QAAAAAAAwEFAAAAAAACAPEBmZmZmZmY8QJqZmZmZmTxAAAAAAACAO0DNzMzMzEw8QGZmZmZmZjpAMzMzMzMzP0AzMzMzMzNGQAAAAAAAgD9AAAAAAAAARkBmZmZmZmY\\u002fQDMzMzMzMz9AMzMzMzOzPEDNzMzMzEw6QGZmZmZmZj1AAAAAAAAAOkAAAAAAAIA\\u002fQJqZmZmZmTVAAAAAAACAOkCamZmZmRlFQDMzMzMzM0JAMzMzMzMzOEDNzMzMzExAQDMzMzMzszxAzczMzMxMOUCamZmZmZlBQGZmZmZmJkFAmpmZmZkZOkCamZmZmZkyQGZmZmZmZkNAmpmZmZkZP0AzMzMzMzM6QAAAAAAAADVAmpmZmZnZQkDNzMzMzAxBQDMzMzMzM0BAMzMzMzOzOUAAAAAAAIA5QM3MzMzMzD9AzczMzMxMPEAAAAAAAAA+QM3MzMzMDERAMzMzMzMzN0AzMzMzM7M7QAAAAAAAAD5AzczMzMwMQEDNzMzMzEw5QDMzMzMzszNAmpmZmZkZOUAzMzMzMzM4QJqZmZmZGTlAzczMzMzMLkCamZmZmdlAQGZmZmZm5jtAMzMzMzOzO0DNzMzMzMw6QDMzMzMzszxAmpmZmZkZPUCamZmZmRk1QDMzMzMzMzpAMzMzMzOzN0BmZmZmZuY4QJqZmZmZmTdAMzMzMzOzPEAzMzMzMzM5QAAAAAAAADJAmpmZmZnZQEBmZmZmZiZAQJqZmZmZmTJAAAAAAABAQECamZmZmRk9QDMzMzMzsz1AmpmZmZkZM0CamZmZmZk\\u002fQM3MzMzMzD9AZmZmZmZmMUBmZmZmZuY3QGZmZmZmZjVAmpmZmZmZNUAAAAAAAIA9QDMzMzMzMzpAMzMzMzOzPEAAAAAAAAAvQM3MzMzMTDFAAAAAAAAALkBmZmZmZmZAQDMzMzMzMzxAMzMzMzMzPUBmZmZmZmYuQJqZmZmZWUJAZmZmZmbmN0AAAAAAAAAxQM3MzMzMTDlAmpmZmZmZN0CamZmZmZkyQGZmZmZmZj5AzczMzMxMOkAAAAAAAIA1QDMzMzMzszVAAAAAAACAPUAzMzMzM7MxQM3MzMzMzDlAZmZmZmbmQUAAAAAAAIA8QAAAAAAAAD9AZmZmZmZmN0AzMzMzMzMyQAAAAAAAgEFAzczMzMzMOkCamZmZmZk8QJqZmZmZGTRAZmZmZmbmQECamZmZmZk8QAAAAAAAAD5AMzMzMzOzP0AAAAAAAAA3QAAAAAAAgDpAMzMzMzOzNUAAAAAAAIA8QDMzMzMzs0NAmpmZmZkZQEAAAAAAAEBAQJqZmZmZmT9AzczMzMwMSUAzMzMzM7M+QJqZmZmZGT1AZmZmZmbmOkDNzMzMzMw1QAAAAAAAgDlAmpmZmZmZP0DNzMzMzAxDQGZmZmZm5jhAmpmZmZmZPUAzMzMzMzMtQDMzMzMzszpAMzMzMzOzQEAzMzMzM7M4QGZmZmZmJkBAmpmZmZkZOEAzMzMzM7M+QM3MzMzMTDtAmpmZmZmZOUBmZmZmZqZAQDMzMzMzszpAmpmZmZkZPEAAAAAAAAA8QJqZmZmZGT9AMzMzMzMzMEBmZmZmZuZBQAAAAAAAAEBAzczMzMyMRUAAAAAAAIA9QJqZmZmZGTFAmpmZmZkZOUBmZmZmZuY\\u002fQAAAAAAAADxAmpmZmZnZQUBmZmZmZuY+QGZmZmZmZjhAzczMzMzMQUBmZmZmZuZBQAAAAAAAADlAZmZmZmZmPkAAAAAAAAA7QJqZmZmZGUFAMzMzMzOzQkBmZmZmZuY6QJqZmZmZGUBAmpmZmZkZNEAzMzMzM\\u002fNCQDMzMzMzszlAAAAAAACANEAzMzMzM7M7QAAAAAAAgDdAzczMzMxMNECamZmZmRk\\u002fQGZmZmZmZjJAZmZmZmZmM0CamZmZmZk1QDMzMzMz80BAzczMzMxMQkBmZmZmZmY2QJqZmZmZmTJAMzMzMzOzO0BmZmZmZiZCQJqZmZmZmTtAmpmZmZkZQUBmZmZmZuY2QGZmZmZm5jxAzczMzMzMM0BmZmZmZmY6QDMzMzMzc0JAmpmZmZmZQEAzMzMzM7M5QAAAAAAAgD5AmpmZmZkZOUCamZmZmdlBQJqZmZmZGTBAmpmZmZmZPECamZmZmZkyQM3MzMzMzD1AMzMzMzNzQkAzMzMzMzNAQGZmZmZmJkBAmpmZmZkZN0BmZmZmZmZBQAAAAAAAgDlAZmZmZmYmR0AzMzMzM3NCQM3MzMzMTDtAmpmZmZkZPEBmZmZmZmY+QDMzMzMzMzxAmpmZmZkZRUBmZmZmZmY+QM3MzMzMzD1AZmZmZmbmPkBmZmZmZmY1QJqZmZmZmT9AZmZmZmZmPUAzMzMzM7NCQGZmZmZm5jpAzczMzMzMMkAzMzMzM7M6QJqZmZmZmUJAmpmZmZmZPEAzMzMzM\\u002fNCQM3MzMzMTD5AMzMzMzOzOECamZmZmZk7QJqZmZmZGTNAAAAAAACAN0DNzMzMzEw0QAAAAAAAgDVAZmZmZmbmN0AAAAAAAMBAQAAAAAAAAD5AZmZmZmbmRECamZmZmZk1QGZmZmZm5jRAZmZmZmZmQUBmZmZmZmY3QAAAAAAAQEFAAAAAAAAAPkDNzMzMzExDQJqZmZmZmTZAMzMzMzMzPkAAAAAAAIBCQAAAAAAAADlAzczMzMyMR0AAAAAAAMBGQJqZmZmZGTlAZmZmZmZmN0CamZmZmZk9QGZmZmZmZjpAAAAAAACAP0CamZmZmRk5QGZmZmZm5jtAAAAAAABAQEAzMzMzMzM\\u002fQJqZmZmZGT9AzczMzMxMQ0AAAAAAAAAyQJqZmZmZmTpAzczMzMzMPUBmZmZmZuY8QAAAAAAAgDRAmpmZmZmZNEAzMzMzMzM4QAAAAAAAAEBAZmZmZmZmPECamZmZmRk6QGZmZmZmpkZAMzMzMzOzNkAzMzMzM7M8QAAAAAAAgDdAmpmZmZmZO0BmZmZmZmY\\u002fQDMzMzMzMzxAzczMzMxMPkDNzMzMzMw3QDMzMzMzszlAMzMzMzOzQ0BmZmZmZmY5QAAAAAAAgD1AmpmZmZmZNkBmZmZmZmY6QJqZmZmZGTxAzczMzMzMQkAzMzMzM7M\\u002fQJqZmZmZGT9AzczMzMxMPEAzMzMzM7M4QGZmZmZmZjJAZmZmZmbmP0CamZmZmRk+QM3MzMzMzEFAZmZmZmZmNUCamZmZmZk8QGZmZmZmZkZAAAAAAAAANUAAAAAAAIA5QGZmZmZmZjdAmpmZmZkZO0AzMzMzMzM1QJqZmZmZGTNAZmZmZmZmPEAzMzMzM7M+QAAAAAAAADlAAAAAAADAQkAzMzMzM7MzQGZmZmZm5j5AZmZmZmamQEDNzMzMzEw6QGZmZmZm5jtAMzMzMzOzO0AAAAAAAIA1QDMzMzMzM0FAZmZmZmbmN0DNzMzMzAxCQM3MzMzMTDlAMzMzMzOzNkAAAAAAAABEQGZmZmZmZjpAzczMzMzMNkDNzMzMzMw\\u002fQM3MzMzMTDpAZmZmZmZmPECamZmZmRlCQAAAAAAAAEFAAAAAAAAAOkDNzMzMzEw7QAAAAAAAAEBAzczMzMzMOEAAAAAAAABBQDMzMzMzMzBAzczMzMxMMECamZmZmRk8QM3MzMzMzDZAZmZmZmZmN0DNzMzMzAxDQM3MzMzMTDdAZmZmZmbmOEBmZmZmZuY4QJqZmZmZmT1AzczMzMxMO0DNzMzMzExCQJqZmZmZGTZAAAAAAACANECamZmZmZkuQGZmZmZmZjpAMzMzMzOzNEAzMzMzMzM2QGZmZmZm5jxAZmZmZmbmPkDNzMzMzAxEQM3MzMzMzDVAAAAAAADAQEBmZmZmZuY3QDMzMzMzc0dAmpmZmZmZPkCamZmZmRlBQDMzMzMzM0BAzczMzMxMQkDNzMzMzAxBQAAAAAAAADdAmpmZmZkZQEBmZmZmZuY4QDMzMzMzMzVAzczMzMzMOUBmZmZmZuZOQJqZmZmZmTdAzczMzMzMMkDNzMzMzMw5QM3MzMzMzD1AzczMzMzMOECamZmZmZlEQM3MzMzMTEBAZmZmZmbmQEBmZmZmZmY1QGZmZmZmJkFAMzMzMzNzREDNzMzMzMw7QGZmZmZm5jxAzczMzMzMNUDNzMzMzIxAQAAAAAAAgDdAZmZmZmZmO0AAAAAAAIA+QAAAAAAAgDZAzczMzMzMNkBmZmZmZuY3QJqZmZmZGTRAmpmZmZkZOUAzMzMzMzM+QDMzMzMzsztAzczMzMxMO0CamZmZmRkxQAAAAAAAgDpAzczMzMzMPUBmZmZmZuY8QM3MzMzMzEJAAAAAAAAAN0AAAAAAAIA3QJqZmZmZmUNAMzMzMzOzNkAzMzMzMzM4QGZmZmZmZj9AmpmZmZkZOkAzMzMzMzM6QJqZmZmZWUJAmpmZmZkZOUBmZmZmZuY6QJqZmZmZGTpAmpmZmZkZPkCamZmZmRk6QDMzMzMzsztAmpmZmZlZS0CamZmZmRk1QAAAAAAAgD1AZmZmZmZmPUAzMzMzM7NAQM3MzMzMzDxAAAAAAACAOUCamZmZmRkyQJqZmZmZGUNAzczMzMzMQkDNzMzMzEw7QGZmZmZm5kRAzczMzMwMQ0CamZmZmRk4QDMzMzMzM0BAmpmZmZmZMkAzMzMzMzM3QM3MzMzMzDpAzczMzMzMOUCamZmZmdlAQDMzMzMzMzVAMzMzMzPzQkCamZmZmZk3QGZmZmZmZjdAAAAAAABAQUCamZmZmZk+QGZmZmZm5j9AMzMzMzOzPEDNzMzMzEw1QAAAAAAAAEFAMzMzMzOzOkAAAAAAAEBAQGZmZmZmZjpAmpmZmZmZTEAAAAAAAIA7QAAAAAAAgDVAAAAAAAAAOUBmZmZmZuYwQDMzMzMzMzxAmpmZmZmZPUCamZmZmZk5QM3MzMzMTD5AAAAAAABAQEDNzMzMzEw7QDMzMzMzM0NAmpmZmZmZMkBmZmZmZmY0QM3MzMzMTDhAMzMzMzMzOkCamZmZmZkxQDMzMzMzszZAMzMzMzOzPEDNzMzMzMw1QGZmZmZmJkJAZmZmZmZmP0DNzMzMzMw6QJqZmZmZmUFAMzMzMzOzO0CamZmZmdlDQJqZmZmZmT5AZmZmZmZmPUDNzMzMzEw4QM3MzMzMzDBAmpmZmZkZPUDNzMzMzEwyQGZmZmZm5j5AzczMzMzMO0AAAAAAAIA1QAAAAAAAgDdAAAAAAACAO0AAAAAAAAA0QAAAAAAAwEdAMzMzMzNzQkDNzMzMzEw+QGZmZmZm5jlAZmZmZmbmOEAzMzMzMzM\\u002fQJqZmZmZGTtAmpmZmZkZOkAAAAAAAIA2QGZmZmZm5jtAZmZmZmbmREDNzMzMzMw3QJqZmZmZmTtAzczMzMzMRUBmZmZmZuY\\u002fQJqZmZmZmTBAZmZmZmbmNUBmZmZmZuZEQAAAAAAAgDpAzczMzMzMPEAzMzMzM3NHQJqZmZmZGThAMzMzMzOzQEBmZmZmZmY3QGZmZmZmZj9AzczMzMwMQUBmZmZmZuY6QGZmZmZmJkJAZmZmZmbmPEDNzMzMzMxEQM3MzMzMzDJAZmZmZmbmPkCamZmZmRk8QM3MzMzMTDlAzczMzMzMOkDNzMzMzMw+QDMzMzMzszZAzczMzMzMNECamZmZmRkwQDMzMzMzM0BAmpmZmZkZMkAAAAAAAIAyQJqZmZmZGT9AZmZmZmbmO0AAAAAAAABAQJqZmZmZmTNAMzMzMzOzOkAAAAAAAAA0QGZmZmZmZjVAMzMzMzOzPkCamZmZmZk\\u002fQDMzMzMzc0NAMzMzMzOzM0DNzMzMzMw6QJqZmZmZGT1AAAAAAACAQUAAAAAAAIA9QDMzMzMzMzhAAAAAAACAPECamZmZmZk\\u002fQAAAAAAAQEBAmpmZmZkZQUAAAAAAAAA9QDMzMzMzszlAAAAAAACAQEAAAAAAAAA4QM3MzMzMTD5AZmZmZmZmN0BmZmZmZuZBQGZmZmZmZjtAzczMzMxMP0BmZmZmZmY2QGZmZmZmJkBAzczMzMxMO0BmZmZmZmY3QJqZmZmZGUFAzczMzMyMREAzMzMzMzM8QAAAAAAAADBAMzMzMzMzRECamZmZmZkvQM3MzMzMzC9AmpmZmZkZPEAzMzMzMzM6QJqZmZmZGT9AMzMzMzMzO0AAAAAAAAA7QM3MzMzMTDVAzczMzMzMO0AzMzMzM7M5QM3MzMzMzDNAmpmZmZkZOUBmZmZmZmY8QJqZmZmZmTNAmpmZmZlZQECamZmZmRk3QDMzMzMzszJAMzMzMzOzPEBmZmZmZuY2QJqZmZmZ2UBAAAAAAACAOUAAAAAAAABGQM3MzMzMTD1AMzMzMzPzQkDNzMzMzMw2QM3MzMzMzDtAMzMzMzPzSkDNzMzMzEw8QDMzMzMzM0BAMzMzMzMzMEBmZmZmZmZAQGZmZmZm5jFAMzMzMzMzPkBmZmZmZmY8QM3MzMzMzDxAmpmZmZkZREDNzMzMzIxAQDMzMzMzc0JAMzMzMzOzQkCamZmZmZkyQJqZmZmZGTpAzczMzMxMQkBmZmZmZmY8QJqZmZmZWUFAMzMzMzNzQEDNzMzMzMwzQDMzMzMzszxAmpmZmZkZN0DNzMzMzIxBQAAAAAAAgDNAAAAAAAAAMkBmZmZmZmY+QDMzMzMzs0JAAAAAAAAANkAzMzMzM7MzQAAAAAAAAERAmpmZmZkZQEAzMzMzMzM4QJqZmZmZmT5AZmZmZmZmMECamZmZmZlAQJqZmZmZmTxAzczMzMxMPUAzMzMzM7M2QDMzMzMzs0NAZmZmZmbmOEAAAAAAAIA7QM3MzMzMzD9AzczMzMxMPEBmZmZmZuY8QGZmZmZmJkJAMzMzMzMzPUDNzMzMzAxCQDMzMzMzMzZAZmZmZmZmNUBmZmZmZqZFQDMzMzMzMzhAmpmZmZmZPEAAAAAAAAA7QDMzMzMzMz9AmpmZmZmZPUDNzMzMzIxMQGZmZmZm5jFAAAAAAACAP0BmZmZmZmY2QGZmZmZm5jBAzczMzMwMSUAAAAAAAAA7QAAAAAAAADhAZmZmZmbmQUDNzMzMzEw8QGZmZmZm5jpAzczMzMxMRUBmZmZmZmZAQDMzMzMzszVAMzMzMzOzOEAAAAAAAAA0QJqZmZmZGTBAAAAAAADAREBmZmZmZuY3QGZmZmZm5jdAMzMzMzMzOUBmZmZmZmY6QDMzMzMzM0JAmpmZmZmZOUAAAAAAAAA1QJqZmZmZmTpAAAAAAAAAQkAzMzMzM7NDQJqZmZmZGUBAzczMzMzMPUDNzMzMzEw+QM3MzMzMzDZAzczMzMxMQECamZmZmZk3QJqZmZmZGThAzczMzMzMNEAAAAAAAIA\\u002fQDMzMzMz80JAZmZmZmZmQkAAAAAAAAAxQM3MzMzMzDdAMzMzMzMzQkAAAAAAAIA6QDMzMzMzsztAMzMzMzOzNkBmZmZmZuY5QGZmZmZmZjRAZmZmZmZmNUAzMzMzMzM6QAAAAAAAgD5AMzMzMzOzQECamZmZmRk6QM3MzMzMzDRAzczMzMxMN0AAAAAAAEBEQM3MzMzMTDxAAAAAAACAPUBmZmZmZuY5QM3MzMzMTDlAMzMzMzOzNUAAAAAAAAA5QJqZmZmZGTBAZmZmZmYmQUAAAAAAAIA7QDMzMzMzMzxAAAAAAACAQkAAAAAAAIA4QDMzMzMz80BAmpmZmZnZREAAAAAAAAA1QDMzMzMzsz5AzczMzMxMPEDNzMzMzIxAQDMzMzMzszFAmpmZmZkZPEDNzMzMzEw3QAAAAAAAwEhAAAAAAADAQUAzMzMzM7M8QGZmZmZm5jhAMzMzMzOzSkAAAAAAAAAvQDMzMzMzM0ZAMzMzMzOzPUCamZmZmdlMQAAAAAAAgDVAZmZmZmbmMUAAAAAAAIA5QAAAAAAAgD9AAAAAAAAAQEAzMzMzM7M0QAAAAAAAADdAAAAAAACAMkAzMzMzM7M9QDMzMzMzsztAZmZmZmbmPEBmZmZmZmY9QJqZmZmZmTdAMzMzMzMzOUBmZmZmZmY9QAAAAAAAwEJAZmZmZmamQkDNzMzMzEw5QDMzMzMzMzdAZmZmZmZmOEAzMzMzMzNAQGZmZmZm5kJAMzMzMzMzNkAzMzMzM7M2QGZmZmZmZjNAzczMzMxMPkAzMzMzM3NEQM3MzMzMzEJAMzMzMzOzN0BmZmZmZmZEQGZmZmZmZj9AmpmZmZkZOkAAAAAAAAA8QM3MzMzMDEBAzczMzMzMM0AAAAAAAIA7QAAAAAAAADlAmpmZmZmZO0AAAAAAAIA6QJqZmZmZGTtAmpmZmZlZQEDNzMzMzEw8QGZmZmZmZkBAzczMzMzMQ0AzMzMzM\\u002fNBQM3MzMzMTDpAzczMzMzMPkDNzMzMzExAQJqZmZmZGTxAzczMzMyMQUAAAAAAAIA1QAAAAAAAAENAmpmZmZkZOEAAAAAAAAA+QDMzMzMzszxAzczMzMxMPkCamZmZmRk7QDMzMzMzMz9AmpmZmZmZN0AzMzMzMzM2QJqZmZmZmUJAMzMzMzOzNECamZmZmRk2QGZmZmZmZj5AmpmZmZkZOkCamZmZmZk5QM3MzMzMzEVAmpmZmZkZNEBmZmZmZiZFQM3MzMzMjEJAZmZmZmbmQUDNzMzMzEw7QJqZmZmZGT9AAAAAAAAAP0DNzMzMzMw3QAAAAAAAgDNAmpmZmZkZNEAzMzMzM7M8QM3MzMzMzDxAzczMzMxMPEBmZmZmZmY3QAAAAAAAQENAZmZmZmamRUBmZmZmZiZCQM3MzMzMzDVAzczMzMzMNkAAAAAAAIBAQAAAAAAAADtAMzMzMzPzQEAAAAAAAAA4QJqZmZmZGTlAmpmZmZmZPUDNzMzMzMw6QJqZmZmZmTdAzczMzMyMQEBmZmZmZuZFQGZmZmZmZjdAMzMzMzOzQkDNzMzMzMw8QJqZmZmZWUJAZmZmZmZmQ0DNzMzMzIxAQGZmZmZmZjZAmpmZmZmZOkAzMzMzM7NCQDMzMzMzMy5AMzMzMzMzMEAzMzMzMzM9QJqZmZmZGUBAZmZmZmbmMEAzMzMzM\\u002fNEQGZmZmZm5kFAmpmZmZkZOEAAAAAAAIA5QDMzMzMzc0lAMzMzMzMzP0AAAAAAAIA1QGZmZmZmZjFAAAAAAACANUCamZmZmZk5QM3MzMzMzDJAZmZmZmamQkCamZmZmRk9QGZmZmZmZj9AMzMzMzOzOECamZmZmRk2QM3MzMzMzDZAZmZmZmZmNUBmZmZmZmY3QM3MzMzMTDxAAAAAAACAOEAAAAAAAIA0QM3MzMzMTEBAmpmZmZkZP0AzMzMzMzNCQM3MzMzMDERAzczMzMzMPUCamZmZmZk4QDMzMzMzszVAmpmZmZmZPUAAAAAAAAA\\u002fQAAAAAAAADtAZmZmZmZmNEAAAAAAAIA7QM3MzMzMTDtAAAAAAABAREBmZmZmZuY+QJqZmZmZGTxAMzMzMzMzP0AAAAAAAAA5QJqZmZmZGThAmpmZmZkZQEBmZmZmZuY+QGZmZmZmJkBAZmZmZmbmN0CamZmZmRk7QDMzMzMzszdAmpmZmZmZPUAAAAAAAAA4QJqZmZmZGUBAZmZmZmbmPUAAAAAAAAA4QJqZmZmZ2UFAZmZmZmZmOECamZmZmZk7QAAAAAAAgDVAzczMzMzMO0AAAAAAAIA3QDMzMzMzszdAMzMzMzMzQUAAAAAAAIAzQAAAAAAAADdAmpmZmZlZQEDNzMzMzMwzQDMzMzMzszpAzczMzMxMNEDNzMzMzEw7QGZmZmZmZkBAMzMzMzMzNkAzMzMzM7MxQAAAAAAAwENAZmZmZmbmQEDNzMzMzExDQAAAAAAAgDpAAAAAAABARECamZmZmdlEQM3MzMzMzDtAZmZmZmZmOEAzMzMzMzMzQM3MzMzMTDNAMzMzMzOzNkAAAAAAAIBAQAAAAAAAwEZAZmZmZmZmN0AAAAAAAAA7QAAAAAAAAEFAAAAAAAAANECamZmZmZk7QM3MzMzMzDpAAAAAAAAAO0AAAAAAAAA7QDMzMzMzs0pAMzMzMzOzPUCamZmZmRlFQGZmZmZm5kFAMzMzMzOzOkAzMzMzM7M9QAAAAAAAgDhAZmZmZmYmQkBmZmZmZmZAQM3MzMzMzDxAmpmZmZkZN0AAAAAAAIA\\u002fQGZmZmZmZjhAzczMzMyMQEBmZmZmZmYwQDMzMzMzM0FAmpmZmZmZOEAzMzMzMzMyQAAAAAAAgD1AmpmZmZkZQ0AzMzMzMzM6QAAAAAAAwEBAZmZmZmZmOEBmZmZmZqZEQDMzMzMzszhAZmZmZmYmQEDNzMzMzEw8QDMzMzMzMy5AZmZmZmZmNEAzMzMzMzM2QAAAAAAAgDBAmpmZmZkZPkAAAAAAAIBBQAAAAAAAADNAmpmZmZkZOkCamZmZmdlCQM3MzMzMDEFAMzMzMzMzNkAAAAAAAIA+QDMzMzMzMzZAmpmZmZmZMUCamZmZmZkzQDMzMzMzMzFAAAAAAAAAP0CamZmZmZkyQJqZmZmZmTFAzczMzMzMNEAzMzMzM7NCQDMzMzMzMz9AMzMzMzMzLEDNzMzMzEw\\u002fQAAAAAAAgDdAMzMzMzMzQEAzMzMzMzNBQAAAAAAAQEBAZmZmZmZmPEAAAAAAAAA+QAAAAAAAgDpAmpmZmZmZO0CamZmZmRk9QJqZmZmZ2UVAZmZmZmbmMkCamZmZmZk7QAAAAAAAAD5AAAAAAACAMUBmZmZmZmY3QDMzMzMzMzJAAAAAAACAOUCamZmZmRk6QJqZmZmZmTBAZmZmZmZmOECamZmZmRk5QAAAAAAAADVAzczMzMxMMkBmZmZmZmZEQAAAAAAAADJAAAAAAACAOUAAAAAAAIA5QGZmZmZmZjRAZmZmZmZmN0BmZmZmZiZLQGZmZmZm5jxAMzMzMzMzMkDNzMzMzMw9QDMzMzMzs0FAmpmZmZlZQkCamZmZmRk5QAAAAAAAADVAZmZmZmbmOUBmZmZmZuZAQJqZmZmZmTlAZmZmZmZmN0CamZmZmZlCQM3MzMzMDENAmpmZmZkZNkAzMzMzMzM6QDMzMzMzszxAAAAAAACAOkDNzMzMzEw2QAAAAAAAQERAAAAAAAAAPUBmZmZmZuY9QGZmZmZm5kFAZmZmZmYmQ0DNzMzMzMw\\u002fQDMzMzMzMzRAMzMzMzMzOUDNzMzMzEw4QJqZmZmZmTlAmpmZmZmZOUAAAAAAAIA\\u002fQDMzMzMzsztAmpmZmZlZQUAAAAAAAIA1QAAAAAAAADdAZmZmZmbmPkAAAAAAAEBAQDMzMzMzM0FAAAAAAAAAMUAzMzMzMzM\\u002fQGZmZmZmZjVAzczMzMxMPECamZmZmZk7QDMzMzMzMzxAMzMzMzMzMUBmZmZmZmY2QGZmZmZmpkhAmpmZmZkZQ0AAAAAAAMBAQJqZmZmZmTpAzczMzMzMOUAAAAAAAIA6QDMzMzMzs0RAmpmZmZkZOkAzMzMzM7M4QDMzMzMzMzpAZmZmZmbmPUCamZmZmRk4QJqZmZmZmUNAAAAAAACAP0BmZmZmZmY5QDMzMzMzc0BAmpmZmZmZREAzMzMzM\\u002fNFQGZmZmZmZj1AAAAAAACAPUAAAAAAAIA1QM3MzMzMzDlAmpmZmZkZO0BmZmZmZuY8QGZmZmZmZjFAzczMzMzMPUAzMzMzM\\u002fNCQAAAAAAAgDNAZmZmZmZmNECamZmZmRk2QM3MzMzMzD9AmpmZmZlZQ0BmZmZmZmZAQAAAAAAAgD9AzczMzMxMQUBmZmZmZuZBQAAAAAAAADhAAAAAAAAAOEBmZmZmZuZCQGZmZmZm5jZAMzMzMzMzNkDNzMzMzExAQAAAAAAAAD9AAAAAAACAQUBmZmZmZmY7QGZmZmZmZjdAzczMzMxMOkCamZmZmRk3QGZmZmZm5jtAzczMzMyMQEDNzMzMzMxAQGZmZmZmZkJAAAAAAAAANkCamZmZmVlAQGZmZmZmJkBAMzMzMzOzPEBmZmZmZmZAQDMzMzMzMzlAAAAAAACAOkCamZmZmZk6QGZmZmZmZjNAzczMzMxMQ0CamZmZmRk3QAAAAAAAgDVAAAAAAABAQUCamZmZmRk+QAAAAAAAgENAmpmZmZkZO0AAAAAAAMBEQAAAAAAAAD9AmpmZmZkZN0BmZmZmZmYxQDMzMzMzMzpAmpmZmZkZPEAAAAAAAIA3QDMzMzMzMz9AZmZmZmZmM0CamZmZmZk2QGZmZmZmZjVAAAAAAACAO0DNzMzMzMwyQAAAAAAAgDVAAAAAAACAQEAzMzMzMzM4QGZmZmZmZjxAAAAAAACAPEDNzMzMzEw3QM3MzMzMDEJAMzMzMzOzOEAzMzMzMzMwQM3MzMzMzDZAzczMzMxMOECamZmZmZkyQM3MzMzMzDBAzczMzMzMMEAzMzMzMzM7QJqZmZmZGTtAmpmZmZmZL0CamZmZmRk2QJqZmZmZmThAzczMzMxMNUCamZmZmVlAQGZmZmZm5jdAmpmZmZmZNkAAAAAAAIA1QAAAAAAAADxAAAAAAACAOkDNzMzMzEw9QM3MzMzMDEBAAAAAAACANEAAAAAAAIBCQAAAAAAAgDhAAAAAAAAAPkDNzMzMzEw3QDMzMzMz80hAmpmZmZnZQUBmZmZmZuY2QGZmZmZmZjxAZmZmZmbmPUAAAAAAAIA6QDMzMzMzszdAZmZmZmbmNUDNzMzMzEw5QM3MzMzMzDdAZmZmZmbmOEAzMzMzM7NCQJqZmZmZmTdAmpmZmZmZPUCamZmZmZlGQAAAAAAAADVAMzMzMzMzO0DNzMzMzMw4QGZmZmZm5kJAZmZmZmbmPkAzMzMzMzMzQM3MzMzMzD9AzczMzMxMQUAAAAAAAIA7QGZmZmZm5jxAMzMzMzMzN0AAAAAAAAA1QM3MzMzMTDFAMzMzMzOzQECamZmZmRk7QM3MzMzMzD5AzczMzMzMOUAAAAAAAIA3QJqZmZmZmUFAzczMzMwMREAAAAAAAAA5QJqZmZmZGTxAzczMzMxMNkAzMzMzMzM9QJqZmZmZGTJAmpmZmZkZOUAAAAAAAIA6QAAAAAAAgDpAZmZmZmYmQEAzMzMzM7MzQAAAAAAAADpAzczMzMzMPUDNzMzMzEw6QGZmZmZmZkRAAAAAAACAQUAAAAAAAABDQAAAAAAAwEFAZmZmZmbmM0BmZmZmZuY3QAAAAAAAAEBAZmZmZmYmQECamZmZmVlGQAAAAAAAgD5AzczMzMxMPkBmZmZmZmY8QDMzMzMzsz9AZmZmZmZmNkCamZmZmRk\\u002fQGZmZmZmZjdAMzMzMzMzQUBmZmZmZmY5QM3MzMzMzD5AZmZmZmZmP0AzMzMzMzNBQJqZmZmZmTFAMzMzMzOzRUCamZmZmZk5QDMzMzMz80VAMzMzMzOzOkDNzMzMzEw\\u002fQJqZmZmZmTZAZmZmZmZmM0BmZmZmZuYxQGZmZmZmZkFAmpmZmZmZO0BmZmZmZuY+QM3MzMzMzDpAAAAAAAAARkBmZmZmZmY9QGZmZmZmZjtAMzMzMzOzO0CamZmZmRk+QAAAAAAAwEBAAAAAAACAN0BmZmZmZmY7QM3MzMzMzD5AMzMzMzOzN0BmZmZmZuY1QAAAAAAAwERAZmZmZmbmM0AzMzMzM7M6QM3MzMzMDERAzczMzMyMQEAzMzMzMzNBQAAAAAAAAEBAzczMzMxMN0DNzMzMzAxCQGZmZmZmZj1AMzMzMzOzO0BmZmZmZuY8QDMzMzMzszlAmpmZmZkZOkBmZmZmZmY8QM3MzMzMTDZAMzMzMzMzO0AAAAAAAEBBQJqZmZmZmTFAzczMzMzMLEBmZmZmZmY2QM3MzMzMzD5AzczMzMzMPEAzMzMzM3NBQJqZmZmZmS5AzczMzMzMP0AAAAAAAAA7QGZmZmZm5kRAAAAAAAAAPkAzMzMzM7M2QJqZmZmZ2UNAMzMzMzOzM0DNzMzMzMw1QM3MzMzMzEFAmpmZmZmZMkAzMzMzMzM1QAAAAAAAADxAZmZmZmZmPUBmZmZmZiZFQM3MzMzMzDhAZmZmZmbmPUCamZmZmZk9QDMzMzMzszlAAAAAAAAAPkCamZmZmZk5QGZmZmZm5kNAmpmZmZkZPEAAAAAAAAA3QAAAAAAAQEFAmpmZmZlZS0AAAAAAAAAxQM3MzMzMTDZAzczMzMxMPkAzMzMzM7M0QGZmZmZm5jRAMzMzMzOzRUAzMzMzM7M2QGZmZmZmJkRAZmZmZmZmNEAAAAAAAMBHQJqZmZmZGT5AAAAAAAAAN0AAAAAAAIA6QJqZmZmZmUFAzczMzMxMQEAzMzMzM7M5QGZmZmZmZjdAAAAAAAAAOUDNzMzMzEw5QJqZmZmZGTlAAAAAAACARkBmZmZmZiZAQJqZmZmZGThAZmZmZmbmMUBmZmZmZuY6QGZmZmZmpkBAMzMzMzNzQEDNzMzMzExBQM3MzMzMjEBAmpmZmZmZMECamZmZmZk5QAAAAAAAgD9AMzMzMzOzOUAAAAAAAAA+QJqZmZmZWUFAmpmZmZmZNECamZmZmZk7QAAAAAAAwEBAZmZmZmZmOUDNzMzMzEw+QJqZmZmZWUBAMzMzMzOzOEAAAAAAAIA6QJqZmZmZmTZAZmZmZmbmOkCamZmZmRk\\u002fQM3MzMzMTDhAZmZmZmbmP0BmZmZmZuY\\u002fQJqZmZmZmTtAMzMzMzOzO0DNzMzMzEw1QM3MzMzMDEBAAAAAAACAN0AzMzMzMzM8QGZmZmZmZj1AAAAAAAAAQEBmZmZmZmY4QM3MzMzMzDVAAAAAAABAQ0DNzMzMzMxCQDMzMzMz80JAMzMzMzOzNkAAAAAAAIA4QM3MzMzMTDBAmpmZmZmZJEAAAAAAAMBAQAAAAAAAgDVAZmZmZmZmOkAAAAAAAIA2QM3MzMzMzDpAMzMzMzOzNkAAAAAAAMBCQJqZmZmZGTZAAAAAAAAAOEBmZmZmZuZKQDMzMzMzs0ZAzczMzMxMOkDNzMzMzExAQM3MzMzMTDlAZmZmZmbmNUAAAAAAAAA7QM3MzMzMTDlAZmZmZmbmREDNzMzMzEw9QM3MzMzMTDJAmpmZmZmZN0AAAAAAAIA2QDMzMzMzszdAzczMzMxMOEBmZmZmZiZAQAAAAAAAAD1AzczMzMzMO0AAAAAAAIA\\u002fQGZmZmZmJkBAAAAAAACAPECamZmZmZlAQGZmZmZmZkFAzczMzMxMOUCamZmZmRk6QDMzMzMzMzhAzczMzMxMOUDNzMzMzIxDQDMzMzMzMztAzczMzMzMPUAzMzMzM7M2QGZmZmZmJkFAMzMzMzMzOkAAAAAAAAA9QAAAAAAAgDxAAAAAAAAAOUBmZmZmZmYwQJqZmZmZGTlAmpmZmZkZO0AAAAAAAIA8QJqZmZmZGTZAAAAAAACAM0BmZmZmZmY2QAAAAAAAgDNAmpmZmZkZNkAAAAAAAAA3QGZmZmZm5jpAzczMzMzMO0CamZmZmRk8QGZmZmZm5kFAmpmZmZkZPUAzMzMzMzNEQAAAAAAAgDNAAAAAAAAAQkAzMzMzMzM\\u002fQGZmZmZmZjlAmpmZmZkZOUDNzMzMzEw4QDMzMzMzszxAzczMzMzMOkCamZmZmZlCQGZmZmZmpkZAMzMzMzOzOUDNzMzMzIxAQM3MzMzMzDZAmpmZmZkZNUDNzMzMzEw9QAAAAAAAADdAzczMzMxMPkAAAAAAAABDQJqZmZmZmThAZmZmZmZmOkBmZmZmZuY8QGZmZmZmZjJAzczMzMwMQUCamZmZmVlAQM3MzMzMTEBAMzMzMzPzSUAAAAAAAIA9QDMzMzMzszpAAAAAAAAANUBmZmZmZiZBQDMzMzMzMzJAmpmZmZnZQEDNzMzMzEw+QJqZmZmZmTpAAAAAAAAANkBmZmZmZmY\\u002fQM3MzMzMTDtAzczMzMwMQEDNzMzMzEw2QDMzMzMzMztAzczMzMwMQUAAAAAAAMBCQGZmZmZmZjVAMzMzMzMzOkBmZmZmZmYwQJqZmZmZ2UFAMzMzMzOzNkBmZmZmZmY0QM3MzMzMzDdAmpmZmZmZPUAzMzMzM7M7QAAAAAAAgDtAmpmZmZkZO0AAAAAAAAA\\u002fQM3MzMzMzD1AMzMzMzPzSUBmZmZmZmY6QAAAAAAAgDhAAAAAAABAQUBmZmZmZqZAQAAAAAAAgEFAZmZmZmbmPkBmZmZmZmY3QDMzMzMzM0dAmpmZmZkZQUDNzMzMzEw5QDMzMzMzszxAAAAAAACAMUBmZmZmZmY1QM3MzMzMjEBAZmZmZmbmN0AzMzMzM3NHQJqZmZmZGTlAAAAAAAAANECamZmZmRk+QAAAAAAAgDhAmpmZmZkZQEBmZmZmZuY6QAAAAAAAgDBAZmZmZmYmQUBmZmZmZmY+QAAAAAAAgDRAZmZmZmZmQEAzMzMzM7M9QM3MzMzMTDxAzczMzMzMNUBmZmZmZuY+QDMzMzMzc0FAZmZmZmbmPUDNzMzMzMxDQM3MzMzMjEFAmpmZmZmZL0AzMzMzMzM5QDMzMzMzMzpAmpmZmZkZOUAAAAAAAAA+QJqZmZmZWUFAzczMzMwMQEBmZmZmZmY3QDMzMzMzsz9AmpmZmZkZOkAAAAAAAIA7QJqZmZmZGTxAmpmZmZkZOEDNzMzMzEw6QM3MzMzMTD1AMzMzMzMzOkBmZmZmZuY4QM3MzMzMTDlAzczMzMxMPECamZmZmZk7QM3MzMzMTDlAMzMzMzMzQUDNzMzMzEw5QDMzMzMzsz5AAAAAAAAAO0DNzMzMzExDQM3MzMzMzEBAmpmZmZkZPUCamZmZmRkxQDMzMzMzMz9AMzMzMzMzQEAzMzMzM7M9QAAAAAAAgDRAzczMzMxMO0DNzMzMzEw8QGZmZmZm5jhAZmZmZmYmQEAzMzMzMzM6QJqZmZmZmT9AzczMzMwMQ0DNzMzMzMw3QM3MzMzMTDpAZmZmZmamQECamZmZmRk+QDMzMzMzsz9AZmZmZmbmQ0AAAAAAAAA9QDMzMzMzMyxAAAAAAAAAQUAzMzMzMzNCQAAAAAAAAC9AmpmZmZkZQ0CamZmZmZkyQJqZmZmZmS5AMzMzMzMzRUDNzMzMzEw\\u002fQGZmZmZm5jxAAAAAAACAOkBmZmZmZqZAQJqZmZmZGTdAZmZmZmZmOEAzMzMzMzM3QAAAAAAAgD5AZmZmZmbmO0AzMzMzMzM7QGZmZmZm5j1AmpmZmZkZPUAzMzMzMzNAQGZmZmZmZjJAMzMzMzMzNkBmZmZmZuY+QGZmZmZm5jxAAAAAAABARkBmZmZmZuY+QGZmZmZmJkBAzczMzMzMQEBmZmZmZuYzQDMzMzMz80BAmpmZmZlZQUDNzMzMzMw8QGZmZmZmZjdAAAAAAACAOkBmZmZmZuZCQDMzMzMzszdAMzMzMzOzMECamZmZmRk9QDMzMzMzszlAAAAAAACAN0CamZmZmRk5QAAAAAAAAEVAmpmZmZkZPkCamZmZmRk0QAAAAAAAAEBAAAAAAAAAMEAAAAAAAIA0QGZmZmZmZjRAMzMzMzPzQEDNzMzMzEw9QJqZmZmZmSlAzczMzMyMQECamZmZmZk1QJqZmZmZ2UFAZmZmZmbmMECamZmZmZk2QJqZmZmZGT1AZmZmZmbmPkAAAAAAAIA+QAAAAAAAADZAmpmZmZnZQUAAAAAAAIA8QGZmZmZmZjxAMzMzMzOzPUCamZmZmRk+QGZmZmZmZjxAZmZmZmbmOkAzMzMzM7M+QGZmZmZmZj1AzczMzMxMOUBmZmZmZqZBQAAAAAAAgDFAMzMzMzOzMEDNzMzMzAxEQAAAAAAAAENAZmZmZmZmOEDNzMzMzEw6QAAAAAAAADdAAAAAAAAANEBmZmZmZqZBQDMzMzMzc0FAZmZmZmZmOkCamZmZmVlGQDMzMzMzszhAmpmZmZmZNEBmZmZmZuY8QAAAAAAAAEBAAAAAAACAOkBmZmZmZmY2QM3MzMzMzDBAmpmZmZkZNEDNzMzMzEw9QM3MzMzMTDBAmpmZmZmZPEBmZmZmZuZCQAAAAAAAAD1AAAAAAAAAQkAAAAAAAAA6QJqZmZmZmUJAMzMzMzOzPUDNzMzMzAxDQDMzMzMzM0FAZmZmZmbmPECamZmZmZk3QGZmZmZmpkBAAAAAAACAOEBmZmZmZuY+QAAAAAAAAEFAmpmZmZmZO0BmZmZmZmZAQJqZmZmZGTRAMzMzMzMzQUDNzMzMzMw\\u002fQDMzMzMzsz1AZmZmZmZmN0BmZmZmZuY3QDMzMzMzM0RAAAAAAADAQEAAAAAAAAA2QGZmZmZmZjpAzczMzMxMPUDNzMzMzMw6QGZmZmZm5jZAmpmZmZmZOkAAAAAAAIBCQJqZmZmZmUJAzczMzMzMO0AzMzMzM7NCQJqZmZmZGTZAzczMzMxMO0CamZmZmRlAQJqZmZmZGT9AAAAAAACAPEDNzMzMzExBQAAAAAAAgDdAmpmZmZlZQUBmZmZmZuY8QJqZmZmZ2UJAAAAAAAAAN0CamZmZmRkzQAAAAAAAAD1AmpmZmZkZOEAzMzMzM7MwQGZmZmZmZkpAMzMzMzNzQkDNzMzMzIxAQM3MzMzMTD9AmpmZmZnZRkAzMzMzMzM4QAAAAAAAgDRAAAAAAABAQEAzMzMzM7NDQAAAAAAAgDhAMzMzMzOzNkAzMzMzM7M2QM3MzMzMjENAAAAAAAAANEAAAAAAAAA6QJqZmZmZGT5AMzMzMzMzMUAAAAAAAAAvQDMzMzMzszNAzczMzMxMPEBmZmZmZmY6QGZmZmZmZkFAZmZmZmZmN0AzMzMzM\\u002fNAQDMzMzMzszZAAAAAAAAAP0BmZmZmZmYwQDMzMzMzszBAZmZmZmYmQUBmZmZmZmZBQDMzMzMzMzZAMzMzMzMzO0AzMzMzM7M6QDMzMzMzszJAMzMzMzMzNECamZmZmRk2QAAAAAAAAC1AMzMzMzOzRUAAAAAAAABDQGZmZmZmZkBAMzMzMzMzO0BmZmZmZuY+QM3MzMzMTDhAAAAAAACAPECamZmZmRk\\u002fQJqZmZmZGTdAMzMzMzMzO0CamZmZmdlBQDMzMzMzszpAZmZmZmZmPECamZmZmZk6QAAAAAAAgEBAMzMzMzMzPUCamZmZmVlCQGZmZmZm5jVAzczMzMxMNkAAAAAAAEBGQAAAAAAAAD1AMzMzMzMzN0BmZmZmZuY5QDMzMzMzsz5AzczMzMxMQUDNzMzMzEw+QDMzMzMzMzpAZmZmZmZmMUBmZmZmZuY1QAAAAAAAADlAmpmZmZkZPUCamZmZmZkxQGZmZmZm5j9AzczMzMzMNECamZmZmZk+QAAAAAAAgDRAZmZmZmYmQkCamZmZmZk4QGZmZmZm5j1AAAAAAAAAPkCamZmZmVlAQAAAAAAAgDdAAAAAAAAALkAAAAAAAIA3QAAAAAAAADFAzczMzMxMP0BmZmZmZmY6QJqZmZmZ2UBAMzMzMzMzP0AAAAAAAAA\\u002fQDMzMzMzM0BAzczMzMzMMEAAAAAAAIA9QAAAAAAAgDVAmpmZmZmZPUCamZmZmRlJQM3MzMzMTDVAZmZmZmZmOUAAAAAAAIA7QJqZmZmZGTxAMzMzMzMzQEBmZmZmZmY4QM3MzMzMzEFAzczMzMzMOkBmZmZmZmY8QGZmZmZmpkBAmpmZmZmZQ0DNzMzMzMw3QDMzMzMzszxAmpmZmZmZP0BmZmZmZmYzQJqZmZmZGTxAmpmZmZkZMkCamZmZmZk6QJqZmZmZGT5AmpmZmZkZOUAAAAAAAIA8QAAAAAAAgDtAzczMzMxMP0CamZmZmRk3QAAAAAAAAEBAZmZmZmYmRUAzMzMzM7MyQJqZmZmZGT1AMzMzMzOzOECamZmZmZk+QAAAAAAAAEBAZmZmZmYmSkCamZmZmRk0QAAAAAAAgD9AZmZmZmbmQEAAAAAAAIAzQGZmZmZmZjZAzczMzMwMQEAAAAAAAAA7QM3MzMzMTD1AZmZmZmbmQEAAAAAAAIA4QDMzMzMzMz9AmpmZmZmZM0AzMzMzM7MzQJqZmZmZ2UFAZmZmZmamQkCamZmZmRkyQGZmZmZmZjdAmpmZmZmZPUDNzMzMzEw0QGZmZmZm5jhAmpmZmZkZQkDNzMzMzMw1QM3MzMzMzEFAZmZmZmZmOkAzMzMzM7MxQDMzMzMzsz5AmpmZmZkZPkBmZmZmZuY6QDMzMzMzMzdAmpmZmZkZOECamZmZmRk7QDMzMzMzMzhAZmZmZmbmPUDNzMzMzMwyQJqZmZmZGUNAmpmZmZkZPEAzMzMzM7MxQAAAAAAAADpAZmZmZmZmM0CamZmZmRk4QDMzMzMzszxAmpmZmZkZMUAAAAAAAABAQJqZmZmZmTtAAAAAAADAQkAzMzMzMzNBQGZmZmZmZjFAMzMzMzMzNUBmZmZmZiZAQAAAAAAAADxAZmZmZmbmOkAzMzMzM7M7QJqZmZmZGThAAAAAAAAAOEBmZmZmZmY7QGZmZmZmZjxAzczMzMxMOEAAAAAAAIAzQAAAAAAAADVAzczMzMxMPEBmZmZmZmY1QJqZmZmZmUJAzczMzMxMNUCamZmZmZk7QM3MzMzMzDZAAAAAAAAAPkAzMzMzM7M2QM3MzMzMjENAmpmZmZmZOkAAAAAAAIBBQGZmZmZmZjBAmpmZmZkZPEBmZmZmZqZBQJqZmZmZmUBAAAAAAADARECamZmZmRk9QGZmZmZmJkBAMzMzMzMzNkBmZmZmZuZCQM3MzMzMzD9AAAAAAAAAOEAAAAAAAAA6QM3MzMzMzDpAmpmZmZmZO0DNzMzMzExCQGZmZmZmZjlAzczMzMwMQEAzMzMzM7M6QAAAAAAAgDtAAAAAAAAANkAzMzMzMzMxQDMzMzMzMzhAMzMzMzOzPkDNzMzMzEw0QM3MzMzMzE9AAAAAAAAAP0CamZmZmZkyQM3MzMzMzDRAZmZmZmbmQUDNzMzMzEw6QGZmZmZm5jdAZmZmZmZmN0BmZmZmZuY6QJqZmZmZmTpAMzMzMzMzPkAAAAAAAIAyQGZmZmZmZjpAAAAAAACAM0AzMzMzMzMzQJqZmZmZmUFAMzMzMzOzP0DNzMzMzMw4QGZmZmZm5jtAmpmZmZkZNEDNzMzMzMw+QAAAAAAAgDdAAAAAAACAPUCamZmZmRk\\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\\u002fQGZmZmZmZjlAmpmZmZmZL0AzMzMzM\\u002fNBQGZmZmZmZjJAmpmZmZkZOEAAAAAAAAA9QGZmZmZmZjhAzczMzMzMRUAAAAAAAAA2QAAAAAAAgDtAZmZmZmZmOEDNzMzMzMwzQJqZmZmZmTxAzczMzMxMOEBmZmZmZmY3QDMzMzMzMz1AAAAAAACAOkCamZmZmRk6QDMzMzMzMzdAMzMzMzPzQkBmZmZmZuY3QAAAAAAAgDxAAAAAAACAPUAzMzMzM7MxQDMzMzMzMzxAZmZmZmbmP0BmZmZmZmY5QDMzMzMzMy5AzczMzMzMOUAzMzMzMzNCQAAAAAAAADlAAAAAAAAAP0DNzMzMzMw6QJqZmZmZmTlAzczMzMxMNEAAAAAAAABDQAAAAAAAgD1AmpmZmZmZO0DNzMzMzMwwQDMzMzMzszZAZmZmZmZmM0BmZmZmZmY\\u002fQDMzMzMzMzRAMzMzMzMzQEAzMzMzM7M7QGZmZmZm5jlAAAAAAABAQUDNzMzMzMw1QJqZmZmZmUZAAAAAAACAOUAAAAAAAIA8QM3MzMzMzDdAMzMzMzMzPUCamZmZmZk9QM3MzMzMjEBAZmZmZmZmM0BmZmZmZmY2QM3MzMzMTDxAZmZmZmamQ0CamZmZmRk2QDMzMzMzMzZAZmZmZmZmM0BmZmZmZmZCQAAAAAAAgDtAAAAAAAAAPEBmZmZmZmY9QM3MzMzMzDhAMzMzMzOzPUDNzMzMzEw2QGZmZmZm5j1AMzMzMzPzREDNzMzMzIxCQM3MzMzMzDhAMzMzMzOzPECamZmZmRk1QDMzMzMzMzVAZmZmZmZmNECamZmZmRkyQAAAAAAAQEBAMzMzMzOzO0CamZmZmdlAQAAAAAAAwENAzczMzMxMPkCamZmZmZlFQGZmZmZm5jlAZmZmZmZmQEAAAAAAAIA\\u002fQGZmZmZm5j5AmpmZmZkZQEBmZmZmZmZAQDMzMzMzMzVAmpmZmZkZSEDNzMzMzEw3QGZmZmZmZjBAzczMzMxMPkBmZmZmZuY1QDMzMzMzMzxAzczMzMzMNkBmZmZmZuZAQAAAAAAAgDNAZmZmZmZmP0AAAAAAAABBQJqZmZmZmTdAAAAAAAAAOEBmZmZmZqZAQDMzMzMzM0BAmpmZmZkZM0CamZmZmRk\\u002fQJqZmZmZ2UBAmpmZmZmZQkBmZmZmZuY+QDMzMzMzMzpAzczMzMxMO0AAAAAAAIA5QJqZmZmZGT5AZmZmZmYmRUAAAAAAAIA7QM3MzMzMTEJAZmZmZmZmO0CamZmZmRlBQDMzMzMz80VAMzMzMzMzLkAAAAAAAABAQGZmZmZmZj9AmpmZmZkZNkAAAAAAAAA6QAAAAAAAgDVAAAAAAACAPUBmZmZmZuZFQJqZmZmZmTFAMzMzMzOzN0AzMzMzMzM0QJqZmZmZmS5AmpmZmZlZQkDNzMzMzMw3QM3MzMzMTDpAmpmZmZkZN0AAAAAAAIBAQM3MzMzMzDRAmpmZmZmZOEAAAAAAAAA6QAAAAAAAgDdAZmZmZmZmMkDNzMzMzMxEQJqZmZmZGTlAMzMzMzOzNkBmZmZmZmY\\u002fQJqZmZmZGT5AmpmZmZkZNkCamZmZmZk9QDMzMzMzsztAzczMzMxMOkAAAAAAAAA4QJqZmZmZGT1AzczMzMzMPECamZmZmZkyQGZmZmZmZj9AzczMzMxMP0BmZmZmZmYzQJqZmZmZWUZAMzMzMzMzQEAzMzMzM7M7QDMzMzMzM0RAmpmZmZkZO0CamZmZmdlCQAAAAAAAgDNAmpmZmZmZPkBmZmZmZmY6QGZmZmZmZjZAZmZmZmZmNkDNzMzMzMw\\u002fQM3MzMzMTD5AzczMzMzMOUAAAAAAAIBBQDMzMzMz80VAZmZmZmZmQUAAAAAAAABHQDMzMzMzMztAmpmZmZmZQEDNzMzMzMw3QGZmZmZmZkNAMzMzMzMzNUBmZmZmZqZGQAAAAAAAgDpAAAAAAAAAP0AAAAAAAIA3QGZmZmZm5jlAAAAAAABAQUAzMzMzMzM\\u002fQAAAAAAAAEBAZmZmZmZmQEAAAAAAAABAQJqZmZmZmT5AmpmZmZkZO0BmZmZmZiZCQAAAAAAAQENAAAAAAAAAR0BmZmZmZuZDQM3MzMzMTD5AAAAAAACAO0DNzMzMzEw6QM3MzMzMTElAzczMzMzMPEDNzMzMzExAQM3MzMzMTDhAZmZmZmZmNkAAAAAAAAA\\u002fQGZmZmZmZjRAzczMzMzMQkCamZmZmRk2QGZmZmZmZjlAMzMzMzMzOkCamZmZmRk8QAAAAAAAgDJAZmZmZmZmOEAzMzMzM7M7QDMzMzMzs0NAAAAAAACAPEBmZmZmZiZBQM3MzMzMTDNAZmZmZmZmO0CamZmZmVlCQDMzMzMzMz1AAAAAAAAAOEBmZmZmZmY5QDMzMzMzsztAAAAAAAAAOEDNzMzMzExCQAAAAAAAgDdAMzMzMzOzMUAzMzMzMzMxQGZmZmZmpkFAMzMzMzMzQkAAAAAAAIBAQGZmZmZm5jNAAAAAAAAAPUDNzMzMzAxAQDMzMzMzM0RAZmZmZmZmPEBmZmZmZuZAQAAAAAAAAERAAAAAAACAN0AzMzMzM7NDQDMzMzMzs0VAMzMzMzOzNkAAAAAAAAA8QGZmZmZmZjFAzczMzMxMNUCamZmZmRkzQM3MzMzMjEFAZmZmZmZmQEDNzMzMzMw2QM3MzMzMTDxAzczMzMxMPEAzMzMzM7M7QGZmZmZmZjlAMzMzMzOzNkBmZmZmZmY5QAAAAAAAAD9AZmZmZmZmRUDNzMzMzMxAQM3MzMzMzDVAZmZmZmZmOUAAAAAAAAA2QGZmZmZm5jJAzczMzMzMPEBmZmZmZuYzQAAAAAAAADlAmpmZmZkZN0AzMzMzMzNEQDMzMzMzM0JAMzMzMzMzOkAAAAAAAIBCQDMzMzMzszBAmpmZmZmZO0AzMzMzM7MzQAAAAAAAgDZAZmZmZmZmNEDNzMzMzEw+QAAAAAAAwEZAmpmZmZmZP0DNzMzMzEw9QJqZmZmZGTRAmpmZmZkZM0CamZmZmRlAQJqZmZmZGThAAAAAAACAP0BmZmZmZuY3QGZmZmZmZjxAmpmZmZkZSUBmZmZmZuY5QM3MzMzMTENAAAAAAAAAOkCamZmZmRkwQGZmZmZm5j1AzczMzMzMPUAzMzMzM\\u002fNBQDMzMzMzszJAZmZmZmZmN0AzMzMzM3NEQJqZmZmZGUFAAAAAAACAPEBmZmZmZmYzQJqZmZmZmTVAzczMzMzMP0CamZmZmZk9QJqZmZmZmTlAAAAAAADAQEAAAAAAAIA9QM3MzMzMTDtAzczMzMzMMUAzMzMzM\\u002fNAQJqZmZmZmS1AmpmZmZlZQUCamZmZmZk+QAAAAAAAgD5AZmZmZmbmMkAAAAAAAAA4QM3MzMzMTDpAAAAAAACAPUCamZmZmZk8QDMzMzMzsz1AAAAAAACAPkAzMzMzM7MzQAAAAAAAADdAAAAAAACAN0AAAAAAAIA5QGZmZmZmZjVAzczMzMzMPUAAAAAAAAA7QJqZmZmZmThAmpmZmZkZMkAAAAAAAMBCQGZmZmZm5jhAAAAAAAAAN0BmZmZmZuY0QDMzMzMzs0JAZmZmZmYmQEBmZmZmZiZAQDMzMzMzMy9AmpmZmZkZPkCamZmZmZkvQDMzMzMzs0pAmpmZmZkZNEAAAAAAAAA+QGZmZmZmZjlAzczMzMxMNUAAAAAAAIA4QAAAAAAAAD5AmpmZmZmZPEDNzMzMzMw\\u002fQM3MzMzMTDhAzczMzMzMPkAAAAAAAIAzQAAAAAAAgDpAzczMzMxMMkBmZmZmZuY9QM3MzMzMjERAMzMzMzPzQUBmZmZmZmY7QM3MzMzMzEBAZmZmZmbmQUDNzMzMzEw7QAAAAAAAQEFAAAAAAAAAPEBmZmZmZmY6QJqZmZmZmTZAAAAAAACAOUAAAAAAAAA1QJqZmZmZmTxAmpmZmZkZMEAzMzMzMzNBQGZmZmZm5jVAZmZmZmbmP0AzMzMzM7M7QDMzMzMzszxAMzMzMzMzNkBmZmZmZqZBQJqZmZmZmTpAzczMzMxMO0BmZmZmZmY1QDMzMzMzs0VAZmZmZmZmPUAzMzMzMzM9QGZmZmZm5jxAAAAAAACAPUAAAAAAAEBBQAAAAAAAADtAAAAAAAAAOEAzMzMzM7M6QJqZmZmZmThAZmZmZmZmPEBmZmZmZqZCQDMzMzMzsztAzczMzMyMQEDNzMzMzMw4QGZmZmZm5j9AzczMzMxMPkAzMzMzMzNCQAAAAAAAADZAmpmZmZmZPkBmZmZmZmYyQJqZmZmZGTRAAAAAAACAN0AzMzMzM7M6QJqZmZmZGTNAMzMzMzOzQEAAAAAAAIA1QAAAAAAAgDlAmpmZmZmZOkBmZmZmZuY+QJqZmZmZmTdAzczMzMzMOEDNzMzMzMw6QAAAAAAAADdAAAAAAAAAPkAAAAAAAMBEQGZmZmZm5jdAMzMzMzMzOkAAAAAAAEBAQAAAAAAAQERAMzMzMzOzRECamZmZmdlCQDMzMzMz80JAmpmZmZkZNUAzMzMzMzM4QJqZmZmZ2UNAAAAAAAAAQEAzMzMzMzM9QDMzMzMzsz5AAAAAAAAAL0BmZmZmZmY5QM3MzMzMzD1AmpmZmZmZO0AAAAAAAAA3QDMzMzMzsztAmpmZmZlZQUCamZmZmRlAQAAAAAAAADtAMzMzMzOzOECamZmZmVlBQDMzMzMzsztAzczMzMzMNUDNzMzMzMw+QGZmZmZm5jlAzczMzMyMQECamZmZmZk8QGZmZmZmJkBAzczMzMzMN0CamZmZmRlBQGZmZmZmJkBAmpmZmZmZQECamZmZmZkwQM3MzMzMzD5AAAAAAAAANkBmZmZmZuYyQJqZmZmZmTxAMzMzMzMzOkBmZmZmZmY+QM3MzMzMzDdAZmZmZmZmN0CamZmZmZk7QDMzMzMzM0BAzczMzMxMOUCamZmZmRk+QAAAAAAAAD5AAAAAAADAREBmZmZmZiZDQGZmZmZmZkBAAAAAAABAQEAzMzMzM7NDQAAAAAAAgDVAAAAAAACAM0BmZmZmZmY4QM3MzMzMjEBAzczMzMzMMUAzMzMzM\\u002fNAQAAAAAAAADRAZmZmZmZmOEAAAAAAAAA9QDMzMzMzM0JAzczMzMwMRUDNzMzMzMw4QAAAAAAAgD9AZmZmZmZmN0AAAAAAAIA3QJqZmZmZGTpAmpmZmZmZPUAAAAAAAEBAQJqZmZmZmTtAZmZmZmZmOkBmZmZmZmY9QAAAAAAAADZAzczMzMwMSUAzMzMzM7MwQJqZmZmZ2UNAZmZmZmZmPkDNzMzMzEw\\u002fQDMzMzMz80FAMzMzMzOzNUAAAAAAAIA6QGZmZmZmJkBAZmZmZmZmNUAzMzMzMzM6QM3MzMzMzDlAMzMzMzOzOUAAAAAAAAA\\u002fQM3MzMzMTDhAMzMzMzMzP0BmZmZmZqZDQGZmZmZm5jdAZmZmZmZmOUCamZmZmRk5QAAAAAAAgD9AZmZmZmZmMEDNzMzMzEw5QJqZmZmZGTlAmpmZmZkZOUAzMzMzM7M\\u002fQM3MzMzMjEBAAAAAAACAN0DNzMzMzMw+QJqZmZmZGUNAmpmZmZlZSkCamZmZmRk7QJqZmZmZGT1AMzMzMzOzMEBmZmZmZmY2QM3MzMzMzDRAZmZmZmbmQEDNzMzMzExAQJqZmZmZmT1AzczMzMzMOkBmZmZmZuY7QDMzMzMzszpAzczMzMzMN0CamZmZmVlAQGZmZmZmJkRAmpmZmZkZPUBmZmZmZmY3QAAAAAAAADlAZmZmZmZmPUAAAAAAAIA+QJqZmZmZmT5AZmZmZmZmPUAAAAAAAAA+QM3MzMzMzERAAAAAAACANkBmZmZmZmY8QAAAAAAAgD5AAAAAAAAAPUAAAAAAAIAzQAAAAAAAADJAAAAAAACAPECamZmZmVlAQDMzMzMzs0BAZmZmZmbmMkBmZmZmZmY2QGZmZmZmZj1AmpmZmZkZOEBmZmZmZuY9QDMzMzMzMztAAAAAAACAOUCamZmZmZk+QGZmZmZmZkRAmpmZmZkZNkAAAAAAAAA7QAAAAAAAADpAAAAAAACAP0CamZmZmRk\\u002fQGZmZmZm5j1AmpmZmZkZOkDNzMzMzMw+QJqZmZmZGTpAzczMzMxMOUAzMzMzM7M6QAAAAAAAAERAmpmZmZmZO0AzMzMzMzNEQJqZmZmZGUJAMzMzMzOzOkAAAAAAAIA+QGZmZmZm5j9AAAAAAADAQkAAAAAAAAA+QAAAAAAAgD9AzczMzMzMPUDNzMzMzEw2QDMzMzMzsztAZmZmZmbmPEAzMzMzMzM3QJqZmZmZmT1AAAAAAAAAOUAAAAAAAIA+QAAAAAAAwEBAZmZmZmbmREAAAAAAAAA9QDMzMzMzs0BAzczMzMzMN0AzMzMzM7M6QDMzMzMzszxAzczMzMzMP0AAAAAAAIA3QGZmZmZmJkhAmpmZmZlZQUAzMzMzM\\u002fNFQGZmZmZm5jtAMzMzMzMzO0AzMzMzM3NAQDMzMzMz80FAZmZmZmZmP0CamZmZmZkyQJqZmZmZ2UFAzczMzMxMO0AzMzMzMzM7QJqZmZmZmTpAAAAAAAAAPECamZmZmZk\\u002fQJqZmZmZGT1AAAAAAACAOUAAAAAAAIAwQDMzMzMzMz1AZmZmZmZmPEDNzMzMzMw8QDMzMzMzMzdAzczMzMxMPECamZmZmRkxQM3MzMzMTDtAZmZmZmZmQUAAAAAAAIA5QGZmZmZmZjVAzczMzMzMQEBmZmZmZuZBQAAAAAAAgDZAZmZmZmZmPECamZmZmZk8QDMzMzMzMzlAMzMzMzMzRUBmZmZmZmY1QJqZmZmZGTlAMzMzMzOzNUBmZmZmZuY4QAAAAAAAwERAMzMzMzOzO0AAAAAAAIA8QM3MzMzMDEBAzczMzMyMQEBmZmZmZmYyQM3MzMzMjEJAAAAAAABAQEAzMzMzMzM8QM3MzMzMzD5AzczMzMyMQkDNzMzMzEw7QGZmZmZmJkBAMzMzMzOzP0AzMzMzMzNBQDMzMzMzszpAAAAAAACAPEBmZmZmZmY7QAAAAAAAgDlAZmZmZmYmQEBmZmZmZuY\\u002fQM3MzMzMTDlAZmZmZmZmM0CamZmZmZk\\u002fQDMzMzMzszNAmpmZmZkZNUBmZmZmZmZLQAAAAAAAADpAmpmZmZmZOEDNzMzMzMwyQGZmZmZm5jlAMzMzMzOzPECamZmZmZk8QGZmZmZmJkFAmpmZmZkZOkAAAAAAAAA3QGZmZmZm5j9AzczMzMzMNkBmZmZmZuY6QM3MzMzMTDlAMzMzMzMzP0CamZmZmRk7QM3MzMzMzENAZmZmZmZmMUBmZmZmZiZCQJqZmZmZGTtAzczMzMzMP0AzMzMzM7MzQAAAAAAAgDVAzczMzMxMQEAAAAAAAIBAQDMzMzMzszxAzczMzMzMNkDNzMzMzEw2QJqZmZmZGT9AMzMzMzMzOkDNzMzMzMw6QJqZmZmZmUJAmpmZmZkZPUBmZmZmZmY8QAAAAAAAgDhAAAAAAAAAQECamZmZmRk0QJqZmZmZmTxAMzMzMzOzP0BmZmZmZmY3QDMzMzMzs0BAmpmZmZmZOEAAAAAAAMBAQJqZmZmZGUJAMzMzMzMzOkCamZmZmVlBQGZmZmZmZjhAmpmZmZkZMUAAAAAAAIA7QDMzMzMzMzpAzczMzMzMMUDNzMzMzEwyQAAAAAAAgDVAZmZmZmZmOUAzMzMzM7NDQAAAAAAAgD5AAAAAAABAQUDNzMzMzMw5QAAAAAAAgDNAMzMzMzMzM0DNzMzMzMw8QAAAAAAAgEFAmpmZmZkZOkAzMzMzM3NOQJqZmZmZ2UJAzczMzMzMNUCamZmZmRk+QJqZmZmZmTtAzczMzMzMQEAAAAAAAAA3QM3MzMzMjEBAmpmZmZmZP0CamZmZmZk8QDMzMzMzszxAZmZmZmbmOEAAAAAAAIA5QDMzMzMzMzRAAAAAAACAOkCamZmZmRk8QM3MzMzMTDhAAAAAAAAAOUAzMzMzMzM2QGZmZmZmZkpAZmZmZmZmNEAAAAAAAIBFQJqZmZmZGTRAMzMzMzMzNkCamZmZmRk7QAAAAAAAADBAAAAAAACAQkAAAAAAAIA5QDMzMzMzM0FAMzMzMzMzOEDNzMzMzEw6QAAAAAAAgDNAMzMzMzMzNEDNzMzMzMw1QGZmZmZmZjxAAAAAAACAM0AzMzMzM7M7QJqZmZmZGUFAmpmZmZmZNUCamZmZmRkzQDMzMzMzszZAAAAAAAAAS0BmZmZmZuZBQGZmZmZm5jpAzczMzMzMM0AzMzMzM\\u002fNMQM3MzMzMzDhAmpmZmZmZOkCamZmZmVlAQAAAAAAAwEFAMzMzMzOzNEDNzMzMzIxAQAAAAAAAgDtAmpmZmZmZNUAzMzMzM7M9QGZmZmZmZjlAZmZmZmZmPEBmZmZmZuZBQJqZmZmZmTlAAAAAAACAQECamZmZmRlFQDMzMzMz80JAzczMzMzMNkBmZmZmZmY5QJqZmZmZ2URAAAAAAACAOEDNzMzMzEw5QDMzMzMzMzVAMzMzMzMzOEDNzMzMzEw7QAAAAAAAAD1AZmZmZmZmNUAAAAAAAIA6QM3MzMzMTD9AZmZmZmZmMUAAAAAAAAAuQDMzMzMzszxAmpmZmZmZO0BmZmZmZiZJQM3MzMzMzDhAzczMzMwMQkDNzMzMzMw9QGZmZmZmZjRAMzMzMzNzQUAzMzMzMzM\\u002fQJqZmZmZ2UFAmpmZmZmZMUAAAAAAAIA4QJqZmZmZGTlAMzMzMzMzPUCamZmZmdlAQM3MzMzMTDBAAAAAAAAAQEDNzMzMzEw2QM3MzMzMzEJAMzMzMzMzNkAAAAAAAIA3QM3MzMzMTDhAmpmZmZkZNkAzMzMzM7M4QM3MzMzMjEBAmpmZmZmZMUAzMzMzM7M\\u002fQAAAAAAAAD9AmpmZmZkZOECamZmZmVlBQAAAAAAAgDNAAAAAAABAQEBmZmZmZmY1QDMzMzMzszBAmpmZmZkZP0AzMzMzMzMxQDMzMzMzMyxAAAAAAACAN0CamZmZmRk\\u002fQDMzMzMzMzlAZmZmZmbmN0CamZmZmZk+QDMzMzMzMz5AzczMzMzMN0DNzMzMzEw9QAAAAAAAgDVAAAAAAAAAPkAAAAAAAABGQDMzMzMzMz1AZmZmZmbmQUAAAAAAAAA7QJqZmZmZGTtAmpmZmZmZQUDNzMzMzMw3QJqZmZmZWUFAZmZmZmZmO0DNzMzMzEwwQAAAAAAAwEBAzczMzMxMQUCamZmZmZlEQDMzMzMzsztAMzMzMzMzP0CamZmZmVlAQAAAAAAAADJAzczMzMzMPECamZmZmRk\\u002fQJqZmZmZGTpAmpmZmZmZO0AAAAAAAAA4QGZmZmZmZjlAMzMzMzOzQkAAAAAAAABDQAAAAAAAgDVAMzMzMzNzQUBmZmZmZmY\\u002fQJqZmZmZGTdAAAAAAADAQEAzMzMzMzM+QDMzMzMzMz1AAAAAAACAPEDNzMzMzMw8QDMzMzMzMztAZmZmZmbmOUCamZmZmVlCQAAAAAAAADhAmpmZmZmZQUAzMzMzM3NCQDMzMzMzMzpAmpmZmZkZO0AAAAAAAAA1QAAAAAAAADxAmpmZmZmZO0DNzMzMzIxAQJqZmZmZGTpAMzMzMzMzNkDNzMzMzMw9QGZmZmZmZj9AmpmZmZkZP0AzMzMzMzMuQJqZmZmZGTlAMzMzMzOzO0DNzMzMzMw4QM3MzMzMDEBAMzMzMzNzQ0BmZmZmZuY6QGZmZmZmZjNAAAAAAADAQEAAAAAAAIA3QGZmZmZmJkFAAAAAAACAOUBmZmZmZuY8QGZmZmZmZjlAAAAAAACANkBmZmZmZmY3QGZmZmZm5jtAAAAAAACAPkDNzMzMzMw7QAAAAAAAgEVAMzMzMzMzNEBmZmZmZmY5QGZmZmZm5jxAzczMzMzMQUAAAAAAAAAxQAAAAAAAAD5AZmZmZmZmOEBmZmZmZmY1QM3MzMzMzDdAzczMzMyMQEAzMzMzMzM3QJqZmZmZ2UFAmpmZmZlZQkCamZmZmRk2QDMzMzMzsz5AMzMzMzMzR0DNzMzMzEw+QDMzMzMzMzZAmpmZmZmZMUDNzMzMzExBQJqZmZmZmTFAMzMzMzOzNUCamZmZmZkyQAAAAAAAADFAZmZmZmbmNEAAAAAAAAAyQGZmZmZm5jtAMzMzMzMzPEDNzMzMzEw0QGZmZmZm5jpAMzMzMzOzRkAAAAAAAAAxQAAAAAAAgDdAMzMzMzPzSkCamZmZmRk6QM3MzMzMDEdAmpmZmZkZNkBmZmZmZuY9QAAAAAAAAD1AAAAAAAAANkDNzMzMzMw5QDMzMzMzszZAzczMzMzMPUBmZmZmZmYvQDMzMzMzszpAZmZmZmbmNUAzMzMzM7M3QGZmZmZmZjpAmpmZmZnZQkAAAAAAAAAyQGZmZmZm5jxAMzMzMzOzPUDNzMzMzIxFQM3MzMzMzDNAmpmZmZkZM0AzMzMzMzM9QJqZmZmZGTJAZmZmZmZmNUBmZmZmZuY6QDMzMzMzszdAZmZmZmbmOUBmZmZmZmY9QM3MzMzMzDRAmpmZmZmZPUDNzMzMzExCQJqZmZmZmTxAMzMzMzOzOkAAAAAAAABAQAAAAAAAADJAzczMzMxMOkCamZmZmZlBQAAAAAAAADhAAAAAAABAQEDNzMzMzMxFQGZmZmZmZjdAmpmZmZkZOkAAAAAAAAA1QJqZmZmZGTVAAAAAAACAP0DNzMzMzMwwQM3MzMzMTDtAMzMzMzOzP0AzMzMzM7M3QAAAAAAAADZAmpmZmZkZO0AAAAAAAIA6QM3MzMzMzD5AZmZmZmbmNECamZmZmRk\\u002fQGZmZmZmJkJAzczMzMzMPECamZmZmZlDQAAAAAAAgDZAZmZmZmbmO0AzMzMzM7M5QJqZmZmZGT5AzczMzMzMQkAAAAAAAIA+QDMzMzMzszpAmpmZmZmZPUAAAAAAAIA8QM3MzMzMzDlAMzMzMzOzN0AAAAAAAIA1QAAAAAAAQEJAzczMzMxMP0AzMzMzMzM2QM3MzMzMzD9AzczMzMxMQ0AzMzMzM\\u002fNHQAAAAAAAgDxAzczMzMwMQECamZmZmRk4QAAAAAAAgDVAmpmZmZnZREAzMzMzM7M7QDMzMzMzszJAZmZmZmbmMEAzMzMzM3NAQDMzMzMzMzhAmpmZmZkZNkDNzMzMzMw5QDMzMzMzMzBAMzMzMzMzN0CamZmZmZk0QGZmZmZmZjlAzczMzMxMQUDNzMzMzEw5QJqZmZmZmTpAAAAAAACAOkDNzMzMzEwyQM3MzMzMzDZAZmZmZmamSEDNzMzMzMw3QGZmZmZm5jtAAAAAAACAO0AAAAAAAAA6QGZmZmZm5j9AmpmZmZkZOUBmZmZmZmZEQDMzMzMzszZAAAAAAAAAO0CamZmZmRk4QJqZmZmZmTVAAAAAAACAMkCamZmZmRk8QM3MzMzMzDtAmpmZmZkZQEBmZmZmZuYwQAAAAAAAAD9AMzMzMzOzPECamZmZmRk5QAAAAAAAgDtAAAAAAACAO0AzMzMzM7M0QGZmZmZmZjtAZmZmZmbmOkDNzMzMzMw9QAAAAAAAADJAmpmZmZmZMkBmZmZmZmY6QJqZmZmZGTJAMzMzMzOzPEAAAAAAAIAzQDMzMzMz80BAzczMzMzMNkBmZmZmZmZAQGZmZmZmZjdAzczMzMxMOUAzMzMzMzM1QAAAAAAAADhAZmZmZmZmNUAAAAAAAAA7QDMzMzMzMzNAZmZmZmZmOkBmZmZmZmZGQJqZmZmZGT1AMzMzMzMzM0BmZmZmZmY8QJqZmZmZmTdAmpmZmZmZNUCamZmZmRk3QJqZmZmZGTZAAAAAAAAAR0BmZmZmZmZGQAAAAAAAADJAmpmZmZmZMkDNzMzMzEw7QJqZmZmZGTlAMzMzMzOzNkCamZmZmRlBQGZmZmZmZjFAAAAAAACAOUDNzMzMzEw7QAAAAAAAgDVAMzMzMzMzM0CamZmZmZk6QDMzMzMzszhAMzMzMzOzPEAAAAAAAABAQM3MzMzMTDFAZmZmZmZmPEBmZmZmZmY9QAAAAAAAgD1AmpmZmZkZNEBmZmZmZmY1QM3MzMzMjEFAZmZmZmamRUCamZmZmRk8QM3MzMzMTDdAzczMzMwMRECamZmZmZk5QJqZmZmZGUFAAAAAAACANEAzMzMzM7NBQGZmZmZm5j1AmpmZmZmZO0DNzMzMzMw3QDMzMzMzszVAAAAAAACAPEAzMzMzMzM+QDMzMzMzs0RAzczMzMxMOkBmZmZmZuZCQDMzMzMzM0JAMzMzMzOzRUAzMzMzM7M2QDMzMzMzM0FAmpmZmZmZPkCamZmZmVlCQDMzMzMzMz9AAAAAAAAAPkBmZmZmZmY8QGZmZmZmZjlAAAAAAAAARECamZmZmRkxQM3MzMzMTDtAzczMzMxMQ0CamZmZmRk0QAAAAAAAgDlAmpmZmZmZQUDNzMzMzIxAQGZmZmZmZj5AmpmZmZmZMUCamZmZmRk3QJqZmZmZGT5AZmZmZmbmQUAzMzMzM\\u002fNCQDMzMzMzMzpAmpmZmZmZMkAAAAAAAAAxQAAAAAAAAENAAAAAAABAQ0AAAAAAAAA2QGZmZmZmZj1AAAAAAAAAOEAzMzMzMzMuQDMzMzMzMzdAAAAAAACAOUAAAAAAAAA3QM3MzMzMTEhAzczMzMxMOUAAAAAAAAA2QM3MzMzMTDNAMzMzMzOzPUCamZmZmZk7QGZmZmZm5jtAzczMzMyMQUAzMzMzM7M+QM3MzMzMzDpAAAAAAACAOUCamZmZmRk+QAAAAAAAADRAAAAAAAAAP0AAAAAAAAA0QJqZmZmZGUFAmpmZmZkZN0DNzMzMzMw5QAAAAAAAgDxAMzMzMzOzMUCamZmZmdlBQGZmZmZmZjpAAAAAAACAOkDNzMzMzEw+QGZmZmZm5jRAZmZmZmZmP0BmZmZmZuY7QDMzMzMzszZAMzMzMzMzOkCamZmZmZkxQJqZmZmZmTVAzczMzMzMOkBmZmZmZuZDQAAAAAAAADdAMzMzMzOzPkDNzMzMzEwxQAAAAAAAgDtAmpmZmZmZPkBmZmZmZmY+QAAAAAAAgDZAAAAAAAAANEBmZmZmZmY6QM3MzMzMTDhAZmZmZmbmPUDNzMzMzIxCQAAAAAAAAEBAmpmZmZmZQkAAAAAAAIA+QDMzMzMz80JAzczMzMxMNECamZmZmZk4QJqZmZmZGT9AMzMzMzMzOEAzMzMzM7NAQGZmZmZmZjFAZmZmZmYmQEAzMzMzM7M4QJqZmZmZGUBAAAAAAAAAN0BmZmZmZmY3QDMzMzMzMzhAZmZmZmZmQEDNzMzMzEw7QAAAAAAAADdAmpmZmZmZO0CamZmZmRk5QAAAAAAAgEFAZmZmZmZmOkBmZmZmZmY0QDMzMzMzs0BAAAAAAACAO0AzMzMzM7M6QJqZmZmZmUNAzczMzMxMPUAzMzMzMzMzQAAAAAAAgDJAZmZmZmZmO0AAAAAAAIA0QM3MzMzMDEBAAAAAAAAAOEDNzMzMzAxBQAAAAAAAgDlAMzMzMzMzPUAzMzMzMzNAQGZmZmZmpkBAmpmZmZmZO0CamZmZmRk+QM3MzMzMjEBAmpmZmZkZNECamZmZmRk9QDMzMzMzsztAzczMzMzMN0AAAAAAAABEQJqZmZmZ2UBAmpmZmZkZO0AAAAAAAAA7QM3MzMzMTDxAMzMzMzOzPEAzMzMzMzM\\u002fQGZmZmZm5jxAzczMzMxMPUCamZmZmVlAQDMzMzMzs0JAAAAAAAAAMkCamZmZmVlBQAAAAAAAADlAMzMzMzOzQUDNzMzMzMw6QGZmZmZmZjxAZmZmZmZmNUBmZmZmZmY1QAAAAAAAgEFAAAAAAACAQEBmZmZmZuY2QAAAAAAAADxAZmZmZmZmOEDNzMzMzExPQGZmZmZmZkJAZmZmZmamQUAAAAAAAIA1QDMzMzMzszxAAAAAAAAAMUAAAAAAAIA\\u002fQAAAAAAAgDlAAAAAAAAAN0DNzMzMzMw4QAAAAAAAAD5AMzMzMzMzNUAAAAAAAIA0QGZmZmZmZjxAzczMzMxMQEAzMzMzMzM3QM3MzMzMDEdAmpmZmZkZQEAzMzMzM7MxQJqZmZmZmStAmpmZmZmZPUAAAAAAAAAvQGZmZmZmZjJAMzMzMzOzPkDNzMzMzAxBQAAAAAAAADtAZmZmZmbmQUBmZmZmZmY+QM3MzMzMzEFAmpmZmZmZQEBmZmZmZmZBQGZmZmZm5jtAzczMzMxMMUDNzMzMzMw6QJqZmZmZGTJAAAAAAACAO0BmZmZmZmY\\u002fQGZmZmZmJkdAAAAAAAAAP0BmZmZmZmY2QAAAAAAAADdAmpmZmZkZNUCamZmZmRk6QJqZmZmZmTRAmpmZmZmZPUAAAAAAAIA3QDMzMzMzMyxAzczMzMzMOEBmZmZmZmY5QJqZmZmZGTxAZmZmZmbmOUBmZmZmZmY0QM3MzMzMTDlAAAAAAACAPEDNzMzMzEw9QGZmZmZmZjhAZmZmZmZmPEBmZmZmZmY6QDMzMzMzs0NAZmZmZmbmN0CamZmZmRk+QDMzMzMzM0RAAAAAAACAPEAAAAAAAIA4QGZmZmZmZjtAmpmZmZmZQEDNzMzMzEw6QJqZmZmZGTJAmpmZmZmZP0CamZmZmRlBQGZmZmZmZjlAMzMzMzMzNkAAAAAAAAA5QM3MzMzMTD5AzczMzMxMQEAAAAAAAAA3QAAAAAAAgDZAZmZmZmZmOUCamZmZmRlAQGZmZmZm5jhAzczMzMzMOkAzMzMzMzM7QM3MzMzMzDZAMzMzMzOzPkDNzMzMzMw1QGZmZmZmZjlAAAAAAABAQUAAAAAAAIA7QAAAAAAAgDlAZmZmZmbmN0AAAAAAAEBAQGZmZmZmZj5AmpmZmZnZQEDNzMzMzMw6QJqZmZmZmThAMzMzMzMzOkCamZmZmRk2QAAAAAAAAENAzczMzMzMREBmZmZmZmY3QAAAAAAAgDVAmpmZmZmZP0CamZmZmRk7QAAAAAAAgDxAmpmZmZmZNECamZmZmZk5QJqZmZmZmTdAZmZmZmbmN0AzMzMzMzM3QM3MzMzMzD1AAAAAAACAQ0AAAAAAAIAwQDMzMzMzMz5AMzMzMzOzOUCamZmZmRk4QM3MzMzMTDZAzczMzMzMNUDNzMzMzEw7QM3MzMzMTD5AMzMzMzMzO0BmZmZmZuY+QDMzMzMzMzlAmpmZmZmZQUCamZmZmdlBQJqZmZmZmT9AmpmZmZkZOUCamZmZmRk\\u002fQAAAAAAAADpAAAAAAAAAO0BmZmZmZqZDQAAAAAAAwENAAAAAAABAQEBmZmZmZmY6QAAAAAAAAD1AZmZmZmZmQEDNzMzMzEw0QGZmZmZm5jxAmpmZmZkZNEDNzMzMzExAQAAAAAAAADxAzczMzMxMQEDNzMzMzMw1QJqZmZmZmT9AMzMzMzMzNUDNzMzMzEwyQAAAAAAAgDxAmpmZmZmZPkBmZmZmZuZIQAAAAAAAgDVAzczMzMwMRECamZmZmRk2QJqZmZmZGUFAzczMzMxMQ0AzMzMzMzM7QGZmZmZmZjVAZmZmZmZmN0CamZmZmZk9QAAAAAAAgDRAmpmZmZkZOUAAAAAAAABAQM3MzMzMTD9AAAAAAAAAP0BmZmZmZuY\\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\\u002fQGZmZmZmZj5AMzMzMzPzQkCamZmZmdlBQGZmZmZmZi5AMzMzMzMzN0CamZmZmRk7QM3MzMzMTDFAmpmZmZmZO0BmZmZmZqZCQJqZmZmZGTZAzczMzMxMNECamZmZmRk5QDMzMzMzMztAmpmZmZkZNEDNzMzMzMw3QGZmZmZmZjdAmpmZmZmZPECamZmZmRk1QGZmZmZm5kRAmpmZmZkZNEAAAAAAAAA2QAAAAAAAAENAmpmZmZmZR0CamZmZmZk0QGZmZmZmZjZAMzMzMzOzNkAzMzMzMzNAQAAAAAAAgEBAMzMzMzMzNkAzMzMzM7M8QGZmZmZmpkBAmpmZmZkZO0DNzMzMzExBQAAAAAAAQEBAMzMzMzMzOECamZmZmRk9QDMzMzMzc0ZAmpmZmZkZPECamZmZmRk8QGZmZmZm5j1AAAAAAAAAO0DNzMzMzExCQDMzMzMzszdAAAAAAAAAO0AzMzMzM7M+QAAAAAAAAD1AmpmZmZkZOkAzMzMzM7M4QDMzMzMzM0BAMzMzMzOzO0CamZmZmZkxQM3MzMzMzDhAzczMzMwMQEBmZmZmZuZBQM3MzMzMTEBAzczMzMxMMUAAAAAAAAAwQM3MzMzMTD5AAAAAAAAAOUDNzMzMzEwwQJqZmZmZmTJAzczMzMzMP0AAAAAAAAA2QAAAAAAAgEBAZmZmZmZmOUAAAAAAAIA4QM3MzMzMDEFAMzMzMzOzP0CamZmZmVlAQDMzMzMzc0RAMzMzMzOzOkCamZmZmRkwQDMzMzMzszZAzczMzMzMNEAAAAAAAABDQM3MzMzMzDVAzczMzMxMPUAAAAAAAIA3QAAAAAAAgDxAZmZmZmZmPUAzMzMzM7M8QDMzMzMzs0FAMzMzMzOzPEDNzMzMzEw2QJqZmZmZGTtAmpmZmZkZQEAzMzMzMzNBQJqZmZmZWUBAmpmZmZkZQEDNzMzMzEw\\u002fQGZmZmZm5jNAZmZmZmYmQUCamZmZmRk0QJqZmZmZmTdAzczMzMzMOEAAAAAAAAA8QM3MzMzMzDRAMzMzMzOzQEDNzMzMzEw+QGZmZmZmZkRAzczMzMxMOEDNzMzMzExHQGZmZmZmZjxAZmZmZmbmPEDNzMzMzExBQDMzMzMzszZAZmZmZmZmOkAAAAAAAAA2QGZmZmZm5jtAzczMzMxMPUAAAAAAAEBCQJqZmZmZ2UBAzczMzMxMMkCamZmZmRk+QAAAAAAAADFAmpmZmZmZMkDNzMzMzEw\\u002fQDMzMzMzszxAmpmZmZmZMEBmZmZmZuZBQDMzMzMzMy9AzczMzMxMQkAAAAAAAAA5QM3MzMzMTDZAzczMzMwMQEBmZmZmZiZAQAAAAAAAgDhAZmZmZmbmPEBmZmZmZuY+QM3MzMzMzDJAZmZmZmbmOUBmZmZmZmYxQAAAAAAAgDNAzczMzMzMM0BmZmZmZiZAQAAAAAAAgEFAMzMzMzMzP0CamZmZmRk5QJqZmZmZmTJAzczMzMxMOkAAAAAAAIAyQAAAAAAAgD5AmpmZmZmZOUAAAAAAAABDQM3MzMzMjEFAZmZmZmZmPkAAAAAAAMBGQAAAAAAAADVAZmZmZmbmPUBmZmZmZmY9QAAAAAAAADRAZmZmZmbmQkCamZmZmdlFQGZmZmZmpkJAAAAAAACAOUAAAAAAAABEQJqZmZmZGUNAmpmZmZmZNUBmZmZmZuY0QAAAAAAAgDxAZmZmZmZmPUAAAAAAAIA\\u002fQGZmZmZmZjRAmpmZmZmZNUAAAAAAAIA6QAAAAAAAgDpAzczMzMxMOUCamZmZmdlAQM3MzMzMzDNAAAAAAAAAPUCamZmZmZk4QGZmZmZmZjdAzczMzMzMOEBmZmZmZuY7QGZmZmZmZjlAMzMzMzPzQEAAAAAAAIA0QM3MzMzMzDdAAAAAAAAAPkBmZmZmZmY4QGZmZmZmZjxAMzMzMzPzQUCamZmZmRk2QGZmZmZm5kFAMzMzMzOzPUAAAAAAAIAwQM3MzMzMTDlAmpmZmZkZPEAAAAAAAAA8QGZmZmZmJkBAZmZmZmYmQEBmZmZmZiZEQGZmZmZm5j9AAAAAAABAQECamZmZmZk3QDMzMzMzc0JAZmZmZmZmPUDNzMzMzAxEQGZmZmZmZjZAmpmZmZkZNUCamZmZmRk7QDMzMzMzMzVAmpmZmZmZN0CamZmZmRk3QM3MzMzMTDhAMzMzMzNzQUAAAAAAAAA5QJqZmZmZGTNAzczMzMxMP0BmZmZmZuY9QAAAAAAAADtAAAAAAAAAPEAzMzMzM7M+QGZmZmZm5jNAMzMzMzOzRUDNzMzMzEw5QJqZmZmZmT9AMzMzMzPzQUAAAAAAAIBFQAAAAAAAwEFAZmZmZmZmO0CamZmZmVlAQJqZmZmZmTRAmpmZmZkZPEBmZmZmZuY8QJqZmZmZGTpAmpmZmZkZPUAzMzMzMzMzQAAAAAAAQERAMzMzMzMzNUCamZmZmZkxQAAAAAAAgDxAZmZmZmZmNEDNzMzMzMw8QJqZmZmZmSpAMzMzMzMzQECamZmZmZlBQJqZmZmZGTdAmpmZmZmZNUCamZmZmRk5QM3MzMzMzDZAZmZmZmamQkBmZmZmZuZEQDMzMzMzMzxAAAAAAACAOEDNzMzMzEw9QM3MzMzMTD5AMzMzMzNzR0AAAAAAAIAzQGZmZmZm5j5AMzMzMzOzOkDNzMzMzEw\\u002fQJqZmZmZGUJAzczMzMzMOECamZmZmRk2QGZmZmZm5jhAMzMzMzOzPEBmZmZmZuZCQGZmZmZmpkBAMzMzMzPzQUDNzMzMzEw3QGZmZmZmZjxAzczMzMzMPECamZmZmRk6QGZmZmZm5jlAMzMzMzPzRUDNzMzMzExCQAAAAAAAADxAmpmZmZkZNEBmZmZmZmY3QJqZmZmZGTtAMzMzMzOzPkAAAAAAAAA1QDMzMzMzMyxAMzMzMzOzNEAAAAAAAIAzQDMzMzMzMzZAMzMzMzMzOEAAAAAAAIA9QAAAAAAAAD5AZmZmZmbmOkCamZmZmRk8QDMzMzMzszRAzczMzMxMO0AAAAAAAIA7QDMzMzMz80FAzczMzMxMRUBmZmZmZuY8QGZmZmZmZkpAZmZmZmZmQEBmZmZmZiZAQM3MzMzMzDNAAAAAAAAAPUDNzMzMzEw7QGZmZmZm5j5AMzMzMzMzM0BmZmZmZuY6QAAAAAAAADJAzczMzMzMR0DNzMzMzEw\\u002fQM3MzMzMTD5AmpmZmZkZPECamZmZmRk1QJqZmZmZ2UBAZmZmZmbmOUBmZmZmZiZAQJqZmZmZ2UtAzczMzMzMN0BmZmZmZmY8QGZmZmZmZkJAzczMzMzMPUCamZmZmZkyQM3MzMzMTDJAMzMzMzOzPkAAAAAAAIA9QJqZmZmZmT1AZmZmZmZmL0AzMzMzM7MyQM3MzMzMTDtAZmZmZmbmNkAAAAAAAEBBQGZmZmZm5jJAZmZmZmZmNUAAAAAAAIA7QDMzMzMzszxAmpmZmZkZM0CamZmZmRlEQDMzMzMzszlAmpmZmZkZPkCamZmZmZlDQM3MzMzMzDxAzczMzMzMP0AAAAAAAIA1QM3MzMzMzD9AzczMzMzMM0CamZmZmZkxQAAAAAAAAENAmpmZmZlZQUCamZmZmZk7QAAAAAAAAEFAzczMzMxMPUBmZmZmZmY0QAAAAAAAgDlAAAAAAAAAOECamZmZmRk9QJqZmZmZGTZAmpmZmZmZNkCamZmZmRk\\u002fQGZmZmZmZjtAzczMzMxMNkAAAAAAAIA2QGZmZmZmZjtAMzMzMzMzPUBmZmZmZuZBQAAAAAAAgDxAZmZmZmbmPUAzMzMzM7M6QDMzMzMzMz9AMzMzMzOzPkAAAAAAAIA8QDMzMzMzszxAzczMzMzMNkDNzMzMzMxLQM3MzMzMTDZAAAAAAACAQEBmZmZmZuY0QAAAAAAAADlAAAAAAAAAN0DNzMzMzMwwQAAAAAAAgDlAZmZmZmYmQUAzMzMzMzM0QM3MzMzMzDlAZmZmZmbmRUDNzMzMzMw9QJqZmZmZGTtAZmZmZmZmPkAzMzMzM7M6QJqZmZmZmTpAAAAAAAAAPUCamZmZmZk9QJqZmZmZ2UJAMzMzMzMzQkAAAAAAAIAzQDMzMzMzc0JAMzMzMzOzPEDNzMzMzExAQGZmZmZm5jpAmpmZmZkZMEAzMzMzM7M4QJqZmZmZ2UNAZmZmZmbmOECamZmZmZk4QM3MzMzMTDNAAAAAAACAPECamZmZmdlFQAAAAAAAAEZAzczMzMxMN0AAAAAAAAA2QM3MzMzMzDpAAAAAAACAOEAAAAAAAIA6QJqZmZmZGTRAmpmZmZmZPEAAAAAAAMBEQM3MzMzMzDhAAAAAAACAO0AAAAAAAIA3QM3MzMzMzDpAAAAAAACAP0CamZmZmRk5QJqZmZmZmTZAzczMzMzMOEAAAAAAAIBDQGZmZmZmZjVAzczMzMxMPEBmZmZmZuY1QGZmZmZmpkBAZmZmZmZmNkBmZmZmZmY2QDMzMzMzMy9AmpmZmZkZQECamZmZmRlAQGZmZmZmZjdAAAAAAAAAO0BmZmZmZuY\\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\\u002fQAAAAAAAgDpAMzMzMzOzOkAAAAAAAIBFQDMzMzMzM0FAMzMzMzOzOkBmZmZmZuY5QAAAAAAAgD1AZmZmZmYmQUAAAAAAAIA4QM3MzMzMDEFAZmZmZmbmPUDNzMzMzMxCQDMzMzMzszZAAAAAAAAAPEDNzMzMzExDQDMzMzMzMy9AmpmZmZmZLUAAAAAAAIA1QJqZmZmZmTtAmpmZmZmZPEAzMzMzMzM4QAAAAAAAgDRAMzMzMzOzMkCamZmZmRk7QM3MzMzMzDZAMzMzMzOzO0BmZmZmZmYuQDMzMzMzMzxAMzMzMzOzQEAAAAAAAMBEQJqZmZmZmTlAAAAAAAAAPUCamZmZmRlAQJqZmZmZGUBAmpmZmZkZPUAzMzMzMzM7QM3MzMzMTD1AmpmZmZkZOUCamZmZmZk5QGZmZmZmZjdAzczMzMxMPEDNzMzMzMw7QJqZmZmZmT5AMzMzMzOzNkCamZmZmZkxQGZmZmZmZjhAmpmZmZmZOECamZmZmRlAQM3MzMzMzDxAmpmZmZnZQ0AAAAAAAIA5QM3MzMzMTDhAAAAAAACAPkAzMzMzM7MyQJqZmZmZGTRAzczMzMzMO0AzMzMzM7M1QDMzMzMzMzhAzczMzMwMQkDNzMzMzIxCQGZmZmZm5jRAAAAAAACAO0DNzMzMzMw0QGZmZmZm5jtAMzMzMzNzQ0BmZmZmZuY6QJqZmZmZGTNAmpmZmZmZOkDNzMzMzMw2QGZmZmZm5jpAAAAAAABAQEBmZmZmZiZBQM3MzMzMTDpAmpmZmZmZOkDNzMzMzEw1QJqZmZmZmTJAMzMzMzMzM0CamZmZmZk\\u002fQDMzMzMz80JAZmZmZmZmP0AAAAAAAABBQM3MzMzMzDVAMzMzMzMzOkDNzMzMzMwzQJqZmZmZWUBAZmZmZmZmPEDNzMzMzEwzQDMzMzMz80RAmpmZmZkZO0AAAAAAAIA\\u002fQJqZmZmZGTlAZmZmZmZmNkCamZmZmVlBQGZmZmZmZkBAAAAAAAAANUAzMzMzMzM8QM3MzMzMzD5AZmZmZmZmOEBmZmZmZmY3QGZmZmZm5jZAAAAAAACAOkDNzMzMzIxEQJqZmZmZWURAMzMzMzPzQUAAAAAAAIA1QAAAAAAAgDdAMzMzMzPzQUAAAAAAAAA9QJqZmZmZmT1AAAAAAAAAMkDNzMzMzIxCQJqZmZmZGT1AMzMzMzMzPEDNzMzMzEw9QJqZmZmZmTJAAAAAAACARUCamZmZmRkzQGZmZmZm5jJAmpmZmZmZNUBmZmZmZuY3QGZmZmZmZkFAZmZmZmbmO0CamZmZmRk5QDMzMzMzszVAMzMzMzMzLkBmZmZmZmY0QJqZmZmZOVBAAAAAAACARECamZmZmZkwQAAAAAAAADZAmpmZmZkZPkCamZmZmRk\\u002fQDMzMzMzs0NAAAAAAACARkDNzMzMzEw4QAAAAAAAgDxAmpmZmZnZQEBmZmZmZuY6QGZmZmZmJkBAzczMzMwMQkDNzMzMzEw5QJqZmZmZGTZAmpmZmZkZMUCamZmZmRk5QDMzMzMzs0tAAAAAAACAOUAAAAAAAAA\\u002fQAAAAAAAQEBAzczMzMxMPkCamZmZmRk1QDMzMzMzMzFAAAAAAACAM0DNzMzMzMw6QDMzMzMzMzpAmpmZmZmZM0DNzMzMzEw1QJqZmZmZGUBAmpmZmZlZQUDNzMzMzMw\\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\\u002fNEQM3MzMzMTDFAMzMzMzOzOECamZmZmZk1QGZmZmZm5jFAzczMzMxMP0BmZmZmZmY9QJqZmZmZmT1AZmZmZmbmPkCamZmZmdlBQJqZmZmZmTFAZmZmZmbmPECamZmZmRk7QGZmZmZmJkBAmpmZmZkZOEAAAAAAAIA+QAAAAAAAAD1AAAAAAACAQkCamZmZmRk9QDMzMzMzc0NAZmZmZmamQEAzMzMzMzM8QAAAAAAAADJAAAAAAAAAPkDNzMzMzAxBQJqZmZmZmTxAmpmZmZkZQUCamZmZmRlFQAAAAAAAgDpAZmZmZmZmO0AAAAAAAEBDQJqZmZmZ2UVAMzMzMzMzNkAAAAAAAEBBQAAAAAAAgEJAMzMzMzOzNkAzMzMzM7M6QAAAAAAAwEFAmpmZmZnZQ0AzMzMzMzNEQGZmZmZm5jlAmpmZmZmZOEDNzMzMzMw8QM3MzMzMzDxAZmZmZmZmQ0BmZmZmZuY6QGZmZmZm5jtAMzMzMzNzQECamZmZmRk6QJqZmZmZGUJAMzMzMzOzQUBmZmZmZmY0QGZmZmZmZjpAMzMzMzOzOkCamZmZmVlBQGZmZmZm5j1AZmZmZmZmOEAAAAAAAAA5QGZmZmZm5jlAzczMzMxMPEDNzMzMzIxEQAAAAAAAQEFAAAAAAADAQUAAAAAAAIA+QDMzMzMzsz9AMzMzMzMzMEAAAAAAAIA6QAAAAAAAgEZAZmZmZmZmNUCamZmZmVlBQAAAAAAAADlAZmZmZmZmNkBmZmZmZuY6QGZmZmZmZjRAmpmZmZkZOkDNzMzMzEw9QAAAAAAAwERAZmZmZmZmPEAAAAAAAMBFQJqZmZmZmShAzczMzMxMPkAAAAAAAIA8QDMzMzMzM0FAzczMzMxMOkDNzMzMzMw7QAAAAAAAgDpAmpmZmZkZOkBmZmZmZuY\\u002fQJqZmZmZGThAmpmZmZmZPUBmZmZmZmYxQAAAAAAAgD9AAAAAAABAQEBmZmZmZuYzQAAAAAAAAEBAmpmZmZkZPkCamZmZmZkxQJqZmZmZGThAZmZmZmZmMEAAAAAAAIA5QJqZmZmZmTdAmpmZmZkZPUCamZmZmdlAQJqZmZmZWUFAzczMzMzMM0DNzMzMzEw2QM3MzMzMzD5AMzMzMzMzPUAzMzMzMzNBQDMzMzMzszZAMzMzMzMzPkCamZmZmRk5QM3MzMzMjEBAmpmZmZnZQEAAAAAAAABAQGZmZmZm5jxAmpmZmZmZPEBmZmZmZmZFQJqZmZmZWUBAmpmZmZkZOkCamZmZmdlAQM3MzMzMTEBAzczMzMzMOkDNzMzMzMw\\u002fQM3MzMzMzD1AAAAAAAAAQ0CamZmZmVlBQAAAAAAAgDJAAAAAAADAQEBmZmZmZuZBQAAAAAAAgDtAmpmZmZnZS0DNzMzMzAxAQDMzMzMzMztAMzMzMzPzQUCamZmZmZk9QGZmZmZmZjxAmpmZmZkZNUAzMzMzMzM\\u002fQDMzMzMzszpAMzMzMzOzPEDNzMzMzEw7QJqZmZmZmS1AzczMzMxMOUAAAAAAAMBFQAAAAAAAgElAMzMzMzOzPUAAAAAAAEBAQDMzMzMzMzpAMzMzMzMzQUAzMzMzMzM8QGZmZmZm5jhAMzMzMzMzOkAzMzMzM7M6QGZmZmZmZjNAZmZmZmZmOUCamZmZmVlDQM3MzMzMTD9AAAAAAAAAQkAzMzMzM\\u002fNAQGZmZmZmZjdAAAAAAAAANUBmZmZmZmY4QGZmZmZmZjxAAAAAAACAP0BmZmZmZmY9QM3MzMzMTDdAmpmZmZmZPkCamZmZmRk9QJqZmZmZGTZAzczMzMzMN0AzMzMzMzM7QAAAAAAAAEFAZmZmZmZmNkCamZmZmZk6QJqZmZmZmS9AAAAAAAAANUDNzMzMzEw8QGZmZmZmZjNAmpmZmZmZO0AzMzMzM7M3QDMzMzMzszxAAAAAAACAPUDNzMzMzMw1QDMzMzMzMzxAZmZmZmZmP0BmZmZmZmY0QDMzMzMzszdAAAAAAAAANUDNzMzMzMw3QGZmZmZm5j1AzczMzMzMMkBmZmZmZmY2QGZmZmZm5jpAZmZmZmbmOkDNzMzMzEw1QDMzMzMzMy5AmpmZmZkZQEBmZmZmZqZCQM3MzMzMzDpAAAAAAAAAPkDNzMzMzMw2QGZmZmZm5jxAAAAAAACAPUBmZmZmZmYxQJqZmZmZGTlAAAAAAAAAMkDNzMzMzMw1QDMzMzMzszpAZmZmZmbmNkCamZmZmRk5QM3MzMzMzDNAZmZmZmbmN0AAAAAAAIBCQDMzMzMzMzlAzczMzMyMS0AAAAAAAIA1QDMzMzMzM0BAZmZmZmbmNUBmZmZmZmYwQAAAAAAAAEFAZmZmZmZmP0BmZmZmZmY+QDMzMzMzMzNAZmZmZmZmPEDNzMzMzMw\\u002fQAAAAAAAADdAMzMzMzOzRUDNzMzMzIxBQGZmZmZmpkBAAAAAAADASEBmZmZmZmY3QGZmZmZmZjdAzczMzMxMO0AAAAAAAIA6QGZmZmZmZjxAAAAAAAAANUBmZmZmZqZAQDMzMzMzMztAZmZmZmZmPEBmZmZmZuY9QJqZmZmZmT1AmpmZmZkZO0BmZmZmZuY\\u002fQAAAAAAAADRAzczMzMxMMkDNzMzMzIxAQGZmZmZm5kVAzczMzMxMNEDNzMzMzEwyQJqZmZmZGTRAmpmZmZlZRUDNzMzMzEwzQAAAAAAAADtAZmZmZmbmPkCamZmZmdlBQJqZmZmZmTpAMzMzMzNzQEBmZmZmZuY5QDMzMzMzMy1AzczMzMzMNUAAAAAAAIBAQAAAAAAAADJAZmZmZmamQkCamZmZmVlDQJqZmZmZmTpAAAAAAACANUAAAAAAAABBQGZmZmZm5jpAZmZmZmZmM0AzMzMzM7M2QM3MzMzMzDtAzczMzMxMMkDNzMzMzMw9QGZmZmZmZjtAmpmZmZkZP0BmZmZmZmY4QAAAAAAAwEBAMzMzMzMzNkDNzMzMzEw8QAAAAAAAgDJAMzMzMzOzPUDNzMzMzEw\\u002fQDMzMzMzM0FAMzMzMzMzREAAAAAAAMBAQAAAAAAAAD1AMzMzMzPzQkCamZmZmRkxQDMzMzMzMzpAmpmZmZmZNkBmZmZmZmY5QGZmZmZmZjpAAAAAAACAO0CamZmZmZlGQDMzMzMzMzhAzczMzMzMOEAAAAAAAAA9QM3MzMzMzD9AzczMzMzMP0AzMzMzM7M6QJqZmZmZmT1AAAAAAAAARUDNzMzMzEw+QAAAAAAAgDJAZmZmZmZmOEAAAAAAAIA\\u002fQDMzMzMzMz5AAAAAAACAOUAAAAAAAAA5QAAAAAAAADJAMzMzMzMzPEBmZmZmZuY4QAAAAAAAAC9AZmZmZmZmMkAAAAAAAMBEQAAAAAAAADdAzczMzMxMN0BmZmZmZuY2QDMzMzMzszpAMzMzMzOzOkBmZmZmZuZEQAAAAAAAgDRAmpmZmZkZOkBmZmZmZuY6QDMzMzMzszpAmpmZmZmZN0AAAAAAAIA\\u002fQDMzMzMzszlAZmZmZmbmNEDNzMzMzEw+QJqZmZmZGTxAmpmZmZmZO0AzMzMzM7M3QJqZmZmZmTBAmpmZmZmZLEAzMzMzM7M2QAAAAAAAgD1AAAAAAAAAQ0CamZmZmZk8QGZmZmZm5jxAZmZmZmZmN0AAAAAAAABDQDMzMzMzMzZAmpmZmZkZOEBmZmZmZmY9QDMzMzMzszpAzczMzMzML0CamZmZmZk5QAAAAAAAADpAzczMzMwMQECamZmZmdlEQAAAAAAAAENAAAAAAAAAP0AzMzMzM7NAQJqZmZmZmTpAzczMzMwMR0AzMzMzM7M6QAAAAAAAQEJAZmZmZmZmMUAAAAAAAIAyQJqZmZmZGTVAZmZmZmZmP0AAAAAAAIA1QDMzMzMzsztAmpmZmZkZNUBmZmZmZmY1QJqZmZmZmUBAmpmZmZkZOkDNzMzMzMw8QGZmZmZm5jpAAAAAAAAAPkAzMzMzMzMzQJqZmZmZmTpAZmZmZmamQUCamZmZmRk2QGZmZmZm5kFAmpmZmZkZOkDNzMzMzEw8QM3MzMzMzDtAAAAAAAAAPkBmZmZmZuY+QJqZmZmZGTlAzczMzMzMPUCamZmZmZlEQDMzMzMzszpAZmZmZmbmN0AAAAAAAEBBQAAAAAAAgDhAZmZmZmZmN0AAAAAAAABDQJqZmZmZGT9AZmZmZmZmOUBmZmZmZmY2QDMzMzMzs0JAAAAAAACAM0DNzMzMzEw+QAAAAAAAAD5AmpmZmZmZOkAAAAAAAIA7QDMzMzMzMzRAMzMzMzOzOkAAAAAAAAA+QDMzMzMzszpAAAAAAADAQEAAAAAAAAA8QAAAAAAAgD9AMzMzMzMzPECamZmZmZk1QAAAAAAAgDRAzczMzMxMOEDNzMzMzMwyQAAAAAAAADtAMzMzMzOzOEDNzMzMzIxAQGZmZmZm5kBAmpmZmZmZO0DNzMzMzEw7QGZmZmZmZjxAZmZmZmbmQUAAAAAAAIA+QM3MzMzMzDpAMzMzMzOzP0AAAAAAAEBBQDMzMzMz80FAZmZmZmZmOEBmZmZmZmYwQDMzMzMzszpAAAAAAAAAP0DNzMzMzAxAQM3MzMzMTD5AzczMzMxMOEAAAAAAAIBGQJqZmZmZWUNAZmZmZmbmMkAzMzMzMzM7QAAAAAAAgDxAZmZmZmbmPUAzMzMzMzM6QAAAAAAAADhAmpmZmZkZOUAAAAAAAAA7QGZmZmZmZkJAzczMzMxMOUDNzMzMzEw4QAAAAAAAQEFAZmZmZmbmMkAzMzMzM3NDQM3MzMzMTDdAAAAAAAAAN0BmZmZmZuY+QJqZmZmZGT1AZmZmZmZmQECamZmZmRk7QAAAAAAAgDZAAAAAAAAAQECamZmZmRk6QM3MzMzMzD1AmpmZmZmZPUCamZmZmRk5QAAAAAAAgDNAmpmZmZmZN0CamZmZmRk6QM3MzMzMzD1AmpmZmZmZPECamZmZmZkxQDMzMzMzc0BAmpmZmZmZN0AAAAAAAAA+QAAAAAAAwERAzczMzMzMOECamZmZmRlBQJqZmZmZGTdAAAAAAACAOEAzMzMzM3NIQJqZmZmZmT5AMzMzMzOzOkAAAAAAAAA+QGZmZmZm5j9AzczMzMzMM0BmZmZmZmY2QGZmZmZm5jRAAAAAAACAP0AzMzMzM3NBQDMzMzMz80JAAAAAAACAO0CamZmZmZk3QJqZmZmZGTBAZmZmZmZmPkCamZmZmRk\\u002fQDMzMzMzszBAAAAAAACAN0BmZmZmZuY+QDMzMzMzMzRAZmZmZmbmPECamZmZmZk9QM3MzMzMjEBAMzMzMzOzNkAAAAAAAMBCQDMzMzMzsz1AZmZmZmZmREAAAAAAAABAQJqZmZmZ2UtAzczMzMzMO0BmZmZmZiZFQAAAAAAAgDNAAAAAAAAAN0AzMzMzMzM9QAAAAAAAgDxAZmZmZmZmNkBmZmZmZmY2QGZmZmZmZjtAzczMzMxMRUBmZmZmZmY6QAAAAAAAgDhAMzMzMzMzP0BmZmZmZmY2QJqZmZmZGUJAmpmZmZkZP0AzMzMzM7M2QGZmZmZmZj9AmpmZmZkZOEBmZmZmZmYwQGZmZmZm5jdAmpmZmZnZREDNzMzMzEw+QGZmZmZm5jpAMzMzMzMzNkAAAAAAAMBEQM3MzMzMzDJAzczMzMwMREAAAAAAAAA8QDMzMzMzMzNAmpmZmZkZOkAzMzMzM\\u002fNAQAAAAAAAgDxAmpmZmZkZNEAzMzMzM7M7QDMzMzMzMz9AMzMzMzOzPkDNzMzMzMw1QGZmZmZmZjBAZmZmZmZmPEAAAAAAAIBAQAAAAAAAADVAMzMzMzOzOEDNzMzMzExBQGZmZmZmZjpAZmZmZmbmQUCamZmZmRlAQM3MzMzMTD1AAAAAAACAOUBmZmZmZuY7QM3MzMzMzDlAmpmZmZkZNEDNzMzMzEw\\u002fQDMzMzMzMzRAzczMzMxMO0AAAAAAAMBGQAAAAAAAAD9AAAAAAACAPkAzMzMzMzM3QAAAAAAAAEBAZmZmZmZmMUAzMzMzM3NCQAAAAAAAADxAMzMzMzOzPUBmZmZmZmZBQGZmZmZmZjRAAAAAAAAAPUCamZmZmRlAQAAAAAAAAEBAZmZmZmbmQkCamZmZmZk6QJqZmZmZmTdAMzMzMzPzQUCamZmZmZlCQJqZmZmZmTZAmpmZmZmZPEAAAAAAAAA9QDMzMzMzszxAMzMzMzOzPEDNzMzMzMw8QGZmZmZmZjdAmpmZmZkZREAAAAAAAAA+QDMzMzMzsztAzczMzMxMNUDNzMzMzMw\\u002fQDMzMzMz80FAmpmZmZkZOECamZmZmRk5QAAAAAAAgDVAzczMzMzMP0CamZmZmRk7QM3MzMzMzDtAMzMzMzOzOkCamZmZmRk4QGZmZmZmZjdAzczMzMxMP0AAAAAAAAA4QDMzMzMzszhAAAAAAAAAQECamZmZmZk8QJqZmZmZmUFAmpmZmZkZPEBmZmZmZqZIQGZmZmZm5jhAmpmZmZlZQUBmZmZmZuY1QGZmZmZmpkZAzczMzMxMNkAAAAAAAAAvQM3MzMzMTENAmpmZmZkZQ0CamZmZmZk1QAAAAAAAADpAZmZmZmZmPUAzMzMzM7M9QM3MzMzMzDtAZmZmZmbmMEBmZmZmZmY4QDMzMzMzMzFAAAAAAACAPUDNzMzMzEw9QGZmZmZmZjxAAAAAAACAPUAAAAAAAMBAQGZmZmZmZjxAAAAAAAAARUCamZmZmRkxQAAAAAAAgDdAMzMzMzMzNkAzMzMzM\\u002fNCQGZmZmZmZjtAmpmZmZmZPEAzMzMzM7M0QM3MzMzMTDhAAAAAAACAP0CamZmZmRk6QM3MzMzMTDlAzczMzMzMPUAzMzMzM\\u002fNCQDMzMzMzMy5AZmZmZmZmQEDNzMzMzMw2QM3MzMzMzDNAAAAAAAAAN0DNzMzMzEw\\u002fQM3MzMzMTD5AAAAAAACANUCamZmZmRk6QGZmZmZm5jlAmpmZmZkZOUAzMzMzM7M4QDMzMzMzMz1AmpmZmZmZOEBmZmZmZuY9QDMzMzMzMzpAMzMzMzMzQUAAAAAAAAAxQM3MzMzMTEFAmpmZmZkZPkAAAAAAAIA7QM3MzMzMDEFAmpmZmZmZPkCamZmZmZk8QGZmZmZm5j5AZmZmZmYmQUCamZmZmRk6QJqZmZmZmTZAAAAAAACAOUBmZmZmZuY1QJqZmZmZGTtAmpmZmZkZMUAzMzMzM7M2QAAAAAAAAEBAAAAAAACAQ0AAAAAAAAA2QAAAAAAAgDlAAAAAAAAAN0BmZmZmZuY4QDMzMzMzszJAzczMzMxMNECamZmZmZk3QDMzMzMzsztAZmZmZmamRkAzMzMzMzM7QGZmZmZm5j1AzczMzMzMPkAAAAAAAAA2QJqZmZmZWUJAmpmZmZmZPEAAAAAAAIA\\u002fQAAAAAAAwEFAAAAAAACAQkBmZmZmZmY5QM3MzMzMTDtAAAAAAACANkAzMzMzM7M0QAAAAAAAADtAZmZmZmbmOkDNzMzMzEw6QDMzMzMzszdAZmZmZmZmSkDNzMzMzEw9QGZmZmZmZjFAmpmZmZmZN0AAAAAAAMBAQM3MzMzMzEJAAAAAAAAAPUDNzMzMzMwsQAAAAAAAADxAMzMzMzMzRECamZmZmZk7QJqZmZmZmT5AmpmZmZnZQEAzMzMzMzM+QAAAAAAAgDxAZmZmZmYmQUBmZmZmZuY\\u002fQGZmZmZm5jxAMzMzMzOzNECamZmZmRkyQGZmZmZmZjdAMzMzMzPzRkAzMzMzM7M7QAAAAAAAADlAZmZmZmZmOUBmZmZmZmY8QGZmZmZmZjpAMzMzMzNzQECamZmZmZk8QJqZmZmZGT9AzczMzMxMQUBmZmZmZiZCQJqZmZmZmTJAMzMzMzOzNkAzMzMzMzM6QJqZmZmZGTdAmpmZmZmZNECamZmZmRk9QAAAAAAAAD5AZmZmZmZmO0CamZmZmZlAQAAAAAAAgDtAMzMzMzPzQUAAAAAAAIAyQDMzMzMzs0NAzczMzMzMOECamZmZmZk0QDMzMzMzMzhAmpmZmZkZMUAzMzMzM7M5QJqZmZmZmTNAmpmZmZkZO0AAAAAAAIA4QM3MzMzMTD9AAAAAAACAOEAzMzMzM7NAQJqZmZmZmT9AAAAAAACAP0DNzMzMzMw5QJqZmZmZWURAZmZmZmZmPEAzMzMzMzM1QM3MzMzMzDVAMzMzMzOzPEBmZmZmZmY\\u002fQGZmZmZm5jpAMzMzMzMzN0DNzMzMzMw9QAAAAAAAAD5AZmZmZmbmO0BmZmZmZqZBQDMzMzMzMztAmpmZmZlZQUDNzMzMzEw8QGZmZmZmZj5AZmZmZmZmP0CamZmZmZk2QJqZmZmZGTdAmpmZmZlZQEDNzMzMzMw0QGZmZmZm5jlAmpmZmZmZQECamZmZmRk1QAAAAAAAgDdAZmZmZmYmQEAAAAAAAIA5QDMzMzMzsztAmpmZmZkZOEDNzMzMzEw4QGZmZmZmZjlAzczMzMxMOkCamZmZmZk9QGZmZmZmZj9AZmZmZmZmPECamZmZmRk1QAAAAAAAQEBAMzMzMzMzNkBmZmZmZmZAQJqZmZmZ2UVAzczMzMxMP0AzMzMzM\\u002fNBQDMzMzMzszxAAAAAAAAAOUAAAAAAAIA5QAAAAAAAADxAzczMzMzMPkBmZmZmZiZBQDMzMzMzMz1AMzMzMzOzOEAzMzMzMzM2QDMzMzMzszRAMzMzMzOzMUAzMzMzMzMwQM3MzMzMDENAmpmZmZkZOkCamZmZmZk8QJqZmZmZGTpAmpmZmZkZPEDNzMzMzMw2QAAAAAAAgDdAmpmZmZmZPEBmZmZmZuY8QDMzMzMzszpAAAAAAAAANEAAAAAAAIA9QAAAAAAAAD9AmpmZmZnZQ0DNzMzMzExAQDMzMzMzMzdAmpmZmZkZP0CamZmZmRlBQAAAAAAAAD1AzczMzMxMMkAAAAAAAIA+QM3MzMzMzD9AMzMzMzOzO0AzMzMzM7M9QJqZmZmZGTpAAAAAAAAAQEAAAAAAAIA7QAAAAAAAgEFAZmZmZmZmPUAzMzMzM7M6QM3MzMzMjERAzczMzMxMO0CamZmZmRk8QDMzMzMzszhAMzMzMzMzPEAAAAAAAIA+QGZmZmZmZjxAMzMzMzMzNEBmZmZmZmY6QDMzMzMzM0FAzczMzMxMOUDNzMzMzMwzQAAAAAAAwEBAzczMzMxMO0CamZmZmZk6QM3MzMzMTEJAMzMzMzMzN0CamZmZmVlBQAAAAAAAgDdAMzMzMzMzOUCamZmZmRk6QM3MzMzMTEJAZmZmZmZmOEAAAAAAAAA3QGZmZmZmZjhAmpmZmZmZPUDNzMzMzAxHQJqZmZmZGTtAZmZmZmZmNkAAAAAAAAA5QM3MzMzMTDNAAAAAAACAMUAzMzMzM3NBQM3MzMzMTDxAZmZmZmbmPEAzMzMzMzM7QM3MzMzMTDtAAAAAAACANUAzMzMzM7MwQJqZmZmZmTVAzczMzMzMNEBmZmZmZmY8QGZmZmZmZjpAmpmZmZmZPEAAAAAAAAA6QJqZmZmZmTtAmpmZmZkZP0AzMzMzMzMzQAAAAAAAAD9AmpmZmZkZQ0AAAAAAAMBCQJqZmZmZmTdAAAAAAACAO0AzMzMzMzM8QAAAAAAAgDxAMzMzMzOzPECamZmZmRk0QGZmZmZmpkBAMzMzMzMzOEAAAAAAAABGQM3MzMzMjEFAMzMzMzMzQUAzMzMzMzM5QGZmZmZm5kNAmpmZmZmZPUBmZmZmZuY9QM3MzMzMzEFAmpmZmZmZOkAAAAAAAIA4QJqZmZmZmTxAzczMzMyMQEBmZmZmZmY3QGZmZmZmpkdAZmZmZmZmOECamZmZmRk\\u002fQM3MzMzMzDVAzczMzMzMMkCamZmZmRlCQM3MzMzMzD9AzczMzMyMQEDNzMzMzIxAQDMzMzMzM0FAAAAAAAAAQ0AzMzMzMzNBQAAAAAAAwEJAAAAAAACAO0AAAAAAAAA9QJqZmZmZmT9AZmZmZmbmN0CamZmZmZk3QGZmZmZmpkxAZmZmZmZmPEAAAAAAAAA4QAAAAAAAAEFAAAAAAAAAO0DNzMzMzMw9QGZmZmZm5khAMzMzMzOzMkCamZmZmRkxQAAAAAAAADtAZmZmZmZmM0AAAAAAAIBBQGZmZmZmZjlAAAAAAAAAMkDNzMzMzEw6QDMzMzMz80BAmpmZmZmZO0DNzMzMzMw3QAAAAAAAADpAmpmZmZkZP0DNzMzMzMw9QAAAAAAAAEFAmpmZmZmZNUAAAAAAAAAxQM3MzMzMTD5AAAAAAACANUBmZmZmZmY9QDMzMzMzMzpAmpmZmZlZQEBmZmZmZmY8QJqZmZmZWUZAZmZmZmbmPUCamZmZmdlEQDMzMzMzMzZAmpmZmZlZQ0AzMzMzM7M2QJqZmZmZWUFAAAAAAACAPEAzMzMzM3NGQM3MzMzMzDxAAAAAAACANUAzMzMzMzM8QM3MzMzMTDBAZmZmZmamQUDNzMzMzMw4QJqZmZmZGTRAZmZmZmZmOEAzMzMzMzM9QM3MzMzMzDdAZmZmZmamQUBmZmZmZuY6QM3MzMzMTDdAMzMzMzPzQUAAAAAAAIBAQDMzMzMzszVAAAAAAAAAPECamZmZmRk0QJqZmZmZWUJAzczMzMzMPkBmZmZmZmY3QDMzMzMzszdAZmZmZmZmQEBmZmZmZmY0QM3MzMzMjEBAAAAAAACAPkAzMzMzMzM6QJqZmZmZWUVAMzMzMzOzQkAAAAAAAIA\\u002fQM3MzMzMTDtAAAAAAAAAQEAzMzMzM\\u002fNBQAAAAAAAgD1AzczMzMxMOEAzMzMzM7M6QDMzMzMzszRAzczMzMzMPEAzMzMzM7M8QGZmZmZmZjdAzczMzMzMOEAAAAAAAEBAQJqZmZmZmTZAAAAAAACAQkCamZmZmZk8QGZmZmZmZjdAzczMzMzML0AAAAAAAIA\\u002fQAAAAAAAACtAMzMzMzOzPUCamZmZmRk7QAAAAAAAADJAAAAAAACAP0DNzMzMzMw4QJqZmZmZ2UBAZmZmZmZmQEDNzMzMzIxAQDMzMzMzsztAMzMzMzMzOECamZmZmRk2QM3MzMzMTDxAMzMzMzMzOUCamZmZmRlAQDMzMzMzs0NAmpmZmZkZOECamZmZmZlGQAAAAAAAAEBAZmZmZmZmQEAAAAAAAIA1QGZmZmZm5jJAMzMzMzMzQEAzMzMzMzMwQJqZmZmZGTNAzczMzMxMNUAzMzMzMzM9QJqZmZmZmTdAzczMzMxMNEBmZmZmZuY8QAAAAAAAADxAAAAAAACAOEAAAAAAAAA7QM3MzMzMzDdAzczMzMwMREDNzMzMzAxEQJqZmZmZmTRAzczMzMzMRUAzMzMzMzM2QJqZmZmZGTFAzczMzMyMQ0DNzMzMzMw+QAAAAAAAAD1AmpmZmZkZN0CamZmZmZlBQAAAAAAAADtAmpmZmZlZQEBmZmZmZmY+QAAAAAAAgDtAzczMzMzMREAzMzMzM7M\\u002fQAAAAAAAgEZAzczMzMxMN0CamZmZmVlLQGZmZmZm5jlAmpmZmZmZO0BmZmZmZmZAQAAAAAAAgD5AZmZmZmbmN0BmZmZmZmZAQJqZmZmZmTxAzczMzMxMOUAzMzMzM\\u002fNBQJqZmZmZmTdAZmZmZmZmP0DNzMzMzEw2QAAAAAAAADdAzczMzMzMOEAzMzMzM7M4QGZmZmZm5jxAzczMzMzMRUAzMzMzM7NDQGZmZmZm5jdAAAAAAABAQEBmZmZmZmYwQM3MzMzMzDVAMzMzMzMzO0AzMzMzM7NAQM3MzMzMTDVAMzMzMzMzPUAAAAAAAAA3QDMzMzMzc05AmpmZmZnZRUCamZmZmdlBQM3MzMzMTD1AZmZmZmZmOkBmZmZmZmY9QJqZmZmZGT5AzczMzMzMPUAAAAAAAIBAQAAAAAAAgDtAZmZmZmZmMEAAAAAAAEBGQGZmZmZmZjdAZmZmZmamQUAzMzMzM3NEQM3MzMzMTEJAMzMzMzMzL0BmZmZmZmYyQM3MzMzMzD1AMzMzMzOzOEDNzMzMzMwyQGZmZmZm5jlAmpmZmZkZNECamZmZmVlAQJqZmZmZGTtAAAAAAACAO0AAAAAAAAAsQM3MzMzMzDFAZmZmZmbmOECamZmZmZk+QM3MzMzMTEVAzczMzMxMRkAzMzMzM7M8QGZmZmZmZjdAMzMzMzOzO0BmZmZmZmY3QDMzMzMzszxAAAAAAACAN0DNzMzMzMw4QAAAAAAAgEFAmpmZmZmZOkCamZmZmVlCQJqZmZmZmTpAZmZmZmbmOkDNzMzMzIxAQJqZmZmZGUJAZmZmZmZmPUBmZmZmZmY4QM3MzMzMjEBAmpmZmZmZNkAzMzMzMzM\\u002fQDMzMzMzszZAMzMzMzMzQEAzMzMzM\\u002fNAQDMzMzMzszJAAAAAAACANEAAAAAAAAA\\u002fQM3MzMzMzDhAzczMzMxMMUAAAAAAAAA8QJqZmZmZGTVAZmZmZmbmQEAzMzMzM7MxQDMzMzMzszxAMzMzMzMzPUAzMzMzMzM8QDMzMzMzsz5AzczMzMwMQUDNzMzMzEwzQGZmZmZm5kJAmpmZmZmZQ0CamZmZmZk9QDMzMzMzM0JAmpmZmZmZO0AAAAAAAAA1QDMzMzMzMzpAZmZmZmZmM0BmZmZmZqZBQAAAAAAAgDVAmpmZmZmZNkBmZmZmZmY3QGZmZmZmZkRAMzMzMzMzREBmZmZmZmY6QDMzMzMzszFAmpmZmZnZQUAzMzMzM7MxQDMzMzMzMzVAZmZmZmZmOkDNzMzMzEw6QDMzMzMzMzpAmpmZmZkZM0AAAAAAAAA\\u002fQM3MzMzMzDZAAAAAAAAAPEAzMzMzM\\u002fNEQDMzMzMzsztAzczMzMxMO0AAAAAAAAA6QM3MzMzMzD5AmpmZmZkZOUDNzMzMzMxBQGZmZmZmZjFAMzMzMzOzNEDNzMzMzEw8QGZmZmZm5jJAMzMzMzMzOUCamZmZmZk0QAAAAAAAAEBAzczMzMxMNkCamZmZmZk8QAAAAAAAAD1AmpmZmZlZQUAAAAAAAIA4QJqZmZmZmUBAMzMzMzOzO0DNzMzMzAxCQJqZmZmZmThAzczMzMxMMUAAAAAAAAA+QM3MzMzMzD5AZmZmZmZmPkAAAAAAAIA8QAAAAAAAgDZAzczMzMzMPkDNzMzMzMw9QGZmZmZmZi5AmpmZmZnZRUDNzMzMzMw+QGZmZmZmJkVAzczMzMzMNkAzMzMzMzM7QGZmZmZmpkVAMzMzMzOzQEAzMzMzM7M3QAAAAAAAAEFAmpmZmZkZNEDNzMzMzAxEQAAAAAAAwEBAAAAAAACANUBmZmZmZmY8QM3MzMzMzDlAMzMzMzOzPEDNzMzMzExCQGZmZmZmZjxAZmZmZmbmOEBmZmZmZuZBQM3MzMzMzDRAzczMzMxMPECamZmZmRk6QDMzMzMzc0hAzczMzMzMNUBmZmZmZmY6QAAAAAAAAEFAzczMzMxMNUDNzMzMzEw9QM3MzMzMTD9AmpmZmZmZOkAAAAAAAAA9QJqZmZmZGTpAMzMzMzMzOUCamZmZmZk7QGZmZmZmZkZAAAAAAAAAN0AAAAAAAAA2QGZmZmZm5jtAMzMzMzMzO0CamZmZmRk3QDMzMzMzM0FAMzMzMzMzNEAAAAAAAAAvQJqZmZmZmTtAmpmZmZkZPEAzMzMzM7NAQJqZmZmZGTtAZmZmZmZmNEAAAAAAAAA1QGZmZmZm5kRAAAAAAAAAOUAAAAAAAIA3QJqZmZmZGUJAZmZmZmZmN0CamZmZmRlAQDMzMzMzsztAAAAAAAAAPUCamZmZmRk2QM3MzMzMzDBAzczMzMxMPEBmZmZmZuY5QDMzMzMzszFAAAAAAAAANkCamZmZmRk0QAAAAAAAgDlAAAAAAADAREAzMzMzMzM9QAAAAAAAAEJAMzMzMzMzQECamZmZmRk7QJqZmZmZ2UNAMzMzMzMzSEAzMzMzMzM7QJqZmZmZGT9AmpmZmZmZNUDNzMzMzEw3QJqZmZmZGTpAZmZmZmZmNkDNzMzMzMw9QJqZmZmZ2UFAAAAAAACAN0AAAAAAAIA3QDMzMzMzsztAMzMzMzPzQUAAAAAAAEBAQM3MzMzMzD9AAAAAAAAAMUAzMzMzM7M6QM3MzMzMDEBAMzMzMzMzOUBmZmZmZmZBQJqZmZmZGUFAZmZmZmZmOkDNzMzMzMw5QDMzMzMzc0BAMzMzMzOzOkBmZmZmZmY4QGZmZmZm5jpAMzMzMzMzPEAAAAAAAIA7QAAAAAAAgENAZmZmZmbmP0AAAAAAAAA6QAAAAAAAADpAAAAAAACAPEAzMzMzM7M+QM3MzMzMTDxAAAAAAACAOUBmZmZmZuY7QDMzMzMzszpAZmZmZmZmQUDNzMzMzAxAQJqZmZmZmUBAmpmZmZnZQEAAAAAAAAA6QAAAAAAAAD5AZmZmZmbmQUDNzMzMzEw3QJqZmZmZGThAzczMzMzMNkAzMzMzM7M8QGZmZmZm5jlAAAAAAACAPkAAAAAAAIBAQJqZmZmZGTlAMzMzMzPzQUBmZmZmZmY8QJqZmZmZGTxAAAAAAAAAP0AAAAAAAIBGQGZmZmZm5jpAZmZmZmbmO0AAAAAAAAA9QJqZmZmZmUNAAAAAAAAAL0CamZmZmZk2QAAAAAAAAEBAMzMzMzNzQEAzMzMzM7MyQAAAAAAAgDdAAAAAAAAAOUAAAAAAAAAyQJqZmZmZGTxAzczMzMzMPkBmZmZmZuY8QGZmZmZm5kBAZmZmZmZmM0AzMzMzM7M+QJqZmZmZGTlAZmZmZmbmNUBmZmZmZqZAQDMzMzMzMz5AmpmZmZmZMECamZmZmRk0QJqZmZmZmTtAMzMzMzMzPEBmZmZmZmY5QJqZmZmZGUBAZmZmZmZmNEAzMzMzM7M5QM3MzMzMjERAzczMzMzMOUBmZmZmZiZBQGZmZmZmZkNAmpmZmZlZQEDNzMzMzMwyQGZmZmZmZjhAAAAAAAAAPkBmZmZmZuY7QM3MzMzMjEtAmpmZmZlZQ0CamZmZmZk3QAAAAAAAgDtAzczMzMyMQEBmZmZmZmY\\u002fQM3MzMzMTENAZmZmZmbmQkBmZmZmZuY3QDMzMzMzszZAAAAAAACANUAzMzMzM7M6QJqZmZmZmTJAMzMzMzOzRkBmZmZmZuY0QM3MzMzMzD5AmpmZmZkZQ0AzMzMzM7M9QJqZmZmZGTdAmpmZmZkZPUAzMzMzM7M5QDMzMzMzszpAMzMzMzOzO0AzMzMzMzM7QGZmZmZm5jtAmpmZmZlZQ0AzMzMzMzM0QM3MzMzMzDVAAAAAAACAR0CamZmZmdlAQDMzMzMzsztAzczMzMzMNkDNzMzMzEw9QGZmZmZmZjVAzczMzMxMNkBmZmZmZmY1QGZmZmZm5jxAzczMzMyMQUAzMzMzM7M8QDMzMzMz80BAmpmZmZnZQECamZmZmZkzQJqZmZmZGTJAzczMzMwMRUAAAAAAAIA+QGZmZmZmZjpAZmZmZmZmP0BmZmZmZmY3QM3MzMzMzDxAZmZmZmbmOkDNzMzMzIxAQDMzMzMzs0NAzczMzMxMQEDNzMzMzIxDQGZmZmZm5jFAAAAAAAAAOUAzMzMzM7M6QDMzMzMzc0BAZmZmZmZmN0BmZmZmZmZAQAAAAAAAgEVAmpmZmZmZNEBmZmZmZmY+QAAAAAAAgDVAAAAAAACAPECamZmZmZk+QGZmZmZm5jtAmpmZmZmZOUCamZmZmZlBQJqZmZmZmT9AAAAAAAAAREAAAAAAAAA7QJqZmZmZGT5AzczMzMxMOEDNzMzMzMwzQDMzMzMzszpAzczMzMzMPkAAAAAAAIAzQJqZmZmZGUFAZmZmZmYmQUAzMzMzMzM5QDMzMzMzszxAmpmZmZnZQUAAAAAAAAAyQDMzMzMz80FAMzMzMzOzPEBmZmZmZuY4QGZmZmZm5kNAMzMzMzMzPUBmZmZmZuY8QJqZmZmZmTdAzczMzMzMOEBmZmZmZmYzQDMzMzMzszxAmpmZmZmZOkCamZmZmZksQDMzMzMzs0FAZmZmZmZmOkDNzMzMzEw9QDMzMzMzszBAZmZmZmYmQUAzMzMzM\\u002fNBQDMzMzMzMzhAMzMzMzOzOEAzMzMzM7M2QGZmZmZm5kFAAAAAAAAANkDNzMzMzMw5QGZmZmZmZjdAAAAAAACAMkCamZmZmZlLQDMzMzMzMzpAAAAAAACAPEDNzMzMzEw2QDMzMzMzc0NAzczMzMzMQUCamZmZmZk7QJqZmZmZmTZAmpmZmZmZPEAAAAAAAABBQDMzMzMzM0JAmpmZmZmZOkDNzMzMzEw5QDMzMzMzsz1AzczMzMzMOEBmZmZmZuY9QM3MzMzMDEdAMzMzMzMzNUAzMzMzMzNBQM3MzMzMjEJAmpmZmZkZPUCamZmZmRk3QM3MzMzMTDhAAAAAAACAOUCamZmZmZk9QJqZmZmZmTJAmpmZmZmZMEDNzMzMzEw+QGZmZmZmZkVAAAAAAACANkAAAAAAAIA3QM3MzMzMTDpAzczMzMzMNECamZmZmZk8QJqZmZmZGTNAMzMzMzOzQEDNzMzMzEw8QAAAAAAAAEFAzczMzMxMPECamZmZmRk5QDMzMzMzsztAmpmZmZnZQkDNzMzMzEw7QDMzMzMzMzlAZmZmZmZmOECamZmZmRk7QJqZmZmZGTxAMzMzMzMzOkAAAAAAAIA4QJqZmZmZmTFAzczMzMzMM0DNzMzMzMxDQGZmZmZm5kVAzczMzMxMOEBmZmZmZuY5QAAAAAAAgDRAAAAAAAAAOUAzMzMzM7M2QGZmZmZmZj9AMzMzMzPzQ0AzMzMzM3NAQM3MzMzMzDNAMzMzMzMzQECamZmZmZlEQAAAAAAAgEFAAAAAAAAAL0CamZmZmRk+QAAAAAAAgDxAmpmZmZnZRECamZmZmRk8QGZmZmZm5j9AAAAAAACAPkAAAAAAAAA9QDMzMzMzMzpAAAAAAAAANUAAAAAAAIA6QGZmZmZmZj5AmpmZmZmZPECamZmZmRk5QJqZmZmZGT5AAAAAAACAMUDNzMzMzExGQAAAAAAAADxAAAAAAAAAN0AAAAAAAAA7QJqZmZmZmTdAzczMzMxMPkBmZmZmZuY8QGZmZmZmZj1AZmZmZmbmNUAzMzMzMzM\\u002fQGZmZmZmZjxAMzMzMzOzQkAzMzMzM7M1QM3MzMzMTDJAMzMzMzOzMEBmZmZmZuY3QGZmZmZmZjxAAAAAAAAANEAzMzMzM7M2QGZmZmZmJkFAMzMzMzOzOEDNzMzMzEw3QDMzMzMzszxAmpmZmZkZQUAzMzMzMzNEQDMzMzMzszxAZmZmZmbmPUDNzMzMzEw8QM3MzMzMTDpAMzMzMzNzQkDNzMzMzMw\\u002fQM3MzMzMTD1AmpmZmZmZP0AAAAAAAAA7QGZmZmZm5jZAMzMzMzOzOUCamZmZmZkrQDMzMzMzMzZAMzMzMzMzQUCamZmZmZk7QJqZmZmZGTpAZmZmZmYmQkAAAAAAAABCQM3MzMzMzD9AAAAAAACANUCamZmZmZk+QJqZmZmZGTpAZmZmZmbmP0DNzMzMzEw+QGZmZmZmZj1AAAAAAAAAPEAAAAAAAIAyQGZmZmZmpkBAZmZmZmZmPkCamZmZmZk7QJqZmZmZmTJAmpmZmZmZQEDNzMzMzMw4QJqZmZmZGURAMzMzMzMzO0CamZmZmRlBQJqZmZmZmURAMzMzMzOzMUCamZmZmZlDQAAAAAAAgD1AzczMzMzMPkDNzMzMzEw6QAAAAAAAgDRAAAAAAACAMkBmZmZmZmY6QDMzMzMzszxAMzMzMzMzOUBmZmZmZuY+QDMzMzMzM0lAzczMzMxMP0BmZmZmZmYyQM3MzMzMzDtAMzMzMzOzMEAzMzMzM7M8QAAAAAAAgERAzczMzMzMPEAzMzMzM\\u002fNAQJqZmZmZmTxAZmZmZmZmQEBmZmZmZuY8QGZmZmZmZj9AzczMzMwMQEAzMzMzM7M6QAAAAAAAwEFAZmZmZmbmOkCamZmZmRk4QM3MzMzMzD5AZmZmZmZmNEAzMzMzMzM\\u002fQJqZmZmZGThAmpmZmZkZOECamZmZmdlEQM3MzMzMjEBAmpmZmZkZNkBmZmZmZqZBQJqZmZmZGT5AmpmZmZkZNECamZmZmZk+QJqZmZmZGTtAmpmZmZmZQkAAAAAAAAA8QGZmZmZm5j1AMzMzMzPzRUBmZmZmZqZAQAAAAAAAgDxAmpmZmZkZNEDNzMzMzMw7QDMzMzMzszpAZmZmZmbmMkBmZmZmZmY8QM3MzMzMzDRAAAAAAACAOEDNzMzMzMw1QAAAAAAAAD1AAAAAAACANUBmZmZmZuY9QDMzMzMzMzZAzczMzMxMQEAzMzMzMzNCQJqZmZmZGTFAMzMzMzOzPEDNzMzMzMw6QM3MzMzMTDBAZmZmZmZmOEAzMzMzM7M6QDMzMzMzs0BAAAAAAACAPEAzMzMzMzM6QJqZmZmZGTNAZmZmZmZmQ0BmZmZmZmY3QDMzMzMzMzxAZmZmZmZmPUAzMzMzM7M9QGZmZmZm5jtAmpmZmZkZNUAzMzMzM7M6QAAAAAAAAD5AMzMzMzNzREBmZmZmZuY3QJqZmZmZGTJAmpmZmZkZOEAzMzMzM7M7QJqZmZmZmTxAmpmZmZmZPUCamZmZmRk+QDMzMzMzszdAZmZmZmZmPEAAAAAAAIA1QAAAAAAAgDpAzczMzMxMS0AAAAAAAMBBQGZmZmZmZjpAMzMzMzOzNkBmZmZmZuYxQM3MzMzMzDpAMzMzMzOzMEAzMzMzM7M1QGZmZmZm5kNAmpmZmZmZPECamZmZmRk6QGZmZmZm5jRAzczMzMxMNUCamZmZmdlAQGZmZmZm5j9AZmZmZmYmQECamZmZmRk4QGZmZmZmZjpAZmZmZmYmS0BmZmZmZuY4QDMzMzMzc0FAMzMzMzOzMkBmZmZmZuY3QGZmZmZm5jdAAAAAAACANECamZmZmRk6QM3MzMzMTDVAMzMzMzOzPUDNzMzMzAxBQDMzMzMzMz1AmpmZmZmZOECamZmZmZlBQM3MzMzMzDRAzczMzMxMPkCamZmZmRk+QDMzMzMzszRAAAAAAACAN0BmZmZmZiZBQDMzMzMzMzlAMzMzMzOzOEDNzMzMzMw4QJqZmZmZGTtAMzMzMzOzNkAAAAAAAAA\\u002fQM3MzMzMTDhAAAAAAABAQUDNzMzMzEw8QM3MzMzMTDpAZmZmZmZmN0BmZmZmZmY3QJqZmZmZmURAMzMzMzNzQEAzMzMzMzMzQAAAAAAAgDtAZmZmZmZmOEBmZmZmZmZGQAAAAAAAgDtAzczMzMxMM0AzMzMzMzM4QDMzMzMzszBAmpmZmZkZOkBmZmZmZmY5QGZmZmZm5jxAmpmZmZmZPEAAAAAAAAA2QGZmZmZmJkBAZmZmZmZmPEAAAAAAAABDQGZmZmZmpkBAzczMzMxMOkAAAAAAAABAQAAAAAAAgDRAZmZmZmZmPUAzMzMzMzM8QJqZmZmZmT1AMzMzMzOzQUBmZmZmZuY7QDMzMzMzszpAAAAAAAAAQkDNzMzMzAxAQM3MzMzMzD5AAAAAAACAPUAzMzMzMzM7QGZmZmZm5jRAMzMzMzMzMkAAAAAAAABCQGZmZmZm5kBAAAAAAACAOECamZmZmRlHQDMzMzMzszFAZmZmZmZmOkCamZmZmRkyQGZmZmZm5jRAmpmZmZmZO0BmZmZmZqZEQGZmZmZm5jFAmpmZmZmZN0CamZmZmRk+QJqZmZmZmThAmpmZmZkZSUBmZmZmZmY5QAAAAAAAADdAAAAAAACAO0AzMzMzMzM8QM3MzMzMzDlAAAAAAAAAM0AAAAAAAEBBQJqZmZmZmThAAAAAAAAAL0DNzMzMzAxAQAAAAAAAADdAzczMzMxMOkCamZmZmRk7QJqZmZmZGTpAzczMzMxMQECamZmZmRk8QM3MzMzMzDlAzczMzMyMRkAAAAAAAIA0QDMzMzMzszJAAAAAAAAAQkAAAAAAAAA1QDMzMzMzMztAmpmZmZmZPUAAAAAAAEBCQJqZmZmZGT1AmpmZmZmZPkDNzMzMzMw3QM3MzMzMzD5AmpmZmZmZOUBmZmZmZmY1QGZmZmZmZj5AAAAAAAAAMUDNzMzMzAxAQAAAAAAAgDlAMzMzMzMzNkDNzMzMzIxCQDMzMzMzsz1AZmZmZmbmOECamZmZmZlBQAAAAAAAADtAmpmZmZmZOkCamZmZmRk2QM3MzMzMTDtAzczMzMyMRECamZmZmdlBQGZmZmZmZjhAAAAAAAAAOkCamZmZmZkyQJqZmZmZmTdAMzMzMzMzLkAAAAAAAAA7QM3MzMzMzDlAZmZmZmZmPUAzMzMzM7MxQGZmZmZmZjpAZmZmZmZmMkBmZmZmZiZBQJqZmZmZmTtAMzMzMzOzO0DNzMzMzMw3QJqZmZmZmTtAMzMzMzMzN0DNzMzMzMwwQAAAAAAAAD1AzczMzMxMOkCamZmZmRk+QM3MzMzMTD9AzczMzMwMQUDNzMzMzMw3QDMzMzMzszRAmpmZmZmZQEDNzMzMzEw9QM3MzMzMzDtAZmZmZmbmQEBmZmZmZmY9QAAAAAAAgEJAzczMzMzMP0CamZmZmZk0QAAAAAAAADJAZmZmZmbmRUBmZmZmZuY4QM3MzMzMzDdAzczMzMxMO0AAAAAAAIA1QM3MzMzMjEBAMzMzMzOzOkAzMzMzMzM6QGZmZmZmZjxAAAAAAAAAP0AzMzMzMzM9QM3MzMzMzDlAMzMzMzMzPEDNzMzMzMw\\u002fQDMzMzMzszdAMzMzMzMzOEBmZmZmZuYwQJqZmZmZmTRAZmZmZmbmOkDNzMzMzEw4QJqZmZmZGTdAzczMzMxMOEDNzMzMzAxAQGZmZmZm5jVAmpmZmZkZNkDNzMzMzMwwQDMzMzMzMzlAMzMzMzNzQEBmZmZmZqZBQM3MzMzMTDlAMzMzMzOzO0CamZmZmZkxQAAAAAAAAENAzczMzMzMMkDNzMzMzMw9QAAAAAAAAEFAZmZmZmZmNUCamZmZmRk7QM3MzMzMzDJAMzMzMzOzPEAzMzMzM7M9QM3MzMzMzDJAMzMzMzMzPEBmZmZmZuY3QM3MzMzMzD5AmpmZmZmZOEBmZmZmZuY3QGZmZmZmZjZAmpmZmZmZRUAzMzMzMzNEQAAAAAAAADJAAAAAAAAAQEBmZmZmZmY8QM3MzMzMzEFAmpmZmZmZQUAzMzMzMzM3QAAAAAAAQEFAAAAAAAAANECamZmZmRk2QGZmZmZm5j5AZmZmZmYmQEAzMzMzMzNBQAAAAAAAwEFAzczMzMzMPUCamZmZmRk9QM3MzMzMTEFAZmZmZmbmPkAAAAAAAAA7QJqZmZmZmT1AzczMzMxMPUCamZmZmZkvQAAAAAAAgDNAZmZmZmbmO0DNzMzMzIxAQAAAAAAAgDBAZmZmZmZmO0AAAAAAAABBQM3MzMzMzDZAzczMzMxMQUCamZmZmRk\\u002fQM3MzMzMTDVAMzMzMzMzMkAzMzMzM\\u002fNBQM3MzMzMjERAMzMzMzMzMUBmZmZmZmYyQJqZmZmZGThAMzMzMzNzQEAzMzMzM7M4QM3MzMzMzDBAzczMzMxMMUCamZmZmZkyQM3MzMzMzEFAmpmZmZkZQUAAAAAAAIA6QM3MzMzMTDxAMzMzMzMzM0DNzMzMzMw9QGZmZmZmZjpAmpmZmZnZQUCamZmZmRk6QGZmZmZmZjFAMzMzMzOzO0CamZmZmRk3QJqZmZmZWUBAzczMzMzMQEAzMzMzMzNAQGZmZmZm5kRAZmZmZmbmOUAAAAAAAAA9QGZmZmZmZkNAmpmZmZmZJECamZmZmRk1QAAAAAAAADhAzczMzMxMN0CamZmZmRk4QDMzMzMzs0pAZmZmZmYmQEDNzMzMzExBQGZmZmZmZjpAmpmZmZkZPECamZmZmRk+QGZmZmZmZj9AZmZmZmbmPUDNzMzMzEwxQGZmZmZm5j5AMzMzMzOzQEAzMzMzM7M8QGZmZmZmpkNAZmZmZmamRUAAAAAAAIA4QGZmZmZm5jlAmpmZmZmZOkCamZmZmRk8QAAAAAAAgD5AZmZmZmbmO0AAAAAAAIAwQAAAAAAAADxAmpmZmZmZL0BmZmZmZuY7QDMzMzMzszVAAAAAAACAPEAzMzMzMzM2QM3MzMzMDEdAZmZmZmbmOUDNzMzMzMw5QDMzMzMzMztAzczMzMxMMEAzMzMzM7NAQGZmZmZmZjVAAAAAAACAOEBmZmZmZmYwQGZmZmZm5j9AzczMzMyMREDNzMzMzMw1QAAAAAAAgEVAAAAAAAAAL0BmZmZmZuY2QM3MzMzMzD5AzczMzMzMPEBmZmZmZuY8QAAAAAAAADFAmpmZmZkZMEAzMzMzMzNAQM3MzMzMzD5AMzMzMzMzOkCamZmZmZkxQJqZmZmZGT5AAAAAAACAP0CamZmZmRlAQM3MzMzMzD1AZmZmZmZmMkAAAAAAAAA9QGZmZmZm5jtAZmZmZmZmPEAAAAAAAIA9QDMzMzMzMz1AzczMzMzMPEDNzMzMzMw6QJqZmZmZmTNAzczMzMzMN0DNzMzMzEwyQM3MzMzMTDpAAAAAAAAAOkAAAAAAAABEQGZmZmZmJktAzczMzMxMMEAAAAAAAAA4QJqZmZmZGTRAAAAAAAAAOkDNzMzMzExBQAAAAAAAgDNAAAAAAAAAP0AAAAAAAAA\\u002fQM3MzMzMDEFAZmZmZmbmPkBmZmZmZmYzQDMzMzMz80RAZmZmZmbmN0AAAAAAAAA5QAAAAAAAgDhAZmZmZmYmQECamZmZmZlEQM3MzMzMTDtAAAAAAACAOkDNzMzMzMw0QJqZmZmZmTRAmpmZmZlZQ0AzMzMzM3NCQJqZmZmZmTdAzczMzMzMQ0CamZmZmRk6QJqZmZmZWUtAmpmZmZmZN0CamZmZmVlBQJqZmZmZGTlAmpmZmZmZN0BmZmZmZuYwQGZmZmZm5kJAZmZmZmbmOUAzMzMzMzM2QJqZmZmZWUFAAAAAAACAOUCamZmZmVlBQDMzMzMzszdAAAAAAAAAO0CamZmZmRk6QGZmZmZmZjNAzczMzMyMQEDNzMzMzMxCQGZmZmZm5jFAMzMzMzMzOEAAAAAAAAA4QM3MzMzMTD9AAAAAAAAANECamZmZmVlAQM3MzMzMzDZAZmZmZmbmPUAzMzMzM7NAQAAAAAAAADpAMzMzMzOzRUAAAAAAAIA1QM3MzMzMzDRAzczMzMzMP0AzMzMzM7M8QGZmZmZm5jBAMzMzMzMzOkDNzMzMzMxDQM3MzMzMzC5AZmZmZmZmPkAAAAAAAAA5QGZmZmZmZj1AMzMzMzPzSEDNzMzMzEw5QGZmZmZmZj9AAAAAAAAAQ0BmZmZmZmY2QAAAAAAAwENAZmZmZmYmQECamZmZmRk6QM3MzMzMDEVAAAAAAAAAPkDNzMzMzMw4QAAAAAAAADhAMzMzMzMzNUBmZmZmZuY6QM3MzMzMTDhAzczMzMxMOkBmZmZmZuY9QJqZmZmZWUFAAAAAAACAPUAzMzMzM7M7QJqZmZmZGTZAAAAAAACAQEAAAAAAAIBAQM3MzMzMzDhAZmZmZmZmOUCamZmZmZk3QAAAAAAAgDFAZmZmZmbmMEBmZmZmZmY0QAAAAAAAADpAAAAAAACAN0CamZmZmRk7QDMzMzMzsz9AmpmZmZmZL0AAAAAAAABCQAAAAAAAgD9AzczMzMxMPUBmZmZmZuY9QAAAAAAAgDxAMzMzMzMzQUAzMzMzM3NCQGZmZmZm5jlAZmZmZmbmQEDNzMzMzEwwQJqZmZmZGTpAMzMzMzNzRECamZmZmdlDQM3MzMzMTEJAZmZmZmZmQECamZmZmdlCQM3MzMzMzD9AZmZmZmZmNkBmZmZmZuZEQGZmZmZm5jtAAAAAAACAN0BmZmZmZiZAQGZmZmZm5jlAAAAAAACANUBmZmZmZqZCQDMzMzMzszxAmpmZmZkZPUAzMzMzMzM9QDMzMzMzc0JAMzMzMzOzMUAAAAAAAABEQM3MzMzMDEJAZmZmZmZmOEAAAAAAAIBBQM3MzMzMTDtAzczMzMzMM0BmZmZmZuY1QM3MzMzMzDxAAAAAAADAQEBmZmZmZmY9QGZmZmZmZjdAAAAAAAAAOEDNzMzMzEw2QAAAAAAAADJAmpmZmZkZNECamZmZmRk7QJqZmZmZmT1AmpmZmZmZQEAzMzMzM\\u002fNAQAAAAAAAgDJAmpmZmZmZPkDNzMzMzMxEQDMzMzMzsz5AzczMzMxMMkBmZmZmZuY4QJqZmZmZ2UFAMzMzMzMzLkDNzMzMzEw6QDMzMzMzM0BAZmZmZmZmPkBmZmZmZuY6QJqZmZmZWUNAzczMzMxMP0AAAAAAAIA3QAAAAAAAADlAMzMzMzOzOkBmZmZmZuZAQGZmZmZmZjdAmpmZmZkZQUDNzMzMzMw9QM3MzMzMzENAzczMzMzMOECamZmZmZk0QM3MzMzMzDtAmpmZmZkZQECamZmZmdlAQJqZmZmZGTpAmpmZmZkZPEBmZmZmZmY6QAAAAAAAgEtAAAAAAACAPEDNzMzMzMwzQGZmZmZm5j1AmpmZmZmZOUAAAAAAAAA7QM3MzMzMDEBAmpmZmZmZQUAAAAAAAIA5QGZmZmZm5jlAMzMzMzOzM0BmZmZmZuY4QAAAAAAAAD1AzczMzMxMPEAAAAAAAAA0QJqZmZmZWUJAzczMzMzMNUCamZmZmRk2QAAAAAAAQEFAZmZmZmZmRUBmZmZmZmY\\u002fQJqZmZmZWUBAAAAAAACAOkDNzMzMzEw8QM3MzMzMzDhAzczMzMxMMECamZmZmRk+QM3MzMzMTEBAZmZmZmbmNkDNzMzMzMw4QDMzMzMzszJAMzMzMzMzO0BmZmZmZmY9QM3MzMzMTDVAZmZmZmbmPEBmZmZmZuY1QM3MzMzMTD1AAAAAAABAQEBmZmZmZuY8QJqZmZmZGUBAzczMzMxMNUCamZmZmZk6QAAAAAAAgEZAMzMzMzOzPEBmZmZmZmY1QGZmZmZm5jxAzczMzMxMQEBmZmZmZmY3QDMzMzMzMzZAMzMzMzMzOUBmZmZmZmY\\u002fQAAAAAAAwENAzczMzMxMO0BmZmZmZmZAQGZmZmZm5jVAZmZmZmbmO0DNzMzMzIxAQDMzMzMzszVAmpmZmZlZQUBmZmZmZmYzQJqZmZmZmTxAmpmZmZkZOEBmZmZmZuY6QDMzMzMzsz5AAAAAAABAR0AAAAAAAAA3QM3MzMzMDEBAmpmZmZkZQEBmZmZmZmY7QM3MzMzMzEBAZmZmZmbmO0BmZmZmZmZIQAAAAAAAwENAZmZmZmZmPUAAAAAAAIA1QGZmZmZmZkFAmpmZmZlZQkAzMzMzMzM3QJqZmZmZGTFAzczMzMwMQUDNzMzMzEw4QGZmZmZm5jpAzczMzMxMQ0DNzMzMzMwxQM3MzMzMTEFAmpmZmZkZNEAAAAAAAIA4QGZmZmZmZjRAZmZmZmbmOkCamZmZmRk9QGZmZmZmZjlAZmZmZmZmQUBmZmZmZiZAQAAAAAAAgDlAMzMzMzOzPUBmZmZmZmY4QJqZmZmZGUBAzczMzMxMQEAAAAAAAAA8QAAAAAAAAD1AMzMzMzOzN0AzMzMzM7M9QGZmZmZmZjdAAAAAAAAAO0AAAAAAAAA6QDMzMzMzszhAAAAAAACAO0AAAAAAAIA5QAAAAAAAgEBAmpmZmZmZOUBmZmZmZmZEQM3MzMzMzDRAMzMzMzOzNECamZmZmRk6QJqZmZmZWUJAZmZmZmZmQECamZmZmRk9QJqZmZmZmTdAAAAAAACAOUCamZmZmRlBQJqZmZmZGT5AMzMzMzMzOEAAAAAAAAA2QM3MzMzMDEFAMzMzMzMzNUCamZmZmdlDQAAAAAAAADJAmpmZmZmZMUCamZmZmRk+QAAAAAAAgDRAMzMzMzOzQEBmZmZmZmY9QGZmZmZmZjdAzczMzMxMO0AAAAAAAAA\\u002fQM3MzMzMTDdAmpmZmZkZPUCamZmZmZk9QAAAAAAAQENAZmZmZmZmOkAAAAAAAIBAQAAAAAAAgDNAAAAAAAAAPEAAAAAAAAA3QGZmZmZm5jdAMzMzMzMzO0AAAAAAAIA5QDMzMzMzMz1AmpmZmZkZMkBmZmZmZmY8QJqZmZmZmTJAMzMzMzMzN0AzMzMzMzM9QAAAAAAAgDpAzczMzMzMOEDNzMzMzEw8QM3MzMzMzDxAmpmZmZkZOkAzMzMzM7M1QM3MzMzMTDtAmpmZmZkZMEAAAAAAAIA8QAAAAAAAADtAZmZmZmYmRkAAAAAAAIBDQGZmZmZmpkNAMzMzMzMzMEAzMzMzMzM4QDMzMzMzMz9AmpmZmZmZMUAAAAAAAIA9QAAAAAAAADlAmpmZmZmZMUAAAAAAAAA3QDMzMzMzszxAMzMzMzOzPUAAAAAAAAA0QJqZmZmZmTxAzczMzMzMOEAzMzMzMzM+QGZmZmZm5jhAmpmZmZmZO0CamZmZmZkyQAAAAAAAADpAMzMzMzOzO0BmZmZmZuY+QAAAAAAAADlAMzMzMzMzQEAAAAAAAAA+QJqZmZmZGTRAmpmZmZnZQkCamZmZmRk6QGZmZmZm5jNAmpmZmZkZPkBmZmZmZmY3QJqZmZmZ2UNAAAAAAACAN0DNzMzMzExDQGZmZmZm5jhAZmZmZmbmQUBmZmZmZmY8QDMzMzMzszxAMzMzMzOzPEAAAAAAAMBAQJqZmZmZmTtAZmZmZmbmNUDNzMzMzEw\\u002fQJqZmZmZGT5AzczMzMxMMUAzMzMzM7M4QM3MzMzMzDlAMzMzMzMzOUAAAAAAAIA9QM3MzMzMzDdAMzMzMzOzO0DNzMzMzAxDQAAAAAAAADdAMzMzMzMzOEAzMzMzM7M3QAAAAAAAAEJAZmZmZmZmPUCamZmZmZk8QJqZmZmZmTtAmpmZmZkZOkAzMzMzM7NDQJqZmZmZGT1AAAAAAACAN0CamZmZmZk+QJqZmZmZGThAmpmZmZmZO0CamZmZmZk0QJqZmZmZGUBAAAAAAAAAQkCamZmZmZk5QJqZmZmZGTRAMzMzMzOzQUDNzMzMzMw8QGZmZmZmZjRAZmZmZmbmPkBmZmZmZuY6QJqZmZmZGTlAZmZmZmZmP0BmZmZmZmY8QDMzMzMzszlAmpmZmZlZQECamZmZmRk4QGZmZmZm5j1AzczMzMzMM0CamZmZmZk1QGZmZmZm5jlAMzMzMzMzQEAAAAAAAAA+QM3MzMzMTDtAAAAAAADAQUAAAAAAAABAQDMzMzMzs0BAAAAAAACAOkBmZmZmZmY5QAAAAAAAADRAZmZmZmbmPEAAAAAAAEBCQJqZmZmZWUFAmpmZmZkZNECamZmZmRk9QDMzMzMzszdAAAAAAAAAMEDNzMzMzIxAQAAAAAAAQENAAAAAAAAAMkAzMzMzM7M2QDMzMzMzszZAAAAAAAAAQEDNzMzMzMw5QM3MzMzMzDNAAAAAAAAAOkBmZmZmZmY5QM3MzMzMzDhAAAAAAAAAOECamZmZmRk8QM3MzMzMTD5AAAAAAAAAOkAAAAAAAAA6QM3MzMzMDEJAAAAAAACAO0DNzMzMzEw8QM3MzMzMzDJAZmZmZmZmP0DNzMzMzMw0QAAAAAAAAD1AAAAAAAAANkDNzMzMzEw4QM3MzMzMDEFAAAAAAACAOkAAAAAAAIA6QJqZmZmZGTVAAAAAAABARkAAAAAAAIA7QJqZmZmZGThAmpmZmZmZOkAAAAAAAAA+QDMzMzMzMzhAMzMzMzMzOkBmZmZmZmYzQGZmZmZmZjFAZmZmZmbmOECamZmZmZktQDMzMzMzMz1AzczMzMxMNECamZmZmVlCQGZmZmZm5jtAZmZmZmZmO0CamZmZmZk2QGZmZmZm5jhAZmZmZmZmK0DNzMzMzMwwQJqZmZmZGUVAAAAAAABAQEBmZmZmZmY4QDMzMzMzMy5AZmZmZmZmNUDNzMzMzIxCQGZmZmZmpkBAzczMzMxMPUDNzMzMzExDQJqZmZmZGUJAMzMzMzOzRUCamZmZmRk0QM3MzMzMzDpAAAAAAACANUBmZmZmZmY3QAAAAAAAQEFAmpmZmZkZOkCamZmZmRk8QDMzMzMzMzlAzczMzMzMN0AAAAAAAIA3QM3MzMzMzDZAzczMzMxMNUCamZmZmRk\\u002fQGZmZmZm5jlAAAAAAAAAL0AzMzMzM7M5QJqZmZmZ2UBAZmZmZmbmP0CamZmZmZlEQAAAAAAAgDtAmpmZmZmZO0AAAAAAAAA0QDMzMzMzMz1AmpmZmZkZQUBmZmZmZmY8QAAAAAAAgDtAAAAAAAAAOUBmZmZmZuZBQM3MzMzMTD1AmpmZmZkZOECamZmZmRk5QDMzMzMzszxAAAAAAACAO0BmZmZmZmY6QGZmZmZmZkFAAAAAAAAAOEAzMzMzMzMyQJqZmZmZGUFAAAAAAACARECamZmZmRk+QDMzMzMzMzBAZmZmZmbmPUCamZmZmRk6QJqZmZmZGTpAzczMzMxMOUCamZmZmZk0QM3MzMzMTDRAmpmZmZkZPEBmZmZmZuYzQDMzMzMzMzpAZmZmZmZmN0BmZmZmZmY3QM3MzMzMTDNAAAAAAACAO0AzMzMzM7M7QJqZmZmZGT1AmpmZmZnZRUCamZmZmVlDQGZmZmZm5j5AZmZmZmZmPUDNzMzMzMw+QM3MzMzMTDJAZmZmZmZmNUAzMzMzM7M8QGZmZmZm5jlAmpmZmZmZOUAAAAAAAIA6QM3MzMzMDERAzczMzMxMPUCamZmZmZk1QJqZmZmZWUBAAAAAAABAQ0BmZmZmZuY7QM3MzMzMzDxAAAAAAACAPkAzMzMzM7M0QAAAAAAAAEBAAAAAAABAREBmZmZmZuZBQM3MzMzMzDZAZmZmZmbmOkCamZmZmRkyQJqZmZmZGUFAmpmZmZkZOkCamZmZmRlAQAAAAAAAAD1AzczMzMxMOEBmZmZmZuY0QDMzMzMzszpAzczMzMxMN0AzMzMzMzM2QJqZmZmZmTtAMzMzMzOzQUAzMzMzM7M7QDMzMzMzszhAAAAAAACAPUDNzMzMzExAQM3MzMzMTD1AMzMzMzMzNkDNzMzMzMw2QM3MzMzMTD1AzczMzMxMOUCamZmZmRk0QDMzMzMzMzZAZmZmZmZmQ0DNzMzMzEwwQM3MzMzMTEBAZmZmZmamRkDNzMzMzMwqQGZmZmZmZjtAzczMzMxMPkCamZmZmVlAQGZmZmZmZjxAMzMzMzOzPEAAAAAAAMBAQM3MzMzMTEFAzczMzMxMQEBmZmZmZuY3QGZmZmZmZjlAmpmZmZmZNkAAAAAAAIA+QAAAAAAAwEBAmpmZmZlZRkDNzMzMzMw2QAAAAAAAADtAAAAAAAAAPkDNzMzMzExDQAAAAAAAgDlAMzMzMzOzO0AzMzMzM7M+QJqZmZmZGTBAmpmZmZmZPEBmZmZmZmY8QAAAAAAAgDRAmpmZmZkZPUBmZmZmZuY3QJqZmZmZGTNAzczMzMxMOUAAAAAAAAA9QGZmZmZmJkJAMzMzMzOzMUCamZmZmZksQJqZmZmZWUBAAAAAAAAAOUBmZmZmZmY8QAAAAAAAAC9AZmZmZmZmQkDNzMzMzMw6QDMzMzMzszhAAAAAAACANUCamZmZmRkzQM3MzMzMzDhAzczMzMwMRUDNzMzMzEw5QM3MzMzMzD9AAAAAAAAAQkCamZmZmZk9QM3MzMzMzDlAAAAAAAAAOEAzMzMzMzMqQGZmZmZmZjlAZmZmZmbmOEDNzMzMzAxAQGZmZmZmZjpAmpmZmZkZNEBmZmZmZmY9QM3MzMzMzDVAZmZmZmbmQUBmZmZmZuY9QDMzMzMzszxAAAAAAACAN0BmZmZmZuY2QM3MzMzMTDpAAAAAAAAAPkCamZmZmZlAQDMzMzMzMztAAAAAAACAO0DNzMzMzMw\\u002fQGZmZmZm5j5AAAAAAAAAOUDNzMzMzMw8QAAAAAAAgDdAAAAAAAAANkDNzMzMzEwzQDMzMzMzszJAMzMzMzMzNkAAAAAAAIA1QJqZmZmZGTJAAAAAAACAOkBmZmZmZqZBQM3MzMzMTDdAAAAAAABAQUAAAAAAAIA6QGZmZmZm5jpAMzMzMzMzQEAzMzMzM7M7QDMzMzMzsz1AMzMzMzMzQkCamZmZmRkxQDMzMzMzs0BAMzMzMzNzREAzMzMzMzM5QGZmZmZmZkBAzczMzMwMQUBmZmZmZmY8QM3MzMzMTD9AZmZmZmZmO0AzMzMzMzM8QJqZmZmZGTZAmpmZmZkZPEAAAAAAAIAzQM3MzMzMTD5AAAAAAAAANUAAAAAAAABAQDMzMzMzs0VAzczMzMzMM0AzMzMzM7NCQJqZmZmZGT9AZmZmZmbmOECamZmZmRk2QM3MzMzMzD1AAAAAAAAAQECamZmZmRk+QJqZmZmZGTBAzczMzMxMMUAzMzMzMzNAQAAAAAAAgDhAmpmZmZkZPUDNzMzMzEw3QGZmZmZmZjZAZmZmZmZmPkAAAAAAAAA\\u002fQJqZmZmZmTpAZmZmZmbmOkBmZmZmZmY9QAAAAAAAADJAZmZmZmbmPkBmZmZmZmY6QM3MzMzMzDBAAAAAAAAAN0DNzMzMzEw8QM3MzMzMDEFAzczMzMzMQECamZmZmZlAQAAAAAAAgDBAMzMzMzOzPEAzMzMzM7M8QDMzMzMzs0BAZmZmZmbmOECamZmZmRk3QDMzMzMzsztAMzMzMzOzPkCamZmZmRk\\u002fQAAAAAAAgDlAAAAAAAAAOkBmZmZmZmY\\u002fQGZmZmZmZjVAZmZmZmbmQECamZmZmVlCQGZmZmZm5jpAMzMzMzMzPUBmZmZmZmY3QM3MzMzMDENAAAAAAACAQkAAAAAAAAA9QM3MzMzMzD5AAAAAAAAAOUAzMzMzM\\u002fNAQDMzMzMzszxAmpmZmZlZQECamZmZmRk7QJqZmZmZWUBAAAAAAACAOkAzMzMzMzM6QJqZmZmZmT1AAAAAAAAAMUAAAAAAAMBCQM3MzMzMzDhAmpmZmZmZNEAAAAAAAIBCQDMzMzMzsztAmpmZmZkZRECamZmZmRlCQDMzMzMzsztAZmZmZmZmN0BmZmZmZuY6QJqZmZmZmT1AMzMzMzMzM0AAAAAAAAA3QAAAAAAAgDRAAAAAAAAAL0BmZmZmZmY6QGZmZmZmJkBAMzMzMzNzREDNzMzMzEwyQDMzMzMzszxAAAAAAAAAN0AzMzMzMzM+QM3MzMzMzD1AzczMzMzMQ0DNzMzMzExAQM3MzMzMTD5AzczMzMzMNEBmZmZmZmY8QM3MzMzMTDdAmpmZmZkZPUDNzMzMzMw3QGZmZmZmZkFAMzMzMzMzO0CamZmZmRk2QAAAAAAAgD5AZmZmZmZmNEAAAAAAAEBAQM3MzMzMTD5AZmZmZmZmN0DNzMzMzEw7QJqZmZmZmTZAmpmZmZmZN0DNzMzMzMw7QGZmZmZmZjpAzczMzMxMOECamZmZmRk+QDMzMzMzMz1AzczMzMzMOEDNzMzMzEw5QAAAAAAAADJAmpmZmZnZQ0AAAAAAAIA4QGZmZmZm5jdAmpmZmZkZMEAAAAAAAAA7QM3MzMzMzD9AzczMzMzMQUDNzMzMzAxBQDMzMzMzMzhAAAAAAACAOUBmZmZmZuZBQGZmZmZm5jdAZmZmZmZmSEBmZmZmZmY7QJqZmZmZGTNAzczMzMxMP0AzMzMzM7NCQGZmZmZm5jVAZmZmZmbmOkAAAAAAAAA3QGZmZmZm5jhAmpmZmZmZQEAAAAAAAEBGQJqZmZmZ2URAMzMzMzOzMECamZmZmZlDQDMzMzMzszlAAAAAAACAOEAAAAAAAMBBQAAAAAAAAEFAZmZmZmbmPUAzMzMzMzM0QM3MzMzMzDdAAAAAAADAQEDNzMzMzEwzQAAAAAAAAEBAZmZmZmbmPkCamZmZmRk9QDMzMzMzszpAmpmZmZkZNEDNzMzMzMw2QDMzMzMzMzdAzczMzMxMNkAzMzMzM7NAQM3MzMzMzDNAMzMzMzOzNkCamZmZmRk5QDMzMzMzMzhAZmZmZmbmN0DNzMzMzExBQDMzMzMzM0BAmpmZmZnZQEBmZmZmZuY6QAAAAAAAgDRAMzMzMzOzSkDNzMzMzMw4QGZmZmZm5jdAMzMzMzOzNEBmZmZmZmY7QJqZmZmZGT5AMzMzMzMzPUBmZmZmZmY9QAAAAAAAQEFAMzMzMzOzPEAAAAAAAAA7QAAAAAAAgEFAmpmZmZmZPkCamZmZmZk4QGZmZmZm5kRAZmZmZmZmPEAzMzMzM7M4QGZmZmZm5jdAmpmZmZmZO0CamZmZmZk8QM3MzMzMDENAZmZmZmZmRkDNzMzMzExBQAAAAAAAADFAZmZmZmZmN0AAAAAAAIA9QM3MzMzMTDpAmpmZmZmZOECamZmZmRk5QDMzMzMzsz5AmpmZmZkZNUAzMzMzMzM3QGZmZmZm5j1AzczMzMwMQ0AzMzMzMzM3QAAAAAAAgD9AmpmZmZmZOkDNzMzMzEwzQAAAAAAAAD1AZmZmZmbmM0DNzMzMzMwsQM3MzMzMTD9AAAAAAAAAQUCamZmZmRk6QAAAAAAAgEJAZmZmZmbmO0AzMzMzM7M\\u002fQJqZmZmZWUFAMzMzMzNzQkCamZmZmVlCQGZmZmZmZjxAZmZmZmZmPkBmZmZmZmY2QJqZmZmZGTlAAAAAAACAPEDNzMzMzMw2QDMzMzMzsz1AAAAAAAAAPECamZmZmRk+QGZmZmZmJkBAZmZmZmZmMUBmZmZmZmZBQJqZmZmZGTxAAAAAAABAQUBmZmZmZmY7QGZmZmZmZjVAZmZmZmbmMEDNzMzMzMw8QDMzMzMzMzdAmpmZmZkZNEAAAAAAAAA7QM3MzMzMzDpAZmZmZmbmOUDNzMzMzMw3QJqZmZmZ2UtAZmZmZmbmPkDNzMzMzMw6QAAAAAAAgD9AmpmZmZmZLECamZmZmZk7QDMzMzMzc0NAzczMzMwMQEAAAAAAAAA3QJqZmZmZmTtAZmZmZmamQUCamZmZmdlBQM3MzMzMzDlAZmZmZmZmMkBmZmZmZuY9QGZmZmZm5j9AmpmZmZmZOkDNzMzMzMw0QAAAAAAAADtAzczMzMxMPUBmZmZmZuY3QGZmZmZmZjhAmpmZmZmZOECamZmZmRk1QDMzMzMzMzNAMzMzMzMzOUAzMzMzM7MwQM3MzMzMjERAZmZmZmbmP0DNzMzMzMwyQAAAAAAAAEBAMzMzMzMzPECamZmZmZk6QDMzMzMzM0FAmpmZmZkZOkBmZmZmZuZDQM3MzMzMzDhAMzMzMzMzNUCamZmZmZk4QAAAAAAAgDxAZmZmZmbmPUDNzMzMzMw3QDMzMzMzszpAZmZmZmZmOUAzMzMzM7M6QM3MzMzMTDJAMzMzMzMzMEAAAAAAAIA4QM3MzMzMTEBAMzMzMzNzSEDNzMzMzAxBQGZmZmZm5jlAAAAAAACAPUAAAAAAAIBAQGZmZmZmZjhAAAAAAACAPEAAAAAAAIA1QGZmZmZmZjtAzczMzMzMPUAzMzMzMzMxQJqZmZmZmT9AZmZmZmbmQUCamZmZmRk0QM3MzMzMDENAmpmZmZmZN0AzMzMzM7M4QGZmZmZmZjBAzczMzMxMNkBmZmZmZuY+QDMzMzMzMzxAAAAAAACAMkAAAAAAAAA4QJqZmZmZWUBAzczMzMxMOkDNzMzMzEw8QDMzMzMzMztAZmZmZmbmP0AzMzMzM7MwQJqZmZmZGTNAmpmZmZkZPkCamZmZmRk+QGZmZmZmZjxAAAAAAACAOkCamZmZmZk4QJqZmZmZGTRAAAAAAAAAPECamZmZmRk4QGZmZmZmZj1AAAAAAAAAMkBmZmZmZuYxQDMzMzMzsztAAAAAAAAAQEDNzMzMzEw+QGZmZmZm5jtAZmZmZmbmQECamZmZmZkxQGZmZmZm5jNAMzMzMzMzPkBmZmZmZuY8QAAAAAAAQEFAzczMzMzMQUCamZmZmRlEQJqZmZmZmUFAzczMzMzMO0AzMzMzMzNEQDMzMzMzM0VAzczMzMxMPkDNzMzMzEw8QM3MzMzMTD5AmpmZmZnZQUDNzMzMzExAQGZmZmZm5kNAZmZmZmZmPEAAAAAAAABBQAAAAAAAgDRAAAAAAACAOUDNzMzMzEw+QAAAAAAAADdAmpmZmZkZQEAzMzMzM7M2QM3MzMzMDEBAMzMzMzNzQ0DNzMzMzAxBQAAAAAAAwEZAmpmZmZmZN0DNzMzMzMw1QDMzMzMzszxAAAAAAAAAOkBmZmZmZqZAQGZmZmZmZjdAAAAAAAAAQEAzMzMzMzM4QJqZmZmZmTxAZmZmZmZmPECamZmZmRk7QM3MzMzMzDlAAAAAAACAPUBmZmZmZuZBQDMzMzMzM0BAmpmZmZlZQEAAAAAAAAA3QJqZmZmZmT1AmpmZmZmZN0AAAAAAAIA5QM3MzMzMzDRAZmZmZmZmN0DNzMzMzMw5QJqZmZmZWUZAmpmZmZkZNEAzMzMzM7MzQGZmZmZmZjFAzczMzMzMNkBmZmZmZmY\\u002fQDMzMzMzszpAMzMzMzPzREBmZmZmZmY5QJqZmZmZGUBAzczMzMxMN0BmZmZmZqZCQM3MzMzMzD5AzczMzMxMNkAzMzMzM7MxQGZmZmZmZkFAmpmZmZmZN0BmZmZmZmY9QJqZmZmZmUBAZmZmZmbmQEDNzMzMzMw3QM3MzMzMzDhAmpmZmZmZO0DNzMzMzMxCQGZmZmZmpkRAZmZmZmZmOEAAAAAAAEBBQAAAAAAAgEZAzczMzMwMQEDNzMzMzEw4QJqZmZmZGT9AmpmZmZkZP0BmZmZmZmZAQJqZmZmZGTdAAAAAAABAQEDNzMzMzIxAQM3MzMzMjEBAMzMzMzOzNkDNzMzMzMw9QGZmZmZmZj9AZmZmZmZmMEBmZmZmZmY6QGZmZmZmZjlAzczMzMxMQkCamZmZmRk6QGZmZmZmpkVAzczMzMxMP0DNzMzMzEw\\u002fQDMzMzMzsztAmpmZmZkZQ0BmZmZmZmY3QAAAAAAAgDNAzczMzMxMP0DNzMzMzAxAQDMzMzMzsztAAAAAAACAPkBmZmZmZmY4QAAAAAAAAD5AAAAAAAAAOkBmZmZmZmY9QGZmZmZm5jxAMzMzMzOzNkCamZmZmZk8QJqZmZmZGT1AmpmZmZkZRkBmZmZmZmY6QM3MzMzMzDdAmpmZmZnZRUCamZmZmRk0QJqZmZmZGTxAZmZmZmZmREAzMzMzMzM1QDMzMzMzszdAZmZmZmbmPECamZmZmRk8QAAAAAAAgDhAAAAAAAAAO0DNzMzMzExDQDMzMzMzMzxAzczMzMxMP0CamZmZmZk7QDMzMzMzszFAAAAAAACAMEAAAAAAAAA7QM3MzMzMTDBAuB6F61E4NEAzMzMzMzM2QAAAAAAAgD1AZmZmZmZmO0AzMzMzM7M\\u002fQDMzMzMzszpAzczMzMxMO0DNzMzMzMw1QAAAAAAAQEBAzczMzMxMPkDNzMzMzMw6QM3MzMzMzDlAZmZmZmZmMEBmZmZmZuYzQJqZmZmZWUNAAAAAAAAAOUDNzMzMzEw5QAAAAAAAADlAzczMzMwMQEBmZmZmZmZAQGZmZmZmZjRAZmZmZmbmOkDNzMzMzAxDQJqZmZmZGTdAAAAAAACAN0AAAAAAAEBBQAAAAAAAAEFAMzMzMzOzNkDNzMzMzMw8QGZmZmZm5kFAmpmZmZmZNUDNzMzMzIxBQM3MzMzMzDVAZmZmZmbmNUBmZmZmZuY3QAAAAAAAAEJAZmZmZmZmQEAzMzMzMzM2QGZmZmZmZkZAMzMzMzMzQEAzMzMzM7M7QM3MzMzMzDdAzczMzMzMOEAAAAAAAIBCQAAAAAAAAD5AMzMzMzOzOUDNzMzMzMw3QJqZmZmZGT1AmpmZmZlZQ0BmZmZmZmY6QM3MzMzMzDxAmpmZmZkZOkCamZmZmZkxQM3MzMzMzDlAZmZmZmZmO0DNzMzMzMw0QM3MzMzMTDlAmpmZmZmZPEAzMzMzM7NDQGZmZmZmZjpAmpmZmZmZNkDNzMzMzEw+QM3MzMzMzEFAAAAAAAAANUAzMzMzMzNAQM3MzMzMzDlAAAAAAAAANkBmZmZmZmZEQAAAAAAAgDNAzczMzMxMP0CamZmZmZk4QJqZmZmZGUBAMzMzMzOzNEAAAAAAAAA+QJqZmZmZWUFAZmZmZmbmPECamZmZmRk6QJqZmZmZmT1AMzMzMzOzN0AzMzMzM7MyQGZmZmZm5jxAmpmZmZkZOUAAAAAAAAA8QJqZmZmZmT1AzczMzMxMPEAzMzMzM7M6QM3MzMzMTDVAMzMzMzMzQUCamZmZmRlEQAAAAAAAAEFAMzMzMzOzPECamZmZmZk1QM3MzMzMTDVAZmZmZmbmNkCamZmZmVlBQDMzMzMzMyxAAAAAAACAMkCamZmZmZlAQDMzMzMzMzlAMzMzMzMzOUCamZmZmRkyQAAAAAAAADtAAAAAAACAOUAAAAAAAIA+QGZmZmZm5jxAzczMzMxMPUBmZmZmZuY7QAAAAAAAADlAMzMzMzMzOkBmZmZmZmY9QDMzMzMzszJAMzMzMzOzO0BmZmZmZuY3QJqZmZmZGT1AmpmZmZmZPUDNzMzMzMw3QGZmZmZmZj5AzczMzMzMM0DNzMzMzEw0QM3MzMzMzD5AmpmZmZkZMEBmZmZmZmY0QDMzMzMzc0JAmpmZmZmZQEBmZmZmZmY5QJqZmZmZmTtAmpmZmZmZO0CamZmZmRlAQAAAAAAAgDtAAAAAAACANUAAAAAAAIA4QGZmZmZmZjlAAAAAAACAO0CamZmZmZkuQJqZmZmZGTZAAAAAAADAQEBmZmZmZmY8QAAAAAAAQENAAAAAAACAPUBmZmZmZmY4QGZmZmZm5jxAMzMzMzOzNUAzMzMzMzM1QAAAAAAAADJAzczMzMxMOkCamZmZmVlGQDMzMzMzs0JAzczMzMxMMkAAAAAAAEBAQM3MzMzMzDhAAAAAAAAAOkDNzMzMzEw+QAAAAAAAADpAAAAAAACAPkAAAAAAAAA0QDMzMzMzc0JAAAAAAADAQ0CamZmZmZk2QM3MzMzMTDpAZmZmZmZmN0BmZmZmZmY7QM3MzMzMjEVAzczMzMyMQ0BmZmZmZmY8QGZmZmZm5jlAmpmZmZkZPkAAAAAAAIA6QGZmZmZmZjlAZmZmZmZmN0AzMzMzM7M2QAAAAAAAADlAmpmZmZmZN0AAAAAAAIA8QJqZmZmZmTFAMzMzMzMzN0AzMzMzM7M2QJqZmZmZGTpAAAAAAACAP0AAAAAAAIA4QM3MzMzMzDZAZmZmZmbmOkDNzMzMzMw\\u002fQGZmZmZm5j5AZmZmZmZmOEAzMzMzM7M9QAAAAAAAgDtAZmZmZmYmQkAzMzMzMzM7QAAAAAAAgDVAZmZmZmZmPUAzMzMzM7M9QDMzMzMzMzhAmpmZmZkZRUAzMzMzM7MzQJqZmZmZGTNAAAAAAAAAPkCamZmZmZlBQGZmZmZmZkBAzczMzMwMQEBmZmZmZmYzQM3MzMzMzD1AzczMzMxMO0AAAAAAAAA8QAAAAAAAADRAzczMzMyMQEAAAAAAAIA6QM3MzMzMzD9AAAAAAAAAPEBmZmZmZmY8QDMzMzMzMz9AzczMzMyMQEAzMzMzMzM7QAAAAAAAQENAAAAAAACAPEDNzMzMzEw8QDMzMzMzc0hAzczMzMxMOkAzMzMzMzM+QGZmZmZmZjZAAAAAAAAAPEAzMzMzMzM9QDMzMzMzMzZAAAAAAAAAPUAAAAAAAABCQM3MzMzMzDZAmpmZmZkZPkAzMzMzMzMzQJqZmZmZGTpAmpmZmZkZPkCamZmZmVlCQAAAAAAAAEBAMzMzMzMzOEAzMzMzM7NCQJqZmZmZmTpAmpmZmZkZMEDNzMzMzMw6QAAAAAAAgERAZmZmZmZmPECamZmZmZk6QGZmZmZmZjRAzczMzMzMO0CamZmZmZk5QM3MzMzMzDRAMzMzMzNzQEBmZmZmZuY+QAAAAAAAADlAZmZmZmZmOEDNzMzMzMw2QDMzMzMzszxAMzMzMzMzNECamZmZmdlBQDMzMzMzszhAzczMzMxMQEDNzMzMzMw8QJqZmZmZGThAAAAAAACAQEAAAAAAAAA\\u002fQGZmZmZmJkBAMzMzMzOzO0DNzMzMzMw1QAAAAAAAADVAzczMzMzMOEBmZmZmZiZAQGZmZmZm5jlAAAAAAACAP0AAAAAAAMBAQDMzMzMzM0FAAAAAAAAANECamZmZmRk9QM3MzMzMzDhAZmZmZmZmO0AAAAAAAIA5QGZmZmZmpkBAAAAAAAAANkCamZmZmZlEQJqZmZmZGUFAAAAAAAAAOEAAAAAAAIA1QGZmZmZm5j5AmpmZmZkZRkDNzMzMzMw5QJqZmZmZ2UVAAAAAAACAO0AAAAAAAAA6QJqZmZmZmThAAAAAAADAQkAzMzMzMzM6QJqZmZmZmTpAAAAAAAAANkAAAAAAAAA9QM3MzMzMTDBAZmZmZmbmNEDNzMzMzIxAQAAAAAAAADpAZmZmZmYmQUCamZmZmRlBQJqZmZmZGT5AAAAAAACAQECamZmZmRk\\u002fQDMzMzMzsz9AmpmZmZmZO0AzMzMzM7NAQDMzMzMzszRAzczMzMxMQ0AzMzMzMzM8QDMzMzMzc0VAmpmZmZlZQUBmZmZmZuY+QGZmZmZm5jtAMzMzMzPzSUBmZmZmZiZAQJqZmZmZGTlAzczMzMzMPUAAAAAAAIA5QM3MzMzMzEVAMzMzMzMzLEBmZmZmZmZAQAAAAAAAAD9AzczMzMxMPkBmZmZmZuY5QAAAAAAAgDdAMzMzMzNzQUCamZmZmRk4QGZmZmZmZjpAAAAAAACAOUBmZmZmZmZFQGZmZmZm5jtAAAAAAABAQEBmZmZmZiZHQJqZmZmZmUBAAAAAAAAAQECamZmZmZkxQM3MzMzMzDZAmpmZmZmZPUCamZmZmZk1QM3MzMzMzDhAAAAAAAAAMkAzMzMzMzM2QDMzMzMzc0NAmpmZmZkZMEBmZmZmZuZEQM3MzMzMTDlAzczMzMzMPUDNzMzMzEw0QGZmZmZm5jlAAAAAAAAAOkBmZmZmZuY9QDMzMzMz80BAAAAAAAAAQEBmZmZmZmY2QGZmZmZmpkFAAAAAAACAPkAAAAAAAIA5QAAAAAAAADRAAAAAAAAAO0AzMzMzMzNBQDMzMzMzszZAmpmZmZkZOUBmZmZmZmY5QJqZmZmZGTpAZmZmZmZmQ0AAAAAAAIA6QDMzMzMzszpAAAAAAADAQUCamZmZmVlBQDMzMzMzszpAMzMzMzMzP0AAAAAAAIA7QAAAAAAAgD9AmpmZmZkZMkBmZmZmZuY0QJqZmZmZGTxAZmZmZmZmQUAAAAAAAIA3QGZmZmZm5jtAMzMzMzMzMUAzMzMzMzNFQDMzMzMzM0RAAAAAAACAO0DNzMzMzMw5QAAAAAAAAEFAMzMzMzMzN0BmZmZmZuY1QDMzMzMzc0FAMzMzMzMzLkCamZmZmZlBQAAAAAAAgDhAZmZmZmbmO0CamZmZmRk6QM3MzMzMDENAmpmZmZmZJEDNzMzMzAxAQAAAAAAAADRAmpmZmZkZPEAzMzMzM7NDQDMzMzMzMzVAZmZmZmbmP0CamZmZmdlCQDMzMzMzsz1AZmZmZmbmPECamZmZmVlBQM3MzMzMTD5AmpmZmZnZQ0AAAAAAAIBGQM3MzMzMTDFAMzMzMzOzPkBmZmZmZmY2QAAAAAAAgDxAZmZmZmZmPUBmZmZmZmY8QGZmZmZmJkVAmpmZmZmZOkAAAAAAAMBBQJqZmZmZGT1AzczMzMxMQkAAAAAAAEBBQAAAAAAAwERAMzMzMzMzL0AzMzMzMzM9QGZmZmZmZjVAMzMzMzOzNkDNzMzMzMw0QJqZmZmZmTlAMzMzMzPzRkCamZmZmZlFQJqZmZmZmThAZmZmZmYmQECamZmZmZkyQDMzMzMzMzxAMzMzMzOzPkAzMzMzMzM4QAAAAAAAAENAMzMzMzMzREBmZmZmZuZBQGZmZmZmJkBAAAAAAAAAOUBmZmZmZmY6QM3MzMzMzDZAZmZmZmZmQUAAAAAAAIA3QDMzMzMzMzxAAAAAAABAQ0DNzMzMzMw4QGZmZmZmZjpAmpmZmZmZP0DNzMzMzAxAQM3MzMzMzD9AAAAAAAAAN0DNzMzMzExCQM3MzMzMTDRAZmZmZmZmMUAzMzMzMzM7QGZmZmZmpkFAAAAAAAAAO0AAAAAAAAA4QAAAAAAAgD1AzczMzMzMM0CamZmZmRk9QM3MzMzMTDFAMzMzMzMzNkAzMzMzM7MwQJqZmZmZmTlAzczMzMxMPkAAAAAAAAA8QAAAAAAAgDRAMzMzMzOzMEDNzMzMzEw0QGZmZmZmZjdAZmZmZmbmSUBmZmZmZuY4QJqZmZmZGUZAzczMzMxMQEDNzMzMzEw7QDMzMzMzs0VAzczMzMzMOUCamZmZmZk1QGZmZmZm5kNAAAAAAACAOUAzMzMzMzM+QAAAAAAAADZAAAAAAAAAQEAAAAAAAIA0QDMzMzMzszxAAAAAAAAAP0AAAAAAAAA\\u002fQGZmZmZmJkFAAAAAAADAQkBmZmZmZiZBQM3MzMzMzEFAzczMzMxMN0BmZmZmZiZJQGZmZmZm5jhAmpmZmZlZQUBmZmZmZmY3QGZmZmZmZj5AmpmZmZmZN0AAAAAAAIA3QGZmZmZm5jpAAAAAAACAPUAzMzMzM7M1QGZmZmZmZjBAMzMzMzOzOkAzMzMzM7M\\u002fQDMzMzMzMzZAzczMzMxMPEAAAAAAAIA8QDMzMzMz80VAMzMzMzOzQEAzMzMzM3NHQJqZmZmZmTtAzczMzMxMPkBmZmZmZuYwQDMzMzMz80JAmpmZmZkZNEDNzMzMzExAQDMzMzMzszdAAAAAAACAPUAAAAAAAIA4QJqZmZmZmTZAzczMzMwMRECamZmZmRkxQAAAAAAAAD5AzczMzMxMOEBmZmZmZmYyQAAAAAAAgDxAZmZmZmZmPkAAAAAAAIA+QAAAAAAAwEFAZmZmZmbmOECamZmZmRk+QM3MzMzMTD1AzczMzMzMOEDNzMzMzIxLQM3MzMzMTDtAZmZmZmbmO0BmZmZmZqZDQM3MzMzMDERAMzMzMzNzQECamZmZmZkyQAAAAAAAADVAMzMzMzMzLEDNzMzMzEw5QAAAAAAAgD5AZmZmZmZmO0CamZmZmZlAQGZmZmZmZjdAAAAAAACANkCamZmZmZkwQJqZmZmZ2UFAzczMzMzMNkAAAAAAAIA0QM3MzMzMzDlAZmZmZmamQkCamZmZmRk6QAAAAAAAAERAZmZmZmZmPEBmZmZmZmY1QJqZmZmZGTtAZmZmZmYmQEBmZmZmZuZEQAAAAAAAADJAZmZmZmZmN0AAAAAAAAA\\u002fQGZmZmZm5jFAMzMzMzMzOkCamZmZmZlFQGZmZmZmZjNAMzMzMzOzPkCamZmZmRk5QDMzMzMzsztAAAAAAAAANkCamZmZmRk+QDMzMzMz80JAmpmZmZkZPECamZmZmRkxQGZmZmZmZjRAMzMzMzMzQUAAAAAAAIA6QDMzMzMzMz1AMzMzMzOzPEBmZmZmZmY5QDMzMzMzszpAzczMzMzMPUBmZmZmZuY3QAAAAAAAQEFAzczMzMzMP0DNzMzMzAxAQAAAAAAAgDpAzczMzMxMNUAAAAAAAIA0QDMzMzMzMzZAzczMzMzMP0AAAAAAAIA+QM3MzMzMzDVAmpmZmZkZPECamZmZmZk6QGZmZmZmZjxAmpmZmZmZO0AzMzMzM7M9QDMzMzMzszxAmpmZmZkZOUBmZmZmZqZAQM3MzMzMzDFAAAAAAAAAL0BmZmZmZmY6QJqZmZmZmUJAmpmZmZkZMkBmZmZmZuY5QDMzMzMzM0RAAAAAAACANEAzMzMzMzM8QAAAAAAAADpAmpmZmZmZPEBmZmZmZmY9QGZmZmZmZjFAAAAAAACAOEBmZmZmZmYsQGZmZmZm5jVAmpmZmZmZP0BmZmZmZmY0QGZmZmZm5kFAmpmZmZmZP0DNzMzMzEwwQM3MzMzMTDxAAAAAAABAQUBmZmZmZmY4QAAAAAAAgDpAZmZmZmZmP0BmZmZmZmY4QGZmZmZm5jpAZmZmZmZmNkAAAAAAAIA6QDMzMzMzszRAzczMzMyMQUCamZmZmRk\\u002fQJqZmZmZmT1AZmZmZmbmPkAzMzMzM3NAQDMzMzMzszZAMzMzMzOzNEAzMzMzM7M9QAAAAAAAADdAZmZmZmZmN0CamZmZmZk4QDMzMzMzMzRAzczMzMxMPEAAAAAAAIA5QAAAAAAAgD9AzczMzMzMPkBmZmZmZuY3QAAAAAAAgDJAZmZmZmbmNkDNzMzMzEw+QJqZmZmZGTpAZmZmZmZmNUAzMzMzM7NDQAAAAAAAAEFAzczMzMzMQkCamZmZmZk4QM3MzMzMDENAAAAAAACAPkDNzMzMzMw2QDMzMzMzMzxAAAAAAACANUCamZmZmRk6QDMzMzMzMz9AmpmZmZmZRkBmZmZmZmY5QM3MzMzMzERAAAAAAAAAQ0BmZmZmZmY6QJqZmZmZmUFAmpmZmZkZQ0AAAAAAAEBCQM3MzMzMTDlAMzMzMzMzO0BmZmZmZuY+QJqZmZmZ2UVAmpmZmZkZN0AAAAAAAAA5QDMzMzMzszhAZmZmZmbmOUAAAAAAAIA6QJqZmZmZGT1AMzMzMzNzQkAzMzMzM\\u002fNEQGZmZmZmZj1AzczMzMxMMUAzMzMzM7M2QJqZmZmZGT9AZmZmZmYmQECamZmZmVlEQJqZmZmZGUFAAAAAAACAM0AAAAAAAIBCQDMzMzMzMzhAZmZmZmZmM0BmZmZmZuZBQGZmZmZmZjxAZmZmZmZmN0CamZmZmRk7QAAAAAAAgD9AzczMzMzMMEBmZmZmZmY7QDMzMzMzs0VAmpmZmZkZOkAAAAAAAIA4QJqZmZmZGTtAAAAAAADAR0AAAAAAAIA2QAAAAAAAAD5AAAAAAACAMUDNzMzMzMw4QAAAAAAAgD9AZmZmZmZmPEBmZmZmZmY8QGZmZmZm5jlAMzMzMzPzRUCamZmZmRk4QAAAAAAAQERAZmZmZmYmQUAAAAAAAIA3QGZmZmZmZjxAMzMzMzOzPUBmZmZmZmY1QGZmZmZmZjhAAAAAAAAAQEAAAAAAAIA1QAAAAAAAgDJAAAAAAAAAPkDNzMzMzMwzQGZmZmZm5j1AAAAAAACANkCamZmZmZk5QM3MzMzMzD5AMzMzMzOzO0AzMzMzM7M7QJqZmZmZmThAZmZmZmYmQkBmZmZmZuY9QJqZmZmZGUJAZmZmZmZmSkAzMzMzMzM1QJqZmZmZGTtAAAAAAACAOEDNzMzMzMxDQAAAAAAAAEBAmpmZmZnZREBmZmZmZmY6QGZmZmZm5kJAmpmZmZkZRUAzMzMzM7NCQDMzMzMzsz1AZmZmZmbmN0AzMzMzM\\u002fNHQDMzMzMzsztAAAAAAACAQEBmZmZmZuY5QJqZmZmZmTpAZmZmZmbmO0BmZmZmZiZBQAAAAAAAADlAZmZmZmZmOUAzMzMzM7M5QDMzMzMzMzpAZmZmZmamQEAAAAAAAAA9QM3MzMzMTDJAAAAAAABAQUAAAAAAAAA7QAAAAAAAADhAZmZmZmbmPkBmZmZmZmZAQAAAAAAAADpAAAAAAADAQUCamZmZmZk2QM3MzMzMTENAMzMzMzOzNkCamZmZmRkxQGZmZmZmZjdAmpmZmZkZOUCamZmZmZk\\u002fQAAAAAAAwEBAMzMzMzNzQ0BmZmZmZmY3QM3MzMzMTDpAZmZmZmbmO0AAAAAAAAA8QAAAAAAAgEtAzczMzMzMPUAzMzMzM7M4QDMzMzMzMzZAAAAAAAAAMkAAAAAAAIA8QM3MzMzMzDhAMzMzMzOzM0AzMzMzMzM3QM3MzMzMzD1AMzMzMzNzQkBmZmZmZuY7QJqZmZmZ2URAmpmZmZmZREBmZmZmZmY7QGZmZmZmZjtAZmZmZmbmPEAAAAAAAAA0QM3MzMzMzDhAAAAAAABAQUCamZmZmRk5QGZmZmZmJkdAmpmZmZmZOkBmZmZmZiZFQGZmZmZmJkBAzczMzMzMOUAAAAAAAIA0QDMzMzMzs0JAMzMzMzMzOkCamZmZmZlAQM3MzMzMzD5AZmZmZmbmMEDNzMzMzMw+QJqZmZmZ2UNAAAAAAACAOEBmZmZmZuY\\u002fQDMzMzMz80FAZmZmZmYmQUAzMzMzMzM+QM3MzMzMzEFAmpmZmZmZNEAzMzMzM\\u002fNEQAAAAAAAADhAmpmZmZmZQUCamZmZmZkxQM3MzMzMzDZAzczMzMyMQ0DNzMzMzIxEQJqZmZmZGTtAmpmZmZmZPUBmZmZmZuY9QAAAAAAAAD5AMzMzMzMzPUAzMzMzM7M8QAAAAAAAADdAzczMzMzMN0AzMzMzMzMwQM3MzMzMzDZAZmZmZmZmMUBmZmZmZmY8QDMzMzMz80FAMzMzMzMzN0BmZmZmZmY7QJqZmZmZGTVAmpmZmZmZOkBmZmZmZmY3QGZmZmZm5j1AzczMzMxMQEBmZmZmZqZGQM3MzMzMTDJAzczMzMwMSEAzMzMzMzM0QDMzMzMzMzpAMzMzMzOzPECamZmZmRk5QDMzMzMzszpAmpmZmZmZNUCamZmZmRk8QDMzMzMz80NAZmZmZmZmQEBmZmZmZmYxQGZmZmZmZjNAAAAAAAAAL0AAAAAAAAA5QGZmZmZmZkVAmpmZmZmZO0CamZmZmZk9QM3MzMzMTDxAAAAAAACAOkBmZmZmZmY\\u002fQJqZmZmZmTZAZmZmZmZmRUCamZmZmVlCQJqZmZmZmUJAmpmZmZkZPkDNzMzMzMwwQDMzMzMzszVAAAAAAAAAQ0DNzMzMzAxAQJqZmZmZmT1AzczMzMyMQECamZmZmZk7QGZmZmZmZjdAMzMzMzMzPUAzMzMzM7M9QGZmZmZmZjxAmpmZmZkZOUDNzMzMzMw8QGZmZmZm5jxAzczMzMxMP0AAAAAAAABDQGZmZmZmpkJAAAAAAAAAQECamZmZmRk9QJqZmZmZGTpAMzMzMzOzNkAzMzMzMzM5QDMzMzMzc0BAZmZmZmbmPkCamZmZmZlAQAAAAAAAADRAzczMzMxMPkBmZmZmZuY3QGZmZmZmZjhAZmZmZmbmPECamZmZmZkwQAAAAAAAgDlAZmZmZmZmQEAAAAAAAAA\\u002fQM3MzMzMzDlAAAAAAACAQkAzMzMzM\\u002fNBQDMzMzMzMz5AAAAAAAAAPEAAAAAAAIBFQDMzMzMzc0JAZmZmZmbmPUAAAAAAAEBAQAAAAAAAgDtAZmZmZmZmOUAzMzMzM7M2QGZmZmZmZkBAmpmZmZkZMkAzMzMzM7M6QGZmZmZmJkJAMzMzMzMzOkAAAAAAAAA+QJqZmZmZmTZAZmZmZmbmPEAAAAAAAAA0QGZmZmZmZjdAmpmZmZlZQEBmZmZmZmY8QJqZmZmZmT5AAAAAAADAQECamZmZmVlDQAAAAAAAgDVAzczMzMzMQkBmZmZmZqZDQJqZmZmZGTpAMzMzMzOzO0CamZmZmRk3QDMzMzMzszpAAAAAAAAAQEAAAAAAAIAzQM3MzMzMDERAZmZmZmZmNEDNzMzMzMxDQDMzMzMzszFAAAAAAACANEAAAAAAAIA8QGZmZmZm5j9AMzMzMzOzOkCamZmZmZk3QGZmZmZmZkFAzczMzMxMQkAzMzMzMzNJQGZmZmZmZjZAAAAAAACAP0AAAAAAAIBEQM3MzMzMTDBAZmZmZmZmQEAAAAAAAAA5QDMzMzMzszZAMzMzMzOzPUDNzMzMzEwyQGZmZmZm5jRAzczMzMxMMEBmZmZmZmYxQM3MzMzMzDNAzczMzMzMPUBmZmZmZmY3QJqZmZmZGUBAAAAAAABAQ0AAAAAAAIA3QGZmZmZm5jtAMzMzMzOzOkAAAAAAAAA9QDMzMzMzMz1AAAAAAABAQUAzMzMzMzM4QGZmZmZm5jVAZmZmZmZmOEDNzMzMzMw4QAAAAAAAAD9AmpmZmZkZPEAzMzMzMzNEQDMzMzMzMzlAMzMzMzMzNECamZmZmdlAQDMzMzMzc0BAZmZmZmamR0AzMzMzMzNBQAAAAAAAADdAmpmZmZkZNUAAAAAAAIA3QGZmZmZmJkVAmpmZmZkZO0CamZmZmRlEQAAAAAAAgDdAMzMzMzMzQUAAAAAAAIA3QJqZmZmZ2UBAzczMzMyMQECamZmZmRk6QM3MzMzMjEBAmpmZmZkZPkBmZmZmZuY4QGZmZmZmZj9AMzMzMzMzNEAAAAAAAEBHQJqZmZmZmTZAAAAAAAAAPUAAAAAAAIA8QM3MzMzMTDpAAAAAAAAAOUDNzMzMzMw6QJqZmZmZ2UFAAAAAAACAP0BmZmZmZmYsQM3MzMzMjEBAMzMzMzMzMEAzMzMzMzM9QGZmZmZm5jpAMzMzMzMzPECamZmZmVlBQDMzMzMzMztAMzMzMzOzPkCamZmZmRkzQAAAAAAAAD5AZmZmZmZmNkBmZmZmZuY6QGZmZmZmZkBAmpmZmZmZLECamZmZmRk4QDMzMzMzszZAAAAAAACANUAAAAAAAIA1QM3MzMzMTEJAMzMzMzPzQUAzMzMzM7M8QM3MzMzMTD1AMzMzMzOzNUAAAAAAAIA0QM3MzMzMDEBAmpmZmZmZQEAAAAAAAAA5QM3MzMzMzC9AAAAAAAAAOUAzMzMzM\\u002fNBQDMzMzMzszRAzczMzMzMOEAAAAAAAAA3QJqZmZmZGTFAzczMzMxMPEDNzMzMzEw0QAAAAAAAwEJAZmZmZmZmQEDNzMzMzMxBQM3MzMzMzDlAmpmZmZmZO0AAAAAAAIA4QM3MzMzMDEBAAAAAAAAAOUCamZmZmVlCQJqZmZmZmTFAAAAAAAAAOUCamZmZmRk6QGZmZmZm5kFAzczMzMzMOkAzMzMzM7M6QAAAAAAAAD1AmpmZmZmZNEDNzMzMzAxAQGZmZmZm5jpAzczMzMzMM0AAAAAAAIA8QDMzMzMzsz1AAAAAAACAP0AAAAAAAAA6QAAAAAAAgD9AAAAAAAAAPUCamZmZmRk1QM3MzMzMzD9AAAAAAACAMkAAAAAAAAA2QGZmZmZmZj9AZmZmZmZmO0AAAAAAAIAxQM3MzMzMzDJAZmZmZmamQUDNzMzMzEw\\u002fQAAAAAAAADhAMzMzMzOzPEAAAAAAAAA3QAAAAAAAgDJAMzMzMzMzQEDNzMzMzMw3QM3MzMzMTD9AAAAAAABAQUBmZmZmZmY9QM3MzMzMzDJAMzMzMzMzQUBmZmZmZmY8QJqZmZmZGTFAmpmZmZmZO0BmZmZmZmY+QJqZmZmZmThAmpmZmZkZPEBmZmZmZmY\\u002fQGZmZmZm5kFAmpmZmZkZPUAzMzMzMzM2QJqZmZmZmTRAzczMzMxMNkBmZmZmZmYwQAAAAAAAAEVAMzMzMzMzO0DNzMzMzMw4QM3MzMzMTDlAzczMzMyMRUAzMzMzMzMzQJqZmZmZGTxAzczMzMxMNkBmZmZmZuY5QDMzMzMzM0BAmpmZmZkZQEBmZmZmZuYzQJqZmZmZGThAZmZmZmbmP0AAAAAAAAA3QGZmZmZm5j9AmpmZmZkZN0CamZmZmRkxQAAAAAAAgEVAzczMzMzMLEAzMzMzM7M0QAAAAAAAgERAmpmZmZkZPUBmZmZmZuY6QAAAAAAAwEBAAAAAAABAQ0AAAAAAAEBBQDMzMzMzszpAAAAAAAAAOEDNzMzMzMw8QGZmZmZm5jpAZmZmZmZmQUCamZmZmRlBQM3MzMzMjEBAZmZmZmbmPUAAAAAAAIA9QDMzMzMzMz1AzczMzMxMNEBmZmZmZmY9QGZmZmZmZjRAMzMzMzOzPEAAAAAAAIA8QAAAAAAAADpAAAAAAACANUAzMzMzM\\u002fNLQJqZmZmZmTxAMzMzMzOzN0CamZmZmZkzQAAAAAAAgDhAmpmZmZlZQUCamZmZmdlFQAAAAAAAgDxAZmZmZmamQEAzMzMzMzM5QAAAAAAAQEFAZmZmZmamREBmZmZmZuY9QJqZmZmZGTZAMzMzMzOzMUBmZmZmZuY6QAAAAAAAAD9AMzMzMzOzPUCamZmZmRk2QJqZmZmZmTVAmpmZmZkZOkDNzMzMzAxAQJqZmZmZmTdAZmZmZmYmQkDNzMzMzMwyQJqZmZmZmT5AMzMzMzMzOkAAAAAAAAA\\u002fQM3MzMzMTEJAmpmZmZmZOkDNzMzMzMwyQM3MzMzMzEFAmpmZmZmZQEAzMzMzM7M2QGZmZmZm5jhAZmZmZmYmQUDNzMzMzMw0QM3MzMzMzDdAZmZmZmamR0AzMzMzM7NFQM3MzMzMzDFAMzMzMzMzRkCamZmZmRk+QJqZmZmZmTtAmpmZmZmZPUAzMzMzM3NAQGZmZmZmZjlAAAAAAAAAO0AAAAAAAAA0QM3MzMzMDEBAmpmZmZkZOkBmZmZmZmY1QDMzMzMzM0BAAAAAAACANkAzMzMzM\\u002fNBQJqZmZmZGTtAMzMzMzMzNkCamZmZmRkyQJqZmZmZGTdAAAAAAADAQ0AAAAAAAIAyQGZmZmZm5kVAMzMzMzMzQUAzMzMzM7NAQJqZmZmZGTJAmpmZmZkZMUBmZmZmZuY3QGZmZmZmZjVAzczMzMzMMkBmZmZmZuYyQJqZmZmZGTRAzczMzMxMNECamZmZmRk4QJqZmZmZGTtAAAAAAAAAN0DNzMzMzMw0QGZmZmZm5j9AmpmZmZmZMUAAAAAAAIA1QAAAAAAAgDlAZmZmZmbmPUAAAAAAAAA2QJqZmZmZmUBAZmZmZmamR0AAAAAAAAA3QAAAAAAAgD5AAAAAAAAAMEBmZmZmZmY0QDMzMzMzszhAmpmZmZkZPEBmZmZmZmY8QDMzMzMzs0JAmpmZmZmZPEAAAAAAAIA9QGZmZmZmZjhAMzMzMzOzPkBmZmZmZuY+QGZmZmZmZj1AMzMzMzOzOkDNzMzMzEw8QM3MzMzMzEFAZmZmZmbmPECamZmZmVlAQGZmZmZm5j1AMzMzMzPzQUAzMzMzMzM8QAAAAAAAgDdAAAAAAAAAO0AAAAAAAAAzQM3MzMzMTDxAmpmZmZmZQUAzMzMzM7M4QGZmZmZmZj1AZmZmZmYmQUBmZmZmZuY6QAAAAAAAgDlAmpmZmZmZNkBmZmZmZmZDQGZmZmZm5jlAZmZmZmYmQUAAAAAAAIA8QDMzMzMzMy9AZmZmZmbmOkAzMzMzM7M8QDMzMzMzszlAmpmZmZkZNkDNzMzMzEw5QAAAAAAAgDtAAAAAAAAAPkDNzMzMzMw1QGZmZmZmZjpAZmZmZmZmOkAzMzMzM7M7QAAAAAAAAD9AmpmZmZmZMkDNzMzMzEwzQGZmZmZmZjFAMzMzMzNzQkDNzMzMzMw7QM3MzMzMjEBAAAAAAACAPUBmZmZmZmY7QJqZmZmZGT1AMzMzMzOzNUAAAAAAAAA9QJqZmZmZGTZAzczMzMzMOkCamZmZmZk2QM3MzMzMzD1AZmZmZmbmPkDNzMzMzEw7QJqZmZmZGTpAmpmZmZlZQEAAAAAAAAA\\u002fQDMzMzMz80BAZmZmZmbmO0DNzMzMzMw1QDMzMzMzMzpAMzMzMzMzQEDNzMzMzMwxQJqZmZmZmS9AzczMzMxMMECamZmZmZlBQM3MzMzMzDxAAAAAAAAAO0BmZmZmZmY1QJqZmZmZmTtAzczMzMzMOUBmZmZmZiZAQGZmZmZmJkBAmpmZmZnZQEAAAAAAAIA1QJqZmZmZmTlAzczMzMzMNkDNzMzMzMw4QAAAAAAAgD9AmpmZmZmZP0DNzMzMzEw7QGZmZmZmJkRAZmZmZmbmQUAzMzMzM7MzQJqZmZmZmUZAZmZmZmZmOUCamZmZmZk\\u002fQAAAAAAAgDNAzczMzMzMOEBmZmZmZiZCQDMzMzMzMzpAMzMzMzMzM0CamZmZmZk3QJqZmZmZWUJAzczMzMzMMkBmZmZmZuZBQDMzMzMzsz1AzczMzMxMOUBmZmZmZmY6QDMzMzMzMzVAmpmZmZmZOUBmZmZmZqZAQGZmZmZmZjVAZmZmZmZmQEAAAAAAAIA3QGZmZmZmZkBAMzMzMzMzM0AAAAAAAIA5QJqZmZmZGT1AmpmZmZmZPkDNzMzMzMw2QJqZmZmZmTRAzczMzMxMNkDNzMzMzMw9QGZmZmZmZj9AMzMzMzOzNUDNzMzMzIxCQJqZmZmZGTdAzczMzMzMPkDNzMzMzEw0QJqZmZmZmTRAZmZmZmbmPUDNzMzMzAxBQAAAAAAAgDVAzczMzMzMNUBmZmZmZuY6QDMzMzMzMzRAZmZmZmZmN0CamZmZmZk3QDMzMzMzs0FAzczMzMxMQEDNzMzMzEw2QAAAAAAAgDZAmpmZmZmZN0CamZmZmZk0QGZmZmZm5jpAzczMzMzMQUBmZmZmZiZIQM3MzMzMzDZAZmZmZmYmQEAAAAAAAIAzQM3MzMzMzDlAMzMzMzPzQUDNzMzMzEw8QGZmZmZmZjlAAAAAAACAO0AAAAAAAIAzQGZmZmZm5j9AZmZmZmbmPkCamZmZmVlHQGZmZmZm5j5AAAAAAACAN0AAAAAAAAA9QAAAAAAAADRAMzMzMzMzQUBmZmZmZmY7QM3MzMzMzDZAMzMzMzMzRUAzMzMzM7NAQJqZmZmZGTRAzczMzMzMNEDNzMzMzEwyQAAAAAAAADxAmpmZmZkZQEAzMzMzM7M+QAAAAAAAgDhAmpmZmZmZPkDNzMzMzMw3QGZmZmZm5jtAZmZmZmZmNUCamZmZmRlAQAAAAAAAADBAZmZmZmbmO0BmZmZmZmYyQM3MzMzMTDtAmpmZmZkZOEBmZmZmZmY3QM3MzMzMTEFAzczMzMxMP0CamZmZmRk7QGZmZmZmZjVAmpmZmZkZQEAAAAAAAABDQAAAAAAAgEZAmpmZmZkZQEDNzMzMzMw\\u002fQGZmZmZmZj1AMzMzMzNzQECamZmZmRlDQAAAAAAAgDlAzczMzMyMQUAAAAAAAIAzQGZmZmZmZjBAZmZmZmbmQUAAAAAAAAA9QDMzMzMzszVAmpmZmZkZOEAAAAAAAAA2QJqZmZmZGURAZmZmZmZmPkDNzMzMzAxCQAAAAAAAgD1AMzMzMzOzQEAzMzMzM7M7QGZmZmZmZjdAZmZmZmZmOkBmZmZmZuY4QAAAAAAAAD1AzczMzMzMN0AzMzMzMzMzQDMzMzMzs0JAAAAAAAAAO0BmZmZmZmY0QJqZmZmZGTZAzczMzMxMPkBmZmZmZmY3QM3MzMzMzDhAAAAAAAAAO0BmZmZmZmZAQGZmZmZm5jpAmpmZmZkZREBmZmZmZuY3QM3MzMzMzDZAmpmZmZnZQEDNzMzMzMw+QAAAAAAAwEJAzczMzMxMPkDNzMzMzExAQGZmZmZmZj1AZmZmZmZmQUAzMzMzM7MzQAAAAAAAgD1AAAAAAAAAOkBmZmZmZqZDQDMzMzMzMzFAmpmZmZmZOkCamZmZmRk2QDMzMzMzs0RAAAAAAACAO0CamZmZmZk3QM3MzMzMTDlAAAAAAACAPUCamZmZmRlJQGZmZmZm5jNAzczMzMxMPEAzMzMzMzM7QJqZmZmZmS1AZmZmZmbmPEAAAAAAAAA3QAAAAAAAAEZAmpmZmZkZOUCamZmZmRk0QAAAAAAAgDpAmpmZmZmZOEAzMzMzM3NCQAAAAAAAgDpAZmZmZmZmOkBmZmZmZuY+QJqZmZmZGTdAAAAAAACANUAAAAAAAIA0QJqZmZmZGTVAMzMzMzPzQUDNzMzMzExFQJqZmZmZmT9AzczMzMxMNUAAAAAAAEBDQGZmZmZmZjpAZmZmZmbmOkAzMzMzM7M8QJqZmZmZGTtAMzMzMzMzN0CamZmZmRlCQM3MzMzMzDxAAAAAAAAAQUDNzMzMzEw+QGZmZmZmZjhAAAAAAACAM0AzMzMzM7M\\u002fQM3MzMzMzDxAZmZmZmZmPUDNzMzMzMxAQGZmZmZmJkZAAAAAAACAOkAzMzMzM3NEQDMzMzMz80BAmpmZmZmZQUCamZmZmZk0QJqZmZmZmThAzczMzMxMPkAAAAAAAAA0QM3MzMzMzDlAAAAAAAAAPECamZmZmRkzQAAAAAAAgD1AzczMzMzMPUBmZmZmZmZAQM3MzMzMTD1AZmZmZmZmQkAzMzMzMzNGQJqZmZmZmTJAZmZmZmZmOEAAAAAAAAA7QDMzMzMzsztAmpmZmZkZOUCamZmZmZkyQJqZmZmZ2UBAzczMzMzMMkCamZmZmZkyQDMzMzMz80FAMzMzMzOzPUAzMzMzM3NOQDMzMzMzszBAzczMzMxMOUAAAAAAAIA0QM3MzMzMTDJAMzMzMzMzQEAAAAAAAABBQAAAAAAAgDtAMzMzMzOzPkAzMzMzMzM9QGZmZmZmJkBAAAAAAADAQkAzMzMzM7M4QJqZmZmZGT5AMzMzMzPzQEDNzMzMzMw9QM3MzMzMzDhAzczMzMxMPECamZmZmRk6QJqZmZmZmTlAzczMzMzMN0AAAAAAAIBAQGZmZmZmZj1AzczMzMyMQUAzMzMzM\\u002fNBQJqZmZmZGTRAZmZmZmZmMUCamZmZmZlEQGZmZmZm5jdAMzMzMzOzPEDNzMzMzAxAQAAAAAAAgDpAzczMzMxMN0AzMzMzM7NCQGZmZmZm5jZAAAAAAAAANkCamZmZmRk\\u002fQGZmZmZmZjhAAAAAAACAOEAzMzMzM7M6QGZmZmZmZj5AMzMzMzMzP0CamZmZmVlCQM3MzMzMjEBAmpmZmZmZMUCamZmZmZk6QGZmZmZm5jFAzczMzMxMPEBmZmZmZmZAQGZmZmZmJkFAzczMzMzMOkDNzMzMzMw8QM3MzMzMzDhAzczMzMwMQEDNzMzMzMw9QDMzMzMzc0FAmpmZmZkZPUAzMzMzMzM9QJqZmZmZmTxAMzMzMzOzMUBmZmZmZuY4QGZmZmZm5jxAzczMzMxMN0DNzMzMzExGQAAAAAAAgDVAmpmZmZnZQUBmZmZmZuZBQAAAAAAAgDtAMzMzMzMzNkDNzMzMzEw9QGZmZmZmJkRAmpmZmZlZQUAAAAAAAAA6QM3MzMzMTDtAzczMzMxMPEAzMzMzM7M7QAAAAAAAgD5AMzMzMzMzOkDNzMzMzMwyQDMzMzMzszpAMzMzMzMzNEBmZmZmZiZBQDMzMzMzMzNAZmZmZmbmPEDNzMzMzIxAQM3MzMzMDENAAAAAAAAAO0BmZmZmZmZCQDMzMzMzs0BAAAAAAACAOkCamZmZmZk+QJqZmZmZmTpAAAAAAACAP0CamZmZmRk2QJqZmZmZmTdAAAAAAACAQkAAAAAAAIA\\u002fQJqZmZmZGTRAmpmZmZkZN0DNzMzMzEw7QAAAAAAAgDtAzczMzMxMNEBmZmZmZmY+QGZmZmZmZj9AmpmZmZmZOUDNzMzMzMxCQAAAAAAAAEFAmpmZmZkZPUBmZmZmZmY4QAAAAAAAQEFAZmZmZmamRUAzMzMzMzM9QAAAAAAAADdAmpmZmZkZREAAAAAAAAA6QJqZmZmZGTtAZmZmZmYmQUAAAAAAAAA+QGZmZmZmZjFAAAAAAAAANEAAAAAAAABAQDMzMzMzszxAAAAAAACAPEBmZmZmZuY9QM3MzMzMjEFAMzMzMzMzOECamZmZmVlAQGZmZmZm5kFAzczMzMzMOEDNzMzMzExMQJqZmZmZGT5AAAAAAACAPUBmZmZmZmZBQDMzMzMzszxAmpmZmZmZOUAAAAAAAAA3QDMzMzMzszxAmpmZmZkZPEDNzMzMzIxAQM3MzMzMzDVAzczMzMxMOEBmZmZmZuY0QGZmZmZmJkBAzczMzMxMOEBmZmZmZuY8QDMzMzMzMzpAzczMzMxMOEAzMzMzM7M7QDMzMzMzs0BAZmZmZmamQkBmZmZmZuY7QM3MzMzMTDBAMzMzMzMzOEDNzMzMzMw+QM3MzMzMzDxAAAAAAAAAMkAAAAAAAAA7QJqZmZmZGTJAzczMzMzML0BmZmZmZmYoQAAAAAAAADFAzczMzMxMPkAzMzMzM7NBQAAAAAAAgDhAAAAAAABAQUAAAAAAAIA8QM3MzMzMzDhAAAAAAACAPEAzMzMzMzM0QM3MzMzMzDtAmpmZmZmZPUAzMzMzM7M9QGZmZmZmJkJAzczMzMxMN0CamZmZmZk3QGZmZmZmZjpAZmZmZmZmNkCamZmZmRk4QM3MzMzMTD5AzczMzMzMP0DNzMzMzEw7QGZmZmZmZjpAzczMzMxMPUDNzMzMzEw7QGZmZmZmZjNAmpmZmZkZOkDNzMzMzMxEQDMzMzMzMzlAMzMzMzMzQ0DNzMzMzExCQJqZmZmZ2UFAMzMzMzMzNECamZmZmRlAQGZmZmZm5j1AzczMzMxMO0BmZmZmZiZAQAAAAAAAgD5AMzMzMzMzQEAAAAAAAIA4QDMzMzMzMzxAMzMzMzOzMUDNzMzMzIxBQDMzMzMzMy5AAAAAAAAAPECamZmZmRk3QJqZmZmZGTVAZmZmZmbmMUAzMzMzMzMzQM3MzMzMzCxAzczMzMzMPkBmZmZmZmY4QGZmZmZmZjJAzczMzMzMNkBmZmZmZuY5QDMzMzMzMz9AmpmZmZkZOEBmZmZmZuY7QM3MzMzMDEFAMzMzMzMzPUAAAAAAAEBAQM3MzMzMTD5AzczMzMxMQkAzMzMzMzM1QM3MzMzMzDVAAAAAAAAAMkAzMzMzMzM9QJqZmZmZWUBAmpmZmZmZNUAAAAAAAIA3QGZmZmZmZjBAmpmZmZmZN0DNzMzMzEwyQAAAAAAAADxAmpmZmZkZOkAzMzMzM7M6QJqZmZmZmThAmpmZmZkZOUCamZmZmZk6QM3MzMzMzEVAMzMzMzMzPEDNzMzMzMxBQAAAAAAAADxAAAAAAAAAQEAzMzMzM3NDQDMzMzMz80FAmpmZmZkZOkBmZmZmZmY3QJqZmZmZmTdAAAAAAAAAO0AzMzMzMzM5QGZmZmZm5j5AmpmZmZkZPECamZmZmVlBQDMzMzMzszVAAAAAAACAOkBmZmZmZmY\\u002fQM3MzMzMzDhAmpmZmZmZMUAAAAAAAAA9QAAAAAAAQEFAmpmZmZkZR0BmZmZmZuY4QDMzMzMzMz5AZmZmZmYmQUAAAAAAAIA9QJqZmZmZGTxAmpmZmZmZOUAAAAAAAEBBQAAAAAAAgDhAmpmZmZkZN0AAAAAAAMBCQJqZmZmZmTJAMzMzMzMzNEBmZmZmZmY7QM3MzMzMzDpAZmZmZmbmOUCamZmZmRk8QAAAAAAAgDNAMzMzMzPzQUBmZmZmZmY2QM3MzMzMTENAmpmZmZmZN0AAAAAAAIA3QDMzMzMzMzdAzczMzMzMO0CamZmZmRk2QM3MzMzMTDZAAAAAAACAP0AAAAAAAEBBQAAAAAAAgDNAzczMzMxMRUBmZmZmZuY6QGZmZmZm5jVAMzMzMzMzQECamZmZmRk8QM3MzMzMTD9AZmZmZmbmQkDNzMzMzMw1QAAAAAAAwEBAAAAAAAAAPUDNzMzMzEw3QAAAAAAAgDlAMzMzMzMzQUDNzMzMzEw8QAAAAAAAADxAMzMzMzOzPEAAAAAAAIA3QM3MzMzMzD9AZmZmZmZmREAzMzMzMzNAQJqZmZmZmT1AmpmZmZkZO0BmZmZmZuZBQGZmZmZmZkBAZmZmZmZmRUDNzMzMzEw7QM3MzMzMzDNAzczMzMzMQ0DNzMzMzMxBQGZmZmZm5jhAzczMzMxMNEAAAAAAAIA+QGZmZmZm5j5AAAAAAACAPECamZmZmRk2QJqZmZmZGT5AAAAAAABAQEAzMzMzM7M0QM3MzMzMzDdAzczMzMxMN0AAAAAAAIA3QAAAAAAAQEFAzczMzMzMMkAAAAAAAIA9QM3MzMzMTDpAAAAAAACAOkDNzMzMzMw+QM3MzMzMTD1AmpmZmZmZN0DNzMzMzMwzQDMzMzMzszxAzczMzMzMOkDNzMzMzEwzQM3MzMzMzD1AAAAAAACAO0AzMzMzMzMyQGZmZmZm5jtAZmZmZmbmQUCamZmZmRk4QJqZmZmZmTdAAAAAAAAANkCamZmZmRk0QM3MzMzMTD5AzczMzMxMOkAAAAAAAABAQJqZmZmZmT1AZmZmZmZmOEAAAAAAAIA9QDMzMzMzM0BAZmZmZmbmMUBmZmZmZuY+QDMzMzMzs0JAZmZmZmZmP0BmZmZmZuZBQAAAAAAAADhAMzMzMzOzO0BmZmZmZuY7QDMzMzMzMzFAZmZmZmZmPECamZmZmRk5QAAAAAAAAENAZmZmZmZmMkAAAAAAAAA7QM3MzMzMTD5AmpmZmZlZQ0CamZmZmRkxQJqZmZmZmTtAzczMzMzMN0BmZmZmZmZAQJqZmZmZGTdAMzMzMzMzM0DNzMzMzIxEQGZmZmZm5jFAzczMzMzMNEBmZmZmZmY+QGZmZmZm5kBAAAAAAAAAO0AAAAAAAIA\\u002fQAAAAAAAgDxAmpmZmZmZPEBmZmZmZuY+QJqZmZmZGTpAzczMzMzMN0AzMzMzM3NAQJqZmZmZGTxAZmZmZmZmP0DNzMzMzEw8QJqZmZmZGTZAAAAAAACAMkCamZmZmRkxQM3MzMzMjEBAMzMzMzMzQUDNzMzMzMw+QAAAAAAAgDtAAAAAAABAQUAAAAAAAIA3QAAAAAAAgDdAmpmZmZkZR0CamZmZmZlFQM3MzMzMTDtAMzMzMzMzOEAzMzMzM3NAQDMzMzMzMztAAAAAAAAAQkBmZmZmZmY6QJqZmZmZ2UBAAAAAAAAAPEAAAAAAAIBAQDMzMzMzszZAZmZmZmZmMEAAAAAAAIA+QM3MzMzMTDtAmpmZmZlZQECamZmZmRk9QDMzMzMzs0FAMzMzMzMzMkAAAAAAAIA3QDMzMzMzM0FAZmZmZmZmPEBmZmZmZmY8QGZmZmZmZjdAzczMzMzMOEBmZmZmZqZAQGZmZmZmZjpAmpmZmZnZREDNzMzMzMw5QAAAAAAAgEZAMzMzMzOzNkAAAAAAAAA2QAAAAAAAAD9AAAAAAAAAMEAzMzMzMzM+QDMzMzMzszpAmpmZmZmZPECamZmZmdlBQM3MzMzMTDdAZmZmZmbmOkAAAAAAAAA8QJqZmZmZmT5AzczMzMxMPUDNzMzMzMw4QJqZmZmZmTxAAAAAAAAAN0BmZmZmZmZDQJqZmZmZGTxAAAAAAACAPEAAAAAAAAA7QAAAAAAAQEFAZmZmZmZmPUAzMzMzM7M8QGZmZmZmJkVAAAAAAACAQkAzMzMzMzM8QAAAAAAAADtAZmZmZmbmRUCamZmZmRlIQJqZmZmZmTVAMzMzMzOzO0AAAAAAAIAyQDMzMzMzMzdAAAAAAACAPEDNzMzMzMwyQGZmZmZmJkFAMzMzMzNzQkDNzMzMzAxDQDMzMzMzszFAMzMzMzNzQEAAAAAAAEBBQM3MzMzMTDxAmpmZmZmZO0CamZmZmZk6QAAAAAAAgDZAAAAAAABAQkAAAAAAAAA+QM3MzMzMTDFAzczMzMxMR0AAAAAAAIA6QJqZmZmZWUNAmpmZmZmZMkDNzMzMzMw3QJqZmZmZGT1AzczMzMzMREAAAAAAAIA5QAAAAAAAgEBAmpmZmZkZO0CamZmZmZk7QJqZmZmZmTtAMzMzMzOzNkBmZmZmZmY5QJqZmZmZGUBAAAAAAAAAN0CamZmZmRk7QGZmZmZmZjdAzczMzMzMMUDNzMzMzMw9QGZmZmZm5jpAzczMzMxMOEAAAAAAAIA\\u002fQDMzMzMzMz9AmpmZmZmZPEAAAAAAAAAyQJqZmZmZGUFAAAAAAACAOkBmZmZmZmYxQAAAAAAAgDdAmpmZmZmZMEDNzMzMzMw8QM3MzMzMTDRAZmZmZmZmPUAzMzMzM7NCQAAAAAAAgDlAmpmZmZkZQEBmZmZmZuY+QM3MzMzMzDhAzczMzMxMPEAzMzMzM7NCQM3MzMzMTDJAZmZmZmbmPkBmZmZmZuZEQJqZmZmZGTlAzczMzMzMOEDNzMzMzMw1QDMzMzMzs0VAAAAAAABAQkCamZmZmRk6QM3MzMzMzC9AzczMzMxMNUCamZmZmRk6QM3MzMzMDEBAzczMzMxMMECamZmZmVlBQM3MzMzMzD1AZmZmZmZmOEAzMzMzMzM6QJqZmZmZmThAmpmZmZkZN0DNzMzMzMw4QDMzMzMzMy9AZmZmZmamQEAzMzMzM7M7QAAAAAAAADZAAAAAAACAMUAzMzMzMzM6QM3MzMzMTDtAZmZmZmbmOEAAAAAAAAA4QGZmZmZm5kFAmpmZmZkZNEBmZmZmZmY4QDMzMzMzszZAMzMzMzMzNUAzMzMzM7M8QDMzMzMzMzNAMzMzMzMzOEAAAAAAAIAzQAAAAAAAgDFAMzMzMzOzQkCamZmZmRlAQAAAAAAAgDVAAAAAAAAAPUBmZmZmZmY9QJqZmZmZGTtAmpmZmZkZPEAAAAAAAAA+QJqZmZmZmTZAzczMzMzMPEBmZmZmZmYwQDMzMzMzMy5AmpmZmZmZOkCamZmZmRlAQDMzMzMzszpAAAAAAACAPUAzMzMzMzNAQDMzMzMz80FAzczMzMzMM0AzMzMzM7M7QGZmZmZmZj9AmpmZmZkZPEBmZmZmZmZAQJqZmZmZmUFAZmZmZmZmPUDNzMzMzIxDQDMzMzMzM0JAAAAAAACAO0AAAAAAAIA\\u002fQGZmZmZmZj9AmpmZmZmZQ0AzMzMzMzM+QDMzMzMz80VAmpmZmZmZNUAAAAAAAIA8QM3MzMzMjEBAmpmZmZmZOEBmZmZmZmY6QJqZmZmZGT1AMzMzMzOzPkCamZmZmZk+QDMzMzMzsz5AzczMzMzMPkCamZmZmRk5QM3MzMzMTDlAzczMzMyMQECamZmZmVlBQJqZmZmZmTtAMzMzMzMzPUBmZmZmZmY\\u002fQDMzMzMzMzlAZmZmZmYmQEAAAAAAAIA6QAAAAAAAgDNAMzMzMzOzRkAAAAAAAABDQJqZmZmZmT9AmpmZmZkZPUDNzMzMzMw6QGZmZmZm5jhAzczMzMxMN0CamZmZmRk9QAAAAAAAgDlAZmZmZmZmOEBmZmZmZuZHQAAAAAAAAD1AzczMzMwMREAAAAAAAIA2QJqZmZmZWUBAmpmZmZmZOEAzMzMzMzM9QM3MzMzMjEBAAAAAAAAANUDNzMzMzMwyQAAAAAAAADZAZmZmZmZmM0CamZmZmRlEQM3MzMzMjEBAMzMzMzMzOEAAAAAAAIA7QM3MzMzMTDlAAAAAAAAAPkCamZmZmVlAQDMzMzMzMzhAzczMzMzMPEDNzMzMzEw9QJqZmZmZmTlAMzMzMzOzQUAzMzMzM7M3QDMzMzMzszJAZmZmZmZmPEBmZmZmZiZAQJqZmZmZmTVAMzMzMzMzPUDNzMzMzMw7QJqZmZmZGTVAAAAAAAAAPkAAAAAAAIA7QM3MzMzMjEBAMzMzMzNzQ0CamZmZmZk9QDMzMzMzMz5AMzMzMzOzPkAzMzMzM7M9QGZmZmZmZkBAZmZmZmbmPkDNzMzMzMxBQJqZmZmZmTFAZmZmZmZmN0CamZmZmZk5QM3MzMzMTDdAZmZmZmbmP0AAAAAAAIA9QJqZmZmZGTlAzczMzMzML0AAAAAAAIA5QJqZmZmZWUFAZmZmZmZmPEAAAAAAAAA7QM3MzMzMzD9AMzMzMzMzPkCamZmZmZlDQDMzMzMzMzhAZmZmZmZmN0CamZmZmRlBQGZmZmZmJkJAAAAAAACAOkAAAAAAAAA7QJqZmZmZmT1AmpmZmZkZPkBmZmZmZmY7QM3MzMzMzDZAMzMzMzMzPECamZmZmRk2QAAAAAAAAEBAmpmZmZmZP0AzMzMzM7M5QJqZmZmZGTlAMzMzMzOzN0AzMzMzM7M2QDMzMzMzszFAZmZmZmamQUDNzMzMzIxAQDMzMzMzMzdAAAAAAACAOUDNzMzMzMw8QDMzMzMzMzlAMzMzMzOzOEDNzMzMzEw5QM3MzMzMzDhAMzMzMzMzMUCamZmZmZk+QAAAAAAAADpAzczMzMzMNUAzMzMzMzM9QM3MzMzMzDxAZmZmZmZmQUDNzMzMzMw3QM3MzMzMzDpAMzMzMzOzNUAzMzMzMzMxQGZmZmZmZj9AzczMzMxMOEAAAAAAAAAxQJqZmZmZmTxAMzMzMzOzMkDNzMzMzMw6QJqZmZmZmTVAzczMzMzMN0AzMzMzM3NEQGZmZmZm5j1AZmZmZmZmPEAzMzMzM7M8QGZmZmZmZj9AMzMzMzMzNkAzMzMzMzMuQAAAAAAAAD5AMzMzMzOzNkCamZmZmVlDQM3MzMzMzDZAAAAAAAAAL0AzMzMzM7NFQGZmZmZmZjxAZmZmZmbmPkAAAAAAAIA8QAAAAAAAgDpAmpmZmZkZOUAzMzMzM7MyQGZmZmZmJkBAAAAAAACAMkAzMzMzMzM4QDMzMzMzMzZAAAAAAACAM0AAAAAAAAA1QGZmZmZm5j5AmpmZmZkZPkAzMzMzM7M6QM3MzMzMjENAZmZmZmbmQ0AzMzMzMzNAQM3MzMzMTD1AMzMzMzOzO0BmZmZmZmY4QAAAAAAAgD9AZmZmZmbmPUAAAAAAAMBGQGZmZmZmpkFAzczMzMxMO0AzMzMzMzM2QAAAAAAAgEBAMzMzMzPzRUBmZmZmZmY\\u002fQM3MzMzMzDdAMzMzMzMzMUAzMzMzM7M5QJqZmZmZmTpAZmZmZmbmO0AAAAAAAAA4QAAAAAAAADlAmpmZmZmZMkAzMzMzMzM1QGZmZmZmZjRAmpmZmZnZQUDNzMzMzAxDQGZmZmZmpkJAZmZmZmZmMkCamZmZmZk+QDMzMzMzszZAmpmZmZkZNEBmZmZmZuY7QGZmZmZmZjlAMzMzMzOzRECamZmZmRk2QGZmZmZm5j1AAAAAAAAAOkCamZmZmZk7QM3MzMzMDEBAmpmZmZmZOEDNzMzMzEw6QAAAAAAAADhAAAAAAABAQEAzMzMzM7M9QDMzMzMzszpAzczMzMxMMkAAAAAAAAA6QGZmZmZmZjdAZmZmZmamQEAzMzMzM7M9QAAAAAAAAD1AZmZmZmZmM0AzMzMzMzM9QJqZmZmZWUBAAAAAAACAOkCamZmZmRlAQGZmZmZm5jtAzczMzMzMNkCamZmZmZk6QJqZmZmZGTZAAAAAAADAQkAzMzMzMzMxQGZmZmZmZj5AZmZmZmbmM0DNzMzMzMw9QGZmZmZmZjRAzczMzMzMPkBmZmZmZuY\\u002fQM3MzMzMDENAzczMzMxMPEAzMzMzM7M4QDMzMzMzMztAzczMzMzMNkBmZmZmZqZAQM3MzMzMzDxAAAAAAADAQUBmZmZmZuYxQAAAAAAAAD5AMzMzMzMzNkCamZmZmVlFQGZmZmZm5kFAMzMzMzMzMUCamZmZmZk6QM3MzMzMzDhAmpmZmZkZQUBmZmZmZuY7QJqZmZmZGThAAAAAAAAAQUAzMzMzMzNEQM3MzMzMzENAmpmZmZkZOkAAAAAAAEBBQM3MzMzMTD5AzczMzMzMMUAAAAAAAIA4QAAAAAAAgDhAzczMzMzMOEAzMzMzM3NCQAAAAAAAgDdAzczMzMyMQEDNzMzMzMw3QDMzMzMzMy5AZmZmZmbmPkCamZmZmZk7QAAAAAAAwEBAzczMzMxMO0BmZmZmZuY6QAAAAAAAADdAZmZmZmZmOEAAAAAAAAA4QM3MzMzMTDRAzczMzMzMM0AAAAAAAAA1QAAAAAAAgDRAMzMzMzOzOkDNzMzMzMxDQM3MzMzMzDlAAAAAAAAANECamZmZmZk6QAAAAAAAgDlAZmZmZmZmQkDNzMzMzEw1QGZmZmZm5kBAmpmZmZmZP0DNzMzMzMwzQGZmZmZmZjpAzczMzMxMO0BmZmZmZmYxQDMzMzMz80FAmpmZmZmZQEAzMzMzMzM0QGZmZmZmZjZAmpmZmZmZOEAAAAAAAAA7QDMzMzMzM0BAzczMzMzMOUAAAAAAAIA7QJqZmZmZmTpAZmZmZmamRECamZmZmZk7QDMzMzMzsz1AzczMzMxMPUDNzMzMzEw4QJqZmZmZGTRAmpmZmZmZQ0AAAAAAAIA2QM3MzMzMTDJAmpmZmZkZMEAzMzMzM3NBQAAAAAAAgD9AMzMzMzMzOUCamZmZmZkvQM3MzMzMTD5AMzMzMzMzQkAAAAAAAAA\\u002fQM3MzMzMTDxAMzMzMzOzOEAzMzMzM\\u002fNEQM3MzMzMDEBAAAAAAABAQUCamZmZmdlCQDMzMzMzszxAZmZmZmbmOEBmZmZmZmY9QM3MzMzMDERAzczMzMzMP0AzMzMzM\\u002fNBQGZmZmZmZjVAzczMzMzMOkCamZmZmZkvQM3MzMzMzDpAzczMzMzMPEAAAAAAAIA6QGZmZmZmZjtAmpmZmZmZOkBmZmZmZiZBQM3MzMzMTD5AZmZmZmamQUDNzMzMzEw\\u002fQGZmZmZm5kFAMzMzMzMzQEDNzMzMzEw5QJqZmZmZGTRAZmZmZmbmNUAAAAAAAIA7QM3MzMzMzDpAZmZmZmZmOUCamZmZmRk7QGZmZmZm5jhAAAAAAAAANkBmZmZmZmY4QM3MzMzMDEVAzczMzMwMREAAAAAAAMBCQM3MzMzMTDBAZmZmZmamQUAAAAAAAAA0QM3MzMzMzEFAAAAAAADAREDNzMzMzIxBQDMzMzMzszJAAAAAAACAMkBmZmZmZuY4QJqZmZmZmT1AmpmZmZmZPUCamZmZmZkxQGZmZmZmZjpAmpmZmZkZOEAzMzMzM7M6QM3MzMzMTEFAZmZmZmZmOUAAAAAAAIA0QJqZmZmZGTZAMzMzMzMzOUDNzMzMzMw4QGZmZmZmZjlAzczMzMxMQUAzMzMzM\\u002fNIQGZmZmZm5jdAAAAAAACAP0DNzMzMzEw+QM3MzMzMTDZAAAAAAADAQECamZmZmZkyQM3MzMzMzDdAmpmZmZmZPkAAAAAAAIA7QAAAAAAAADdAmpmZmZmZMkBmZmZmZmYwQM3MzMzMzD1AZmZmZmbmMkCamZmZmRk\\u002fQAAAAAAAADtAzczMzMzMMkBmZmZmZmYqQDMzMzMzMzFAMzMzMzMzLEDNzMzMzMw4QM3MzMzMTDNAAAAAAACAMkAzMzMzM7NAQDMzMzMzMyxAzczMzMxMNEBmZmZmZuY4QAAAAAAAwEBAZmZmZmbmOkBmZmZmZmY3QAAAAAAAQEFAMzMzMzOzPEAAAAAAAIA5QDMzMzMzszdAAAAAAAAAOEBmZmZmZuY+QAAAAAAAADtAzczMzMzMOECamZmZmRk4QJqZmZmZmThAzczMzMzMPUAAAAAAAABAQDMzMzMzszpAmpmZmZmZN0CamZmZmZk9QJqZmZmZmURAzczMzMxMQkBmZmZmZmY5QGZmZmZmZjpAmpmZmZmZO0BmZmZmZuY4QDMzMzMzMzpAzczMzMzMM0CamZmZmZk5QAAAAAAAADxAZmZmZmamQkCamZmZmRlBQJqZmZmZmTxAZmZmZmamQUCamZmZmRk4QDMzMzMzszxAMzMzMzMzPUAzMzMzM7NBQDMzMzMzMzdAzczMzMxMPECamZmZmRlEQAAAAAAAAD1AzczMzMzMOUCamZmZmVlBQM3MzMzMzDhAzczMzMxMQEBmZmZmZmYwQGZmZmZm5j5AmpmZmZnZQEAAAAAAAABEQJqZmZmZGUJAAAAAAAAAOEBmZmZmZuY6QDMzMzMzsztAZmZmZmbmOkCamZmZmRlEQDMzMzMzszpAmpmZmZmZPUAzMzMzM7M\\u002fQGZmZmZm5jdAzczMzMxMOkAAAAAAAIA7QDMzMzMzM0VAmpmZmZkZNEDNzMzMzEwzQAAAAAAAgDpAmpmZmZkZQEAzMzMzM7M8QJqZmZmZGTRAmpmZmZmZMkAAAAAAAAA8QJqZmZmZmTdAZmZmZmbmQkAAAAAAAIA9QM3MzMzMTDlAmpmZmZkZPkCamZmZmZk0QJqZmZmZmUVAZmZmZmYmQUBmZmZmZmY0QJqZmZmZ2UNAZmZmZmbmNUAAAAAAAAAxQAAAAAAAgDxAZmZmZmZmOUAzMzMzM7M0QGZmZmZm5jxAAAAAAACAN0AAAAAAAAAqQAAAAAAAADpAMzMzMzMzLEBmZmZmZuY9QJqZmZmZWUNAzczMzMzMNUDNzMzMzMwtQAAAAAAAADBAAAAAAACAO0AzMzMzM\\u002fNBQDMzMzMzszZAAAAAAABAQUCamZmZmZlCQDMzMzMzc0NAzczMzMxMPEDNzMzMzMw4QAAAAAAAAD5AAAAAAAAAOkAAAAAAAAA8QAAAAAAAADtAzczMzMwMSUCamZmZmZlAQAAAAAAAwEFAzczMzMzMPkAzMzMzM3NCQDMzMzMzszpAMzMzMzOzPUDNzMzMzMw9QAAAAAAAAD9AZmZmZmbmO0AAAAAAAAA7QDMzMzMzMzFAmpmZmZmZNkDNzMzMzMwzQM3MzMzMzDxAAAAAAAAARUAzMzMzM7M1QGZmZmZm5jhAzczMzMzMOEAzMzMzM7NEQAAAAAAAgDdAMzMzMzMzMECamZmZmdlAQM3MzMzMTDlAzczMzMzMOEAAAAAAAMBAQGZmZmZmZkNAAAAAAAAANUDNzMzMzEw9QDMzMzMzs0BAMzMzMzOzQEAAAAAAAIA+QJqZmZmZGT1AAAAAAAAAN0AAAAAAAAA0QM3MzMzMTDlAMzMzMzOzPUAAAAAAAIA+QM3MzMzMzDdAZmZmZmZmN0AAAAAAAAA8QAAAAAAAgDpAMzMzMzMzOEAzMzMzMzNIQJqZmZmZmUFAAAAAAAAAN0AAAAAAAAA4QDMzMzMzszZAMzMzMzOzP0BmZmZmZmY4QM3MzMzMTDxAMzMzMzOzOEBmZmZmZuZFQM3MzMzMTDdAMzMzMzMzNUAzMzMzM3NBQGZmZmZmZkRAmpmZmZmZNUDNzMzMzEwyQDMzMzMzs0RAzczMzMxMPEAAAAAAAAA\\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\\u002fNBQGZmZmZm5jJAzczMzMxMN0AAAAAAAAA5QGZmZmZm5kRAmpmZmZnZQEAAAAAAAAA9QAAAAAAAgDJAMzMzMzOzOkBmZmZmZuYxQJqZmZmZWUFAmpmZmZkZN0AzMzMzMzM3QGZmZmZmZixAMzMzMzOzNkDNzMzMzAxAQGZmZmZmJkFAMzMzMzOzM0CamZmZmZlDQM3MzMzMzDJAZmZmZmbmPECamZmZmZk9QDMzMzMzMz5AzczMzMxMMkCamZmZmVlFQAAAAAAAADxAMzMzMzOzMUDNzMzMzEw5QJqZmZmZGTpAmpmZmZkZOUAzMzMzMzM\\u002fQAAAAAAAADlAMzMzMzMzNkBmZmZmZmY0QJqZmZmZ2URAAAAAAAAAPkBmZmZmZmZAQM3MzMzMzDxAmpmZmZmZNkDNzMzMzMw+QAAAAAAAgDdAmpmZmZkZQECamZmZmZlBQGZmZmZm5jFAzczMzMzMO0CamZmZmZlCQAAAAAAAgDJAAAAAAADAQEAAAAAAAABBQDMzMzMzszVAMzMzMzMzM0CamZmZmZk3QJqZmZmZGUFAmpmZmZnZRUAzMzMzM7NFQGZmZmZm5j9AMzMzMzMzQEAAAAAAAAA5QJqZmZmZGT9AMzMzMzOzOkBmZmZmZuY3QM3MzMzMDEBAMzMzMzOzMkAAAAAAAIAyQAAAAAAAADlAAAAAAAAAM0CamZmZmRk9QJqZmZmZGTFAAAAAAAAAPkAAAAAAAAA\\u002fQAAAAAAAgEtAmpmZmZkZQUBmZmZmZiZAQDMzMzMzs0VAzczMzMyMQEDNzMzMzMw8QM3MzMzMzEJAZmZmZmZmN0AzMzMzM7M7QM3MzMzMzDNAMzMzMzOzO0BmZmZmZmY2QAAAAAAAADlAMzMzMzMzRUAzMzMzM7M3QDMzMzMzMzVAZmZmZmZmPEAAAAAAAIA7QM3MzMzMzDZAmpmZmZmZNUBmZmZmZmY3QM3MzMzMDERAAAAAAAAAP0DNzMzMzMw3QDMzMzMzszZAZmZmZmZmP0BmZmZmZuY3QGZmZmZm5jVAZmZmZmbmP0AAAAAAAIA1QJqZmZmZmTtAzczMzMzMOUAzMzMzMzMxQAAAAAAAgDpAZmZmZmZmPEAAAAAAAEBAQDMzMzMzMzdAzczMzMzMNUCamZmZmZk0QJqZmZmZGTlAZmZmZmZmPEAAAAAAAAA7QJqZmZmZGUFAAAAAAACAQkBmZmZmZiZLQJqZmZmZGT5AMzMzMzOzPEBmZmZmZmY3QJqZmZmZWUBAZmZmZmZmOkBmZmZmZmZFQGZmZmZmZjFAAAAAAAAANEDNzMzMzMxCQGZmZmZmZjxAAAAAAAAAPUCamZmZmZk\\u002fQGZmZmZm5jdAzczMzMxMQEBmZmZmZmY3QDMzMzMzszpAZmZmZmbmP0AAAAAAAIA\\u002fQM3MzMzMDENAZmZmZmZmQ0AAAAAAAAAxQDMzMzMzszlAmpmZmZkZMEBmZmZmZuY0QM3MzMzMzDxAmpmZmZmZMECamZmZmZk8QM3MzMzMzD1AmpmZmZkZQEAAAAAAAABBQDMzMzMzMztAAAAAAAAANUDNzMzMzEw4QJqZmZmZGTtAAAAAAAAAPEAAAAAAAIA2QJqZmZmZGT5AAAAAAADAQ0DNzMzMzEw0QAAAAAAAADxAAAAAAACAPkBmZmZmZiZIQM3MzMzMzDxAZmZmZmZmPEAzMzMzM7M+QM3MzMzMDEFAmpmZmZmZOkAAAAAAAIA6QGZmZmZmZjNAAAAAAADAQEDNzMzMzAxAQJqZmZmZGTxAAAAAAAAAQ0AAAAAAAAA7QM3MzMzMzDdAzczMzMxMOkDNzMzMzMxBQM3MzMzMzDFAMzMzMzOzMkBmZmZmZuY8QGZmZmZm5j1AzczMzMzMOUAAAAAAAIA+QAAAAAAAQEFAZmZmZmZmNkCamZmZmRk2QM3MzMzMzDJAZmZmZmamQ0DNzMzMzExDQM3MzMzMzDlAAAAAAAAAPEAzMzMzMzMwQDMzMzMzMy5AZmZmZmZmOUDNzMzMzMw7QDMzMzMzMzhAAAAAAACAN0AzMzMzM7M4QM3MzMzMzDpAAAAAAAAANEAAAAAAAIA5QM3MzMzMjEFAMzMzMzMzOEDNzMzMzMw7QJqZmZmZmThAMzMzMzNzQUCamZmZmdlAQDMzMzMzc0FAZmZmZmZmO0AAAAAAAAA8QJqZmZmZWUFAAAAAAACAOEAzMzMzM7M2QM3MzMzMzDpAmpmZmZmZRkAzMzMzM7NAQGZmZmZm5j1AmpmZmZnZS0AzMzMzM7M1QDMzMzMzMzxAZmZmZmZmNUCamZmZmRk2QM3MzMzMTDpAmpmZmZmZNEDNzMzMzEw\\u002fQDMzMzMzMzpAAAAAAAAAQ0AAAAAAAABDQGZmZmZm5jlAZmZmZmZmL0BmZmZmZuY8QM3MzMzMzDdAzczMzMzMOUCamZmZmVlBQGZmZmZmZjVAzczMzMxMPkCamZmZmRk9QM3MzMzMTEJAAAAAAACAPUDNzMzMzEw7QJqZmZmZmTxAzczMzMzMNEAzMzMzM\\u002fNDQM3MzMzMTEtAMzMzMzMzP0AzMzMzMzM0QGZmZmZm5jBAzczMzMzMPUBmZmZmZqZBQJqZmZmZGUFAAAAAAADAREAzMzMzMzNAQGZmZmZm5jhAMzMzMzMzOkAzMzMzM7MwQDMzMzMzszZAMzMzMzOzPEBmZmZmZqZIQM3MzMzMTDtAmpmZmZkZNUAzMzMzM\\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\\u002fNCQJqZmZmZWUBAmpmZmZkZOkDNzMzMzEw8QJqZmZmZGT1AMzMzMzMzOkAzMzMzM7M6QAAAAAAAADtAmpmZmZkZNUCamZmZmZk3QJqZmZmZWUBAAAAAAADASUAzMzMzM7M9QAAAAAAAADZAzczMzMzMN0AAAAAAAIA5QGZmZmZmZkRAmpmZmZkZPUAzMzMzMzM9QDMzMzMzMzdAMzMzMzOzO0AAAAAAAAA\\u002fQJqZmZmZWUBAmpmZmZkZOkAAAAAAAABDQDMzMzMzc0BAmpmZmZmZPEDNzMzMzMw7QM3MzMzMTEBAMzMzMzMzPkAAAAAAAAA\\u002fQDMzMzMzszxAZmZmZmZmOkDNzMzMzMw7QJqZmZmZGTpAMzMzMzPzREAzMzMzM\\u002fNAQDMzMzMzM0BAZmZmZmYmQEAzMzMzMzM\\u002fQJqZmZmZmTpAAAAAAAAAPkDNzMzMzMwzQGZmZmZm5jRAMzMzMzMzPUAAAAAAAAA8QJqZmZmZWUFAmpmZmZmZPEAAAAAAAIA\\u002fQAAAAAAAADNAzczMzMzMQ0AAAAAAAIA\\u002fQJqZmZmZGTdAzczMzMzMREDNzMzMzAxAQAAAAAAAAD9AzczMzMzMLEAzMzMzMzMuQGZmZmZm5jxAAAAAAACAMkAzMzMzM7M7QAAAAAAAwEBAmpmZmZmZREAAAAAAAABCQM3MzMzMTDVAMzMzMzOzO0CamZmZmRk\\u002fQM3MzMzMDENAMzMzMzOzPUAzMzMzM7MwQGZmZmZm5jpAMzMzMzOzNUBmZmZmZmY+QDMzMzMzMzNAZmZmZmbmPkBmZmZmZmY4QGZmZmZm5j5AMzMzMzMzPkBmZmZmZmY+QM3MzMzMzDRAzczMzMxMNkAzMzMzM7MxQAAAAAAAwEBAzczMzMyMQEBmZmZmZmZFQDMzMzMzs0BAMzMzMzMzOEAzMzMzM\\u002fNBQM3MzMzMzDtAmpmZmZkZM0AAAAAAAIA5QJqZmZmZGTdAmpmZmZkZQECamZmZmZk2QDMzMzMzMzxAmpmZmZmZQEBmZmZmZuY7QDMzMzMzszxAMzMzMzMzPUAAAAAAAIA6QDMzMzMzMzFAmpmZmZkZNEAzMzMzM7M2QAAAAAAAgDdAmpmZmZmZREAzMzMzM7M3QDMzMzMzMzRAAAAAAAAAQUCamZmZmZk4QDMzMzMzMz5AZmZmZmZmOUDNzMzMzExAQGZmZmZm5jlAAAAAAAAAOECamZmZmdlDQGZmZmZm5jdAAAAAAADAQEBmZmZmZuY7QGZmZmZm5kBAMzMzMzMzPUCamZmZmZk4QGZmZmZmZjdAmpmZmZkZPkAAAAAAAMBDQM3MzMzMDERAZmZmZmbmQEAzMzMzMzM2QJqZmZmZmTJAmpmZmZmZPUBmZmZmZmY6QAAAAAAAAD5AZmZmZmZmPEDNzMzMzEw4QGZmZmZmZjZAzczMzMwMQkBmZmZmZmY8QJqZmZmZmTNAmpmZmZlZRkCamZmZmRlGQGZmZmZmJkRAAAAAAAAAPkBmZmZmZmY6QAAAAAAAADxAAAAAAACAOEDNzMzMzEw0QAAAAAAAgDpAmpmZmZlZQ0CamZmZmRk8QM3MzMzMzDtAmpmZmZmZQECamZmZmRk4QM3MzMzMzDNAzczMzMzMNkCamZmZmZkyQGZmZmZm5jlAzczMzMxMN0DNzMzMzEw8QDMzMzMzsztAMzMzMzOzO0CamZmZmRk7QM3MzMzMTDlAAAAAAACARUAzMzMzM7M6QAAAAAAAAEJAzczMzMxMQEDNzMzMzEw8QGZmZmZm5jpAZmZmZmbmSkBmZmZmZuZAQAAAAAAAgDRAZmZmZmZmNUDNzMzMzEw\\u002fQM3MzMzMTDtAmpmZmZkZOkAAAAAAAIA5QM3MzMzMzD5AAAAAAAAAPEDNzMzMzEw+QAAAAAAAgD5AMzMzMzMzOUBmZmZmZmY3QGZmZmZmZkFAAAAAAABAQ0CamZmZmZk8QM3MzMzMTDxAMzMzMzOzPUAzMzMzMzNCQGZmZmZm5kNAZmZmZmYmRUBmZmZmZmY9QAAAAAAAADVAZmZmZmbmMUCamZmZmZkxQGZmZmZm5kFAMzMzMzMzPUDNzMzMzAxAQAAAAAAAADhAzczMzMzMNkAzMzMzMzMuQJqZmZmZ2UBAZmZmZmZmM0DNzMzMzEw8QAAAAAAAgDpAmpmZmZmZO0BmZmZmZmZAQJqZmZmZmTpAAAAAAAAAP0CamZmZmRk5QDMzMzMzMzhAMzMzMzOzQEBmZmZmZmY6QGZmZmZmZjZAmpmZmZkZQEBmZmZmZuYyQAAAAAAAADdAZmZmZmbmP0AAAAAAAIBAQGZmZmZmZjlAAAAAAACAO0BmZmZmZmY\\u002fQJqZmZmZGTpAMzMzMzPzQUAAAAAAAAA\\u002fQM3MzMzMTD5AMzMzMzMzP0AzMzMzM7M9QM3MzMzMTDVAzczMzMzMLECamZmZmZlDQDMzMzMzc0BAAAAAAACAOkAAAAAAAIBCQM3MzMzMjEBAMzMzMzMzNUCamZmZmRk4QAAAAAAAwEBAmpmZmZkZNkDNzMzMzMwxQAAAAAAAADRAmpmZmZkZO0DNzMzMzMxCQDMzMzMzMz9AZmZmZmbmPEAzMzMzMzMxQJqZmZmZmTpAZmZmZmZmNUCamZmZmRk2QJqZmZmZGT1AmpmZmZkZP0CamZmZmRk3QGZmZmZmZjpAMzMzMzOzQUCamZmZmRk0QM3MzMzMTDhAMzMzMzOzOEBmZmZmZmY8QGZmZmZmZjhAZmZmZmbmOkDNzMzMzAxAQM3MzMzMTDxAAAAAAACAOUAzMzMzM3NCQM3MzMzMjEBAzczMzMzMQkBmZmZmZmY9QJqZmZmZmT9AmpmZmZmZOkDNzMzMzEw\\u002fQDMzMzMzsz1AZmZmZmZmOkCamZmZmdlAQDMzMzMzMzlAAAAAAAAAQ0AzMzMzMzM3QM3MzMzMTDRAAAAAAAAAN0AAAAAAAIAzQAAAAAAAgDFAZmZmZmZmMEAAAAAAAIAyQDMzMzMzszdAmpmZmZlZQEAzMzMzM3NDQGZmZmZmZjxAAAAAAAAAL0CamZmZmdlDQDMzMzMzMzZAmpmZmZmZOEBmZmZmZqZCQGZmZmZm5j1AZmZmZmZmRECamZmZmZkyQAAAAAAAADtAmpmZmZnZRkAzMzMzMzM9QAAAAAAAgDZAzczMzMxMN0BmZmZmZmY7QJqZmZmZGTRAMzMzMzMzNkBmZmZmZmY9QM3MzMzMTDpAmpmZmZmZPkDNzMzMzMw1QGZmZmZmZjdAzczMzMzMOUAAAAAAAIA5QAAAAAAAgD5AMzMzMzOzPEAAAAAAAIA2QGZmZmZmZj1AzczMzMxMOUBmZmZmZuY\\u002fQM3MzMzMzDhAMzMzMzMzMkAzMzMzMzM6QGZmZmZmZj1AZmZmZmZmN0DNzMzMzIxBQDMzMzMzMzxAAAAAAAAAS0DNzMzMzIxAQM3MzMzMzDdAzczMzMzMNkAzMzMzM7M+QM3MzMzMzDhAMzMzMzOzPECamZmZmRlEQGZmZmZmZjtAzczMzMxMPECamZmZmRk4QJqZmZmZGTZAZmZmZmbmOkBmZmZmZmY3QJqZmZmZGThAmpmZmZlZQUAAAAAAAAA6QGZmZmZm5jxAMzMzMzMzOEBmZmZmZmY0QGZmZmZm5jxAZmZmZmbmOEBmZmZmZuY3QAAAAAAAgDpAmpmZmZkZO0AAAAAAAIA6QAAAAAAAADJAMzMzMzPzQUBmZmZmZmYxQAAAAAAAgDtAzczMzMxMO0BmZmZmZmY4QAAAAAAAADVAmpmZmZkZPkAAAAAAAEBDQM3MzMzMTEBAAAAAAAAAM0BmZmZmZiZCQM3MzMzMDEFAMzMzMzMzP0AzMzMzM\\u002fNFQM3MzMzMTDtAmpmZmZkZNEAAAAAAAEBBQDMzMzMzc0BAzczMzMzMMkAAAAAAAMBEQGZmZmZmZjpAAAAAAAAAOEAAAAAAAIA9QAAAAAAAADtAAAAAAACAM0AzMzMzM7M1QAAAAAAAgDdAMzMzMzOzOkAzMzMzM7M2QAAAAAAAQEJAMzMzMzMzPkDNzMzMzMxBQAAAAAAAgEJAMzMzMzOzPkAzMzMzM\\u002fNBQM3MzMzMTEVAmpmZmZkZOEDNzMzMzMw4QJqZmZmZmT1AMzMzMzMzOkDNzMzMzAxDQGZmZmZmZj1AZmZmZmZmL0AzMzMzM7MyQJqZmZmZmTxAZmZmZmYmQUBmZmZmZmY6QGZmZmZmZjZAzczMzMwMREAzMzMzM7M3QM3MzMzMzDZAzczMzMxMMkAzMzMzMzM1QM3MzMzMzDpAAAAAAACAMUAAAAAAAEBAQGZmZmZm5jBAmpmZmZkZNUCamZmZmRk+QJqZmZmZmTlAAAAAAAAANUBmZmZmZmY9QJqZmZmZWUFAAAAAAACAO0AzMzMzMzM\\u002fQAAAAAAAQEFAAAAAAACANUDNzMzMzEw8QJqZmZmZmT5AzczMzMzML0DNzMzMzIxBQGZmZmZmZjVAmpmZmZkZPEAzMzMzMzM4QJqZmZmZmT9AAAAAAACANkAzMzMzM7M3QJqZmZmZmTxAAAAAAACAOkDNzMzMzEw9QAAAAAAAgDNAMzMzMzOzN0AAAAAAAAA6QM3MzMzMTDRAzczMzMzMN0AAAAAAAAAxQM3MzMzMzDtAAAAAAAAAP0CamZmZmZk9QDMzMzMzsz1AZmZmZmbmPEBmZmZmZuY3QDMzMzMzszhAMzMzMzOzMECamZmZmRk8QDMzMzMzsz9AmpmZmZmZMkBmZmZmZuY3QDMzMzMz80FAZmZmZmZmOkCamZmZmRlCQAAAAAAAgDVAmpmZmZmZOkAAAAAAAAA2QDMzMzMzMz5AmpmZmZkZOUBmZmZmZmZAQGZmZmZmZkNAZmZmZmbmPkAAAAAAAIA\\u002fQJqZmZmZGUBAAAAAAAAAQEAzMzMzM7M6QJqZmZmZ2URAZmZmZmbmREAAAAAAAIA4QDMzMzMzsz1AzczMzMzMMkDNzMzMzMw5QJqZmZmZGTxAzczMzMzMNECamZmZmRk4QM3MzMzMzDxAAAAAAACAPUAAAAAAAIA+QAAAAAAAgEBAAAAAAACAOkAzMzMzMzMyQM3MzMzMTDxAZmZmZmbmNkAAAAAAAAA7QJqZmZmZmTRAmpmZmZmZMEAAAAAAAIA3QGZmZmZmZj1AZmZmZmZmNEAAAAAAAIA7QDMzMzMzMz1AmpmZmZmZQ0BmZmZmZuZDQGZmZmZm5j9AMzMzMzMzPEAAAAAAAMBIQGZmZmZmJkBAZmZmZmZmNkAAAAAAAIA5QGZmZmZmZjpAzczMzMxMP0BmZmZmZmY+QAAAAAAAgEBAZmZmZmYmQEAAAAAAAEBAQAAAAAAAgDlAAAAAAADAQECamZmZmRk0QAAAAAAAgDFAAAAAAAAAMEAAAAAAAAA\\u002fQM3MzMzMzDRAmpmZmZkZOkAAAAAAAIA8QM3MzMzMzDZAZmZmZmZmPUAAAAAAAIA5QM3MzMzMTDxAmpmZmZkZNEBmZmZmZmY+QM3MzMzMTDpAMzMzMzMzQEAAAAAAAAAxQM3MzMzMTDxAAAAAAACAPEDNzMzMzMwxQGZmZmZm5jtAAAAAAACAN0AzMzMzMzM4QM3MzMzMTD5AmpmZmZkZNECamZmZmRk7QGZmZmZmZjxAmpmZmZkZNEAAAAAAAAA+QDMzMzMzszpAAAAAAAAAOkBmZmZmZuY5QGZmZmZm5j9AMzMzMzMzOEBmZmZmZmY6QAAAAAAAADhAZmZmZmZmN0BmZmZmZuY2QAAAAAAAADhAzczMzMzMPUBmZmZmZmY\\u002fQM3MzMzMjERAMzMzMzOzP0CamZmZmRk+QM3MzMzMTDxAAAAAAACAP0CamZmZmZk+QAAAAAAAQEFAAAAAAACAOUCamZmZmdlFQDMzMzMzM0JAZmZmZmZmO0BmZmZmZiZBQAAAAAAAADNAZmZmZmbmOUCamZmZmdlBQM3MzMzMTDpAMzMzMzOzPUDNzMzMzMw3QM3MzMzMzD9AZmZmZmZmNkAzMzMzM7MxQAAAAAAAwEdAAAAAAACAM0CamZmZmZk0QJqZmZmZmT1AZmZmZmbmOEBmZmZmZmY7QGZmZmZm5kFAMzMzMzMzQ0AzMzMzMzM4QM3MzMzMzDVAzczMzMzMNEAAAAAAAAA8QAAAAAAAwEBAZmZmZmYmQEBmZmZmZmYwQAAAAAAAwEBAzczMzMzMO0DNzMzMzMxBQM3MzMzMzDZAmpmZmZkZOUDNzMzMzMw4QDMzMzMzMzxAZmZmZmbmOEBmZmZmZuY5QDMzMzMzszxAAAAAAACANUDNzMzMzMw\\u002fQGZmZmZmZjdAzczMzMzMOkBmZmZmZuY\\u002fQAAAAAAAADtAAAAAAAAAO0DNzMzMzExAQM3MzMzMzDRAZmZmZmbmQEAAAAAAAIA6QDMzMzMzszpAZmZmZmZmQECamZmZmZkyQGZmZmZm5jlAMzMzMzOzRkBmZmZmZmYxQGZmZmZmZj9AmpmZmZkZOECamZmZmRk6QAAAAAAAgDZAmpmZmZmZQUAzMzMzMzM6QDMzMzMzMzlAzczMzMzMK0CamZmZmRk4QM3MzMzMzDVAAAAAAACAOkAzMzMzMzM\\u002fQAAAAAAAwEFAMzMzMzMzPEAAAAAAAAAwQJqZmZmZGTlAMzMzMzOzOkAAAAAAAIA4QDMzMzMzMzxAMzMzMzMzQkBmZmZmZuYxQM3MzMzMTEJAmpmZmZmZPECamZmZmRkzQGZmZmZm5j1AzczMzMzMP0AzMzMzMzM5QDMzMzMzszJAzczMzMzMPEDNzMzMzIxAQM3MzMzMzDVAzczMzMzMN0AAAAAAAAA\\u002fQAAAAAAAAD5AMzMzMzOzSEBmZmZmZmY8QJqZmZmZGTRAmpmZmZkZP0DNzMzMzMwwQDMzMzMzszFAzczMzMxMO0CamZmZmdlAQJqZmZmZmTtAAAAAAACANEBmZmZmZmY7QGZmZmZmpkRAZmZmZmZmP0BmZmZmZqZFQDMzMzMzMztAMzMzMzOzQUAzMzMzM7MwQJqZmZmZGT5AzczMzMzML0DNzMzMzEw2QDMzMzMzM0FAMzMzMzMzPUDNzMzMzEw1QGZmZmZmZjdAMzMzMzMzN0BmZmZmZmY7QJqZmZmZWUJAmpmZmZkZOUCamZmZmRlDQJqZmZmZGThAZmZmZmbmPEAzMzMzMzMzQJqZmZmZmT1AAAAAAACAOkCamZmZmZk3QDMzMzMzMz9AMzMzMzOzOkAAAAAAAAA\\u002fQGZmZmZmZjhAMzMzMzOzPEBmZmZmZmY8QAAAAAAAAEJAZmZmZmZmNUAzMzMzMzM9QM3MzMzMzDFAmpmZmZkZQ0AzMzMzM7M8QM3MzMzMzDZAMzMzMzMzP0BmZmZmZuY9QDMzMzMzs0VAzczMzMxMOUCamZmZmZlBQGZmZmZm5jxAzczMzMwMQ0DNzMzMzEw4QGZmZmZmZj9AAAAAAAAAOUCamZmZmZk6QDMzMzMzs0NAAAAAAACAN0AzMzMzM7M9QGZmZmZmJkBAZmZmZmbmQkDNzMzMzMw4QDMzMzMzszlAZmZmZmZmPkAAAAAAAIA9QM3MzMzMTDhAmpmZmZkZOEAAAAAAAAA9QGZmZmZm5jhAmpmZmZmZP0CamZmZmZk6QJqZmZmZGTNAMzMzMzOzOEAAAAAAAAA5QGZmZmZmZj1AAAAAAAAAOEDNzMzMzMw\\u002fQAAAAAAAAD5AAAAAAAAAO0CamZmZmRk6QGZmZmZmpkJAZmZmZmbmOkAAAAAAAIA7QAAAAAAAADZAZmZmZmZmPUAzMzMzM7M1QGZmZmZm5jRAAAAAAACAO0AAAAAAAIA\\u002fQJqZmZmZGTZAZmZmZmZmN0BmZmZmZmY6QJqZmZmZGUFAzczMzMxMNEDNzMzMzMw0QAAAAAAAgDdAMzMzMzMzNkAAAAAAAABDQAAAAAAAgDJAmpmZmZkZO0DNzMzMzMxDQJqZmZmZGTxAMzMzMzOzO0BmZmZmZqZAQDMzMzMzszpAzczMzMzMOUCamZmZmZk3QAAAAAAAgD9AmpmZmZkZOEDNzMzMzAxAQJqZmZmZWUFAzczMzMzMOkDNzMzMzMw1QDMzMzMzM0JAMzMzMzMzOUCamZmZmVlBQJqZmZmZmUFAZmZmZmbmQECamZmZmRk4QM3MzMzMTDRAMzMzMzMzOkCamZmZmRk2QDMzMzMzc0NAZmZmZmZmPkAzMzMzMzMzQDMzMzMzszxAMzMzMzMzOEAzMzMzMzM3QJqZmZmZWUBAzczMzMzMOkCamZmZmRk6QAAAAAAAAEFAmpmZmZkZREAzMzMzM7M6QM3MzMzMzDpAAAAAAACAQEAAAAAAAIA+QJqZmZmZmThAzczMzMxMQECamZmZmZk+QM3MzMzMzDVAMzMzMzMzPUAAAAAAAIA+QAAAAAAAADhAmpmZmZmZNUAAAAAAAAA3QAAAAAAAADtAmpmZmZmZN0DNzMzMzMw1QJqZmZmZmTJAMzMzMzOzPEBmZmZmZmY9QJqZmZmZmT5AZmZmZmZmP0AzMzMzM7MxQJqZmZmZmTdAmpmZmZmZQ0AAAAAAAIA7QGZmZmZm5j9AzczMzMxMMECamZmZmZlCQAAAAAAAAD9AmpmZmZkZPkDNzMzMzEw+QJqZmZmZ2UJAmpmZmZkZN0CamZmZmRlEQGZmZmZm5jhAMzMzMzMzPUCamZmZmZk2QAAAAAAAADJAZmZmZmbmNEAzMzMzM7M7QM3MzMzMzDFAzczMzMxMP0DNzMzMzMw3QJqZmZmZmT1AMzMzMzMzQUDNzMzMzEw8QJqZmZmZGUJAAAAAAACANUAAAAAAAIAzQDMzMzMzM0RAMzMzMzOzPkDNzMzMzEwyQDMzMzMzszhAZmZmZmZmOUBmZmZmZmZAQGZmZmZmZjtAZmZmZmbmMUBmZmZmZmY1QM3MzMzMzC9AMzMzMzOzNUDNzMzMzEw8QAAAAAAAAD5AZmZmZmbmQECamZmZmZlEQDMzMzMzszFAmpmZmZkZOEAzMzMzM7M4QAAAAAAAADdAMzMzMzMzM0DNzMzMzEw7QM3MzMzMTDBAzczMzMxMO0DNzMzMzIxDQJqZmZmZmTFAzczMzMxMP0DNzMzMzEw9QM3MzMzMTDtAzczMzMzMOkAzMzMzM7M8QM3MzMzMzD9AmpmZmZmZOEAzMzMzM7M4QGZmZmZm5jtAmpmZmZlZTkAAAAAAAABBQAAAAAAAwEdAmpmZmZkZMkCamZmZmZk\\u002fQAAAAAAAADJAmpmZmZkZQ0BmZmZmZuY3QGZmZmZmZjRAAAAAAACAPUCamZmZmZk9QGZmZmZmZjRAAAAAAACAQkDNzMzMzEw4QAAAAAAAADxAAAAAAACAPUAzMzMzM7NDQGZmZmZm5jlAAAAAAACAPEBmZmZmZuY+QDMzMzMzM0BAZmZmZmZmN0CamZmZmZlBQAAAAAAAADJAzczMzMzMOUBmZmZmZmY3QAAAAAAAgDNAZmZmZmZmOkAzMzMzM7M2QM3MzMzMzDdAAAAAAACAPECamZmZmdlAQJqZmZmZGTlAAAAAAAAAPUBmZmZmZmYwQGZmZmZmZjRAZmZmZmZmP0AAAAAAAIA7QGZmZmZmpkBAMzMzMzOzMkAAAAAAAAA4QM3MzMzMTD1AmpmZmZmZN0BmZmZmZuY5QDMzMzMzszZAZmZmZmZmNkCamZmZmRlCQM3MzMzMTDRAzczMzMxMN0AAAAAAAEBGQM3MzMzMTEFAZmZmZmZmMkAzMzMzMzM9QM3MzMzMTDJAAAAAAACAQUAAAAAAAMBAQJqZmZmZWUFAMzMzMzOzO0AzMzMzM7M7QDMzMzMzMzZAZmZmZmbmOEAAAAAAAIA7QJqZmZmZmTpAAAAAAACAPUCamZmZmZk5QAAAAAAAADtAMzMzMzOzNECamZmZmZk7QAAAAAAAAD1AZmZmZmbmOUDNzMzMzMw3QJqZmZmZWUBAMzMzMzMzP0CamZmZmRlBQDMzMzMzMzlAAAAAAAAAPUAAAAAAAAA9QJqZmZmZGUFAZmZmZmYmRkCamZmZmRkwQM3MzMzMTDFAMzMzMzOzNUAAAAAAAIA8QDMzMzMzMztAZmZmZmZmPUAzMzMzMzMxQJqZmZmZWUZAzczMzMzMQ0CamZmZmRkwQGZmZmZmZjZAAAAAAACAOEBmZmZmZmY9QM3MzMzMzDBAMzMzMzOzOkAAAAAAAAA8QAAAAAAAgD5AzczMzMxMPUAzMzMzM7M2QDMzMzMzszxAMzMzMzNzS0BmZmZmZmY8QJqZmZmZGT5AZmZmZmbmQEAzMzMzM3NBQJqZmZmZGTZAAAAAAACANUAzMzMzMzMwQGZmZmZmZkFAZmZmZmZmOUAzMzMzMzM2QM3MzMzMzDNAmpmZmZmZL0AAAAAAAEBCQJqZmZmZmTFAMzMzMzMzPEAAAAAAAAA1QDMzMzMz80VAZmZmZmZmOkAAAAAAAAA6QJqZmZmZmTJAmpmZmZmZOUDNzMzMzMw9QDMzMzMzMzlAAAAAAACAOECamZmZmZk8QGZmZmZm5jhAAAAAAACAN0AzMzMzMzM0QM3MzMzMzDlAzczMzMxMO0CamZmZmRk\\u002fQJqZmZmZmT1AMzMzMzMzO0DNzMzMzEw4QM3MzMzMTDFAmpmZmZkZOkCamZmZmRk9QM3MzMzMzDJAzczMzMzMPEDNzMzMzMw+QM3MzMzMzDJAmpmZmZkZOEDNzMzMzEwyQAAAAAAAADpAMzMzMzMzOEBmZmZmZmZAQGZmZmZmZkBAzczMzMzMPEAzMzMzM7M4QAAAAAAAgEBAMzMzMzOzNUCamZmZmRk2QJqZmZmZGTZAzczMzMxMMUDNzMzMzEw7QJqZmZmZGTtAmpmZmZmZMkDNzMzMzEw1QJqZmZmZGThAzczMzMyMQ0CamZmZmRk4QGZmZmZm5jhAmpmZmZmZPEBmZmZmZmZCQAAAAAAAAD9AZmZmZmbmOkCamZmZmZk+QM3MzMzMTD1AzczMzMzMPUAAAAAAAAA7QDMzMzMzs0FAzczMzMzMM0DNzMzMzMxGQDMzMzMzc0FAmpmZmZkZNEAAAAAAAAA9QDMzMzMzszFAzczMzMzMOEAzMzMzM7M2QGZmZmZmZjVAmpmZmZkZOECamZmZmZk8QGZmZmZm5jhAzczMzMxMMUBmZmZmZmY8QM3MzMzMzD5AAAAAAAAAQkAAAAAAAAA8QM3MzMzMTEBAAAAAAACAQUAAAAAAAIA1QDMzMzMzszxAzczMzMzMNEAzMzMzM7M9QDMzMzMzszpAzczMzMxMOEBmZmZmZmY1QJqZmZmZmUVAMzMzMzOzO0AAAAAAAIA3QAAAAAAAAD9AzczMzMxMP0CamZmZmVlBQAAAAAAAADlAZmZmZmZmSECamZmZmZk9QGZmZmZmZjxAMzMzMzOzOkDNzMzMzEwzQJqZmZmZ2UVAMzMzMzMzNkBmZmZmZmY2QAAAAAAAgD9AAAAAAACAQkCamZmZmRk9QM3MzMzMTDxAmpmZmZkZNkAzMzMzMzM8QM3MzMzMzD1AzczMzMzMPUAAAAAAAAA5QAAAAAAAADhAAAAAAACAO0DNzMzMzEw8QM3MzMzMTDJAZmZmZmbmPUCamZmZmZk\\u002fQJqZmZmZmTFAmpmZmZkZOUAAAAAAAAA8QJqZmZmZGT1AZmZmZmZmN0CamZmZmZk5QM3MzMzMTDJAAAAAAADAQ0BmZmZmZmY8QAAAAAAAAERAAAAAAAAANEAzMzMzM7NBQGZmZmZm5j1AMzMzMzOzP0BmZmZmZuY\\u002fQJqZmZmZGTFAzczMzMxMOkAAAAAAAIA9QGZmZmZmZj1AZmZmZmZmPkDNzMzMzEw3QAAAAAAAgDpAmpmZmZmZPEDNzMzMzEw7QJqZmZmZGTdAzczMzMwMQEBmZmZmZmY7QJqZmZmZmTJAAAAAAACAOkAAAAAAAEBAQGZmZmZmZkFAmpmZmZmZMkAzMzMzM7NAQDMzMzMzMz9AAAAAAAAANEDNzMzMzAxAQGZmZmZmZjdAMzMzMzOzN0DNzMzMzAxAQAAAAAAAAD1AMzMzMzPzQUDNzMzMzIxAQJqZmZmZGUNAmpmZmZkZMkAAAAAAAAA6QGZmZmZmZjdAMzMzMzOzPEAzMzMzMzM1QGZmZmZmZi5AzczMzMxMO0CamZmZmZk9QJqZmZmZGTZAZmZmZmbmOkBmZmZmZmY8QJqZmZmZmTFAMzMzMzOzOkDNzMzMzEw\\u002fQJqZmZmZWUFAzczMzMxMNkAzMzMzMzM2QJqZmZmZGUFAAAAAAAAAQkAAAAAAAIA1QJqZmZmZGUNAZmZmZmZmN0AzMzMzMzM2QM3MzMzMDERAZmZmZmbmOUBmZmZmZmZBQM3MzMzMzD1AZmZmZmZmP0AAAAAAAAA0QJqZmZmZGTRAAAAAAACAN0AzMzMzMzMxQJqZmZmZ2UBAAAAAAACAN0BmZmZmZuY9QAAAAAAAgDJAzczMzMxMOECamZmZmZk\\u002fQJqZmZmZGUBAmpmZmZkZOEBmZmZmZuY5QGZmZmZm5jdAzczMzMzMPUCamZmZmRlAQDMzMzMzMzlAzczMzMxMPkBmZmZmZmYxQM3MzMzMTDtAMzMzMzMzOEDNzMzMzAxCQAAAAAAAADhAMzMzMzMzM0DNzMzMzEwwQJqZmZmZmTxAAAAAAAAAQEAAAAAAAIA0QM3MzMzMTDdAMzMzMzOzPkAzMzMzMzNBQAAAAAAAADpAmpmZmZmZO0CamZmZmZk\\u002fQDMzMzMzMz5AMzMzMzOzNkAAAAAAAAA5QAAAAAAAADhAMzMzMzMzPEDNzMzMzEw8QM3MzMzMzEBAMzMzMzMzP0AAAAAAAIA6QAAAAAAAADxAAAAAAACANkCamZmZmRkxQGZmZmZmZjZAMzMzMzOzOkBmZmZmZmY1QM3MzMzMTDFAzczMzMzMQEBmZmZmZmY3QDMzMzMzsztAZmZmZmZmOEDNzMzMzMw0QAAAAAAAgD5AAAAAAACAO0AAAAAAAAA1QAAAAAAAwEJAzczMzMwMQUAAAAAAAIA7QDMzMzMzM0FAZmZmZmbmP0AAAAAAAIA4QJqZmZmZmUZAzczMzMxMO0CamZmZmZk7QGZmZmZmZjpAmpmZmZkZO0CamZmZmVlEQDMzMzMzMz5AmpmZmZkZPkCamZmZmZksQDMzMzMzM0JAAAAAAAAANECamZmZmZk3QAAAAAAAgDdAmpmZmZmZPEAzMzMzMzMvQGZmZmZmZkBAAAAAAACAPEAzMzMzM7M3QDMzMzMzMzxAZmZmZmbmOUBmZmZmZmY9QM3MzMzMTDxAAAAAAABAQUAAAAAAAAA3QGZmZmZmpkBAAAAAAABAQUBmZmZmZuY9QGZmZmZmpkFAAAAAAABARUAAAAAAAIA6QAAAAAAAgDdAMzMzMzOzPkDNzMzMzAxAQAAAAAAAgDxAzczMzMxMOECamZmZmRlEQJqZmZmZmStAZmZmZmZmOkDNzMzMzMw1QDMzMzMzszFAZmZmZmbmNEDNzMzMzEw0QGZmZmZm5jxAmpmZmZkZO0CamZmZmRk8QGZmZmZm5j5AzczMzMzMP0DNzMzMzIxBQAAAAAAAAEdAzczMzMxMQEAzMzMzM7M3QGZmZmZm5jNAAAAAAACAN0CamZmZmVlAQJqZmZmZGTRAAAAAAACAPUBmZmZmZqZCQAAAAAAAwEBAmpmZmZmZN0AAAAAAAAAxQGZmZmZmZjpAZmZmZmbmOUBmZmZmZuY6QJqZmZmZmTJAzczMzMwMQUAAAAAAAAA5QGZmZmZm5kJAMzMzMzOzPEDNzMzMzMw1QGZmZmZmZjdAzczMzMxMPEDNzMzMzEw3QAAAAAAAgD9AmpmZmZkZOUAAAAAAAIA6QAAAAAAAgDdAzczMzMxMNUBmZmZmZuYzQAAAAAAAgDhAmpmZmZmZNUBmZmZmZqZAQJqZmZmZmUJAMzMzMzPzRECamZmZmRk\\u002fQM3MzMzMTDtAAAAAAAAAOkCamZmZmRk7QM3MzMzMzDhAMzMzMzPzQEDNzMzMzMw5QDMzMzMzszJAZmZmZmZmNkAzMzMzM7M1QM3MzMzMTDlAMzMzMzOzO0BmZmZmZuY6QGZmZmZm5jxAZmZmZmZmP0AAAAAAAAA7QM3MzMzMzD9AzczMzMxMMkCamZmZmVlEQAAAAAAAgEBAAAAAAACANEBmZmZmZuY5QM3MzMzMTDFAZmZmZmbmNkBmZmZmZuY7QM3MzMzMTDhAMzMzMzOzSECamZmZmZk1QAAAAAAAAEJAZmZmZmZmNUAzMzMzM7M6QGZmZmZmZj9AAAAAAAAANECamZmZmVlGQJqZmZmZmT9AAAAAAACAO0CamZmZmRk8QAAAAAAAQENAAAAAAAAAO0CamZmZmZk5QDMzMzMzMy5AZmZmZmbmOkBmZmZmZmY\\u002fQGZmZmZmpkFAZmZmZmZmPEAzMzMzMzM4QDMzMzMzs0BAmpmZmZkZN0AAAAAAAAA\\u002fQGZmZmZm5kFAzczMzMxMOkDNzMzMzMw\\u002fQM3MzMzMzDhAMzMzMzMzPkAzMzMzMzM0QDMzMzMzc0JAMzMzMzMzQEAAAAAAAIA6QGZmZmZm5jxAAAAAAABAQUAAAAAAAAA4QAAAAAAAAC9AmpmZmZkZQUAAAAAAAAA5QAAAAAAAADdAZmZmZmZmP0CamZmZmZk8QM3MzMzMDEFAzczMzMzMPUBmZmZmZmY1QM3MzMzMTD5AzczMzMxMPUDNzMzMzIxAQGZmZmZmZjVAZmZmZmZmMUAzMzMzM\\u002fNBQAAAAAAAgDJAzczMzMzMP0BmZmZmZmY6QM3MzMzMTDxAZmZmZmbmP0DNzMzMzEwzQAAAAAAAgDZAZmZmZmbmNUCamZmZmZlDQM3MzMzMzDJAmpmZmZmZPECamZmZmZk8QDMzMzMzMztAMzMzMzOzOkBmZmZmZuY3QDMzMzMzc0BAMzMzMzOzP0AAAAAAAABEQDMzMzMzMzhAZmZmZmbmOUBmZmZmZmY8QGZmZmZmZjlAzczMzMzMMkBmZmZmZqZCQM3MzMzMzERAZmZmZmZmQECamZmZmVlDQDMzMzMz80BAZmZmZmZmQ0DNzMzMzIxAQM3MzMzMzENAAAAAAACAOEDNzMzMzMw5QM3MzMzMTDlAmpmZmZnZQUCamZmZmRk4QAAAAAAAwEBAAAAAAACARUCamZmZmZk5QDMzMzMzMzBAMzMzMzMzMUBmZmZmZmY8QDMzMzMzMzZAZmZmZmbmN0AAAAAAAIA+QAAAAAAAgDtAzczMzMxMQEAzMzMzM7M7QAAAAAAAgDlAzczMzMxMO0CamZmZmRk+QAAAAAAAgEVAzczMzMzMNUDNzMzMzMw9QDMzMzMzs0BAMzMzMzOzQEAAAAAAAMBDQJqZmZmZ2UVAzczMzMwMQEDNzMzMzEwyQJqZmZmZmUFAZmZmZmZmQECamZmZmRk1QGZmZmZm5j1AAAAAAAAAPkAzMzMzM7M9QJqZmZmZmTJAAAAAAAAAPUBmZmZmZmZAQDMzMzMzc0NAzczMzMxMPkDNzMzMzMw+QM3MzMzMDEBAZmZmZmZmOkCamZmZmZlCQGZmZmZmZjpAZmZmZmbmPkCamZmZmZkxQAAAAAAAADZAAAAAAABAQEBmZmZmZmY+QAAAAAAAgDlAZmZmZmbmPEAAAAAAAAA9QDMzMzMzMzhAMzMzMzOzO0BmZmZmZuY5QJqZmZmZGTpAAAAAAABAQEAzMzMzM7M0QM3MzMzMTDhAZmZmZmZmN0BmZmZmZmY4QDMzMzMzc0ZAmpmZmZkZQEDNzMzMzEwyQGZmZmZmZjxAAAAAAAAANkAzMzMzMzM4QM3MzMzMTDRAAAAAAACAQkAzMzMzM7NFQJqZmZmZ2UFAZmZmZmZmN0AzMzMzMzM1QDMzMzMzMzhAAAAAAABAQEAzMzMzMzMwQJqZmZmZmTZAAAAAAAAAOECamZmZmRk4QJqZmZmZmTRAAAAAAACAPUCamZmZmRk6QM3MzMzMDEBAZmZmZmZmNkAAAAAAAAA5QAAAAAAAADtAmpmZmZkZRUAzMzMzM7M5QM3MzMzMzDVAmpmZmZmZOkBmZmZmZuZFQAAAAAAAQEBAZmZmZmZmN0AAAAAAAAA5QDMzMzMzszpAzczMzMxMNECamZmZmRkyQAAAAAAAADhAzczMzMxMPkAzMzMzM7M7QAAAAAAAwEFAMzMzMzMzO0AAAAAAAIBFQGZmZmZm5jlAmpmZmZkZN0AzMzMzMzM5QM3MzMzMDEFAZmZmZmZmP0DNzMzMzMw9QAAAAAAAADVAAAAAAACANUDNzMzMzEw2QDMzMzMzszxAMzMzMzOzM0AAAAAAAAA+QJqZmZmZGT9AZmZmZmbmQ0DNzMzMzMwzQDMzMzMzszdAmpmZmZkZP0CamZmZmZkwQJqZmZmZGTxAmpmZmZkZOECamZmZmZk3QM3MzMzMzDpAZmZmZmbmO0DNzMzMzEw8QM3MzMzMTDxAAAAAAACAOkAAAAAAAIBEQJqZmZmZGTNAAAAAAACAOUBmZmZmZuY\\u002fQGZmZmZm5jhAAAAAAAAAOkAAAAAAAAA7QJqZmZmZmTJAZmZmZmYmQEAzMzMzMzM5QJqZmZmZGT1AmpmZmZkZN0BmZmZmZmY5QDMzMzMzsztAMzMzMzOzO0CamZmZmRk5QJqZmZmZGTpAzczMzMwMQEAAAAAAAABBQGZmZmZm5jhAMzMzMzOzPkBmZmZmZmYxQDMzMzMzM0BAAAAAAACAOUDNzMzMzEw9QGZmZmZm5j9AzczMzMxMO0BmZmZmZuY6QDMzMzMzMzZAzczMzMxMNUAzMzMzM7M1QJqZmZmZmT5AMzMzMzMzOEDNzMzMzMw9QAAAAAAAAD9AzczMzMxMNkAzMzMzMzM+QM3MzMzMTEBAzczMzMxMPkDNzMzMzEwyQGZmZmZm5jhAzczMzMxMQkBmZmZmZqZAQAAAAAAAADhAAAAAAAAAPEDNzMzMzEw0QDMzMzMzs0FAzczMzMzMOEAzMzMzMzM3QGZmZmZmZkVAAAAAAACAOUCamZmZmRk1QJqZmZmZGT5AzczMzMzMPkAAAAAAAAA\\u002fQGZmZmZmZkBAMzMzMzMzNECamZmZmRkyQJqZmZmZmURAzczMzMzMNEAzMzMzM7M7QDMzMzMzM0BAZmZmZmamQEAzMzMzMzM8QJqZmZmZGUJAZmZmZmbmOkAAAAAAAAA8QJqZmZmZmTtAZmZmZmbmNkAAAAAAAMBEQJqZmZmZmTxAzczMzMzML0AzMzMzMzMzQDMzMzMzsztAMzMzMzMzPEAzMzMzM7M6QGZmZmZmJkFAmpmZmZkZPUAzMzMzMzM9QAAAAAAAgDdAZmZmZmYmQEAzMzMzMzM9QDMzMzMz80JAAAAAAAAANEAzMzMzMzM\\u002fQDMzMzMzszFAAAAAAAAAN0DNzMzMzMw5QGZmZmZmZjdAAAAAAACAPkCamZmZmRlDQJqZmZmZGTJAAAAAAAAAOEDNzMzMzExJQJqZmZmZmT9AZmZmZmZmOECamZmZmRk8QM3MzMzMTDhAAAAAAACAN0AAAAAAAAA7QAAAAAAAwEBAAAAAAACAP0AzMzMzM7M2QGZmZmZmZjBAAAAAAAAARUAAAAAAAIA7QAAAAAAAgDxAZmZmZmbmNkDNzMzMzAxIQJqZmZmZGTJAAAAAAACAPUDNzMzMzEw8QAAAAAAAgDZAmpmZmZmZQUBmZmZmZmY3QAAAAAAAwEJAZmZmZmZmNkAAAAAAAEBBQGZmZmZmZjpAmpmZmZmZN0CamZmZmRk5QJqZmZmZmT1AAAAAAAAAOEAAAAAAAIA9QJqZmZmZmTJAAAAAAACAM0CamZmZmRlAQAAAAAAAAD9AZmZmZmZmNUAzMzMzMzM\\u002fQAAAAAAAAEBAMzMzMzOzQECamZmZmRk2QGZmZmZmZjpAMzMzMzOzO0AAAAAAAABAQM3MzMzMTD9AZmZmZmZmPEBmZmZmZmY3QAAAAAAAADxAMzMzMzOzOkCamZmZmRlDQJqZmZmZmT1AZmZmZmZmQUBmZmZmZmY\\u002fQDMzMzMzM0tAZmZmZmZmQUCamZmZmZk5QJqZmZmZmTlAMzMzMzOzPEAzMzMzM7M7QM3MzMzMTDhAAAAAAACAPUBmZmZmZmY4QGZmZmZmZjhAAAAAAACAPEBmZmZmZuYxQAAAAAAAgDpAzczMzMxMP0CamZmZmRk+QJqZmZmZWUNAMzMzMzOzO0BmZmZmZuZAQGZmZmZm5jxAMzMzMzMzRUBmZmZmZmY9QDMzMzMzszVAZmZmZmbmMkBmZmZmZmY2QDMzMzMzMz9AZmZmZmZmPkCamZmZmdlFQM3MzMzMTDRAAAAAAACAN0AzMzMzMzM6QDMzMzMzszRAZmZmZmbmQUBmZmZmZuYyQDMzMzMzM0ZAMzMzMzOzPEDNzMzMzEw8QGZmZmZm5jZAMzMzMzPzQkAzMzMzMzMsQJqZmZmZGTVAZmZmZmbmM0CamZmZmZk2QM3MzMzMTDFAmpmZmZmZOkDNzMzMzExDQGZmZmZmZjxAzczMzMzMPkAAAAAAAABDQGZmZmZmJkBAMzMzMzNzSkAAAAAAAABDQAAAAAAAADhA16NwPQpXUEBmZmZmZuZDQGZmZmZmZj9AAAAAAAAAPkAAAAAAAAA7QGZmZmZmJkBAZmZmZmbmOkCamZmZmRk9QAAAAAAAADFAZmZmZmamQUDNzMzMzEw8QAAAAAAAgEVAmpmZmZnZQECamZmZmRk2QAAAAAAAgDpAMzMzMzMzQECamZmZmZk7QAAAAAAAADBAAAAAAACANEBmZmZmZqZBQM3MzMzMTDxAMzMzMzOzPEDNzMzMzEw+QGZmZmZmZjZAZmZmZmZmOEBmZmZmZmY9QM3MzMzMTDdAzczMzMxMP0BmZmZmZuY8QAAAAAAAADtAmpmZmZkZNUCamZmZmRlBQGZmZmZm5jlAMzMzMzOzMECamZmZmRk7QJqZmZmZmTJAzczMzMyMQEDNzMzMzEwyQDMzMzMz80FAmpmZmZkZMkAAAAAAAAA7QGZmZmZmZj9AMzMzMzMzM0CamZmZmRkzQGZmZmZm5j1AZmZmZmZmOEDNzMzMzEw6QGZmZmZmZjdAMzMzMzPzQ0BmZmZmZuZHQJqZmZmZGT9AAAAAAAAAPkDNzMzMzIxAQM3MzMzMzDtAAAAAAAAAPUBmZmZmZqZDQM3MzMzMTDNAZmZmZmbmO0BmZmZmZmYxQGZmZmZmZjdAZmZmZmZmPUAAAAAAAABDQJqZmZmZmTJAzczMzMzMPEAzMzMzMzNAQDMzMzMzMztAmpmZmZmZPUAzMzMzMzNBQDMzMzMzszFAZmZmZmZmP0CamZmZmRk9QAAAAAAAAD5AZmZmZmZmOkAAAAAAAAA\\u002fQM3MzMzMTD5AmpmZmZmZPECamZmZmRk\\u002fQM3MzMzMzDlAAAAAAAAAPUDNzMzMzAxAQM3MzMzMTDFAzczMzMzMMkAAAAAAAIAyQM3MzMzMzDVAmpmZmZmZQEAzMzMzM7M4QDMzMzMzszNAZmZmZmYmQEAAAAAAAAA4QGZmZmZmZi5AzczMzMxMOEAAAAAAAIA5QM3MzMzMTDhAZmZmZmbmOEBmZmZmZuY5QGZmZmZm5jlAmpmZmZkZOUAAAAAAAAA9QAAAAAAAgD5AZmZmZmamRUAzMzMzMzNBQM3MzMzMTD1AMzMzMzMzNEAzMzMzM7M8QGZmZmZm5j9AZmZmZmbmQUCamZmZmVlCQGZmZmZmZjdAZmZmZmZmPkAzMzMzM7MyQM3MzMzMTENAmpmZmZmZNUBmZmZmZmY4QGZmZmZmZj5AZmZmZmZmOkBmZmZmZuYyQDMzMzMzsz1AZmZmZmZmPEAzMzMzM3NDQM3MzMzMDEFAzczMzMzMPUBmZmZmZmYwQAAAAAAAgDZAAAAAAAAAPEAzMzMzM3NBQJqZmZmZGUFAzczMzMxMNUBmZmZmZuY9QJqZmZmZGTlAMzMzMzMzPkAzMzMzMzM5QJqZmZmZmTJAzczMzMxMPkCamZmZmZk5QDMzMzMzszVAMzMzMzMzQ0AAAAAAAIBAQAAAAAAAgDhAzczMzMzMNkCamZmZmZk7QGZmZmZmZjxAmpmZmZkZOkBmZmZmZmY3QJqZmZmZmTZAmpmZmZlZQUDNzMzMzAxAQJqZmZmZmUZAmpmZmZmZOkAAAAAAAIA1QM3MzMzMTDhAZmZmZmbmQkBmZmZmZmY4QJqZmZmZ2UBAAAAAAAAANEAzMzMzM3NAQAAAAAAAgD9AMzMzMzOzN0AAAAAAAIA8QGZmZmZm5j5AZmZmZmbmPEAAAAAAAAA4QM3MzMzMTD1AzczMzMxMOUCamZmZmZk9QDMzMzMzc0BAmpmZmZkZNECamZmZmVlAQDMzMzMzszpAAAAAAACAPUAAAAAAAABBQGZmZmZmZjxAAAAAAACAOUDNzMzMzEw8QAAAAAAAAEBAmpmZmZmZN0AzMzMzMzM\\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\\u002fQAAAAAAAAD5AAAAAAACAO0AAAAAAAIA7QM3MzMzMDEBAmpmZmZmZOkBmZmZmZiZAQM3MzMzMjEFAAAAAAACAQEAzMzMzM7M8QJqZmZmZWUNAmpmZmZkZOECamZmZmRkyQM3MzMzMDERAzczMzMxMQEBmZmZmZuY6QM3MzMzMzDZAzczMzMxMP0AAAAAAAAA8QGZmZmZm5jFAmpmZmZkZM0AzMzMzM7M7QJqZmZmZmTdAzczMzMzMP0AzMzMzMzM9QAAAAAAAADVAzczMzMzMPEBmZmZmZmZCQGZmZmZmZjxAzczMzMyMQUAAAAAAAAA5QM3MzMzMTDtAZmZmZmZmMkAzMzMzM7M3QGZmZmZm5kVAAAAAAAAAN0DNzMzMzMw6QM3MzMzMTDZAZmZmZmZmQECamZmZmRk+QJqZmZmZGT1AmpmZmZlZQEAzMzMzMzM3QDMzMzMzMz9AAAAAAAAAOECamZmZmRlAQJqZmZmZWUJAmpmZmZkZOkAzMzMzM7M2QAAAAAAAgDlAMzMzMzMzQUDNzMzMzEw7QDMzMzMzMzlAZmZmZmZmNUBmZmZmZuZCQDMzMzMzMz1AMzMzMzOzOkDNzMzMzEw8QDMzMzMzMzlAzczMzMxMOEAAAAAAAAA9QJqZmZmZmUNAmpmZmZmZPkAAAAAAAIAwQM3MzMzMTDtAMzMzMzMzOkAzMzMzMzM5QDMzMzMzszhAmpmZmZkZMUAAAAAAAIBBQAAAAAAAgDdAAAAAAACAOUDNzMzMzMw9QGZmZmZmpkJAZmZmZmbmQEAzMzMzM3NHQDMzMzMzszxAzczMzMxMOEAAAAAAAAA7QGZmZmZmZjpAAAAAAACAMkAAAAAAAIA1QDMzMzMzszpAAAAAAACAM0BmZmZmZuZEQJqZmZmZGTdAmpmZmZmZOkAzMzMzMzM5QGZmZmZmZjpAzczMzMzMOEDNzMzMzEw5QAAAAAAAADJAmpmZmZkZQECamZmZmRk9QM3MzMzMzDFAAAAAAACAPUCamZmZmdlAQAAAAAAAgDlAzczMzMwMQ0BmZmZmZqZDQJqZmZmZGTdAMzMzMzOzOkAzMzMzM7M\\u002fQAAAAAAAgD5AMzMzMzNzQUCamZmZmRk5QGZmZmZmZjFAzczMzMzMOEBmZmZmZmY8QM3MzMzMTD5AAAAAAAAAPUBmZmZmZuYzQJqZmZmZGT1AMzMzMzMzPUDNzMzMzEw\\u002fQGZmZmZmZkBAZmZmZmbmO0AzMzMzM7MxQJqZmZmZWUNAzczMzMzMM0BmZmZmZuZFQM3MzMzMTDJAAAAAAACAPUDNzMzMzMw\\u002fQDMzMzMzMzxAmpmZmZlZQEDNzMzMzAxAQJqZmZmZmTNAAAAAAACAQ0AzMzMzM7M8QJqZmZmZGTpAZmZmZmbmQUCamZmZmZkyQDMzMzMzszxAMzMzMzOzQkCamZmZmRk2QDMzMzMzc0NAZmZmZmbmPEAAAAAAAAA8QDMzMzMzszFAZmZmZmYmQkCamZmZmRlDQM3MzMzMTDdAZmZmZmZmOkAAAAAAAAA3QJqZmZmZGUBAmpmZmZkZOEBmZmZmZmY1QDMzMzMzsz5AZmZmZmZmP0BmZmZmZiZAQAAAAAAAAD9AmpmZmZmZPkAAAAAAAIA3QM3MzMzMTDxAAAAAAAAALkDNzMzMzMwyQM3MzMzMDEBAZmZmZmZmN0CamZmZmRk0QM3MzMzMzDZAZmZmZmbmM0AzMzMzMzM4QM3MzMzMTEBAzczMzMwMQ0CamZmZmRk1QAAAAAAAgDlAMzMzMzNzQEBmZmZmZuY7QGZmZmZmZjVAzczMzMzMNUAAAAAAAIA0QGZmZmZm5kNAzczMzMzMPUBmZmZmZiZAQAAAAAAAAD9AMzMzMzNzQEBmZmZmZmY9QJqZmZmZmT9AmpmZmZlZRkCamZmZmRkwQM3MzMzMzDNAZmZmZmZmNEDNzMzMzIxEQM3MzMzMjEVAMzMzMzMzQUAAAAAAAABAQAAAAAAAADhAmpmZmZkZOEAzMzMzM7MyQJqZmZmZGTVAMzMzMzMzPkCamZmZmRk0QGZmZmZmZj9AmpmZmZkZOEAAAAAAAIA5QJqZmZmZmTFAAAAAAACAO0AAAAAAAAA1QDMzMzMzszxAZmZmZmbmPUAAAAAAAAA7QJqZmZmZmTVAAAAAAAAAMUDNzMzMzMw+QDMzMzMzc0FAzczMzMzMOUAzMzMzM7M+QDMzMzMzszpAMzMzMzOzPUAAAAAAAIA4QAAAAAAAgDlAAAAAAACAOUCamZmZmRlBQJqZmZmZmTtAZmZmZmbmNUCamZmZmZk2QGZmZmZm5jhAZmZmZmZmO0DNzMzMzEw0QDMzMzMzsz5AAAAAAAAAMUCamZmZmRk\\u002fQAAAAAAAAD1AAAAAAAAALkCamZmZmRkyQDMzMzMz80BAmpmZmZlZQEAzMzMzM7M2QGZmZmZmZjdAMzMzMzMzQEDNzMzMzMw1QM3MzMzMTDxAmpmZmZkZO0AzMzMzM7NAQGZmZmZmZj5AMzMzMzMzQkAAAAAAAAA8QGZmZmZm5j1AAAAAAACANUDNzMzMzEw4QDMzMzMzszpAmpmZmZkZPkDNzMzMzMw3QM3MzMzMzDxAmpmZmZkZNEBmZmZmZmY5QM3MzMzMzDRAmpmZmZmZTEDNzMzMzMw9QDMzMzMzszZAAAAAAAAAQ0BmZmZmZmY0QGZmZmZmZkVAzczMzMxMMkBmZmZmZmZDQJqZmZmZGTtAmpmZmZmZO0CamZmZmdlCQJqZmZmZWUNAmpmZmZkZPEAAAAAAAIA5QDMzMzMzsz5AzczMzMxMMkDNzMzMzMw9QDMzMzMzszdAMzMzMzMzOEBmZmZmZiZBQAAAAAAAAD9AMzMzMzOzPEAAAAAAAIA4QDMzMzMzszZAmpmZmZmZQUCamZmZmRlCQM3MzMzMTD5AmpmZmZmZQ0CamZmZmRkxQM3MzMzMzDBAAAAAAAAAPUBmZmZmZuY8QDMzMzMzszpAZmZmZmbmN0AAAAAAAMBBQDMzMzMzs0NAZmZmZmYmREDNzMzMzMw7QGZmZmZmJkFAzczMzMzMM0AzMzMzMzM3QDMzMzMzMzhAMzMzMzOzQkAzMzMzMzMwQAAAAAAAAD1AAAAAAACANEAAAAAAAABAQAAAAAAAADVAZmZmZmYmQEDNzMzMzMw1QDMzMzMzc0BAZmZmZmbmRUAAAAAAAIA3QJqZmZmZGTtAmpmZmZmZP0CamZmZmZk0QDMzMzMzMzlAmpmZmZlZQEAzMzMzMzM2QGZmZmZmZjBAAAAAAACAO0BmZmZmZuY+QAAAAAAAAEJAAAAAAACAO0CamZmZmRk8QJqZmZmZmT9AZmZmZmZmNkAAAAAAAAA6QAAAAAAAgDVAmpmZmZlZQUAzMzMzM7M9QJqZmZmZmTlAZmZmZmbmPUCamZmZmRk6QJqZmZmZGTJAmpmZmZmZPUCamZmZmZk3QGZmZmZmZjlAZmZmZmbmNkAAAAAAAABCQJqZmZmZmUJAMzMzMzMzOkCamZmZmZk6QDMzMzMzszxAmpmZmZnZQEAzMzMzM3NAQAAAAAAAgDlAAAAAAABAQEBmZmZmZuY4QJqZmZmZGUBAAAAAAAAAQUAzMzMzMzM1QAAAAAAAAD1AAAAAAACAP0AAAAAAAIA+QAAAAAAAADxAmpmZmZmZN0DNzMzMzEw2QGZmZmZmZj9AMzMzMzOzPEAAAAAAAEBEQDMzMzMzszRAMzMzMzOzQ0AzMzMzMzM5QAAAAAAAgD9AZmZmZmbmOkBmZmZmZmY4QJqZmZmZ2UBAZmZmZmbmQUAzMzMzMzM7QJqZmZmZmTtAAAAAAAAAO0DNzMzMzMxBQAAAAAAAQEFAmpmZmZkZMkCamZmZmZk6QM3MzMzMTEJAmpmZmZkZPUDNzMzMzEw3QM3MzMzMTDxAzczMzMzMQUCamZmZmdlCQGZmZmZmZjdAAAAAAAAAOUBmZmZmZuY9QJqZmZmZGTxAAAAAAAAANkBmZmZmZuY7QAAAAAAAgDZAmpmZmZmZOkCamZmZmZk7QM3MzMzMzD1AzczMzMxMNUBmZmZmZmY\\u002fQGZmZmZmZjVAzczMzMwMQUBmZmZmZmY7QDMzMzMzszhAmpmZmZkZOUDNzMzMzMw4QM3MzMzMTD5AZmZmZmZmPEAAAAAAAIA5QJqZmZmZmTlAMzMzMzMzOkDNzMzMzMw+QAAAAAAAgD1AmpmZmZkZNkAAAAAAAEBCQM3MzMzMzDxAmpmZmZkZO0CamZmZmRk\\u002fQAAAAAAAgDtAzczMzMwMQEBmZmZmZmY\\u002fQGZmZmZm5j9AmpmZmZlZQEDNzMzMzMxCQAAAAAAAAEFAZmZmZmZmQEDNzMzMzMwsQGZmZmZm5j5AZmZmZmbmN0CamZmZmZk4QM3MzMzMTDBAMzMzMzOzNEDNzMzMzMw4QGZmZmZm5jhAzczMzMyMQUAAAAAAAAAtQGZmZmZmZjRAMzMzMzMzLEAzMzMzMzM4QM3MzMzMTDtAAAAAAAAAPkAzMzMzMzM4QDMzMzMzs0NAZmZmZmbmPkCamZmZmZlEQAAAAAAAgDdAmpmZmZkZOUAAAAAAAIA1QDMzMzMzMzpAZmZmZmZmP0DNzMzMzMw2QJqZmZmZmTBAzczMzMwMQkDNzMzMzEw1QJqZmZmZGURAAAAAAAAAOEDNzMzMzMw4QJqZmZmZmT9AMzMzMzMzQUAAAAAAAABDQM3MzMzMjEJAAAAAAACAN0BmZmZmZmY1QGZmZmZmpkBAzczMzMxMPEBmZmZmZiZAQGZmZmZmZjdAAAAAAACANUAzMzMzM7M\\u002fQJqZmZmZGURAMzMzMzOzNkBmZmZmZuY\\u002fQJqZmZmZmTFAzczMzMzMM0CamZmZmZlBQAAAAAAAAEBAAAAAAAAAMkBmZmZmZuY\\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\\u002fQJqZmZmZGT1AmpmZmZmZQEDNzMzMzMwwQJqZmZmZGT9AAAAAAACAO0CamZmZmZlDQAAAAAAAADJAmpmZmZnZS0CamZmZmZk0QDMzMzMzMzpAMzMzMzMzNkDNzMzMzMw8QGZmZmZm5jhAMzMzMzMzP0CamZmZmRkzQJqZmZmZmTtAAAAAAAAAMEAzMzMzMzM7QAAAAAAAQEBAzczMzMwMQEDNzMzMzAxAQGZmZmZmZjdAMzMzMzOzPUBmZmZmZuY9QGZmZmZmZjxAzczMzMwMRkBmZmZmZqZAQJqZmZmZGTZAzczMzMxMOkBmZmZmZiZAQJqZmZmZmTtAMzMzMzPzQ0AzMzMzMzM5QM3MzMzMzD1AMzMzMzMzPEAAAAAAAIA7QGZmZmZmZjlAZmZmZmZmMkAAAAAAAIBAQDMzMzMzsztAmpmZmZmZQkCamZmZmRk5QAAAAAAAADJAMzMzMzNzQEBmZmZmZuYyQJqZmZmZGTNAMzMzMzMzNkAzMzMzM7M8QGZmZmZmpkFAMzMzMzMzPUAzMzMzM7M2QJqZmZmZGTlAmpmZmZmZQECamZmZmZk\\u002fQAAAAAAAgDtAAAAAAAAAN0AzMzMzM7M6QDMzMzMzM0FAzczMzMxMOkBmZmZmZmZAQM3MzMzMTD1AzczMzMxMPkAzMzMzMzMyQJqZmZmZGTxAAAAAAACAP0AzMzMzM7M6QGZmZmZmZjdAzczMzMzMMUAzMzMzM7M8QDMzMzMzszhAmpmZmZmZLEAAAAAAAAArQDMzMzMzM0BAzczMzMzMOEAAAAAAAIAzQM3MzMzMDEBAMzMzMzMzOkAAAAAAAIA2QDMzMzMzszhA\"},\"y0\":\" \",\"yaxis\":\"y\",\"type\":\"violin\"}],                        {\"template\":{\"data\":{\"histogram2dcontour\":[{\"type\":\"histogram2dcontour\",\"colorbar\":{\"outlinewidth\":0,\"ticks\":\"\"},\"colorscale\":[[0.0,\"#0d0887\"],[0.1111111111111111,\"#46039f\"],[0.2222222222222222,\"#7201a8\"],[0.3333333333333333,\"#9c179e\"],[0.4444444444444444,\"#bd3786\"],[0.5555555555555556,\"#d8576b\"],[0.6666666666666666,\"#ed7953\"],[0.7777777777777778,\"#fb9f3a\"],[0.8888888888888888,\"#fdca26\"],[1.0,\"#f0f921\"]]}],\"choropleth\":[{\"type\":\"choropleth\",\"colorbar\":{\"outlinewidth\":0,\"ticks\":\"\"}}],\"histogram2d\":[{\"type\":\"histogram2d\",\"colorbar\":{\"outlinewidth\":0,\"ticks\":\"\"},\"colorscale\":[[0.0,\"#0d0887\"],[0.1111111111111111,\"#46039f\"],[0.2222222222222222,\"#7201a8\"],[0.3333333333333333,\"#9c179e\"],[0.4444444444444444,\"#bd3786\"],[0.5555555555555556,\"#d8576b\"],[0.6666666666666666,\"#ed7953\"],[0.7777777777777778,\"#fb9f3a\"],[0.8888888888888888,\"#fdca26\"],[1.0,\"#f0f921\"]]}],\"heatmap\":[{\"type\":\"heatmap\",\"colorbar\":{\"outlinewidth\":0,\"ticks\":\"\"},\"colorscale\":[[0.0,\"#0d0887\"],[0.1111111111111111,\"#46039f\"],[0.2222222222222222,\"#7201a8\"],[0.3333333333333333,\"#9c179e\"],[0.4444444444444444,\"#bd3786\"],[0.5555555555555556,\"#d8576b\"],[0.6666666666666666,\"#ed7953\"],[0.7777777777777778,\"#fb9f3a\"],[0.8888888888888888,\"#fdca26\"],[1.0,\"#f0f921\"]]}],\"contourcarpet\":[{\"type\":\"contourcarpet\",\"colorbar\":{\"outlinewidth\":0,\"ticks\":\"\"}}],\"contour\":[{\"type\":\"contour\",\"colorbar\":{\"outlinewidth\":0,\"ticks\":\"\"},\"colorscale\":[[0.0,\"#0d0887\"],[0.1111111111111111,\"#46039f\"],[0.2222222222222222,\"#7201a8\"],[0.3333333333333333,\"#9c179e\"],[0.4444444444444444,\"#bd3786\"],[0.5555555555555556,\"#d8576b\"],[0.6666666666666666,\"#ed7953\"],[0.7777777777777778,\"#fb9f3a\"],[0.8888888888888888,\"#fdca26\"],[1.0,\"#f0f921\"]]}],\"surface\":[{\"type\":\"surface\",\"colorbar\":{\"outlinewidth\":0,\"ticks\":\"\"},\"colorscale\":[[0.0,\"#0d0887\"],[0.1111111111111111,\"#46039f\"],[0.2222222222222222,\"#7201a8\"],[0.3333333333333333,\"#9c179e\"],[0.4444444444444444,\"#bd3786\"],[0.5555555555555556,\"#d8576b\"],[0.6666666666666666,\"#ed7953\"],[0.7777777777777778,\"#fb9f3a\"],[0.8888888888888888,\"#fdca26\"],[1.0,\"#f0f921\"]]}],\"mesh3d\":[{\"type\":\"mesh3d\",\"colorbar\":{\"outlinewidth\":0,\"ticks\":\"\"}}],\"scatter\":[{\"fillpattern\":{\"fillmode\":\"overlay\",\"size\":10,\"solidity\":0.2},\"type\":\"scatter\"}],\"parcoords\":[{\"type\":\"parcoords\",\"line\":{\"colorbar\":{\"outlinewidth\":0,\"ticks\":\"\"}}}],\"scatterpolargl\":[{\"type\":\"scatterpolargl\",\"marker\":{\"colorbar\":{\"outlinewidth\":0,\"ticks\":\"\"}}}],\"bar\":[{\"error_x\":{\"color\":\"#2a3f5f\"},\"error_y\":{\"color\":\"#2a3f5f\"},\"marker\":{\"line\":{\"color\":\"#E5ECF6\",\"width\":0.5},\"pattern\":{\"fillmode\":\"overlay\",\"size\":10,\"solidity\":0.2}},\"type\":\"bar\"}],\"scattergeo\":[{\"type\":\"scattergeo\",\"marker\":{\"colorbar\":{\"outlinewidth\":0,\"ticks\":\"\"}}}],\"scatterpolar\":[{\"type\":\"scatterpolar\",\"marker\":{\"colorbar\":{\"outlinewidth\":0,\"ticks\":\"\"}}}],\"histogram\":[{\"marker\":{\"pattern\":{\"fillmode\":\"overlay\",\"size\":10,\"solidity\":0.2}},\"type\":\"histogram\"}],\"scattergl\":[{\"type\":\"scattergl\",\"marker\":{\"colorbar\":{\"outlinewidth\":0,\"ticks\":\"\"}}}],\"scatter3d\":[{\"type\":\"scatter3d\",\"line\":{\"colorbar\":{\"outlinewidth\":0,\"ticks\":\"\"}},\"marker\":{\"colorbar\":{\"outlinewidth\":0,\"ticks\":\"\"}}}],\"scattermap\":[{\"type\":\"scattermap\",\"marker\":{\"colorbar\":{\"outlinewidth\":0,\"ticks\":\"\"}}}],\"scattermapbox\":[{\"type\":\"scattermapbox\",\"marker\":{\"colorbar\":{\"outlinewidth\":0,\"ticks\":\"\"}}}],\"scatterternary\":[{\"type\":\"scatterternary\",\"marker\":{\"colorbar\":{\"outlinewidth\":0,\"ticks\":\"\"}}}],\"scattercarpet\":[{\"type\":\"scattercarpet\",\"marker\":{\"colorbar\":{\"outlinewidth\":0,\"ticks\":\"\"}}}],\"carpet\":[{\"aaxis\":{\"endlinecolor\":\"#2a3f5f\",\"gridcolor\":\"white\",\"linecolor\":\"white\",\"minorgridcolor\":\"white\",\"startlinecolor\":\"#2a3f5f\"},\"baxis\":{\"endlinecolor\":\"#2a3f5f\",\"gridcolor\":\"white\",\"linecolor\":\"white\",\"minorgridcolor\":\"white\",\"startlinecolor\":\"#2a3f5f\"},\"type\":\"carpet\"}],\"table\":[{\"cells\":{\"fill\":{\"color\":\"#EBF0F8\"},\"line\":{\"color\":\"white\"}},\"header\":{\"fill\":{\"color\":\"#C8D4E3\"},\"line\":{\"color\":\"white\"}},\"type\":\"table\"}],\"barpolar\":[{\"marker\":{\"line\":{\"color\":\"#E5ECF6\",\"width\":0.5},\"pattern\":{\"fillmode\":\"overlay\",\"size\":10,\"solidity\":0.2}},\"type\":\"barpolar\"}],\"pie\":[{\"automargin\":true,\"type\":\"pie\"}]},\"layout\":{\"autotypenumbers\":\"strict\",\"colorway\":[\"#636efa\",\"#EF553B\",\"#00cc96\",\"#ab63fa\",\"#FFA15A\",\"#19d3f3\",\"#FF6692\",\"#B6E880\",\"#FF97FF\",\"#FECB52\"],\"font\":{\"color\":\"#2a3f5f\"},\"hovermode\":\"closest\",\"hoverlabel\":{\"align\":\"left\"},\"paper_bgcolor\":\"white\",\"plot_bgcolor\":\"#E5ECF6\",\"polar\":{\"bgcolor\":\"#E5ECF6\",\"angularaxis\":{\"gridcolor\":\"white\",\"linecolor\":\"white\",\"ticks\":\"\"},\"radialaxis\":{\"gridcolor\":\"white\",\"linecolor\":\"white\",\"ticks\":\"\"}},\"ternary\":{\"bgcolor\":\"#E5ECF6\",\"aaxis\":{\"gridcolor\":\"white\",\"linecolor\":\"white\",\"ticks\":\"\"},\"baxis\":{\"gridcolor\":\"white\",\"linecolor\":\"white\",\"ticks\":\"\"},\"caxis\":{\"gridcolor\":\"white\",\"linecolor\":\"white\",\"ticks\":\"\"}},\"coloraxis\":{\"colorbar\":{\"outlinewidth\":0,\"ticks\":\"\"}},\"colorscale\":{\"sequential\":[[0.0,\"#0d0887\"],[0.1111111111111111,\"#46039f\"],[0.2222222222222222,\"#7201a8\"],[0.3333333333333333,\"#9c179e\"],[0.4444444444444444,\"#bd3786\"],[0.5555555555555556,\"#d8576b\"],[0.6666666666666666,\"#ed7953\"],[0.7777777777777778,\"#fb9f3a\"],[0.8888888888888888,\"#fdca26\"],[1.0,\"#f0f921\"]],\"sequentialminus\":[[0.0,\"#0d0887\"],[0.1111111111111111,\"#46039f\"],[0.2222222222222222,\"#7201a8\"],[0.3333333333333333,\"#9c179e\"],[0.4444444444444444,\"#bd3786\"],[0.5555555555555556,\"#d8576b\"],[0.6666666666666666,\"#ed7953\"],[0.7777777777777778,\"#fb9f3a\"],[0.8888888888888888,\"#fdca26\"],[1.0,\"#f0f921\"]],\"diverging\":[[0,\"#8e0152\"],[0.1,\"#c51b7d\"],[0.2,\"#de77ae\"],[0.3,\"#f1b6da\"],[0.4,\"#fde0ef\"],[0.5,\"#f7f7f7\"],[0.6,\"#e6f5d0\"],[0.7,\"#b8e186\"],[0.8,\"#7fbc41\"],[0.9,\"#4d9221\"],[1,\"#276419\"]]},\"xaxis\":{\"gridcolor\":\"white\",\"linecolor\":\"white\",\"ticks\":\"\",\"title\":{\"standoff\":15},\"zerolinecolor\":\"white\",\"automargin\":true,\"zerolinewidth\":2},\"yaxis\":{\"gridcolor\":\"white\",\"linecolor\":\"white\",\"ticks\":\"\",\"title\":{\"standoff\":15},\"zerolinecolor\":\"white\",\"automargin\":true,\"zerolinewidth\":2},\"scene\":{\"xaxis\":{\"backgroundcolor\":\"#E5ECF6\",\"gridcolor\":\"white\",\"linecolor\":\"white\",\"showbackground\":true,\"ticks\":\"\",\"zerolinecolor\":\"white\",\"gridwidth\":2},\"yaxis\":{\"backgroundcolor\":\"#E5ECF6\",\"gridcolor\":\"white\",\"linecolor\":\"white\",\"showbackground\":true,\"ticks\":\"\",\"zerolinecolor\":\"white\",\"gridwidth\":2},\"zaxis\":{\"backgroundcolor\":\"#E5ECF6\",\"gridcolor\":\"white\",\"linecolor\":\"white\",\"showbackground\":true,\"ticks\":\"\",\"zerolinecolor\":\"white\",\"gridwidth\":2}},\"shapedefaults\":{\"line\":{\"color\":\"#2a3f5f\"}},\"annotationdefaults\":{\"arrowcolor\":\"#2a3f5f\",\"arrowhead\":0,\"arrowwidth\":1},\"geo\":{\"bgcolor\":\"white\",\"landcolor\":\"#E5ECF6\",\"subunitcolor\":\"white\",\"showland\":true,\"showlakes\":true,\"lakecolor\":\"white\"},\"title\":{\"x\":0.05},\"mapbox\":{\"style\":\"light\"}}},\"xaxis\":{\"anchor\":\"y\",\"domain\":[0.0,1.0],\"title\":{\"text\":\"Stroke Status\"}},\"yaxis\":{\"anchor\":\"x\",\"domain\":[0.0,1.0],\"title\":{\"text\":\"BMI\"}},\"legend\":{\"tracegroupgap\":0},\"title\":{\"text\":\"BMI & Stroke Status\",\"x\":0.3,\"y\":0.9},\"violinmode\":\"group\",\"height\":500,\"width\":700},                        {\"responsive\": true}                    )                };            </script>        </div>"
      ],
      "text/plain": [
       "Figure({\n",
       "    'data': [{'alignmentgroup': 'True',\n",
       "              'box': {'visible': True},\n",
       "              'hovertemplate': 'Stroke Status=%{x}<br>BMI=%{y}<extra></extra>',\n",
       "              'legendgroup': '',\n",
       "              'marker': {'color': '#008080'},\n",
       "              'name': '',\n",
       "              'offsetgroup': '',\n",
       "              'orientation': 'v',\n",
       "              'scalegroup': 'True',\n",
       "              'showlegend': False,\n",
       "              'type': 'violin',\n",
       "              'x': {'bdata': ('AAAAAAAAAAAAAAAAAAAAAAAAAAAAAA' ... 'AAAAAAAAAAAAAAAAABAAAAAAAAAAAA'),\n",
       "                    'dtype': 'i1'},\n",
       "              'x0': ' ',\n",
       "              'xaxis': 'x',\n",
       "              'y': {'bdata': ('mpmZmZkZP0BmZmZmZuY3QGZmZmZmJk' ... 'MzMzMzOkAAAAAAAIA2QDMzMzMzszhA'),\n",
       "                    'dtype': 'f8'},\n",
       "              'y0': ' ',\n",
       "              'yaxis': 'y'}],\n",
       "    'layout': {'height': 500,\n",
       "               'legend': {'tracegroupgap': 0},\n",
       "               'template': '...',\n",
       "               'title': {'text': 'BMI & Stroke Status', 'x': 0.3, 'y': 0.9},\n",
       "               'violinmode': 'group',\n",
       "               'width': 700,\n",
       "               'xaxis': {'anchor': 'y', 'domain': [0.0, 1.0], 'title': {'text': 'Stroke Status'}},\n",
       "               'yaxis': {'anchor': 'x', 'domain': [0.0, 1.0], 'title': {'text': 'BMI'}}}\n",
       "})"
      ]
     },
     "execution_count": 284,
     "metadata": {},
     "output_type": "execute_result"
    }
   ],
   "source": [
    "fig = px.violin(train_df, y = 'bmi', x='stroke', box=True, width=700, height=500, color_discrete_sequence=plot_color, \n",
    "                   title='BMI & Stroke Status', \n",
    "               labels={'stroke': 'Stroke Status', 'bmi': 'BMI'})\n",
    "fig.update_layout(title_x = 0.3, title_y = 0.9)\n",
    "#fig.show()"
   ]
  },
  {
   "cell_type": "code",
   "execution_count": 285,
   "id": "d96cf5ac",
   "metadata": {},
   "outputs": [
    {
     "data": {
      "text/plain": [
       "Index(['id', 'gender', 'age', 'hypertension', 'heart_disease', 'ever_married',\n",
       "       'work_type', 'Residence_type', 'avg_glucose_level', 'bmi',\n",
       "       'smoking_status', 'stroke'],\n",
       "      dtype='object')"
      ]
     },
     "execution_count": 285,
     "metadata": {},
     "output_type": "execute_result"
    }
   ],
   "source": [
    "train_df.columns"
   ]
  },
  {
   "cell_type": "code",
   "execution_count": 286,
   "id": "4763054b",
   "metadata": {},
   "outputs": [
    {
     "data": {
      "image/png": "[encoded data removed]",
      "text/plain": [
       "<Figure size 1200x1000 with 6 Axes>"
      ]
     },
     "metadata": {},
     "output_type": "display_data"
    }
   ],
   "source": [
    "x_values = ['smoking_status', 'hypertension', 'heart_disease','Residence_type','gender', 'ever_married']\n",
    "fig, axis = plt.subplots(nrows = 3, ncols = 2, figsize=(12, 10))\n",
    "\n",
    "for ax, x_value in zip(axis.flat, x_values):\n",
    "    sns.countplot(data = train_df, x = x_value, hue='stroke', ax = ax)\n",
    "    ax.set_title(f'{x_value.capitalize()} and smoking status')\n",
    "\n",
    "plt.tight_layout()\n",
    "#plt.show()"
   ]
  },
  {
   "cell_type": "code",
   "execution_count": 287,
   "id": "28e80314",
   "metadata": {},
   "outputs": [],
   "source": [
    "# Data Preparation & Preprocessing\n",
    "from sklearn.preprocessing import OneHotEncoder, OrdinalEncoder\n",
    "from sklearn.pipeline import Pipeline\n",
    "from sklearn.compose import ColumnTransformer\n",
    "from sklearn import set_config\n",
    "\n",
    "set_config(display = 'diagram')"
   ]
  },
  {
   "cell_type": "code",
   "execution_count": 288,
   "id": "2c9fa6bc",
   "metadata": {},
   "outputs": [
    {
     "data": {
      "text/plain": [
       "Index(['id', 'gender', 'age', 'hypertension', 'heart_disease', 'ever_married',\n",
       "       'work_type', 'Residence_type', 'avg_glucose_level', 'bmi',\n",
       "       'smoking_status', 'stroke'],\n",
       "      dtype='object')"
      ]
     },
     "execution_count": 288,
     "metadata": {},
     "output_type": "execute_result"
    }
   ],
   "source": [
    "train_df.columns"
   ]
  },
  {
   "cell_type": "code",
   "execution_count": 289,
   "id": "6fd6773b",
   "metadata": {},
   "outputs": [],
   "source": [
    "input_cols = list(train_df.columns)[1:-1]"
   ]
  },
  {
   "cell_type": "code",
   "execution_count": 290,
   "id": "d45869d6",
   "metadata": {},
   "outputs": [],
   "source": [
    "target_col = 'stroke'"
   ]
  },
  {
   "cell_type": "code",
   "execution_count": 291,
   "id": "5c431289",
   "metadata": {},
   "outputs": [
    {
     "data": {
      "text/plain": [
       "['gender',\n",
       " 'age',\n",
       " 'hypertension',\n",
       " 'heart_disease',\n",
       " 'ever_married',\n",
       " 'work_type',\n",
       " 'Residence_type',\n",
       " 'avg_glucose_level',\n",
       " 'bmi',\n",
       " 'smoking_status']"
      ]
     },
     "execution_count": 291,
     "metadata": {},
     "output_type": "execute_result"
    }
   ],
   "source": [
    "input_cols"
   ]
  },
  {
   "cell_type": "code",
   "execution_count": 292,
   "id": "5c3312ae",
   "metadata": {},
   "outputs": [],
   "source": [
    "train_inputs = train_df[input_cols].copy()\n",
    "train_target = train_df[target_col].copy()\n",
    "\n",
    "test_inputs = test_df[input_cols].copy()"
   ]
  },
  {
   "cell_type": "code",
   "execution_count": 293,
   "id": "10a410c0",
   "metadata": {},
   "outputs": [],
   "source": [
    "numerical_cols = train_inputs.select_dtypes(include=np.number).columns.to_list()"
   ]
  },
  {
   "cell_type": "code",
   "execution_count": 294,
   "id": "4c84e736",
   "metadata": {},
   "outputs": [
    {
     "data": {
      "text/plain": [
       "['age', 'hypertension', 'heart_disease', 'avg_glucose_level', 'bmi']"
      ]
     },
     "execution_count": 294,
     "metadata": {},
     "output_type": "execute_result"
    }
   ],
   "source": [
    "numerical_cols"
   ]
  },
  {
   "cell_type": "code",
   "execution_count": 295,
   "id": "3de84f52",
   "metadata": {},
   "outputs": [],
   "source": [
    "categorical_cols = train_inputs.select_dtypes(include='object').columns.to_list()"
   ]
  },
  {
   "cell_type": "code",
   "execution_count": 296,
   "id": "fbaca24e",
   "metadata": {},
   "outputs": [
    {
     "data": {
      "text/plain": [
       "['gender', 'ever_married', 'work_type', 'Residence_type', 'smoking_status']"
      ]
     },
     "execution_count": 296,
     "metadata": {},
     "output_type": "execute_result"
    }
   ],
   "source": [
    "categorical_cols"
   ]
  },
  {
   "cell_type": "code",
   "execution_count": 297,
   "id": "2213cdad",
   "metadata": {},
   "outputs": [],
   "source": [
    "categorical_cols.remove('smoking_status')"
   ]
  },
  {
   "cell_type": "code",
   "execution_count": 298,
   "id": "937ea77b",
   "metadata": {},
   "outputs": [
    {
     "data": {
      "text/plain": [
       "array(['never smoked', 'formerly smoked', 'Unknown', 'smokes'],\n",
       "      dtype=object)"
      ]
     },
     "execution_count": 298,
     "metadata": {},
     "output_type": "execute_result"
    }
   ],
   "source": [
    "train_df['smoking_status'].unique()"
   ]
  },
  {
   "cell_type": "code",
   "execution_count": 299,
   "id": "8a7483b0",
   "metadata": {},
   "outputs": [],
   "source": [
    "ordinal_enc = OrdinalEncoder(categories=[['Unknown','never smoked', 'formerly smoked','smokes']])"
   ]
  },
  {
   "cell_type": "code",
   "execution_count": 300,
   "id": "70fa3553",
   "metadata": {},
   "outputs": [],
   "source": [
    "onehot_enc = OneHotEncoder(handle_unknown='ignore')"
   ]
  },
  {
   "cell_type": "code",
   "execution_count": 301,
   "id": "75cfe522",
   "metadata": {},
   "outputs": [],
   "source": [
    "preprocessor = ColumnTransformer([\n",
    "    ('Ordinal_Encode', ordinal_enc,['smoking_status']), \n",
    "    ('OneHot_Encode', onehot_enc,categorical_cols)\n",
    "]\n",
    ")"
   ]
  },
  {
   "cell_type": "code",
   "execution_count": 302,
   "id": "32aadf90",
   "metadata": {},
   "outputs": [
    {
     "data": {
      "text/html": [
       "<style>#sk-container-id-2 {\n",
       "  /* Definition of color scheme common for light and dark mode */\n",
       "  --sklearn-color-text: #000;\n",
       "  --sklearn-color-text-muted: #666;\n",
       "  --sklearn-color-line: gray;\n",
       "  /* Definition of color scheme for unfitted estimators */\n",
       "  --sklearn-color-unfitted-level-0: #fff5e6;\n",
       "  --sklearn-color-unfitted-level-1: #f6e4d2;\n",
       "  --sklearn-color-unfitted-level-2: #ffe0b3;\n",
       "  --sklearn-color-unfitted-level-3: chocolate;\n",
       "  /* Definition of color scheme for fitted estimators */\n",
       "  --sklearn-color-fitted-level-0: #f0f8ff;\n",
       "  --sklearn-color-fitted-level-1: #d4ebff;\n",
       "  --sklearn-color-fitted-level-2: #b3dbfd;\n",
       "  --sklearn-color-fitted-level-3: cornflowerblue;\n",
       "\n",
       "  /* Specific color for light theme */\n",
       "  --sklearn-color-text-on-default-background: var(--sg-text-color, var(--theme-code-foreground, var(--jp-content-font-color1, black)));\n",
       "  --sklearn-color-background: var(--sg-background-color, var(--theme-background, var(--jp-layout-color0, white)));\n",
       "  --sklearn-color-border-box: var(--sg-text-color, var(--theme-code-foreground, var(--jp-content-font-color1, black)));\n",
       "  --sklearn-color-icon: #696969;\n",
       "\n",
       "  @media (prefers-color-scheme: dark) {\n",
       "    /* Redefinition of color scheme for dark theme */\n",
       "    --sklearn-color-text-on-default-background: var(--sg-text-color, var(--theme-code-foreground, var(--jp-content-font-color1, white)));\n",
       "    --sklearn-color-background: var(--sg-background-color, var(--theme-background, var(--jp-layout-color0, #111)));\n",
       "    --sklearn-color-border-box: var(--sg-text-color, var(--theme-code-foreground, var(--jp-content-font-color1, white)));\n",
       "    --sklearn-color-icon: #878787;\n",
       "  }\n",
       "}\n",
       "\n",
       "#sk-container-id-2 {\n",
       "  color: var(--sklearn-color-text);\n",
       "}\n",
       "\n",
       "#sk-container-id-2 pre {\n",
       "  padding: 0;\n",
       "}\n",
       "\n",
       "#sk-container-id-2 input.sk-hidden--visually {\n",
       "  border: 0;\n",
       "  clip: rect(1px 1px 1px 1px);\n",
       "  clip: rect(1px, 1px, 1px, 1px);\n",
       "  height: 1px;\n",
       "  margin: -1px;\n",
       "  overflow: hidden;\n",
       "  padding: 0;\n",
       "  position: absolute;\n",
       "  width: 1px;\n",
       "}\n",
       "\n",
       "#sk-container-id-2 div.sk-dashed-wrapped {\n",
       "  border: 1px dashed var(--sklearn-color-line);\n",
       "  margin: 0 0.4em 0.5em 0.4em;\n",
       "  box-sizing: border-box;\n",
       "  padding-bottom: 0.4em;\n",
       "  background-color: var(--sklearn-color-background);\n",
       "}\n",
       "\n",
       "#sk-container-id-2 div.sk-container {\n",
       "  /* jupyter's `normalize.less` sets `[hidden] { display: none; }`\n",
       "     but bootstrap.min.css set `[hidden] { display: none !important; }`\n",
       "     so we also need the `!important` here to be able to override the\n",
       "     default hidden behavior on the sphinx rendered scikit-learn.org.\n",
       "     See: https://github.com/scikit-learn/scikit-learn/issues/21755 */\n",
       "  display: inline-block !important;\n",
       "  position: relative;\n",
       "}\n",
       "\n",
       "#sk-container-id-2 div.sk-text-repr-fallback {\n",
       "  display: none;\n",
       "}\n",
       "\n",
       "div.sk-parallel-item,\n",
       "div.sk-serial,\n",
       "div.sk-item {\n",
       "  /* draw centered vertical line to link estimators */\n",
       "  background-image: linear-gradient(var(--sklearn-color-text-on-default-background), var(--sklearn-color-text-on-default-background));\n",
       "  background-size: 2px 100%;\n",
       "  background-repeat: no-repeat;\n",
       "  background-position: center center;\n",
       "}\n",
       "\n",
       "/* Parallel-specific style estimator block */\n",
       "\n",
       "#sk-container-id-2 div.sk-parallel-item::after {\n",
       "  content: \"\";\n",
       "  width: 100%;\n",
       "  border-bottom: 2px solid var(--sklearn-color-text-on-default-background);\n",
       "  flex-grow: 1;\n",
       "}\n",
       "\n",
       "#sk-container-id-2 div.sk-parallel {\n",
       "  display: flex;\n",
       "  align-items: stretch;\n",
       "  justify-content: center;\n",
       "  background-color: var(--sklearn-color-background);\n",
       "  position: relative;\n",
       "}\n",
       "\n",
       "#sk-container-id-2 div.sk-parallel-item {\n",
       "  display: flex;\n",
       "  flex-direction: column;\n",
       "}\n",
       "\n",
       "#sk-container-id-2 div.sk-parallel-item:first-child::after {\n",
       "  align-self: flex-end;\n",
       "  width: 50%;\n",
       "}\n",
       "\n",
       "#sk-container-id-2 div.sk-parallel-item:last-child::after {\n",
       "  align-self: flex-start;\n",
       "  width: 50%;\n",
       "}\n",
       "\n",
       "#sk-container-id-2 div.sk-parallel-item:only-child::after {\n",
       "  width: 0;\n",
       "}\n",
       "\n",
       "/* Serial-specific style estimator block */\n",
       "\n",
       "#sk-container-id-2 div.sk-serial {\n",
       "  display: flex;\n",
       "  flex-direction: column;\n",
       "  align-items: center;\n",
       "  background-color: var(--sklearn-color-background);\n",
       "  padding-right: 1em;\n",
       "  padding-left: 1em;\n",
       "}\n",
       "\n",
       "\n",
       "/* Toggleable style: style used for estimator/Pipeline/ColumnTransformer box that is\n",
       "clickable and can be expanded/collapsed.\n",
       "- Pipeline and ColumnTransformer use this feature and define the default style\n",
       "- Estimators will overwrite some part of the style using the `sk-estimator` class\n",
       "*/\n",
       "\n",
       "/* Pipeline and ColumnTransformer style (default) */\n",
       "\n",
       "#sk-container-id-2 div.sk-toggleable {\n",
       "  /* Default theme specific background. It is overwritten whether we have a\n",
       "  specific estimator or a Pipeline/ColumnTransformer */\n",
       "  background-color: var(--sklearn-color-background);\n",
       "}\n",
       "\n",
       "/* Toggleable label */\n",
       "#sk-container-id-2 label.sk-toggleable__label {\n",
       "  cursor: pointer;\n",
       "  display: flex;\n",
       "  width: 100%;\n",
       "  margin-bottom: 0;\n",
       "  padding: 0.5em;\n",
       "  box-sizing: border-box;\n",
       "  text-align: center;\n",
       "  align-items: start;\n",
       "  justify-content: space-between;\n",
       "  gap: 0.5em;\n",
       "}\n",
       "\n",
       "#sk-container-id-2 label.sk-toggleable__label .caption {\n",
       "  font-size: 0.6rem;\n",
       "  font-weight: lighter;\n",
       "  color: var(--sklearn-color-text-muted);\n",
       "}\n",
       "\n",
       "#sk-container-id-2 label.sk-toggleable__label-arrow:before {\n",
       "  /* Arrow on the left of the label */\n",
       "  content: \"▸\";\n",
       "  float: left;\n",
       "  margin-right: 0.25em;\n",
       "  color: var(--sklearn-color-icon);\n",
       "}\n",
       "\n",
       "#sk-container-id-2 label.sk-toggleable__label-arrow:hover:before {\n",
       "  color: var(--sklearn-color-text);\n",
       "}\n",
       "\n",
       "/* Toggleable content - dropdown */\n",
       "\n",
       "#sk-container-id-2 div.sk-toggleable__content {\n",
       "  max-height: 0;\n",
       "  max-width: 0;\n",
       "  overflow: hidden;\n",
       "  text-align: left;\n",
       "  /* unfitted */\n",
       "  background-color: var(--sklearn-color-unfitted-level-0);\n",
       "}\n",
       "\n",
       "#sk-container-id-2 div.sk-toggleable__content.fitted {\n",
       "  /* fitted */\n",
       "  background-color: var(--sklearn-color-fitted-level-0);\n",
       "}\n",
       "\n",
       "#sk-container-id-2 div.sk-toggleable__content pre {\n",
       "  margin: 0.2em;\n",
       "  border-radius: 0.25em;\n",
       "  color: var(--sklearn-color-text);\n",
       "  /* unfitted */\n",
       "  background-color: var(--sklearn-color-unfitted-level-0);\n",
       "}\n",
       "\n",
       "#sk-container-id-2 div.sk-toggleable__content.fitted pre {\n",
       "  /* unfitted */\n",
       "  background-color: var(--sklearn-color-fitted-level-0);\n",
       "}\n",
       "\n",
       "#sk-container-id-2 input.sk-toggleable__control:checked~div.sk-toggleable__content {\n",
       "  /* Expand drop-down */\n",
       "  max-height: 200px;\n",
       "  max-width: 100%;\n",
       "  overflow: auto;\n",
       "}\n",
       "\n",
       "#sk-container-id-2 input.sk-toggleable__control:checked~label.sk-toggleable__label-arrow:before {\n",
       "  content: \"▾\";\n",
       "}\n",
       "\n",
       "/* Pipeline/ColumnTransformer-specific style */\n",
       "\n",
       "#sk-container-id-2 div.sk-label input.sk-toggleable__control:checked~label.sk-toggleable__label {\n",
       "  color: var(--sklearn-color-text);\n",
       "  background-color: var(--sklearn-color-unfitted-level-2);\n",
       "}\n",
       "\n",
       "#sk-container-id-2 div.sk-label.fitted input.sk-toggleable__control:checked~label.sk-toggleable__label {\n",
       "  background-color: var(--sklearn-color-fitted-level-2);\n",
       "}\n",
       "\n",
       "/* Estimator-specific style */\n",
       "\n",
       "/* Colorize estimator box */\n",
       "#sk-container-id-2 div.sk-estimator input.sk-toggleable__control:checked~label.sk-toggleable__label {\n",
       "  /* unfitted */\n",
       "  background-color: var(--sklearn-color-unfitted-level-2);\n",
       "}\n",
       "\n",
       "#sk-container-id-2 div.sk-estimator.fitted input.sk-toggleable__control:checked~label.sk-toggleable__label {\n",
       "  /* fitted */\n",
       "  background-color: var(--sklearn-color-fitted-level-2);\n",
       "}\n",
       "\n",
       "#sk-container-id-2 div.sk-label label.sk-toggleable__label,\n",
       "#sk-container-id-2 div.sk-label label {\n",
       "  /* The background is the default theme color */\n",
       "  color: var(--sklearn-color-text-on-default-background);\n",
       "}\n",
       "\n",
       "/* On hover, darken the color of the background */\n",
       "#sk-container-id-2 div.sk-label:hover label.sk-toggleable__label {\n",
       "  color: var(--sklearn-color-text);\n",
       "  background-color: var(--sklearn-color-unfitted-level-2);\n",
       "}\n",
       "\n",
       "/* Label box, darken color on hover, fitted */\n",
       "#sk-container-id-2 div.sk-label.fitted:hover label.sk-toggleable__label.fitted {\n",
       "  color: var(--sklearn-color-text);\n",
       "  background-color: var(--sklearn-color-fitted-level-2);\n",
       "}\n",
       "\n",
       "/* Estimator label */\n",
       "\n",
       "#sk-container-id-2 div.sk-label label {\n",
       "  font-family: monospace;\n",
       "  font-weight: bold;\n",
       "  display: inline-block;\n",
       "  line-height: 1.2em;\n",
       "}\n",
       "\n",
       "#sk-container-id-2 div.sk-label-container {\n",
       "  text-align: center;\n",
       "}\n",
       "\n",
       "/* Estimator-specific */\n",
       "#sk-container-id-2 div.sk-estimator {\n",
       "  font-family: monospace;\n",
       "  border: 1px dotted var(--sklearn-color-border-box);\n",
       "  border-radius: 0.25em;\n",
       "  box-sizing: border-box;\n",
       "  margin-bottom: 0.5em;\n",
       "  /* unfitted */\n",
       "  background-color: var(--sklearn-color-unfitted-level-0);\n",
       "}\n",
       "\n",
       "#sk-container-id-2 div.sk-estimator.fitted {\n",
       "  /* fitted */\n",
       "  background-color: var(--sklearn-color-fitted-level-0);\n",
       "}\n",
       "\n",
       "/* on hover */\n",
       "#sk-container-id-2 div.sk-estimator:hover {\n",
       "  /* unfitted */\n",
       "  background-color: var(--sklearn-color-unfitted-level-2);\n",
       "}\n",
       "\n",
       "#sk-container-id-2 div.sk-estimator.fitted:hover {\n",
       "  /* fitted */\n",
       "  background-color: var(--sklearn-color-fitted-level-2);\n",
       "}\n",
       "\n",
       "/* Specification for estimator info (e.g. \"i\" and \"?\") */\n",
       "\n",
       "/* Common style for \"i\" and \"?\" */\n",
       "\n",
       ".sk-estimator-doc-link,\n",
       "a:link.sk-estimator-doc-link,\n",
       "a:visited.sk-estimator-doc-link {\n",
       "  float: right;\n",
       "  font-size: smaller;\n",
       "  line-height: 1em;\n",
       "  font-family: monospace;\n",
       "  background-color: var(--sklearn-color-background);\n",
       "  border-radius: 1em;\n",
       "  height: 1em;\n",
       "  width: 1em;\n",
       "  text-decoration: none !important;\n",
       "  margin-left: 0.5em;\n",
       "  text-align: center;\n",
       "  /* unfitted */\n",
       "  border: var(--sklearn-color-unfitted-level-1) 1pt solid;\n",
       "  color: var(--sklearn-color-unfitted-level-1);\n",
       "}\n",
       "\n",
       ".sk-estimator-doc-link.fitted,\n",
       "a:link.sk-estimator-doc-link.fitted,\n",
       "a:visited.sk-estimator-doc-link.fitted {\n",
       "  /* fitted */\n",
       "  border: var(--sklearn-color-fitted-level-1) 1pt solid;\n",
       "  color: var(--sklearn-color-fitted-level-1);\n",
       "}\n",
       "\n",
       "/* On hover */\n",
       "div.sk-estimator:hover .sk-estimator-doc-link:hover,\n",
       ".sk-estimator-doc-link:hover,\n",
       "div.sk-label-container:hover .sk-estimator-doc-link:hover,\n",
       ".sk-estimator-doc-link:hover {\n",
       "  /* unfitted */\n",
       "  background-color: var(--sklearn-color-unfitted-level-3);\n",
       "  color: var(--sklearn-color-background);\n",
       "  text-decoration: none;\n",
       "}\n",
       "\n",
       "div.sk-estimator.fitted:hover .sk-estimator-doc-link.fitted:hover,\n",
       ".sk-estimator-doc-link.fitted:hover,\n",
       "div.sk-label-container:hover .sk-estimator-doc-link.fitted:hover,\n",
       ".sk-estimator-doc-link.fitted:hover {\n",
       "  /* fitted */\n",
       "  background-color: var(--sklearn-color-fitted-level-3);\n",
       "  color: var(--sklearn-color-background);\n",
       "  text-decoration: none;\n",
       "}\n",
       "\n",
       "/* Span, style for the box shown on hovering the info icon */\n",
       ".sk-estimator-doc-link span {\n",
       "  display: none;\n",
       "  z-index: 9999;\n",
       "  position: relative;\n",
       "  font-weight: normal;\n",
       "  right: .2ex;\n",
       "  padding: .5ex;\n",
       "  margin: .5ex;\n",
       "  width: min-content;\n",
       "  min-width: 20ex;\n",
       "  max-width: 50ex;\n",
       "  color: var(--sklearn-color-text);\n",
       "  box-shadow: 2pt 2pt 4pt #999;\n",
       "  /* unfitted */\n",
       "  background: var(--sklearn-color-unfitted-level-0);\n",
       "  border: .5pt solid var(--sklearn-color-unfitted-level-3);\n",
       "}\n",
       "\n",
       ".sk-estimator-doc-link.fitted span {\n",
       "  /* fitted */\n",
       "  background: var(--sklearn-color-fitted-level-0);\n",
       "  border: var(--sklearn-color-fitted-level-3);\n",
       "}\n",
       "\n",
       ".sk-estimator-doc-link:hover span {\n",
       "  display: block;\n",
       "}\n",
       "\n",
       "/* \"?\"-specific style due to the `<a>` HTML tag */\n",
       "\n",
       "#sk-container-id-2 a.estimator_doc_link {\n",
       "  float: right;\n",
       "  font-size: 1rem;\n",
       "  line-height: 1em;\n",
       "  font-family: monospace;\n",
       "  background-color: var(--sklearn-color-background);\n",
       "  border-radius: 1rem;\n",
       "  height: 1rem;\n",
       "  width: 1rem;\n",
       "  text-decoration: none;\n",
       "  /* unfitted */\n",
       "  color: var(--sklearn-color-unfitted-level-1);\n",
       "  border: var(--sklearn-color-unfitted-level-1) 1pt solid;\n",
       "}\n",
       "\n",
       "#sk-container-id-2 a.estimator_doc_link.fitted {\n",
       "  /* fitted */\n",
       "  border: var(--sklearn-color-fitted-level-1) 1pt solid;\n",
       "  color: var(--sklearn-color-fitted-level-1);\n",
       "}\n",
       "\n",
       "/* On hover */\n",
       "#sk-container-id-2 a.estimator_doc_link:hover {\n",
       "  /* unfitted */\n",
       "  background-color: var(--sklearn-color-unfitted-level-3);\n",
       "  color: var(--sklearn-color-background);\n",
       "  text-decoration: none;\n",
       "}\n",
       "\n",
       "#sk-container-id-2 a.estimator_doc_link.fitted:hover {\n",
       "  /* fitted */\n",
       "  background-color: var(--sklearn-color-fitted-level-3);\n",
       "}\n",
       "</style><div id=\"sk-container-id-2\" class=\"sk-top-container\"><div class=\"sk-text-repr-fallback\"><pre>ColumnTransformer(transformers=[(&#x27;Ordinal_Encode&#x27;,\n",
       "                                 OrdinalEncoder(categories=[[&#x27;Unknown&#x27;,\n",
       "                                                             &#x27;never smoked&#x27;,\n",
       "                                                             &#x27;formerly smoked&#x27;,\n",
       "                                                             &#x27;smokes&#x27;]]),\n",
       "                                 [&#x27;smoking_status&#x27;]),\n",
       "                                (&#x27;OneHot_Encode&#x27;,\n",
       "                                 OneHotEncoder(handle_unknown=&#x27;ignore&#x27;),\n",
       "                                 [&#x27;gender&#x27;, &#x27;ever_married&#x27;, &#x27;work_type&#x27;,\n",
       "                                  &#x27;Residence_type&#x27;])])</pre><b>In a Jupyter environment, please rerun this cell to show the HTML representation or trust the notebook. <br />On GitHub, the HTML representation is unable to render, please try loading this page with nbviewer.org.</b></div><div class=\"sk-container\" hidden><div class=\"sk-item sk-dashed-wrapped\"><div class=\"sk-label-container\"><div class=\"sk-label fitted sk-toggleable\"><input class=\"sk-toggleable__control sk-hidden--visually\" id=\"sk-estimator-id-6\" type=\"checkbox\" ><label for=\"sk-estimator-id-6\" class=\"sk-toggleable__label fitted sk-toggleable__label-arrow\"><div><div>ColumnTransformer</div></div><div><a class=\"sk-estimator-doc-link fitted\" rel=\"noreferrer\" target=\"_blank\" href=\"https://scikit-learn.org/1.6/modules/generated/sklearn.compose.ColumnTransformer.html\">?<span>Documentation for ColumnTransformer</span></a><span class=\"sk-estimator-doc-link fitted\">i<span>Fitted</span></span></div></label><div class=\"sk-toggleable__content fitted\"><pre>ColumnTransformer(transformers=[(&#x27;Ordinal_Encode&#x27;,\n",
       "                                 OrdinalEncoder(categories=[[&#x27;Unknown&#x27;,\n",
       "                                                             &#x27;never smoked&#x27;,\n",
       "                                                             &#x27;formerly smoked&#x27;,\n",
       "                                                             &#x27;smokes&#x27;]]),\n",
       "                                 [&#x27;smoking_status&#x27;]),\n",
       "                                (&#x27;OneHot_Encode&#x27;,\n",
       "                                 OneHotEncoder(handle_unknown=&#x27;ignore&#x27;),\n",
       "                                 [&#x27;gender&#x27;, &#x27;ever_married&#x27;, &#x27;work_type&#x27;,\n",
       "                                  &#x27;Residence_type&#x27;])])</pre></div> </div></div><div class=\"sk-parallel\"><div class=\"sk-parallel-item\"><div class=\"sk-item\"><div class=\"sk-label-container\"><div class=\"sk-label fitted sk-toggleable\"><input class=\"sk-toggleable__control sk-hidden--visually\" id=\"sk-estimator-id-7\" type=\"checkbox\" ><label for=\"sk-estimator-id-7\" class=\"sk-toggleable__label fitted sk-toggleable__label-arrow\"><div><div>Ordinal_Encode</div></div></label><div class=\"sk-toggleable__content fitted\"><pre>[&#x27;smoking_status&#x27;]</pre></div> </div></div><div class=\"sk-serial\"><div class=\"sk-item\"><div class=\"sk-estimator fitted sk-toggleable\"><input class=\"sk-toggleable__control sk-hidden--visually\" id=\"sk-estimator-id-8\" type=\"checkbox\" ><label for=\"sk-estimator-id-8\" class=\"sk-toggleable__label fitted sk-toggleable__label-arrow\"><div><div>OrdinalEncoder</div></div><div><a class=\"sk-estimator-doc-link fitted\" rel=\"noreferrer\" target=\"_blank\" href=\"https://scikit-learn.org/1.6/modules/generated/sklearn.preprocessing.OrdinalEncoder.html\">?<span>Documentation for OrdinalEncoder</span></a></div></label><div class=\"sk-toggleable__content fitted\"><pre>OrdinalEncoder(categories=[[&#x27;Unknown&#x27;, &#x27;never smoked&#x27;, &#x27;formerly smoked&#x27;,\n",
       "                            &#x27;smokes&#x27;]])</pre></div> </div></div></div></div></div><div class=\"sk-parallel-item\"><div class=\"sk-item\"><div class=\"sk-label-container\"><div class=\"sk-label fitted sk-toggleable\"><input class=\"sk-toggleable__control sk-hidden--visually\" id=\"sk-estimator-id-9\" type=\"checkbox\" ><label for=\"sk-estimator-id-9\" class=\"sk-toggleable__label fitted sk-toggleable__label-arrow\"><div><div>OneHot_Encode</div></div></label><div class=\"sk-toggleable__content fitted\"><pre>[&#x27;gender&#x27;, &#x27;ever_married&#x27;, &#x27;work_type&#x27;, &#x27;Residence_type&#x27;]</pre></div> </div></div><div class=\"sk-serial\"><div class=\"sk-item\"><div class=\"sk-estimator fitted sk-toggleable\"><input class=\"sk-toggleable__control sk-hidden--visually\" id=\"sk-estimator-id-10\" type=\"checkbox\" ><label for=\"sk-estimator-id-10\" class=\"sk-toggleable__label fitted sk-toggleable__label-arrow\"><div><div>OneHotEncoder</div></div><div><a class=\"sk-estimator-doc-link fitted\" rel=\"noreferrer\" target=\"_blank\" href=\"https://scikit-learn.org/1.6/modules/generated/sklearn.preprocessing.OneHotEncoder.html\">?<span>Documentation for OneHotEncoder</span></a></div></label><div class=\"sk-toggleable__content fitted\"><pre>OneHotEncoder(handle_unknown=&#x27;ignore&#x27;)</pre></div> </div></div></div></div></div></div></div></div></div>"
      ],
      "text/plain": [
       "ColumnTransformer(transformers=[('Ordinal_Encode',\n",
       "                                 OrdinalEncoder(categories=[['Unknown',\n",
       "                                                             'never smoked',\n",
       "                                                             'formerly smoked',\n",
       "                                                             'smokes']]),\n",
       "                                 ['smoking_status']),\n",
       "                                ('OneHot_Encode',\n",
       "                                 OneHotEncoder(handle_unknown='ignore'),\n",
       "                                 ['gender', 'ever_married', 'work_type',\n",
       "                                  'Residence_type'])])"
      ]
     },
     "execution_count": 302,
     "metadata": {},
     "output_type": "execute_result"
    }
   ],
   "source": [
    "preprocessor.fit(train_inputs)"
   ]
  },
  {
   "cell_type": "code",
   "execution_count": 303,
   "id": "78f551fa",
   "metadata": {},
   "outputs": [],
   "source": [
    "encoded_cols = list(preprocessor.get_feature_names_out())"
   ]
  },
  {
   "cell_type": "code",
   "execution_count": 304,
   "id": "9f1c2a2e",
   "metadata": {},
   "outputs": [
    {
     "data": {
      "text/plain": [
       "['Ordinal_Encode__smoking_status',\n",
       " 'OneHot_Encode__gender_Female',\n",
       " 'OneHot_Encode__gender_Male',\n",
       " 'OneHot_Encode__ever_married_No',\n",
       " 'OneHot_Encode__ever_married_Yes',\n",
       " 'OneHot_Encode__work_type_Govt_job',\n",
       " 'OneHot_Encode__work_type_Never_worked',\n",
       " 'OneHot_Encode__work_type_Private',\n",
       " 'OneHot_Encode__work_type_Self-employed',\n",
       " 'OneHot_Encode__work_type_children',\n",
       " 'OneHot_Encode__Residence_type_Rural',\n",
       " 'OneHot_Encode__Residence_type_Urban']"
      ]
     },
     "execution_count": 304,
     "metadata": {},
     "output_type": "execute_result"
    }
   ],
   "source": [
    "encoded_cols"
   ]
  },
  {
   "cell_type": "code",
   "execution_count": 305,
   "id": "bdd8468a",
   "metadata": {},
   "outputs": [],
   "source": [
    "train_inputs[encoded_cols] = preprocessor.transform(train_inputs)\n",
    "test_inputs[encoded_cols] = preprocessor.transform(test_inputs)"
   ]
  },
  {
   "cell_type": "code",
   "execution_count": 306,
   "id": "092d5a32",
   "metadata": {},
   "outputs": [],
   "source": [
    "X_train = train_inputs[numerical_cols + encoded_cols]\n",
    "y_train = train_df[target_col]\n",
    "\n",
    "X_test = test_inputs[numerical_cols + encoded_cols]"
   ]
  },
  {
   "cell_type": "code",
   "execution_count": 307,
   "id": "8ed36aca",
   "metadata": {},
   "outputs": [
    {
     "data": {
      "text/html": [
       "<div>\n",
       "<style scoped>\n",
       "    .dataframe tbody tr th:only-of-type {\n",
       "        vertical-align: middle;\n",
       "    }\n",
       "\n",
       "    .dataframe tbody tr th {\n",
       "        vertical-align: top;\n",
       "    }\n",
       "\n",
       "    .dataframe thead th {\n",
       "        text-align: right;\n",
       "    }\n",
       "</style>\n",
       "<table border=\"1\" class=\"dataframe\">\n",
       "  <thead>\n",
       "    <tr style=\"text-align: right;\">\n",
       "      <th></th>\n",
       "      <th>age</th>\n",
       "      <th>hypertension</th>\n",
       "      <th>heart_disease</th>\n",
       "      <th>avg_glucose_level</th>\n",
       "      <th>bmi</th>\n",
       "      <th>Ordinal_Encode__smoking_status</th>\n",
       "      <th>OneHot_Encode__gender_Female</th>\n",
       "      <th>OneHot_Encode__gender_Male</th>\n",
       "      <th>OneHot_Encode__ever_married_No</th>\n",
       "      <th>OneHot_Encode__ever_married_Yes</th>\n",
       "      <th>OneHot_Encode__work_type_Govt_job</th>\n",
       "      <th>OneHot_Encode__work_type_Never_worked</th>\n",
       "      <th>OneHot_Encode__work_type_Private</th>\n",
       "      <th>OneHot_Encode__work_type_Self-employed</th>\n",
       "      <th>OneHot_Encode__work_type_children</th>\n",
       "      <th>OneHot_Encode__Residence_type_Rural</th>\n",
       "      <th>OneHot_Encode__Residence_type_Urban</th>\n",
       "    </tr>\n",
       "  </thead>\n",
       "  <tbody>\n",
       "    <tr>\n",
       "      <th>0</th>\n",
       "      <td>28.0</td>\n",
       "      <td>0</td>\n",
       "      <td>0</td>\n",
       "      <td>79.53</td>\n",
       "      <td>31.1</td>\n",
       "      <td>1.0</td>\n",
       "      <td>0.0</td>\n",
       "      <td>1.0</td>\n",
       "      <td>0.0</td>\n",
       "      <td>1.0</td>\n",
       "      <td>0.0</td>\n",
       "      <td>0.0</td>\n",
       "      <td>1.0</td>\n",
       "      <td>0.0</td>\n",
       "      <td>0.0</td>\n",
       "      <td>0.0</td>\n",
       "      <td>1.0</td>\n",
       "    </tr>\n",
       "    <tr>\n",
       "      <th>1</th>\n",
       "      <td>33.0</td>\n",
       "      <td>0</td>\n",
       "      <td>0</td>\n",
       "      <td>78.44</td>\n",
       "      <td>23.9</td>\n",
       "      <td>2.0</td>\n",
       "      <td>0.0</td>\n",
       "      <td>1.0</td>\n",
       "      <td>0.0</td>\n",
       "      <td>1.0</td>\n",
       "      <td>0.0</td>\n",
       "      <td>0.0</td>\n",
       "      <td>1.0</td>\n",
       "      <td>0.0</td>\n",
       "      <td>0.0</td>\n",
       "      <td>1.0</td>\n",
       "      <td>0.0</td>\n",
       "    </tr>\n",
       "    <tr>\n",
       "      <th>2</th>\n",
       "      <td>42.0</td>\n",
       "      <td>0</td>\n",
       "      <td>0</td>\n",
       "      <td>103.00</td>\n",
       "      <td>40.3</td>\n",
       "      <td>0.0</td>\n",
       "      <td>1.0</td>\n",
       "      <td>0.0</td>\n",
       "      <td>0.0</td>\n",
       "      <td>1.0</td>\n",
       "      <td>0.0</td>\n",
       "      <td>0.0</td>\n",
       "      <td>1.0</td>\n",
       "      <td>0.0</td>\n",
       "      <td>0.0</td>\n",
       "      <td>1.0</td>\n",
       "      <td>0.0</td>\n",
       "    </tr>\n",
       "    <tr>\n",
       "      <th>3</th>\n",
       "      <td>56.0</td>\n",
       "      <td>0</td>\n",
       "      <td>0</td>\n",
       "      <td>64.87</td>\n",
       "      <td>28.8</td>\n",
       "      <td>1.0</td>\n",
       "      <td>0.0</td>\n",
       "      <td>1.0</td>\n",
       "      <td>0.0</td>\n",
       "      <td>1.0</td>\n",
       "      <td>0.0</td>\n",
       "      <td>0.0</td>\n",
       "      <td>1.0</td>\n",
       "      <td>0.0</td>\n",
       "      <td>0.0</td>\n",
       "      <td>0.0</td>\n",
       "      <td>1.0</td>\n",
       "    </tr>\n",
       "    <tr>\n",
       "      <th>4</th>\n",
       "      <td>24.0</td>\n",
       "      <td>0</td>\n",
       "      <td>0</td>\n",
       "      <td>73.36</td>\n",
       "      <td>28.8</td>\n",
       "      <td>1.0</td>\n",
       "      <td>1.0</td>\n",
       "      <td>0.0</td>\n",
       "      <td>1.0</td>\n",
       "      <td>0.0</td>\n",
       "      <td>0.0</td>\n",
       "      <td>0.0</td>\n",
       "      <td>1.0</td>\n",
       "      <td>0.0</td>\n",
       "      <td>0.0</td>\n",
       "      <td>1.0</td>\n",
       "      <td>0.0</td>\n",
       "    </tr>\n",
       "  </tbody>\n",
       "</table>\n",
       "</div>"
      ],
      "text/plain": [
       "    age  hypertension  heart_disease  avg_glucose_level   bmi  \\\n",
       "0  28.0             0              0              79.53  31.1   \n",
       "1  33.0             0              0              78.44  23.9   \n",
       "2  42.0             0              0             103.00  40.3   \n",
       "3  56.0             0              0              64.87  28.8   \n",
       "4  24.0             0              0              73.36  28.8   \n",
       "\n",
       "   Ordinal_Encode__smoking_status  OneHot_Encode__gender_Female  \\\n",
       "0                             1.0                           0.0   \n",
       "1                             2.0                           0.0   \n",
       "2                             0.0                           1.0   \n",
       "3                             1.0                           0.0   \n",
       "4                             1.0                           1.0   \n",
       "\n",
       "   OneHot_Encode__gender_Male  OneHot_Encode__ever_married_No  \\\n",
       "0                         1.0                             0.0   \n",
       "1                         1.0                             0.0   \n",
       "2                         0.0                             0.0   \n",
       "3                         1.0                             0.0   \n",
       "4                         0.0                             1.0   \n",
       "\n",
       "   OneHot_Encode__ever_married_Yes  OneHot_Encode__work_type_Govt_job  \\\n",
       "0                              1.0                                0.0   \n",
       "1                              1.0                                0.0   \n",
       "2                              1.0                                0.0   \n",
       "3                              1.0                                0.0   \n",
       "4                              0.0                                0.0   \n",
       "\n",
       "   OneHot_Encode__work_type_Never_worked  OneHot_Encode__work_type_Private  \\\n",
       "0                                    0.0                               1.0   \n",
       "1                                    0.0                               1.0   \n",
       "2                                    0.0                               1.0   \n",
       "3                                    0.0                               1.0   \n",
       "4                                    0.0                               1.0   \n",
       "\n",
       "   OneHot_Encode__work_type_Self-employed  OneHot_Encode__work_type_children  \\\n",
       "0                                     0.0                                0.0   \n",
       "1                                     0.0                                0.0   \n",
       "2                                     0.0                                0.0   \n",
       "3                                     0.0                                0.0   \n",
       "4                                     0.0                                0.0   \n",
       "\n",
       "   OneHot_Encode__Residence_type_Rural  OneHot_Encode__Residence_type_Urban  \n",
       "0                                  0.0                                  1.0  \n",
       "1                                  1.0                                  0.0  \n",
       "2                                  1.0                                  0.0  \n",
       "3                                  0.0                                  1.0  \n",
       "4                                  1.0                                  0.0  "
      ]
     },
     "execution_count": 307,
     "metadata": {},
     "output_type": "execute_result"
    }
   ],
   "source": [
    "X_train.head()"
   ]
  },
  {
   "cell_type": "code",
   "execution_count": 308,
   "id": "65e7752c",
   "metadata": {},
   "outputs": [
    {
     "data": {
      "text/plain": [
       "True"
      ]
     },
     "execution_count": 308,
     "metadata": {},
     "output_type": "execute_result"
    }
   ],
   "source": [
    "X_train.shape[1] == X_test.shape[1]"
   ]
  },
  {
   "cell_type": "code",
   "execution_count": 309,
   "id": "67961ca6",
   "metadata": {},
   "outputs": [],
   "source": [
    "# Split Dataset into training and validation set\n",
    "from sklearn.model_selection import train_test_split"
   ]
  },
  {
   "cell_type": "code",
   "execution_count": 310,
   "id": "5a15d5c0",
   "metadata": {},
   "outputs": [],
   "source": [
    "X_train, X_val, y_train, y_val = train_test_split(X_train, y_train, test_size=0.2, random_state=42)"
   ]
  },
  {
   "cell_type": "code",
   "execution_count": 311,
   "id": "da2f9106",
   "metadata": {},
   "outputs": [
    {
     "data": {
      "text/plain": [
       "(12242, 17)"
      ]
     },
     "execution_count": 311,
     "metadata": {},
     "output_type": "execute_result"
    }
   ],
   "source": [
    "X_train.shape"
   ]
  },
  {
   "cell_type": "code",
   "execution_count": null,
   "id": "7d11f678",
   "metadata": {},
   "outputs": [],
   "source": []
  },
  {
   "cell_type": "code",
   "execution_count": 312,
   "id": "ec382fde",
   "metadata": {},
   "outputs": [],
   "source": [
    "# Baseline Model\n",
    "from sklearn.linear_model import LogisticRegression\n",
    "from sklearn.tree import DecisionTreeClassifier\n",
    "from sklearn.ensemble import RandomForestClassifier\n",
    "from lightgbm import LGBMClassifier\n",
    "from xgboost import XGBClassifier\n",
    "from imblearn.over_sampling import SMOTE\n",
    "\n",
    "from sklearn.metrics import confusion_matrix, accuracy_score, precision_score, recall_score, f1_score"
   ]
  },
  {
   "cell_type": "code",
   "execution_count": 313,
   "id": "ae1c3220",
   "metadata": {},
   "outputs": [],
   "source": [
    "models = [\n",
    "    (LogisticRegression(), 'LogisticRegression'), \n",
    "    (RandomForestClassifier(), 'RandomForestClassifier'), \n",
    "    (XGBClassifier(), 'XGBClassifier'), \n",
    "    (LGBMClassifier(verbose = 1), 'LightGBM')\n",
    "]"
   ]
  },
  {
   "cell_type": "code",
   "execution_count": 314,
   "id": "dcda74bf",
   "metadata": {},
   "outputs": [],
   "source": [
    "def evalue_model(model, X_train, y_train, X_val, y_val):\n",
    "    y_pred = model.predict(X_val)\n",
    "    confusion_mat = confusion_matrix(y_val, y_pred)\n",
    "    accuracy = accuracy_score(y_val, y_pred)\n",
    "    precision = precision_score(y_val, y_pred)\n",
    "    recall = recall_score(y_val, y_pred)\n",
    "    f1 = f1_score(y_val, y_pred)\n",
    "    return confusion_mat, accuracy, precision, recall, f1"
   ]
  },
  {
   "cell_type": "code",
   "execution_count": 315,
   "id": "5414af80",
   "metadata": {},
   "outputs": [],
   "source": [
    "confusion_mats = {}\n",
    "def metric_df(model, model_name):\n",
    "    confusion_mat, *df = evalue_model(model, X_train, y_train, X_val, y_val)\n",
    "    confusion_mats[model_name] = confusion_mat\n",
    "    df = [df]\n",
    "    model_metrics = pd.DataFrame(data = df, columns=['Accuarcy','Precision', 'Recall', 'F1'])\n",
    "    model_metrics.insert(0, 'Model', model_name)\n",
    "    \n",
    "    return model_metrics"
   ]
  },
  {
   "cell_type": "code",
   "execution_count": 316,
   "id": "4744d6b9",
   "metadata": {},
   "outputs": [
    {
     "name": "stderr",
     "output_type": "stream",
     "text": [
      "c:\\Users\\amank\\AppData\\Local\\Programs\\Python\\Python313\\Lib\\site-packages\\sklearn\\linear_model\\_logistic.py:465: ConvergenceWarning:\n",
      "\n",
      "lbfgs failed to converge (status=1):\n",
      "STOP: TOTAL NO. OF ITERATIONS REACHED LIMIT.\n",
      "\n",
      "Increase the number of iterations (max_iter) or scale the data as shown in:\n",
      "    https://scikit-learn.org/stable/modules/preprocessing.html\n",
      "Please also refer to the documentation for alternative solver options:\n",
      "    https://scikit-learn.org/stable/modules/linear_model.html#logistic-regression\n",
      "\n"
     ]
    },
    {
     "name": "stdout",
     "output_type": "stream",
     "text": [
      "[LightGBM] [Info] Number of positive: 498, number of negative: 11744\n",
      "[LightGBM] [Info] Auto-choosing row-wise multi-threading, the overhead of testing was 0.000374 seconds.\n",
      "You can set `force_row_wise=true` to remove the overhead.\n",
      "And if memory is not enough, you can set `force_col_wise=true`.\n",
      "[LightGBM] [Info] Total Bins 623\n",
      "[LightGBM] [Info] Number of data points in the train set: 12242, number of used features: 17\n",
      "[LightGBM] [Info] [binary:BoostFromScore]: pavg=0.040680 -> initscore=-3.160498\n",
      "[LightGBM] [Info] Start training from score -3.160498\n"
     ]
    }
   ],
   "source": [
    "predictions = []\n",
    "for model, model_name in models:\n",
    "    model.fit(X_train, y_train)\n",
    "    model_metrics = metric_df(model, model_name)\n",
    "    predictions.append(model_metrics)"
   ]
  },
  {
   "cell_type": "code",
   "execution_count": 317,
   "id": "02b32a46",
   "metadata": {},
   "outputs": [
    {
     "data": {
      "text/plain": [
       "[                Model  Accuarcy  Precision    Recall        F1\n",
       " 0  LogisticRegression  0.955243   0.333333  0.022388  0.041958,\n",
       "                     Model  Accuarcy  Precision    Recall        F1\n",
       " 0  RandomForestClassifier  0.952957   0.272727  0.044776  0.076923,\n",
       "            Model  Accuarcy  Precision    Recall        F1\n",
       " 0  XGBClassifier  0.953283   0.363636  0.089552  0.143713,\n",
       "       Model  Accuarcy  Precision    Recall        F1\n",
       " 0  LightGBM   0.95459   0.380952  0.059701  0.103226]"
      ]
     },
     "execution_count": 317,
     "metadata": {},
     "output_type": "execute_result"
    }
   ],
   "source": [
    "predictions"
   ]
  },
  {
   "cell_type": "code",
   "execution_count": 318,
   "id": "70fb123e",
   "metadata": {},
   "outputs": [],
   "source": [
    "oversample = SMOTE()\n",
    "X_train_ns, y_train_ns = oversample.fit_resample(X_train, y_train)"
   ]
  },
  {
   "cell_type": "code",
   "execution_count": 319,
   "id": "6afa8c6a",
   "metadata": {},
   "outputs": [
    {
     "data": {
      "text/plain": [
       "(23488, 17)"
      ]
     },
     "execution_count": 319,
     "metadata": {},
     "output_type": "execute_result"
    }
   ],
   "source": [
    "X_train_ns.shape"
   ]
  },
  {
   "cell_type": "code",
   "execution_count": 320,
   "id": "b159ec12",
   "metadata": {},
   "outputs": [
    {
     "name": "stderr",
     "output_type": "stream",
     "text": [
      "c:\\Users\\amank\\AppData\\Local\\Programs\\Python\\Python313\\Lib\\site-packages\\sklearn\\linear_model\\_logistic.py:465: ConvergenceWarning:\n",
      "\n",
      "lbfgs failed to converge (status=1):\n",
      "STOP: TOTAL NO. OF ITERATIONS REACHED LIMIT.\n",
      "\n",
      "Increase the number of iterations (max_iter) or scale the data as shown in:\n",
      "    https://scikit-learn.org/stable/modules/preprocessing.html\n",
      "Please also refer to the documentation for alternative solver options:\n",
      "    https://scikit-learn.org/stable/modules/linear_model.html#logistic-regression\n",
      "\n"
     ]
    }
   ],
   "source": [
    "lr_with_smote = LogisticRegression()\n",
    "lr_with_smote.fit(X_train_ns, y_train_ns)\n",
    "lr_with_smote_mat = metric_df(lr_with_smote, 'Logistic With SMOTE')\n",
    "predictions.append(lr_with_smote_mat)"
   ]
  },
  {
   "cell_type": "code",
   "execution_count": 321,
   "id": "d11c36da",
   "metadata": {},
   "outputs": [
    {
     "name": "stdout",
     "output_type": "stream",
     "text": [
      "Confusion Matrix for LogisticRegression\n",
      "[[2921    6]\n",
      " [ 131    3]]\n",
      "\n",
      "Confusion Matrix for RandomForestClassifier\n",
      "[[2911   16]\n",
      " [ 128    6]]\n",
      "\n",
      "Confusion Matrix for XGBClassifier\n",
      "[[2906   21]\n",
      " [ 122   12]]\n",
      "\n",
      "Confusion Matrix for LightGBM\n",
      "[[2914   13]\n",
      " [ 126    8]]\n",
      "\n",
      "Confusion Matrix for Logistic With SMOTE\n",
      "[[2323  604]\n",
      " [  33  101]]\n",
      "\n"
     ]
    }
   ],
   "source": [
    "for model_name , confusion_mat in confusion_mats.items():\n",
    "    print(f'Confusion Matrix for {model_name}')\n",
    "    print(confusion_mat)\n",
    "    print()"
   ]
  },
  {
   "cell_type": "code",
   "execution_count": 322,
   "id": "db3fe69b",
   "metadata": {},
   "outputs": [],
   "source": [
    "# Voting Classifer . Hard and Soft\n",
    "from sklearn.ensemble import VotingClassifier"
   ]
  },
  {
   "cell_type": "code",
   "execution_count": 323,
   "id": "2c5e814a",
   "metadata": {},
   "outputs": [],
   "source": [
    "estimator = []\n",
    "estimator.append(('LogisticRegression', LogisticRegression())), \n",
    "estimator.append(('RandomForestClassifier', RandomForestClassifier())), \n",
    "estimator.append(('XGBClassifier', XGBClassifier())), \n",
    "estimator.append(('LightGBM', LGBMClassifier(verbose = 1)))"
   ]
  },
  {
   "cell_type": "code",
   "execution_count": 324,
   "id": "56119eb3",
   "metadata": {},
   "outputs": [
    {
     "name": "stderr",
     "output_type": "stream",
     "text": [
      "c:\\Users\\amank\\AppData\\Local\\Programs\\Python\\Python313\\Lib\\site-packages\\sklearn\\linear_model\\_logistic.py:465: ConvergenceWarning:\n",
      "\n",
      "lbfgs failed to converge (status=1):\n",
      "STOP: TOTAL NO. OF ITERATIONS REACHED LIMIT.\n",
      "\n",
      "Increase the number of iterations (max_iter) or scale the data as shown in:\n",
      "    https://scikit-learn.org/stable/modules/preprocessing.html\n",
      "Please also refer to the documentation for alternative solver options:\n",
      "    https://scikit-learn.org/stable/modules/linear_model.html#logistic-regression\n",
      "\n"
     ]
    },
    {
     "name": "stdout",
     "output_type": "stream",
     "text": [
      "[LightGBM] [Info] Number of positive: 498, number of negative: 11744\n",
      "[LightGBM] [Info] Auto-choosing col-wise multi-threading, the overhead of testing was 0.000797 seconds.\n",
      "You can set `force_col_wise=true` to remove the overhead.\n",
      "[LightGBM] [Info] Total Bins 623\n",
      "[LightGBM] [Info] Number of data points in the train set: 12242, number of used features: 17\n",
      "[LightGBM] [Info] [binary:BoostFromScore]: pavg=0.040680 -> initscore=-3.160498\n",
      "[LightGBM] [Info] Start training from score -3.160498\n"
     ]
    }
   ],
   "source": [
    "VC_hard = VotingClassifier(estimators=estimator, voting='hard')\n",
    "VC_hard.fit(X_train, y_train)\n",
    "VC_hard_mat = metric_df(VC_hard, 'VC_HARD')\n",
    "predictions.append(VC_hard_mat)"
   ]
  },
  {
   "cell_type": "code",
   "execution_count": 325,
   "id": "a97b000d",
   "metadata": {},
   "outputs": [
    {
     "data": {
      "text/html": [
       "<div>\n",
       "<style scoped>\n",
       "    .dataframe tbody tr th:only-of-type {\n",
       "        vertical-align: middle;\n",
       "    }\n",
       "\n",
       "    .dataframe tbody tr th {\n",
       "        vertical-align: top;\n",
       "    }\n",
       "\n",
       "    .dataframe thead th {\n",
       "        text-align: right;\n",
       "    }\n",
       "</style>\n",
       "<table border=\"1\" class=\"dataframe\">\n",
       "  <thead>\n",
       "    <tr style=\"text-align: right;\">\n",
       "      <th></th>\n",
       "      <th>Model</th>\n",
       "      <th>Accuarcy</th>\n",
       "      <th>Precision</th>\n",
       "      <th>Recall</th>\n",
       "      <th>F1</th>\n",
       "    </tr>\n",
       "  </thead>\n",
       "  <tbody>\n",
       "    <tr>\n",
       "      <th>0</th>\n",
       "      <td>VC_HARD</td>\n",
       "      <td>0.955897</td>\n",
       "      <td>0.428571</td>\n",
       "      <td>0.022388</td>\n",
       "      <td>0.042553</td>\n",
       "    </tr>\n",
       "  </tbody>\n",
       "</table>\n",
       "</div>"
      ],
      "text/plain": [
       "     Model  Accuarcy  Precision    Recall        F1\n",
       "0  VC_HARD  0.955897   0.428571  0.022388  0.042553"
      ]
     },
     "execution_count": 325,
     "metadata": {},
     "output_type": "execute_result"
    }
   ],
   "source": [
    "VC_hard_mat"
   ]
  },
  {
   "cell_type": "code",
   "execution_count": 326,
   "id": "8b649863",
   "metadata": {},
   "outputs": [
    {
     "name": "stderr",
     "output_type": "stream",
     "text": [
      "c:\\Users\\amank\\AppData\\Local\\Programs\\Python\\Python313\\Lib\\site-packages\\sklearn\\linear_model\\_logistic.py:465: ConvergenceWarning:\n",
      "\n",
      "lbfgs failed to converge (status=1):\n",
      "STOP: TOTAL NO. OF ITERATIONS REACHED LIMIT.\n",
      "\n",
      "Increase the number of iterations (max_iter) or scale the data as shown in:\n",
      "    https://scikit-learn.org/stable/modules/preprocessing.html\n",
      "Please also refer to the documentation for alternative solver options:\n",
      "    https://scikit-learn.org/stable/modules/linear_model.html#logistic-regression\n",
      "\n"
     ]
    },
    {
     "name": "stdout",
     "output_type": "stream",
     "text": [
      "[LightGBM] [Info] Number of positive: 498, number of negative: 11744\n",
      "[LightGBM] [Info] Auto-choosing row-wise multi-threading, the overhead of testing was 0.000466 seconds.\n",
      "You can set `force_row_wise=true` to remove the overhead.\n",
      "And if memory is not enough, you can set `force_col_wise=true`.\n",
      "[LightGBM] [Info] Total Bins 623\n",
      "[LightGBM] [Info] Number of data points in the train set: 12242, number of used features: 17\n",
      "[LightGBM] [Info] [binary:BoostFromScore]: pavg=0.040680 -> initscore=-3.160498\n",
      "[LightGBM] [Info] Start training from score -3.160498\n"
     ]
    }
   ],
   "source": [
    "VC_soft = VotingClassifier(estimators=estimator, voting='soft')\n",
    "VC_soft.fit(X_train, y_train)\n",
    "VC_soft_mat = metric_df(VC_soft, 'VC_soft')\n",
    "predictions.append(VC_soft_mat)"
   ]
  },
  {
   "cell_type": "code",
   "execution_count": 327,
   "id": "195befae",
   "metadata": {},
   "outputs": [
    {
     "data": {
      "text/html": [
       "<div>\n",
       "<style scoped>\n",
       "    .dataframe tbody tr th:only-of-type {\n",
       "        vertical-align: middle;\n",
       "    }\n",
       "\n",
       "    .dataframe tbody tr th {\n",
       "        vertical-align: top;\n",
       "    }\n",
       "\n",
       "    .dataframe thead th {\n",
       "        text-align: right;\n",
       "    }\n",
       "</style>\n",
       "<table border=\"1\" class=\"dataframe\">\n",
       "  <thead>\n",
       "    <tr style=\"text-align: right;\">\n",
       "      <th></th>\n",
       "      <th>Model</th>\n",
       "      <th>Accuarcy</th>\n",
       "      <th>Precision</th>\n",
       "      <th>Recall</th>\n",
       "      <th>F1</th>\n",
       "    </tr>\n",
       "  </thead>\n",
       "  <tbody>\n",
       "    <tr>\n",
       "      <th>0</th>\n",
       "      <td>VC_soft</td>\n",
       "      <td>0.956223</td>\n",
       "      <td>0.5</td>\n",
       "      <td>0.052239</td>\n",
       "      <td>0.094595</td>\n",
       "    </tr>\n",
       "  </tbody>\n",
       "</table>\n",
       "</div>"
      ],
      "text/plain": [
       "     Model  Accuarcy  Precision    Recall        F1\n",
       "0  VC_soft  0.956223        0.5  0.052239  0.094595"
      ]
     },
     "execution_count": 327,
     "metadata": {},
     "output_type": "execute_result"
    }
   ],
   "source": [
    "VC_soft_mat"
   ]
  },
  {
   "cell_type": "code",
   "execution_count": 328,
   "id": "eb897440",
   "metadata": {},
   "outputs": [],
   "source": [
    "prediction_base = pd.concat(predictions, ignore_index=True, sort =False)\n",
    "prediction_base = prediction_base.sort_values(by=['Recall'], ascending=False).style.hide(axis = 'index')"
   ]
  },
  {
   "cell_type": "code",
   "execution_count": 329,
   "id": "5e5002c3",
   "metadata": {},
   "outputs": [
    {
     "data": {
      "text/html": [
       "<style type=\"text/css\">\n",
       "</style>\n",
       "<table id=\"T_9d4c0\">\n",
       "  <thead>\n",
       "    <tr>\n",
       "      <th id=\"T_9d4c0_level0_col0\" class=\"col_heading level0 col0\" >Model</th>\n",
       "      <th id=\"T_9d4c0_level0_col1\" class=\"col_heading level0 col1\" >Accuarcy</th>\n",
       "      <th id=\"T_9d4c0_level0_col2\" class=\"col_heading level0 col2\" >Precision</th>\n",
       "      <th id=\"T_9d4c0_level0_col3\" class=\"col_heading level0 col3\" >Recall</th>\n",
       "      <th id=\"T_9d4c0_level0_col4\" class=\"col_heading level0 col4\" >F1</th>\n",
       "    </tr>\n",
       "  </thead>\n",
       "  <tbody>\n",
       "    <tr>\n",
       "      <td id=\"T_9d4c0_row0_col0\" class=\"data row0 col0\" >Logistic With SMOTE</td>\n",
       "      <td id=\"T_9d4c0_row0_col1\" class=\"data row0 col1\" >0.791898</td>\n",
       "      <td id=\"T_9d4c0_row0_col2\" class=\"data row0 col2\" >0.143262</td>\n",
       "      <td id=\"T_9d4c0_row0_col3\" class=\"data row0 col3\" >0.753731</td>\n",
       "      <td id=\"T_9d4c0_row0_col4\" class=\"data row0 col4\" >0.240763</td>\n",
       "    </tr>\n",
       "    <tr>\n",
       "      <td id=\"T_9d4c0_row1_col0\" class=\"data row1 col0\" >XGBClassifier</td>\n",
       "      <td id=\"T_9d4c0_row1_col1\" class=\"data row1 col1\" >0.953283</td>\n",
       "      <td id=\"T_9d4c0_row1_col2\" class=\"data row1 col2\" >0.363636</td>\n",
       "      <td id=\"T_9d4c0_row1_col3\" class=\"data row1 col3\" >0.089552</td>\n",
       "      <td id=\"T_9d4c0_row1_col4\" class=\"data row1 col4\" >0.143713</td>\n",
       "    </tr>\n",
       "    <tr>\n",
       "      <td id=\"T_9d4c0_row2_col0\" class=\"data row2 col0\" >LightGBM</td>\n",
       "      <td id=\"T_9d4c0_row2_col1\" class=\"data row2 col1\" >0.954590</td>\n",
       "      <td id=\"T_9d4c0_row2_col2\" class=\"data row2 col2\" >0.380952</td>\n",
       "      <td id=\"T_9d4c0_row2_col3\" class=\"data row2 col3\" >0.059701</td>\n",
       "      <td id=\"T_9d4c0_row2_col4\" class=\"data row2 col4\" >0.103226</td>\n",
       "    </tr>\n",
       "    <tr>\n",
       "      <td id=\"T_9d4c0_row3_col0\" class=\"data row3 col0\" >VC_soft</td>\n",
       "      <td id=\"T_9d4c0_row3_col1\" class=\"data row3 col1\" >0.956223</td>\n",
       "      <td id=\"T_9d4c0_row3_col2\" class=\"data row3 col2\" >0.500000</td>\n",
       "      <td id=\"T_9d4c0_row3_col3\" class=\"data row3 col3\" >0.052239</td>\n",
       "      <td id=\"T_9d4c0_row3_col4\" class=\"data row3 col4\" >0.094595</td>\n",
       "    </tr>\n",
       "    <tr>\n",
       "      <td id=\"T_9d4c0_row4_col0\" class=\"data row4 col0\" >RandomForestClassifier</td>\n",
       "      <td id=\"T_9d4c0_row4_col1\" class=\"data row4 col1\" >0.952957</td>\n",
       "      <td id=\"T_9d4c0_row4_col2\" class=\"data row4 col2\" >0.272727</td>\n",
       "      <td id=\"T_9d4c0_row4_col3\" class=\"data row4 col3\" >0.044776</td>\n",
       "      <td id=\"T_9d4c0_row4_col4\" class=\"data row4 col4\" >0.076923</td>\n",
       "    </tr>\n",
       "    <tr>\n",
       "      <td id=\"T_9d4c0_row5_col0\" class=\"data row5 col0\" >LogisticRegression</td>\n",
       "      <td id=\"T_9d4c0_row5_col1\" class=\"data row5 col1\" >0.955243</td>\n",
       "      <td id=\"T_9d4c0_row5_col2\" class=\"data row5 col2\" >0.333333</td>\n",
       "      <td id=\"T_9d4c0_row5_col3\" class=\"data row5 col3\" >0.022388</td>\n",
       "      <td id=\"T_9d4c0_row5_col4\" class=\"data row5 col4\" >0.041958</td>\n",
       "    </tr>\n",
       "    <tr>\n",
       "      <td id=\"T_9d4c0_row6_col0\" class=\"data row6 col0\" >VC_HARD</td>\n",
       "      <td id=\"T_9d4c0_row6_col1\" class=\"data row6 col1\" >0.955897</td>\n",
       "      <td id=\"T_9d4c0_row6_col2\" class=\"data row6 col2\" >0.428571</td>\n",
       "      <td id=\"T_9d4c0_row6_col3\" class=\"data row6 col3\" >0.022388</td>\n",
       "      <td id=\"T_9d4c0_row6_col4\" class=\"data row6 col4\" >0.042553</td>\n",
       "    </tr>\n",
       "  </tbody>\n",
       "</table>\n"
      ],
      "text/plain": [
       "<pandas.io.formats.style.Styler at 0x19b55f9b890>"
      ]
     },
     "execution_count": 329,
     "metadata": {},
     "output_type": "execute_result"
    }
   ],
   "source": [
    "prediction_base"
   ]
  },
  {
   "cell_type": "code",
   "execution_count": 330,
   "id": "2a4d95b2",
   "metadata": {},
   "outputs": [],
   "source": [
    "models_to_plot = [\n",
    "    'LogisticRegression', \n",
    "    'RandomForestClassifier', \n",
    "    'XGBClassifier', \n",
    "    'Logistic With SMOTE'\n",
    "]"
   ]
  },
  {
   "cell_type": "code",
   "execution_count": 331,
   "id": "a31feabf",
   "metadata": {},
   "outputs": [
    {
     "data": {
      "image/png": "[encoded data removed]",
      "text/plain": [
       "<Figure size 900x700 with 8 Axes>"
      ]
     },
     "metadata": {},
     "output_type": "display_data"
    }
   ],
   "source": [
    "fig, axes = plt.subplots(nrows = 2, ncols =2, figsize = (9, 7))\n",
    "for ax, model_name in zip(axes.ravel(), models_to_plot):\n",
    "    confusion_mat = confusion_mats[model_name]\n",
    "    sns.heatmap(confusion_mat, annot=True, fmt='d', cmap = 'Blues', ax = ax)\n",
    "    ax.set_title(f'{model_name}')\n",
    "    ax.set_xlabel('Predicted')\n",
    "    ax.set_ylabel('Actual')\n",
    "\n",
    "plt.tight_layout()\n",
    "plt.subplots_adjust(left=0, right = 0.9, top =0.9, bottom = 0)\n",
    "##plt.show()"
   ]
  },
  {
   "cell_type": "code",
   "execution_count": 332,
   "id": "b7df31ae",
   "metadata": {},
   "outputs": [],
   "source": [
    "# AUC - ROC Curve Homework ->\n",
    "from sklearn.metrics import roc_auc_score, roc_curve, auc\n",
    "# Precision - recall curve\n",
    "from sklearn.metrics import PredictionErrorDisplay"
   ]
  },
  {
   "cell_type": "code",
   "execution_count": 333,
   "id": "77177d43",
   "metadata": {},
   "outputs": [],
   "source": [
    "# Retrain & Save Model\n",
    "X_train = train_inputs[numerical_cols + encoded_cols]\n",
    "y_train = train_df[target_col]"
   ]
  },
  {
   "cell_type": "code",
   "execution_count": 334,
   "id": "8308a186",
   "metadata": {},
   "outputs": [],
   "source": [
    "preds = lr_with_smote.predict(X_test)"
   ]
  },
  {
   "cell_type": "code",
   "execution_count": 335,
   "id": "400e3793",
   "metadata": {},
   "outputs": [
    {
     "data": {
      "text/plain": [
       "array([0, 0, 0, ..., 0, 0, 0], shape=(10203,))"
      ]
     },
     "execution_count": 335,
     "metadata": {},
     "output_type": "execute_result"
    }
   ],
   "source": [
    "preds"
   ]
  },
  {
   "cell_type": "code",
   "execution_count": 336,
   "id": "aeb456b4",
   "metadata": {},
   "outputs": [],
   "source": [
    "sub_df = preds"
   ]
  },
  {
   "cell_type": "code",
   "execution_count": 337,
   "id": "bd59800f",
   "metadata": {},
   "outputs": [],
   "source": [
    "pd.DataFrame(sub_df).to_csv(\"submission.csv\", index=None)"
   ]
  },
  {
   "cell_type": "code",
   "execution_count": 338,
   "id": "5901e7ab",
   "metadata": {},
   "outputs": [],
   "source": [
    "sub_df = pd.read_csv(\"submission.csv\")"
   ]
  },
  {
   "cell_type": "code",
   "execution_count": 339,
   "id": "eb63c2bb",
   "metadata": {},
   "outputs": [
    {
     "data": {
      "text/html": [
       "<div>\n",
       "<style scoped>\n",
       "    .dataframe tbody tr th:only-of-type {\n",
       "        vertical-align: middle;\n",
       "    }\n",
       "\n",
       "    .dataframe tbody tr th {\n",
       "        vertical-align: top;\n",
       "    }\n",
       "\n",
       "    .dataframe thead th {\n",
       "        text-align: right;\n",
       "    }\n",
       "</style>\n",
       "<table border=\"1\" class=\"dataframe\">\n",
       "  <thead>\n",
       "    <tr style=\"text-align: right;\">\n",
       "      <th></th>\n",
       "      <th>0</th>\n",
       "    </tr>\n",
       "  </thead>\n",
       "  <tbody>\n",
       "    <tr>\n",
       "      <th>0</th>\n",
       "      <td>0</td>\n",
       "    </tr>\n",
       "    <tr>\n",
       "      <th>1</th>\n",
       "      <td>0</td>\n",
       "    </tr>\n",
       "    <tr>\n",
       "      <th>2</th>\n",
       "      <td>0</td>\n",
       "    </tr>\n",
       "    <tr>\n",
       "      <th>3</th>\n",
       "      <td>1</td>\n",
       "    </tr>\n",
       "    <tr>\n",
       "      <th>4</th>\n",
       "      <td>0</td>\n",
       "    </tr>\n",
       "  </tbody>\n",
       "</table>\n",
       "</div>"
      ],
      "text/plain": [
       "   0\n",
       "0  0\n",
       "1  0\n",
       "2  0\n",
       "3  1\n",
       "4  0"
      ]
     },
     "execution_count": 339,
     "metadata": {},
     "output_type": "execute_result"
    }
   ],
   "source": [
    "sub_df.head()"
   ]
  },
  {
   "cell_type": "code",
   "execution_count": 340,
   "id": "f8e5d900",
   "metadata": {},
   "outputs": [],
   "source": [
    "# Make Prediction on a single input\n",
    "\n",
    "sub_df['stroke'] = preds"
   ]
  },
  {
   "cell_type": "code",
   "execution_count": 341,
   "id": "a2d34ef1",
   "metadata": {},
   "outputs": [
    {
     "data": {
      "text/html": [
       "<div>\n",
       "<style scoped>\n",
       "    .dataframe tbody tr th:only-of-type {\n",
       "        vertical-align: middle;\n",
       "    }\n",
       "\n",
       "    .dataframe tbody tr th {\n",
       "        vertical-align: top;\n",
       "    }\n",
       "\n",
       "    .dataframe thead th {\n",
       "        text-align: right;\n",
       "    }\n",
       "</style>\n",
       "<table border=\"1\" class=\"dataframe\">\n",
       "  <thead>\n",
       "    <tr style=\"text-align: right;\">\n",
       "      <th></th>\n",
       "      <th>0</th>\n",
       "      <th>stroke</th>\n",
       "    </tr>\n",
       "  </thead>\n",
       "  <tbody>\n",
       "    <tr>\n",
       "      <th>0</th>\n",
       "      <td>0</td>\n",
       "      <td>0</td>\n",
       "    </tr>\n",
       "    <tr>\n",
       "      <th>1</th>\n",
       "      <td>0</td>\n",
       "      <td>0</td>\n",
       "    </tr>\n",
       "    <tr>\n",
       "      <th>2</th>\n",
       "      <td>0</td>\n",
       "      <td>0</td>\n",
       "    </tr>\n",
       "    <tr>\n",
       "      <th>3</th>\n",
       "      <td>1</td>\n",
       "      <td>1</td>\n",
       "    </tr>\n",
       "    <tr>\n",
       "      <th>4</th>\n",
       "      <td>0</td>\n",
       "      <td>0</td>\n",
       "    </tr>\n",
       "    <tr>\n",
       "      <th>...</th>\n",
       "      <td>...</td>\n",
       "      <td>...</td>\n",
       "    </tr>\n",
       "    <tr>\n",
       "      <th>10198</th>\n",
       "      <td>0</td>\n",
       "      <td>0</td>\n",
       "    </tr>\n",
       "    <tr>\n",
       "      <th>10199</th>\n",
       "      <td>0</td>\n",
       "      <td>0</td>\n",
       "    </tr>\n",
       "    <tr>\n",
       "      <th>10200</th>\n",
       "      <td>0</td>\n",
       "      <td>0</td>\n",
       "    </tr>\n",
       "    <tr>\n",
       "      <th>10201</th>\n",
       "      <td>0</td>\n",
       "      <td>0</td>\n",
       "    </tr>\n",
       "    <tr>\n",
       "      <th>10202</th>\n",
       "      <td>0</td>\n",
       "      <td>0</td>\n",
       "    </tr>\n",
       "  </tbody>\n",
       "</table>\n",
       "<p>10203 rows × 2 columns</p>\n",
       "</div>"
      ],
      "text/plain": [
       "       0  stroke\n",
       "0      0       0\n",
       "1      0       0\n",
       "2      0       0\n",
       "3      1       1\n",
       "4      0       0\n",
       "...   ..     ...\n",
       "10198  0       0\n",
       "10199  0       0\n",
       "10200  0       0\n",
       "10201  0       0\n",
       "10202  0       0\n",
       "\n",
       "[10203 rows x 2 columns]"
      ]
     },
     "execution_count": 341,
     "metadata": {},
     "output_type": "execute_result"
    }
   ],
   "source": [
    "sub_df"
   ]
  },
  {
   "cell_type": "code",
   "execution_count": 342,
   "id": "384577df",
   "metadata": {},
   "outputs": [
    {
     "data": {
      "text/plain": [
       "Index(['id', 'gender', 'age', 'hypertension', 'heart_disease', 'ever_married',\n",
       "       'work_type', 'Residence_type', 'avg_glucose_level', 'bmi',\n",
       "       'smoking_status', 'stroke'],\n",
       "      dtype='object')"
      ]
     },
     "execution_count": 342,
     "metadata": {},
     "output_type": "execute_result"
    }
   ],
   "source": [
    "train_df.columns"
   ]
  },
  {
   "cell_type": "code",
   "execution_count": 343,
   "id": "f6a66592",
   "metadata": {},
   "outputs": [],
   "source": [
    "single_input = {\n",
    "    'gender': 'Male', \n",
    "    'age': 33, \n",
    "    'hypertension':0,\n",
    "    'heart_disease': 0, \n",
    "    'ever_married':'Yes',\n",
    "    'work_type':'Private',\n",
    "    'Residence_type':'Urban',\n",
    "    'avg_glucose_level':79.53,\n",
    "    'bmi': 31.10,\n",
    "    'smoking_status': 'formerly smoked'\n",
    "}"
   ]
  },
  {
   "cell_type": "code",
   "execution_count": 344,
   "id": "380658b4",
   "metadata": {},
   "outputs": [],
   "source": [
    "input_df = pd.DataFrame([single_input])"
   ]
  },
  {
   "cell_type": "code",
   "execution_count": 345,
   "id": "ba97d3be",
   "metadata": {},
   "outputs": [],
   "source": [
    "input_df[encoded_cols] = preprocessor.transform(input_df)"
   ]
  },
  {
   "cell_type": "code",
   "execution_count": 346,
   "id": "16606177",
   "metadata": {},
   "outputs": [],
   "source": [
    "X = input_df[numerical_cols + encoded_cols]"
   ]
  },
  {
   "cell_type": "code",
   "execution_count": 347,
   "id": "a4f220b4",
   "metadata": {},
   "outputs": [
    {
     "data": {
      "text/plain": [
       "array([0])"
      ]
     },
     "execution_count": 347,
     "metadata": {},
     "output_type": "execute_result"
    }
   ],
   "source": [
    "lr_with_smote.predict(X)"
   ]
  },
  {
   "cell_type": "code",
   "execution_count": 348,
   "id": "8772b290",
   "metadata": {},
   "outputs": [],
   "source": [
    "import joblib"
   ]
  },
  {
   "cell_type": "code",
   "execution_count": 349,
   "id": "80657e61",
   "metadata": {},
   "outputs": [],
   "source": [
    "model = {\n",
    "    'encoded_cols': encoded_cols, \n",
    "    'numeric_cols':numerical_cols, \n",
    "    'preprocessor': preprocessor, \n",
    "    'model': lr_with_smote\n",
    "}"
   ]
  },
  {
   "cell_type": "code",
   "execution_count": 350,
   "id": "6b103eb0",
   "metadata": {},
   "outputs": [
    {
     "data": {
      "text/plain": [
       "['model.joblib']"
      ]
     },
     "execution_count": 350,
     "metadata": {},
     "output_type": "execute_result"
    }
   ],
   "source": [
    "joblib.dump(model, 'model.joblib')"
   ]
  },
  {
   "cell_type": "code",
   "execution_count": null,
   "id": "5c41f0cc",
   "metadata": {},
   "outputs": [],
   "source": []
  }
 ],
 "metadata": {
  "kernelspec": {
   "display_name": "Python 3",
   "language": "python",
   "name": "python3"
  },
  "language_info": {
   "codemirror_mode": {
    "name": "ipython",
    "version": 3
   },
   "file_extension": ".py",
   "mimetype": "text/x-python",
   "name": "python",
   "nbconvert_exporter": "python",
   "pygments_lexer": "ipython3",
   "version": "3.13.3"
  }
 },
 "nbformat": 4,
 "nbformat_minor": 5
}
